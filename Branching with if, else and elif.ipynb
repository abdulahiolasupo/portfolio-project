{
 "cells": [
  {
   "cell_type": "code",
   "execution_count": null,
   "id": "5deb589e",
   "metadata": {},
   "outputs": [],
   "source": [
    "####### In Python, branching is done using the if statement, which is written as follows:\n",
    "\n",
    "if condition:\n",
    "    statement1\n",
    "    statement2\n",
    "\n",
    "The condition can either be a variable or an expression. \n",
    "if the condition evaluates to True, then the statements within the if block are executed. \n",
    "Note the 4 spaces before statement1, statement2. \n",
    "The spaces inform Python that these statements are associated with the if statement above. \n",
    "This technique of structuring code by adding spaces is called indentation.\n",
    "Python relies heavily on indentation(white space before a statement) to define structure in code. \n",
    "This makes Python code easy to read and understand but you can run into problems if you don't use indentation properly. \n",
    "Indent your code by placing the cursor at the start of the line and pressing the Tab key once to add 4 spaces. \n",
    "Pressing Tab again will indent the code further by 4 more spaces and press shift + Tab will reduce the indentation by 4 spaces.\n"
   ]
  },
  {
   "cell_type": "markdown",
   "id": "d11f7af1",
   "metadata": {},
   "source": [
    "##### Note that we are using the modulus operator % to find the remainder from the division of a_number by 2, and then we are using the comparison operator == check if the reminder is 0, indicating that the number is divisible by 2 i.e it is even.\n",
    "since the number 34 is indeed divisible by 2 the expression a_number % 2 == 0 evaluates to True, so the print statement under the if statement is executed. Also note that we are using the string format method to include the number within the message."
   ]
  },
  {
   "cell_type": "code",
   "execution_count": 1,
   "id": "dfada66f",
   "metadata": {},
   "outputs": [],
   "source": [
    "a_number = 32"
   ]
  },
  {
   "cell_type": "code",
   "execution_count": 2,
   "id": "51707599",
   "metadata": {},
   "outputs": [
    {
     "name": "stdout",
     "output_type": "stream",
     "text": [
      "we are inside the if block\n"
     ]
    }
   ],
   "source": [
    "if a_number % 2 == 0:\n",
    "    print(\"we are inside the if block\")"
   ]
  },
  {
   "cell_type": "code",
   "execution_count": null,
   "id": "05defb16",
   "metadata": {},
   "outputs": [],
   "source": []
  },
  {
   "cell_type": "code",
   "execution_count": 12,
   "id": "5f4355a5",
   "metadata": {},
   "outputs": [],
   "source": [
    "a_indices = 20"
   ]
  },
  {
   "cell_type": "code",
   "execution_count": 13,
   "id": "d9d08c3e",
   "metadata": {},
   "outputs": [
    {
     "name": "stdout",
     "output_type": "stream",
     "text": [
      "The given number 20 is even.\n"
     ]
    }
   ],
   "source": [
    "if a_indices % 4 == 0:\n",
    "    print('The given number {} is even.'.format(a_indices))"
   ]
  },
  {
   "cell_type": "code",
   "execution_count": null,
   "id": "9ad23ec9",
   "metadata": {},
   "outputs": [],
   "source": []
  },
  {
   "cell_type": "code",
   "execution_count": 14,
   "id": "7ccc6825",
   "metadata": {},
   "outputs": [],
   "source": [
    "rabbit = 34"
   ]
  },
  {
   "cell_type": "code",
   "execution_count": 15,
   "id": "bcf04b19",
   "metadata": {},
   "outputs": [
    {
     "name": "stdout",
     "output_type": "stream",
     "text": [
      "rabbit castle\n"
     ]
    }
   ],
   "source": [
    "if rabbit % 2 == 0:\n",
    "    print(\"rabbit castle\")"
   ]
  },
  {
   "cell_type": "code",
   "execution_count": null,
   "id": "ccc49678",
   "metadata": {},
   "outputs": [],
   "source": []
  },
  {
   "cell_type": "code",
   "execution_count": 22,
   "id": "a50651bf",
   "metadata": {},
   "outputs": [],
   "source": [
    "tango = 32"
   ]
  },
  {
   "cell_type": "code",
   "execution_count": 23,
   "id": "fe88abe3",
   "metadata": {},
   "outputs": [
    {
     "name": "stdout",
     "output_type": "stream",
     "text": [
      "The given number 32 is even\n"
     ]
    }
   ],
   "source": [
    "if tango % 2 == 0:\n",
    "    print('The given number {} is even'.format(tango))"
   ]
  },
  {
   "cell_type": "code",
   "execution_count": null,
   "id": "5f679264",
   "metadata": {},
   "outputs": [],
   "source": []
  },
  {
   "cell_type": "markdown",
   "id": "d57daeb4",
   "metadata": {},
   "source": [
    "###### The else statement\n",
    "it would be nice to print a different method if the number is not even in the above example.\n",
    "this can be done by adding the else statement. it is written as follows:\n",
    "\n",
    "if condition:\n",
    "    statement1\n",
    "    statement2\n",
    "else:\n",
    "    statement4\n",
    "    statement5\n",
    "if the condition evaluates to True, the statement in the if block are executed,\n",
    "and if it is False, the statements in the else block will be executed."
   ]
  },
  {
   "cell_type": "code",
   "execution_count": null,
   "id": "6c279778",
   "metadata": {},
   "outputs": [],
   "source": []
  },
  {
   "cell_type": "code",
   "execution_count": 26,
   "id": "0109b75a",
   "metadata": {},
   "outputs": [],
   "source": [
    "antelope = 34"
   ]
  },
  {
   "cell_type": "code",
   "execution_count": 27,
   "id": "e3682a81",
   "metadata": {},
   "outputs": [
    {
     "name": "stdout",
     "output_type": "stream",
     "text": [
      "The given number 34 is even.\n"
     ]
    }
   ],
   "source": [
    "if antelope % 2 == 0:\n",
    "    print('The given number {} is even.'.format(antelope))\n",
    "else:\n",
    "    print('The given number {} is odd.'.format(antelope))\n",
    "        "
   ]
  },
  {
   "cell_type": "code",
   "execution_count": null,
   "id": "98a26219",
   "metadata": {},
   "outputs": [],
   "source": []
  },
  {
   "cell_type": "code",
   "execution_count": null,
   "id": "037eb2fb",
   "metadata": {},
   "outputs": [],
   "source": [
    "#### Here is another example"
   ]
  },
  {
   "cell_type": "code",
   "execution_count": 28,
   "id": "1f302e35",
   "metadata": {},
   "outputs": [],
   "source": [
    "kittens = ('bob','ray','jack','lemonade','jerry','tom')"
   ]
  },
  {
   "cell_type": "code",
   "execution_count": 38,
   "id": "94991dc5",
   "metadata": {},
   "outputs": [],
   "source": [
    "a_bug = \"tom\""
   ]
  },
  {
   "cell_type": "code",
   "execution_count": 39,
   "id": "bdf29129",
   "metadata": {},
   "outputs": [
    {
     "name": "stdout",
     "output_type": "stream",
     "text": [
      "tom is a kitten.\n"
     ]
    }
   ],
   "source": [
    "if a_bug in kittens:\n",
    "    print(\"{} is a kitten.\".format(a_bug))\n",
    "else:\n",
    "    print(\"{} is not a kitten.\".format(a_bug))\n",
    "    \n"
   ]
  },
  {
   "cell_type": "code",
   "execution_count": null,
   "id": "c2dbb50f",
   "metadata": {},
   "outputs": [],
   "source": []
  },
  {
   "cell_type": "code",
   "execution_count": 40,
   "id": "4e046bc6",
   "metadata": {},
   "outputs": [],
   "source": [
    "fancy = ('ring','watch','mobile','glasses','aldo')"
   ]
  },
  {
   "cell_type": "code",
   "execution_count": 43,
   "id": "ae5f85a6",
   "metadata": {},
   "outputs": [],
   "source": [
    "fency_maker = \"phone\""
   ]
  },
  {
   "cell_type": "code",
   "execution_count": 44,
   "id": "f64678a5",
   "metadata": {},
   "outputs": [
    {
     "name": "stdout",
     "output_type": "stream",
     "text": [
      "phone it is not a classic.\n"
     ]
    }
   ],
   "source": [
    "if fency_maker in fancy:\n",
    "    print(\"{} classic.\".format(fency_maker))\n",
    "else:\n",
    "    print(\"{} it is not a classic.\".format(fency_maker))"
   ]
  },
  {
   "cell_type": "code",
   "execution_count": null,
   "id": "db3083c5",
   "metadata": {},
   "outputs": [],
   "source": []
  },
  {
   "cell_type": "code",
   "execution_count": null,
   "id": "646fd810",
   "metadata": {},
   "outputs": [],
   "source": []
  },
  {
   "cell_type": "code",
   "execution_count": null,
   "id": "53204133",
   "metadata": {},
   "outputs": [],
   "source": []
  },
  {
   "cell_type": "code",
   "execution_count": 45,
   "id": "13277f3e",
   "metadata": {},
   "outputs": [],
   "source": [
    "honey_bee = ('pearl','lemon','dusk','tik')"
   ]
  },
  {
   "cell_type": "code",
   "execution_count": 48,
   "id": "f6323ae3",
   "metadata": {},
   "outputs": [],
   "source": [
    "a_bee = \"luck\""
   ]
  },
  {
   "cell_type": "code",
   "execution_count": 49,
   "id": "a5189ccf",
   "metadata": {},
   "outputs": [
    {
     "name": "stdout",
     "output_type": "stream",
     "text": [
      "luck sunshine nutrition.\n"
     ]
    }
   ],
   "source": [
    "if a_bee in honey_bee:\n",
    "    print(\"{} natural honey.\".format(a_bee))\n",
    "else:\n",
    "    print(\"{} sunshine nutrition.\".format(a_bee))"
   ]
  },
  {
   "cell_type": "code",
   "execution_count": null,
   "id": "9d58b4d4",
   "metadata": {},
   "outputs": [],
   "source": []
  },
  {
   "cell_type": "code",
   "execution_count": 50,
   "id": "dd943918",
   "metadata": {},
   "outputs": [],
   "source": [
    "iron_man = ('roy','jones','arnod','raymond')"
   ]
  },
  {
   "cell_type": "code",
   "execution_count": 53,
   "id": "9be54a07",
   "metadata": {},
   "outputs": [],
   "source": [
    "a_actors = \"adeola\""
   ]
  },
  {
   "cell_type": "code",
   "execution_count": 55,
   "id": "a8632868",
   "metadata": {},
   "outputs": [
    {
     "name": "stdout",
     "output_type": "stream",
     "text": [
      "adeola is not part of the film maker.\n"
     ]
    }
   ],
   "source": [
    "if a_actors in iron_man:\n",
    "    print(\"{} supporting actor in iron man movie.\".format(a_actors))\n",
    "else:\n",
    "    print(\"{} is not part of the film maker.\".format(a_actors))"
   ]
  },
  {
   "cell_type": "code",
   "execution_count": null,
   "id": "054021cb",
   "metadata": {},
   "outputs": [],
   "source": []
  },
  {
   "cell_type": "code",
   "execution_count": 56,
   "id": "a83540fd",
   "metadata": {},
   "outputs": [],
   "source": [
    "a_m3g = ('panda','bear','kangaro','teddy')"
   ]
  },
  {
   "cell_type": "code",
   "execution_count": 59,
   "id": "ef9b8f5f",
   "metadata": {},
   "outputs": [],
   "source": [
    "fav_toy = \"tiger\""
   ]
  },
  {
   "cell_type": "code",
   "execution_count": 61,
   "id": "17396bd3",
   "metadata": {},
   "outputs": [
    {
     "name": "stdout",
     "output_type": "stream",
     "text": [
      "tiger is not my type.\n"
     ]
    }
   ],
   "source": [
    "if fav_toy in a_m3g:\n",
    "    print(\"{} is my favorite toy.\".format(fav_toy))\n",
    "else:print(\"{} is not my type.\".format(fav_toy))"
   ]
  },
  {
   "cell_type": "code",
   "execution_count": null,
   "id": "76598a5b",
   "metadata": {},
   "outputs": [],
   "source": []
  },
  {
   "cell_type": "code",
   "execution_count": null,
   "id": "03f8ea8a",
   "metadata": {},
   "outputs": [],
   "source": []
  },
  {
   "cell_type": "markdown",
   "id": "969ff402",
   "metadata": {},
   "source": [
    "##### The elif statement\n",
    "\n",
    "Python also provides an elif statement(short for \"else if\"), to chain a series of conditional blocks.\n",
    "The conditions are evaluated one by one. For the first condition that evaluates to True.\n",
    "The statements in the respective block are executed and the remaining conditions are not evaluated.\n",
    "So, in a chain of if, elif, elif... statements is exactly one conditional block is evaluated.\n"
   ]
  },
  {
   "cell_type": "code",
   "execution_count": null,
   "id": "75866769",
   "metadata": {},
   "outputs": [],
   "source": []
  },
  {
   "cell_type": "code",
   "execution_count": 22,
   "id": "ce523297",
   "metadata": {},
   "outputs": [],
   "source": [
    "today = 'hallowing'"
   ]
  },
  {
   "cell_type": "code",
   "execution_count": 23,
   "id": "6eedd502",
   "metadata": {},
   "outputs": [
    {
     "name": "stdout",
     "output_type": "stream",
     "text": [
      "All checks failed!\n"
     ]
    }
   ],
   "source": [
    "if today == 'sunday':\n",
    "    print(\"Today is bright and shine.\")\n",
    "elif today == 'tuesday':\n",
    "    print(\"Today is the brightest day ever\")\n",
    "elif today == 'monday':\n",
    "    print(\"Today's moonlight is awesome\")\n",
    "elif today == 'wednesday':\n",
    "    print(\"is a remarkable day\")\n",
    "elif today == 'thursday':\n",
    "    print(\"Today is the day\")\n",
    "elif today == 'friday':\n",
    "    print(\"it is the best day of the week\")\n",
    "elif today == 'saturday':\n",
    "    print(\"Today is happy day\")\n",
    "else:\n",
    "    print('All checks failed!')\n"
   ]
  },
  {
   "cell_type": "code",
   "execution_count": null,
   "id": "bb26aba0",
   "metadata": {},
   "outputs": [],
   "source": []
  },
  {
   "cell_type": "code",
   "execution_count": 24,
   "id": "8803678c",
   "metadata": {},
   "outputs": [],
   "source": [
    "a_number = 32"
   ]
  },
  {
   "cell_type": "code",
   "execution_count": 25,
   "id": "15f3d4b7",
   "metadata": {},
   "outputs": [
    {
     "name": "stdout",
     "output_type": "stream",
     "text": [
      "32 is divisible by 2.\n"
     ]
    }
   ],
   "source": [
    "if a_number % 2 == 0:\n",
    "    print('{} is divisible by 2.'.format(a_number))\n",
    "elif a_number % 3 == 0:\n",
    "    print('{} is divisible by 3.'.format(a_number))\n",
    "elif a_number % 5 == 0:\n",
    "    print('{} is divisible by 5.'.format(a_number))\n",
    "elif a_number % 7 == 0:\n",
    "    print('{} is divisible by 7.'.format(a_number))"
   ]
  },
  {
   "cell_type": "code",
   "execution_count": null,
   "id": "7f73bd51",
   "metadata": {},
   "outputs": [],
   "source": [
    "\n",
    "    "
   ]
  },
  {
   "cell_type": "markdown",
   "id": "f92f0a83",
   "metadata": {},
   "source": [
    "###### Using if, elif and else together.\n",
    "\n",
    "You can also include else statement at the end of a chain of if, elif.. statements.\n",
    "This code within the else block are evaluated when none of the conditions hold true "
   ]
  },
  {
   "cell_type": "code",
   "execution_count": null,
   "id": "16a991e1",
   "metadata": {},
   "outputs": [],
   "source": []
  },
  {
   "cell_type": "code",
   "execution_count": 10,
   "id": "a20a84e5",
   "metadata": {},
   "outputs": [],
   "source": [
    "a_number = 73"
   ]
  },
  {
   "cell_type": "code",
   "execution_count": 11,
   "id": "d76d5879",
   "metadata": {},
   "outputs": [
    {
     "name": "stdout",
     "output_type": "stream",
     "text": [
      "All checks failed!\n",
      "73 is not divisible by 2,3,5,7.\n"
     ]
    }
   ],
   "source": [
    "if a_number % 2 == 0:\n",
    "    print('{} is divisible by 2.'.format(a_number))\n",
    "elif a_number % 3 == 0:\n",
    "    print('{} is divisible by 3.'.format(a_number))\n",
    "elif a_number % 5 == 0:\n",
    "    print('{} is divisible by 5.'.format(a_number))\n",
    "elif a_number % 7 == 0:\n",
    "    print('{} is divisible by 7.'.format(a_number))\n",
    "else:\n",
    "    print('All checks failed!')\n",
    "    print('{} is not divisible by 2,3,5,7.'.format(a_number))"
   ]
  },
  {
   "cell_type": "code",
   "execution_count": 12,
   "id": "c77d1b11",
   "metadata": {},
   "outputs": [],
   "source": [
    "b_numeric = 69"
   ]
  },
  {
   "cell_type": "code",
   "execution_count": 14,
   "id": "9ab6655e",
   "metadata": {},
   "outputs": [
    {
     "name": "stdout",
     "output_type": "stream",
     "text": [
      "69 is divisible by 3.\n"
     ]
    }
   ],
   "source": [
    "if b_numeric % 2 == 0:\n",
    "    print('{} is divisible by 2.'.format(b_numeric))\n",
    "elif b_numeric % 3 == 0:\n",
    "    print('{} is divisible by 3.'.format(b_numeric))\n",
    "elif b_numeric % 5 == 0:\n",
    "    print('{} is divisible by 5.'.format(b_numeric))\n",
    "elif b_numeric % 7 == 0:\n",
    "    print('{} is divisible by 7.'. format(b_numeric))\n",
    "else:\n",
    "    \n",
    "    print('All checks failed!')\n",
    "    print('{} is not divisible by 2,3,5,7.'.format(b_numeric)) \n",
    "\n"
   ]
  },
  {
   "cell_type": "code",
   "execution_count": null,
   "id": "01909312",
   "metadata": {},
   "outputs": [],
   "source": []
  },
  {
   "cell_type": "markdown",
   "id": "11dbfc13",
   "metadata": {},
   "source": [
    "##### condition can also combined using the logical operators such as and, or, not. "
   ]
  },
  {
   "cell_type": "code",
   "execution_count": 34,
   "id": "ad137eab",
   "metadata": {},
   "outputs": [],
   "source": [
    "a_value = 9"
   ]
  },
  {
   "cell_type": "code",
   "execution_count": 35,
   "id": "cc61b435",
   "metadata": {},
   "outputs": [
    {
     "name": "stdout",
     "output_type": "stream",
     "text": [
      "The number 9 is not divisible by 5.\n"
     ]
    }
   ],
   "source": [
    "if a_value % 3 == 0 and a_value % 5 == 0:\n",
    "    print(\"The number {} is divisible by 3 and 5.\".format(a_value))\n",
    "elif not a_value % 5 == 0:\n",
    "    print(\"The number {} is not divisible by 5.\".format(a_value))\n",
    "    "
   ]
  },
  {
   "cell_type": "code",
   "execution_count": null,
   "id": "f81323fb",
   "metadata": {},
   "outputs": [],
   "source": []
  },
  {
   "cell_type": "markdown",
   "id": "2e6b48d3",
   "metadata": {},
   "source": [
    "##### Non-Boolean Condtions\n",
    "Note that conditions do not necessarily have to be booleans. In fact, a condition can be any value.\n",
    "The value is converted into a boolean automatically using the bool operator. \n",
    "This means that falsy values like 0, ' ', { }, [ ] evaluate to False and all other evaluate to True."
   ]
  },
  {
   "cell_type": "code",
   "execution_count": null,
   "id": "dcbb9ffd",
   "metadata": {},
   "outputs": [],
   "source": []
  },
  {
   "cell_type": "code",
   "execution_count": 39,
   "id": "0e6bf021",
   "metadata": {},
   "outputs": [
    {
     "name": "stdout",
     "output_type": "stream",
     "text": [
      "The condition evaluated to Flase\n"
     ]
    }
   ],
   "source": [
    "if '':\n",
    "    print('The condition evaluated to True')\n",
    "else:\n",
    "    print('The condition evaluated to Flase')"
   ]
  },
  {
   "cell_type": "code",
   "execution_count": 41,
   "id": "72e679ad",
   "metadata": {},
   "outputs": [
    {
     "name": "stdout",
     "output_type": "stream",
     "text": [
      "The condition evaluated to True\n"
     ]
    }
   ],
   "source": [
    "if 'Hello':\n",
    "    print('The condition evaluated to True')\n",
    "else:\n",
    "    print('The condition evaluated to False')"
   ]
  },
  {
   "cell_type": "code",
   "execution_count": 42,
   "id": "a3983219",
   "metadata": {},
   "outputs": [
    {
     "name": "stdout",
     "output_type": "stream",
     "text": [
      "The condition evaluated to True\n"
     ]
    }
   ],
   "source": [
    "if 'None':\n",
    "    print('The condition evaluated to True')\n",
    "else:\n",
    "    print('The condition evaluated to False')"
   ]
  },
  {
   "cell_type": "code",
   "execution_count": null,
   "id": "2310cd3f",
   "metadata": {},
   "outputs": [],
   "source": [
    "if my_list:\n",
    "    print('The condition evaluated to True')\n",
    "else:\n",
    "    print('The condition evaluated to False')"
   ]
  },
  {
   "cell_type": "code",
   "execution_count": null,
   "id": "d6cc73ff",
   "metadata": {},
   "outputs": [],
   "source": [
    "if{'a': 3}:\n",
    "    print('The condition evaluated to True')\n",
    "else:\n",
    "    print('The condition evaluated to False')"
   ]
  },
  {
   "cell_type": "code",
   "execution_count": null,
   "id": "eb73a3a2",
   "metadata": {},
   "outputs": [],
   "source": []
  },
  {
   "cell_type": "markdown",
   "id": "733f1637",
   "metadata": {},
   "source": [
    "##### Nested conditional statements\n",
    "The code inside an if block can also include an if statement inside it. \n",
    "This pattern called nesting and is used when you need to check for another condition after a certain condition is evaluated as true."
   ]
  },
  {
   "cell_type": "code",
   "execution_count": 43,
   "id": "e73643bc",
   "metadata": {},
   "outputs": [],
   "source": [
    "a_number = 15"
   ]
  },
  {
   "cell_type": "code",
   "execution_count": 45,
   "id": "fe6fb906",
   "metadata": {},
   "outputs": [
    {
     "name": "stdout",
     "output_type": "stream",
     "text": [
      "15 is odd number.\n",
      "15 is also divisible by 5.\n"
     ]
    }
   ],
   "source": [
    "if a_number % 2 == 0:\n",
    "    print('{} is even number.'.format(a_number))\n",
    "    if a_number % 3 == 0:\n",
    "        print('{} is also divisible by 3.'.format(a_number))\n",
    "    else:\n",
    "        print('{} is not divisible by 3.'.format(a_number))\n",
    "else:\n",
    "    print('{} is odd number.'.format(a_number))\n",
    "    if a_number % 5 == 0:\n",
    "        print('{} is also divisible by 5.'.format(a_number))\n",
    "    else:\n",
    "        print('{} is not divisible by 5.'.format(a_number))"
   ]
  },
  {
   "cell_type": "markdown",
   "id": "820a620e",
   "metadata": {},
   "source": [
    "#### Nested if, else statements are often confusing to read and prone to human error. it's a good idea to avoid nesting whenever possible or limit the nesting to 1 or 2 levels."
   ]
  },
  {
   "cell_type": "code",
   "execution_count": null,
   "id": "d37c53bf",
   "metadata": {},
   "outputs": [],
   "source": []
  },
  {
   "cell_type": "markdown",
   "id": "9b8f2081",
   "metadata": {},
   "source": [
    "##### shorthand if conditional expression\n",
    "A common use case of the if statement involves testing a condition and setting the value of a variable on the condition."
   ]
  },
  {
   "cell_type": "code",
   "execution_count": 21,
   "id": "d3ab4397",
   "metadata": {},
   "outputs": [
    {
     "name": "stdout",
     "output_type": "stream",
     "text": [
      "The number 13 is old.\n"
     ]
    }
   ],
   "source": [
    "a_number = 13\n",
    "\n",
    "if a_number % 2 == 0:\n",
    "    parity = 'even'\n",
    "else:\n",
    "    parity = 'old'\n",
    "    print('The number {} is {}.'.format(a_number, parity))"
   ]
  },
  {
   "cell_type": "code",
   "execution_count": null,
   "id": "c4d16353",
   "metadata": {},
   "outputs": [],
   "source": []
  },
  {
   "cell_type": "markdown",
   "id": "ef518338",
   "metadata": {},
   "source": [
    "##### Python provides a shorter syntax, which allows writing such conditions in a single line of code.\n",
    "it is known as conditional expression, sometimes also referred to as a ternary operator. it has the following syntax."
   ]
  },
  {
   "cell_type": "code",
   "execution_count": null,
   "id": "1176039c",
   "metadata": {},
   "outputs": [],
   "source": []
  },
  {
   "cell_type": "code",
   "execution_count": null,
   "id": "f56b6167",
   "metadata": {},
   "outputs": [],
   "source": []
  },
  {
   "cell_type": "markdown",
   "id": "3ba9cb34",
   "metadata": {},
   "source": [
    "##### iteration with while loops\n",
    "it is the ability to run one or more statements multiple times.\n",
    "This feature is often referred to as iteration on looping.\n",
    "There are two ways to do this in Python:\n",
    "using while loops and for loops.\n",
    "\n",
    "Example: calculate the factorial of 100 using while loop.\n",
    "The factorial of a number n is defined as the product or multiplication of all the numbers from 1 to n  i.e 1*2*3*.......(n-2)*(n-1)*n"
   ]
  },
  {
   "cell_type": "code",
   "execution_count": 3,
   "id": "8a803634",
   "metadata": {},
   "outputs": [
    {
     "name": "stdout",
     "output_type": "stream",
     "text": [
      "The factorial of 100 is: 93326215443944152681699238856266700490715968264381621468592963895217599993229915608941463976156518286253697920827223758251185210916864000000000000000000000000\n"
     ]
    }
   ],
   "source": [
    "a_nswer = 1\n",
    "i = 1\n",
    "while i <= 100:\n",
    "    a_nswer = a_nswer * i\n",
    "    i = i + 1\n",
    "\n",
    "print('The factorial of 100 is: {}'.format(a_nswer))\n",
    "    \n",
    "    "
   ]
  },
  {
   "cell_type": "code",
   "execution_count": null,
   "id": "23c2572f",
   "metadata": {},
   "outputs": [],
   "source": []
  },
  {
   "cell_type": "code",
   "execution_count": 4,
   "id": "b46e6c6d",
   "metadata": {},
   "outputs": [
    {
     "name": "stdout",
     "output_type": "stream",
     "text": [
      "The factorial of 100 is: 93326215443944152681699238856266700490715968264381621468592963895217599993229915608941463976156518286253697920827223758251185210916864000000000000000000000000\n"
     ]
    }
   ],
   "source": [
    "fact = 1\n",
    "i = 1\n",
    "while i <= 100:\n",
    "    fact = fact * i\n",
    "    i = i+1\n",
    "print('The factorial of 100 is: {}'.format(fact))\n"
   ]
  },
  {
   "cell_type": "code",
   "execution_count": null,
   "id": "a108c3a9",
   "metadata": {},
   "outputs": [],
   "source": []
  },
  {
   "cell_type": "code",
   "execution_count": 7,
   "id": "8d604bc3",
   "metadata": {},
   "outputs": [
    {
     "name": "stdout",
     "output_type": "stream",
     "text": [
      "The factorial 100 is:93326215443944152681699238856266700490715968264381621468592963895217599993229915608941463976156518286253697920827223758251185210916864000000000000000000000000\n"
     ]
    }
   ],
   "source": [
    "finder = 1\n",
    "i = 1\n",
    "\n",
    "while i <= 100:\n",
    "    finder = finder * i\n",
    "    i = i+1\n",
    "\n",
    "print('The factorial 100 is:{}'.format(finder))"
   ]
  },
  {
   "cell_type": "code",
   "execution_count": null,
   "id": "047467a6",
   "metadata": {},
   "outputs": [],
   "source": []
  },
  {
   "cell_type": "code",
   "execution_count": null,
   "id": "11d840de",
   "metadata": {},
   "outputs": [],
   "source": []
  },
  {
   "cell_type": "code",
   "execution_count": 2,
   "id": "bc18dcf9",
   "metadata": {},
   "outputs": [
    {
     "name": "stdout",
     "output_type": "stream",
     "text": [
      "The factorial is:93326215443944152681699238856266700490715968264381621468592963895217599993229915608941463976156518286253697920827223758251185210916864000000000000000000000000.\n",
      "CPU times: total: 15.6 ms\n",
      "Wall time: 997 µs\n"
     ]
    }
   ],
   "source": [
    "%%time\n",
    "\n",
    "big_fat = 1\n",
    "i = 1\n",
    "\n",
    "while i<=100:\n",
    "    big_fat = big_fat * i\n",
    "    i = i + 1\n",
    "print('The factorial is:{}.'.format(big_fat))\n",
    "    \n"
   ]
  },
  {
   "cell_type": "code",
   "execution_count": null,
   "id": "645d7733",
   "metadata": {},
   "outputs": [],
   "source": []
  },
  {
   "cell_type": "code",
   "execution_count": 23,
   "id": "e12e0810",
   "metadata": {},
   "outputs": [
    {
     "name": "stdout",
     "output_type": "stream",
     "text": [
      "*\n",
      "**\n",
      "***\n",
      "****\n",
      "*****\n",
      "******\n",
      "*******\n",
      "********\n",
      "*********\n",
      "**********\n",
      "***********\n",
      "**********\n",
      "*********\n",
      "********\n",
      "*******\n",
      "******\n",
      "*****\n",
      "****\n",
      "***\n",
      "**\n",
      "*\n"
     ]
    }
   ],
   "source": [
    "line = '*'\n",
    "max_length = 10\n",
    "\n",
    "while len(line) <= max_length:\n",
    "    \n",
    "    print(line)\n",
    "    line += \"*\"\n",
    "    \n",
    "while len(line) > 0:\n",
    "    print(line)\n",
    "    line = line[:-1]"
   ]
  },
  {
   "cell_type": "code",
   "execution_count": null,
   "id": "edbbda18",
   "metadata": {},
   "outputs": [],
   "source": []
  },
  {
   "cell_type": "code",
   "execution_count": 8,
   "id": "7be113f6",
   "metadata": {},
   "outputs": [
    {
     "name": "stdout",
     "output_type": "stream",
     "text": [
      "*\n",
      "**\n",
      "***\n",
      "****\n",
      "*****\n"
     ]
    }
   ],
   "source": [
    "line = 5\n",
    "mini_length = '*'\n",
    "\n",
    "while len(mini_length) <= line:\n",
    "    \n",
    "    print(mini_length)\n",
    "    \n",
    "    mini_length += \"*\""
   ]
  },
  {
   "cell_type": "markdown",
   "id": "55a3fab6",
   "metadata": {},
   "source": [
    "###### Assignment pending"
   ]
  },
  {
   "cell_type": "code",
   "execution_count": 7,
   "id": "64971e20",
   "metadata": {},
   "outputs": [
    {
     "name": "stdout",
     "output_type": "stream",
     "text": [
      "*******\n",
      "********************************************************\n"
     ]
    }
   ],
   "source": [
    "result = '*'\n",
    "max_index = 10\n",
    "\n",
    "while len(result) <= max_index:\n",
    "    result *= i\n",
    "    print(result)\n",
    "    i += 1\n"
   ]
  },
  {
   "cell_type": "code",
   "execution_count": null,
   "id": "a1574992",
   "metadata": {},
   "outputs": [],
   "source": []
  },
  {
   "cell_type": "code",
   "execution_count": null,
   "id": "ae9f107a",
   "metadata": {},
   "outputs": [],
   "source": []
  },
  {
   "cell_type": "code",
   "execution_count": null,
   "id": "51b2a516",
   "metadata": {},
   "outputs": [],
   "source": []
  },
  {
   "cell_type": "code",
   "execution_count": null,
   "id": "3cad6888",
   "metadata": {},
   "outputs": [],
   "source": []
  },
  {
   "cell_type": "code",
   "execution_count": null,
   "id": "b77be04d",
   "metadata": {},
   "outputs": [],
   "source": []
  },
  {
   "cell_type": "code",
   "execution_count": null,
   "id": "fd8e1179",
   "metadata": {},
   "outputs": [],
   "source": []
  },
  {
   "cell_type": "code",
   "execution_count": null,
   "id": "a2a6db3f",
   "metadata": {},
   "outputs": [],
   "source": []
  },
  {
   "cell_type": "markdown",
   "id": "0b0a5120",
   "metadata": {},
   "source": [
    "##### Infinite loops\n",
    "if the condition in a while loop always holds true, then Python repeatedly executes the code within the loop forever and the execution of the code never completes. \n",
    "this situation called an infinite loop and it generally indicates that there is a mistake in your code.\n",
    "\n",
    "if your code is stuck in an infinite loop during execution, just press the \"stop\" button from the toolbar(next to \"Run\")\n",
    "or select kernel --- interrupt from the jupyter menu bar"
   ]
  },
  {
   "cell_type": "code",
   "execution_count": null,
   "id": "89f8c4ce",
   "metadata": {},
   "outputs": [],
   "source": []
  },
  {
   "cell_type": "code",
   "execution_count": 4,
   "id": "b1c53b78",
   "metadata": {},
   "outputs": [
    {
     "ename": "KeyboardInterrupt",
     "evalue": "",
     "output_type": "error",
     "traceback": [
      "\u001b[1;31m---------------------------------------------------------------------------\u001b[0m",
      "\u001b[1;31mKeyboardInterrupt\u001b[0m                         Traceback (most recent call last)",
      "Cell \u001b[1;32mIn[4], line 3\u001b[0m\n\u001b[0;32m      1\u001b[0m result \u001b[38;5;241m=\u001b[39m \u001b[38;5;241m1\u001b[39m\n\u001b[0;32m      2\u001b[0m i \u001b[38;5;241m=\u001b[39m \u001b[38;5;241m1\u001b[39m\n\u001b[1;32m----> 3\u001b[0m \u001b[38;5;28;01mwhile\u001b[39;00m \u001b[43mi\u001b[49m\u001b[43m \u001b[49m\u001b[38;5;241;43m<\u001b[39;49m\u001b[38;5;241;43m=\u001b[39;49m\u001b[43m \u001b[49m\u001b[38;5;241;43m100\u001b[39;49m:\n\u001b[0;32m      4\u001b[0m     result \u001b[38;5;241m=\u001b[39m result \u001b[38;5;241m*\u001b[39m i\n",
      "\u001b[1;31mKeyboardInterrupt\u001b[0m: "
     ]
    }
   ],
   "source": [
    "result = 1      ##### please don't run this code and if you have to run it. press stop button immidiately\n",
    "i = 1\n",
    "while i <= 100:\n",
    "    result = result * i\n",
    "    "
   ]
  },
  {
   "cell_type": "code",
   "execution_count": null,
   "id": "5c36d023",
   "metadata": {},
   "outputs": [],
   "source": []
  },
  {
   "cell_type": "code",
   "execution_count": null,
   "id": "25cb7d20",
   "metadata": {},
   "outputs": [],
   "source": [
    "####### continue and breaking ....."
   ]
  },
  {
   "cell_type": "code",
   "execution_count": 6,
   "id": "249f76f3",
   "metadata": {},
   "outputs": [
    {
     "name": "stdout",
     "output_type": "stream",
     "text": [
      "magic number 42 reached! stop executing..\n",
      "i: 42\n",
      "result: 1405006117752879898543142606244511569936384000000000\n"
     ]
    }
   ],
   "source": [
    "i = 1\n",
    "result = 1\n",
    "\n",
    "while i <= 100:\n",
    "    result = result * i\n",
    "    if i == 42:\n",
    "        print('magic number 42 reached! stop executing..')\n",
    "        break\n",
    "    i += 1\n",
    "    \n",
    "print('i:', i)\n",
    "print('result:', result)"
   ]
  },
  {
   "cell_type": "code",
   "execution_count": null,
   "id": "3a3f4ad3",
   "metadata": {},
   "outputs": [],
   "source": []
  },
  {
   "cell_type": "code",
   "execution_count": null,
   "id": "198597f5",
   "metadata": {},
   "outputs": [],
   "source": []
  },
  {
   "cell_type": "code",
   "execution_count": 8,
   "id": "1929abc8",
   "metadata": {},
   "outputs": [
    {
     "name": "stdout",
     "output_type": "stream",
     "text": [
      "skipping 2\n",
      "multiplying with 3\n",
      "skipping 4\n",
      "multiplying with 5\n",
      "skipping 6\n",
      "multiplying with 7\n",
      "skipping 8\n",
      "multiplying with 9\n",
      "skipping 10\n",
      "multiplying with 11\n",
      "skipping 12\n",
      "multiplying with 13\n",
      "skipping 14\n",
      "multiplying with 15\n",
      "skipping 16\n",
      "multiplying with 17\n",
      "skipping 18\n",
      "multiplying with 19\n",
      "skipping 20\n",
      "i: 20\n",
      "result: 654729075\n"
     ]
    }
   ],
   "source": [
    "i = 1\n",
    "result = 1\n",
    "\n",
    "while i < 20:\n",
    "    i += 1\n",
    "    if i % 2 == 0:\n",
    "        print('skipping {}'.format(i))\n",
    "        continue\n",
    "    print('multiplying with {}'.format(i))\n",
    "    result = result * i\n",
    "\n",
    "print('i:', i )\n",
    "print('result:', result)\n",
    "        "
   ]
  },
  {
   "cell_type": "code",
   "execution_count": null,
   "id": "4e1dbdf8",
   "metadata": {},
   "outputs": [],
   "source": []
  },
  {
   "cell_type": "code",
   "execution_count": null,
   "id": "ee34bd71",
   "metadata": {},
   "outputs": [],
   "source": []
  },
  {
   "cell_type": "markdown",
   "id": "9186bd66",
   "metadata": {},
   "source": [
    "#### iteration with for loops\n",
    "A for loop is used for iterating or looping over sequences i.e lists, tuples, dictionaries, strings and ranges.\n",
    "\n",
    "The statements within the loop are executed once for each element in sequence."
   ]
  },
  {
   "cell_type": "code",
   "execution_count": 9,
   "id": "3a744b16",
   "metadata": {},
   "outputs": [],
   "source": [
    "days = ['Monday','Tuesday','Wednesday','Thursday','Friday']"
   ]
  },
  {
   "cell_type": "code",
   "execution_count": 11,
   "id": "2ded76d7",
   "metadata": {},
   "outputs": [
    {
     "name": "stdout",
     "output_type": "stream",
     "text": [
      "Monday\n",
      "Tuesday\n",
      "Wednesday\n",
      "Thursday\n",
      "Friday\n"
     ]
    }
   ],
   "source": [
    "for day in days:\n",
    "    print(day)"
   ]
  },
  {
   "cell_type": "code",
   "execution_count": null,
   "id": "64c262f3",
   "metadata": {},
   "outputs": [],
   "source": []
  },
  {
   "cell_type": "code",
   "execution_count": 12,
   "id": "49a696f0",
   "metadata": {},
   "outputs": [],
   "source": [
    "fruits = ['Apple','Mango','Avocado','Pear','Grapes']"
   ]
  },
  {
   "cell_type": "code",
   "execution_count": 13,
   "id": "47ab414b",
   "metadata": {},
   "outputs": [
    {
     "name": "stdout",
     "output_type": "stream",
     "text": [
      "Apple\n",
      "Mango\n",
      "Avocado\n",
      "Pear\n",
      "Grapes\n"
     ]
    }
   ],
   "source": [
    "for fruit in fruits:\n",
    "    print(fruit)"
   ]
  },
  {
   "cell_type": "code",
   "execution_count": null,
   "id": "1d59aa81",
   "metadata": {},
   "outputs": [],
   "source": []
  },
  {
   "cell_type": "code",
   "execution_count": 14,
   "id": "94384a56",
   "metadata": {},
   "outputs": [],
   "source": [
    "vegetables = ['Carrot','Watermelon','Onions','Pawpaw','lemon']"
   ]
  },
  {
   "cell_type": "code",
   "execution_count": 15,
   "id": "a6212251",
   "metadata": {},
   "outputs": [
    {
     "name": "stdout",
     "output_type": "stream",
     "text": [
      "Carrot\n",
      "Watermelon\n",
      "Onions\n",
      "Pawpaw\n",
      "lemon\n"
     ]
    }
   ],
   "source": [
    "for vegetable in vegetables:\n",
    "    print(vegetable)"
   ]
  },
  {
   "cell_type": "code",
   "execution_count": null,
   "id": "b5409aec",
   "metadata": {},
   "outputs": [],
   "source": [
    "#### looping over a string"
   ]
  },
  {
   "cell_type": "code",
   "execution_count": 17,
   "id": "07bf09ac",
   "metadata": {},
   "outputs": [
    {
     "name": "stdout",
     "output_type": "stream",
     "text": [
      "M\n",
      "o\n",
      "n\n",
      "d\n",
      "a\n",
      "y\n"
     ]
    }
   ],
   "source": [
    "for char in 'Monday':\n",
    "    print(char)"
   ]
  },
  {
   "cell_type": "code",
   "execution_count": null,
   "id": "bd43941d",
   "metadata": {},
   "outputs": [],
   "source": [
    "##### looping over a tuple"
   ]
  },
  {
   "cell_type": "code",
   "execution_count": 20,
   "id": "ccf5fc41",
   "metadata": {},
   "outputs": [
    {
     "name": "stdout",
     "output_type": "stream",
     "text": [
      "Here's a fruit Apple\n",
      "Here's a fruit Mango\n",
      "Here's a fruit Avocado\n",
      "Here's a fruit Pear\n",
      "Here's a fruit Grapes\n"
     ]
    }
   ],
   "source": [
    "for fruit in ['Apple','Mango','Avocado','Pear','Grapes']:\n",
    "    print(\"Here's a fruit\", fruit)"
   ]
  },
  {
   "cell_type": "code",
   "execution_count": null,
   "id": "900c62bf",
   "metadata": {},
   "outputs": [],
   "source": []
  },
  {
   "cell_type": "code",
   "execution_count": 21,
   "id": "4fa6ff78",
   "metadata": {},
   "outputs": [
    {
     "data": {
      "text/plain": [
       "['Carrot', 'Watermelon', 'Onions', 'Pawpaw', 'lemon']"
      ]
     },
     "execution_count": 21,
     "metadata": {},
     "output_type": "execute_result"
    }
   ],
   "source": [
    "vegetables"
   ]
  },
  {
   "cell_type": "code",
   "execution_count": 24,
   "id": "38fa48d1",
   "metadata": {},
   "outputs": [
    {
     "name": "stdout",
     "output_type": "stream",
     "text": [
      "Here's a vegetable Carrot\n",
      "Here's a vegetable Watermelon\n",
      "Here's a vegetable Onions\n",
      "Here's a vegetable Pawpaw\n",
      "Here's a vegetable lemon\n"
     ]
    }
   ],
   "source": [
    "for vegetable in ['Carrot','Watermelon','Onions','Pawpaw','lemon']:\n",
    "    print(\"Here's a vegetable\", vegetable)"
   ]
  },
  {
   "cell_type": "code",
   "execution_count": null,
   "id": "a391bbd6",
   "metadata": {},
   "outputs": [],
   "source": []
  },
  {
   "cell_type": "code",
   "execution_count": 25,
   "id": "5dbcad99",
   "metadata": {},
   "outputs": [],
   "source": [
    "vehicles = ['honda','toyota','nissa','masarati','tesla']"
   ]
  },
  {
   "cell_type": "code",
   "execution_count": 28,
   "id": "d63c5526",
   "metadata": {},
   "outputs": [
    {
     "name": "stdout",
     "output_type": "stream",
     "text": [
      "it's luxury car honda\n",
      "it's luxury car toyota\n",
      "it's luxury car nissa\n",
      "it's luxury car masarati\n",
      "it's luxury car tesla\n"
     ]
    }
   ],
   "source": [
    "for vehicle in ['honda','toyota','nissa','masarati','tesla']:\n",
    "    print(\"it's luxury car\", vehicle)"
   ]
  },
  {
   "cell_type": "code",
   "execution_count": null,
   "id": "7015f860",
   "metadata": {},
   "outputs": [],
   "source": []
  },
  {
   "cell_type": "code",
   "execution_count": null,
   "id": "92dd3cf9",
   "metadata": {},
   "outputs": [],
   "source": [
    "##### looping over dictionary"
   ]
  },
  {
   "cell_type": "code",
   "execution_count": 31,
   "id": "682ce5d2",
   "metadata": {},
   "outputs": [
    {
     "name": "stdout",
     "output_type": "stream",
     "text": [
      "key: Name , value: John\n",
      "key: Sex , value: Male\n",
      "key: Age , value: Adult\n",
      "key: Married , value: True\n"
     ]
    }
   ],
   "source": [
    "person = {'Name':'John',\n",
    "          'Sex' :'Male',\n",
    "          'Age' :'Adult',\n",
    "       'Married':'True'\n",
    "    \n",
    "}\n",
    "\n",
    "\n",
    "for key in person:\n",
    "    print(\"key:\", key, \",\",  \"value:\", person[key])"
   ]
  },
  {
   "cell_type": "code",
   "execution_count": null,
   "id": "b42ff676",
   "metadata": {},
   "outputs": [],
   "source": []
  },
  {
   "cell_type": "code",
   "execution_count": 34,
   "id": "82872364",
   "metadata": {},
   "outputs": [
    {
     "name": "stdout",
     "output_type": "stream",
     "text": [
      "key: Name , value: Sarah\n",
      "key: Gender , value: Female\n",
      "key: Age , value: Adolescent\n",
      "key: Division , value: Sales\n",
      "key: DOJ , value: 13th Oct 23\n",
      "key: Married , value: False\n"
     ]
    }
   ],
   "source": [
    "employee = {'Name':'Sarah',\n",
    "            'Gender':'Female',\n",
    "            'Age':'Adolescent',\n",
    "            'Division':'Sales',\n",
    "            'DOJ':'13th Oct 23',\n",
    "            'Married':'False'\n",
    "}\n",
    "\n",
    "\n",
    "for key in employee:\n",
    "    print(\"key:\", key, \",\", \"value:\", employee[key])"
   ]
  },
  {
   "cell_type": "code",
   "execution_count": null,
   "id": "8650d80e",
   "metadata": {},
   "outputs": [],
   "source": []
  },
  {
   "cell_type": "code",
   "execution_count": null,
   "id": "027c34e8",
   "metadata": {},
   "outputs": [],
   "source": []
  },
  {
   "cell_type": "markdown",
   "id": "6aafa50a",
   "metadata": {},
   "source": [
    "######## Note that while using a dictionary with a for loop, the iteration happens over keys within the dictionary. The key can be used within the loop to access the value.\n",
    "You can also iterate directly over the values using the .values method of the dictionary or over key-value pairs using the .items method."
   ]
  },
  {
   "cell_type": "code",
   "execution_count": 35,
   "id": "28a0393d",
   "metadata": {},
   "outputs": [
    {
     "name": "stdout",
     "output_type": "stream",
     "text": [
      "John\n",
      "Male\n",
      "Adult\n",
      "True\n"
     ]
    }
   ],
   "source": [
    "for value in person.values():\n",
    "    print(value)"
   ]
  },
  {
   "cell_type": "code",
   "execution_count": 36,
   "id": "a3c0d13f",
   "metadata": {},
   "outputs": [
    {
     "name": "stdout",
     "output_type": "stream",
     "text": [
      "Sarah\n",
      "Female\n",
      "Adolescent\n",
      "Sales\n",
      "13th Oct 23\n",
      "False\n"
     ]
    }
   ],
   "source": [
    "for value in employee.values():\n",
    "    print(value)"
   ]
  },
  {
   "cell_type": "code",
   "execution_count": null,
   "id": "d062758f",
   "metadata": {},
   "outputs": [],
   "source": []
  },
  {
   "cell_type": "code",
   "execution_count": null,
   "id": "bd17a242",
   "metadata": {},
   "outputs": [],
   "source": []
  },
  {
   "cell_type": "markdown",
   "id": "10c0c5c4",
   "metadata": {},
   "source": [
    "###### key-value pairs using the .items method."
   ]
  },
  {
   "cell_type": "code",
   "execution_count": 37,
   "id": "aa2a8755",
   "metadata": {},
   "outputs": [
    {
     "name": "stdout",
     "output_type": "stream",
     "text": [
      "('Name', 'John')\n",
      "('Sex', 'Male')\n",
      "('Age', 'Adult')\n",
      "('Married', 'True')\n"
     ]
    }
   ],
   "source": [
    "for key_value in person.items():\n",
    "    print(key_value)"
   ]
  },
  {
   "cell_type": "code",
   "execution_count": null,
   "id": "888b668c",
   "metadata": {},
   "outputs": [],
   "source": []
  },
  {
   "cell_type": "code",
   "execution_count": 38,
   "id": "c36f8f09",
   "metadata": {},
   "outputs": [
    {
     "name": "stdout",
     "output_type": "stream",
     "text": [
      "('Name', 'Sarah')\n",
      "('Gender', 'Female')\n",
      "('Age', 'Adolescent')\n",
      "('Division', 'Sales')\n",
      "('DOJ', '13th Oct 23')\n",
      "('Married', 'False')\n"
     ]
    }
   ],
   "source": [
    "for key_value in employee.items():\n",
    "    print(key_value)"
   ]
  },
  {
   "cell_type": "code",
   "execution_count": null,
   "id": "bf28642c",
   "metadata": {},
   "outputs": [],
   "source": []
  },
  {
   "cell_type": "markdown",
   "id": "fc10e188",
   "metadata": {},
   "source": [
    "###### since a key_value pair is tuple, key and value can also be extracted in seperate variables"
   ]
  },
  {
   "cell_type": "code",
   "execution_count": 39,
   "id": "7024a7b2",
   "metadata": {},
   "outputs": [
    {
     "name": "stdout",
     "output_type": "stream",
     "text": [
      "key: Name , value: John\n",
      "key: Sex , value: Male\n",
      "key: Age , value: Adult\n",
      "key: Married , value: True\n"
     ]
    }
   ],
   "source": [
    "for key,value in person.items():\n",
    "    print(\"key:\", key, \",\", \"value:\", value)"
   ]
  },
  {
   "cell_type": "code",
   "execution_count": null,
   "id": "8d3ed16e",
   "metadata": {},
   "outputs": [],
   "source": []
  },
  {
   "cell_type": "code",
   "execution_count": 40,
   "id": "a71ee980",
   "metadata": {},
   "outputs": [
    {
     "name": "stdout",
     "output_type": "stream",
     "text": [
      "key: Name , value: Sarah\n",
      "key: Gender , value: Female\n",
      "key: Age , value: Adolescent\n",
      "key: Division , value: Sales\n",
      "key: DOJ , value: 13th Oct 23\n",
      "key: Married , value: False\n"
     ]
    }
   ],
   "source": [
    "for key,value in employee.items():\n",
    "    print(\"key:\", key, \",\", \"value:\", value)"
   ]
  },
  {
   "cell_type": "code",
   "execution_count": null,
   "id": "bb0f0177",
   "metadata": {},
   "outputs": [],
   "source": []
  },
  {
   "cell_type": "markdown",
   "id": "2aa841af",
   "metadata": {},
   "source": [
    "##### iterating using range and enumerate.\n",
    "The range function is used to create a sequence of numbers that can be iterated over using a for loop.\n",
    "it can be used in three ways:"
   ]
  },
  {
   "cell_type": "code",
   "execution_count": 42,
   "id": "4f7c0946",
   "metadata": {},
   "outputs": [
    {
     "name": "stdout",
     "output_type": "stream",
     "text": [
      "0\n",
      "1\n",
      "2\n",
      "3\n",
      "4\n",
      "5\n",
      "6\n"
     ]
    }
   ],
   "source": [
    "#### this method print from 0 to n-1\n",
    "\n",
    "for i in range (7):\n",
    "    print(i)"
   ]
  },
  {
   "cell_type": "code",
   "execution_count": 43,
   "id": "7c7c287b",
   "metadata": {},
   "outputs": [
    {
     "name": "stdout",
     "output_type": "stream",
     "text": [
      "0\n",
      "1\n",
      "2\n",
      "3\n",
      "4\n",
      "5\n",
      "6\n",
      "7\n",
      "8\n",
      "9\n"
     ]
    }
   ],
   "source": [
    "for i in range(10):\n",
    "    print(i)"
   ]
  },
  {
   "cell_type": "code",
   "execution_count": null,
   "id": "c204523a",
   "metadata": {},
   "outputs": [],
   "source": []
  },
  {
   "cell_type": "markdown",
   "id": "612eb2b7",
   "metadata": {},
   "source": [
    "###### you can also specify start index and end index"
   ]
  },
  {
   "cell_type": "code",
   "execution_count": 45,
   "id": "8b5a881f",
   "metadata": {},
   "outputs": [
    {
     "name": "stdout",
     "output_type": "stream",
     "text": [
      "3\n",
      "4\n",
      "5\n",
      "6\n"
     ]
    }
   ],
   "source": [
    "#### this method print from specify index n to end index n-1\n",
    "for i in range(3,7):\n",
    "    print(i)"
   ]
  },
  {
   "cell_type": "code",
   "execution_count": 46,
   "id": "cbff9eb6",
   "metadata": {},
   "outputs": [
    {
     "name": "stdout",
     "output_type": "stream",
     "text": [
      "1\n",
      "2\n",
      "3\n",
      "4\n",
      "5\n",
      "6\n",
      "7\n"
     ]
    }
   ],
   "source": [
    "for i in range(1,8):\n",
    "    print(i)"
   ]
  },
  {
   "cell_type": "code",
   "execution_count": null,
   "id": "3741b5f9",
   "metadata": {},
   "outputs": [],
   "source": []
  },
  {
   "cell_type": "markdown",
   "id": "c324a8e6",
   "metadata": {},
   "source": [
    "##### this method print from specify index n, to end index, n-1 and step i.e if you want specific number interval"
   ]
  },
  {
   "cell_type": "code",
   "execution_count": 49,
   "id": "ec01ea3e",
   "metadata": {},
   "outputs": [
    {
     "name": "stdout",
     "output_type": "stream",
     "text": [
      "2\n",
      "4\n",
      "6\n",
      "8\n",
      "10\n"
     ]
    }
   ],
   "source": [
    "for i in range(2,12,2):\n",
    "    print(i)"
   ]
  },
  {
   "cell_type": "code",
   "execution_count": null,
   "id": "5c837e87",
   "metadata": {},
   "outputs": [],
   "source": []
  },
  {
   "cell_type": "markdown",
   "id": "5a591bdf",
   "metadata": {},
   "source": [
    "####### Range are used for iteration over lists, when you need to track the index of elements while iterating."
   ]
  },
  {
   "cell_type": "code",
   "execution_count": 52,
   "id": "15f6b8b7",
   "metadata": {},
   "outputs": [
    {
     "name": "stdout",
     "output_type": "stream",
     "text": [
      "The value at position 0 is Monday.\n",
      "The value at position 1 is Tuesday.\n",
      "The value at position 2 is Wednesday.\n",
      "The value at position 3 is Thursday.\n",
      "The value at position 4 is Friday.\n"
     ]
    }
   ],
   "source": [
    "a_list = ['Monday','Tuesday','Wednesday','Thursday','Friday']\n",
    "\n",
    "for i in range(len(a_list)):\n",
    "    print('The value at position {} is {}.'.format(i,a_list[i]))\n"
   ]
  },
  {
   "cell_type": "code",
   "execution_count": null,
   "id": "8bdc72e8",
   "metadata": {},
   "outputs": [],
   "source": []
  },
  {
   "cell_type": "code",
   "execution_count": 53,
   "id": "ed1e3128",
   "metadata": {},
   "outputs": [
    {
     "data": {
      "text/plain": [
       "['Carrot', 'Watermelon', 'Onions', 'Pawpaw', 'lemon']"
      ]
     },
     "execution_count": 53,
     "metadata": {},
     "output_type": "execute_result"
    }
   ],
   "source": [
    "vegetables"
   ]
  },
  {
   "cell_type": "code",
   "execution_count": 55,
   "id": "087e61f3",
   "metadata": {},
   "outputs": [
    {
     "name": "stdout",
     "output_type": "stream",
     "text": [
      "Healthy vegetables at the age 0 is ['Carrot', 'Watermelon', 'Onions', 'Pawpaw', 'lemon'].\n",
      "Healthy vegetables at the age 1 is ['Carrot', 'Watermelon', 'Onions', 'Pawpaw', 'lemon'].\n",
      "Healthy vegetables at the age 2 is ['Carrot', 'Watermelon', 'Onions', 'Pawpaw', 'lemon'].\n",
      "Healthy vegetables at the age 3 is ['Carrot', 'Watermelon', 'Onions', 'Pawpaw', 'lemon'].\n",
      "Healthy vegetables at the age 4 is ['Carrot', 'Watermelon', 'Onions', 'Pawpaw', 'lemon'].\n"
     ]
    }
   ],
   "source": [
    "for i in range(len(vegetables)):\n",
    "    print('Healthy vegetables at the age {} is {}.'.format(i,vegetables,[i]))"
   ]
  },
  {
   "cell_type": "code",
   "execution_count": null,
   "id": "2fb2a957",
   "metadata": {},
   "outputs": [],
   "source": []
  },
  {
   "cell_type": "code",
   "execution_count": 65,
   "id": "7492c1b2",
   "metadata": {},
   "outputs": [
    {
     "name": "stdout",
     "output_type": "stream",
     "text": [
      "Recommended luxury cars for age 0 is ['honda', 'toyota', 'nissa', 'masarati', 'tesla'].\n",
      "Recommended luxury cars for age 1 is ['honda', 'toyota', 'nissa', 'masarati', 'tesla'].\n",
      "Recommended luxury cars for age 2 is ['honda', 'toyota', 'nissa', 'masarati', 'tesla'].\n",
      "Recommended luxury cars for age 3 is ['honda', 'toyota', 'nissa', 'masarati', 'tesla'].\n",
      "Recommended luxury cars for age 4 is ['honda', 'toyota', 'nissa', 'masarati', 'tesla'].\n"
     ]
    }
   ],
   "source": [
    "for i in range(len(vehicles)):\n",
    "    print('Recommended luxury cars for age {} is {}.'.format(i,vehicles,[i]))"
   ]
  },
  {
   "cell_type": "code",
   "execution_count": null,
   "id": "5dd44d4f",
   "metadata": {},
   "outputs": [],
   "source": []
  },
  {
   "cell_type": "code",
   "execution_count": 66,
   "id": "677030c4",
   "metadata": {},
   "outputs": [
    {
     "name": "stdout",
     "output_type": "stream",
     "text": [
      "The awesome days of the week 0 is Monday\n",
      "The awesome days of the week 1 is Tuesday\n",
      "The awesome days of the week 2 is Wednesday\n",
      "The awesome days of the week 3 is Thursday\n",
      "The awesome days of the week 4 is Friday\n"
     ]
    }
   ],
   "source": [
    "for i in range(len(days)):\n",
    "    print('The awesome days of the week {} is {}'.format(i,days[i]))"
   ]
  },
  {
   "cell_type": "code",
   "execution_count": null,
   "id": "5503690f",
   "metadata": {},
   "outputs": [],
   "source": []
  },
  {
   "cell_type": "markdown",
   "id": "25973dda",
   "metadata": {},
   "source": [
    "##### Another way to achieve the same result as above is using the enumerate function with a_list as an input which returns tuple containing index and the corresponding element."
   ]
  },
  {
   "cell_type": "code",
   "execution_count": null,
   "id": "4bf57ba3",
   "metadata": {},
   "outputs": [],
   "source": []
  },
  {
   "cell_type": "code",
   "execution_count": null,
   "id": "05a77b94",
   "metadata": {},
   "outputs": [],
   "source": []
  },
  {
   "cell_type": "markdown",
   "id": "633e54ba",
   "metadata": {},
   "source": [
    "###### Nested for and while loops\n",
    "Similar to conditional statements, loops can be nested inside other loops. This is useful for looping over each element in a list of lists, a list of dictionaries"
   ]
  },
  {
   "cell_type": "code",
   "execution_count": 70,
   "id": "e5c4e2ad",
   "metadata": {},
   "outputs": [
    {
     "ename": "TypeError",
     "evalue": "list indices must be integers or slices, not dict",
     "output_type": "error",
     "traceback": [
      "\u001b[1;31m---------------------------------------------------------------------------\u001b[0m",
      "\u001b[1;31mTypeError\u001b[0m                                 Traceback (most recent call last)",
      "Cell \u001b[1;32mIn[70], line 5\u001b[0m\n\u001b[0;32m      3\u001b[0m \u001b[38;5;28;01mfor\u001b[39;00m person \u001b[38;5;129;01min\u001b[39;00m persons:\n\u001b[0;32m      4\u001b[0m     \u001b[38;5;28;01mfor\u001b[39;00m key \u001b[38;5;129;01min\u001b[39;00m person:\n\u001b[1;32m----> 5\u001b[0m         \u001b[38;5;28mprint\u001b[39m(key, \u001b[38;5;124m\"\u001b[39m\u001b[38;5;124m,\u001b[39m\u001b[38;5;124m\"\u001b[39m, \u001b[43mperson\u001b[49m\u001b[43m[\u001b[49m\u001b[43mkey\u001b[49m\u001b[43m]\u001b[49m)\n\u001b[0;32m      6\u001b[0m     \u001b[38;5;28mprint\u001b[39m(\u001b[38;5;124m\"\u001b[39m\u001b[38;5;124m \u001b[39m\u001b[38;5;124m\"\u001b[39m)\n",
      "\u001b[1;31mTypeError\u001b[0m: list indices must be integers or slices, not dict"
     ]
    }
   ],
   "source": [
    "persons = [{'name':'jim','gender':'female'}],[{'name':'don','gender':'male'}],[{'name':'troy','gender':'male'}]\n",
    "\n",
    "for person in persons:\n",
    "    for key in person:\n",
    "        print(key, \",\", person[key])\n",
    "    print(\" \")\n",
    "        \n",
    "       "
   ]
  },
  {
   "cell_type": "code",
   "execution_count": null,
   "id": "3be44e35",
   "metadata": {},
   "outputs": [],
   "source": []
  },
  {
   "cell_type": "code",
   "execution_count": 73,
   "id": "b8942980",
   "metadata": {},
   "outputs": [
    {
     "name": "stdout",
     "output_type": "stream",
     "text": [
      "Monday Apple\n",
      "Monday Mango\n",
      "Monday Guava\n",
      "Tuesday Apple\n",
      "Tuesday Mango\n",
      "Tuesday Guava\n",
      "Wednesday Apple\n",
      "Wednesday Mango\n",
      "Wednesday Guava\n",
      "Thursday Apple\n",
      "Thursday Mango\n",
      "Thursday Guava\n"
     ]
    }
   ],
   "source": [
    "days = ['Monday','Tuesday','Wednesday','Thursday']\n",
    "fruits = ['Apple','Mango','Guava']\n",
    "\n",
    "for day in days:\n",
    "    for fruit in fruits:\n",
    "        print(day,fruit)"
   ]
  },
  {
   "cell_type": "code",
   "execution_count": null,
   "id": "d493dbed",
   "metadata": {},
   "outputs": [],
   "source": []
  },
  {
   "cell_type": "code",
   "execution_count": null,
   "id": "b8de204d",
   "metadata": {},
   "outputs": [],
   "source": []
  },
  {
   "cell_type": "markdown",
   "id": "9cb17879",
   "metadata": {},
   "source": [
    "###### break, continue and pass statements\n",
    "Similar to while loops, for loops also support the break statement for breaking out of the loop and continue for skipping ahead to the next iteration."
   ]
  },
  {
   "cell_type": "code",
   "execution_count": 74,
   "id": "0f983513",
   "metadata": {},
   "outputs": [],
   "source": [
    "weekdays = ['Monday','Tuesday','Wednesday','Thursday']"
   ]
  },
  {
   "cell_type": "code",
   "execution_count": 76,
   "id": "11d90941",
   "metadata": {},
   "outputs": [
    {
     "name": "stdout",
     "output_type": "stream",
     "text": [
      "Today is Monday\n",
      "Today is Tuesday\n",
      "Today is Wednesday\n",
      "I don't work beyond Wednesday!\n"
     ]
    }
   ],
   "source": [
    "for day in weekdays:\n",
    "    print('Today is {}'.format(day))\n",
    "    if(day=='Wednesday'):\n",
    "        print(\"I don't work beyond Wednesday!\")\n",
    "        break"
   ]
  },
  {
   "cell_type": "code",
   "execution_count": null,
   "id": "809872f6",
   "metadata": {},
   "outputs": [],
   "source": []
  },
  {
   "cell_type": "code",
   "execution_count": 79,
   "id": "67f6242b",
   "metadata": {},
   "outputs": [
    {
     "name": "stdout",
     "output_type": "stream",
     "text": [
      "Today is Monday\n",
      "Today is Tuesday\n",
      "I don't work on Wednesday!\n",
      "Today is Thursday\n"
     ]
    }
   ],
   "source": [
    "for day in weekdays:\n",
    "    if(day=='Wednesday'):\n",
    "        print(\"I don't work on Wednesday!\")\n",
    "        continue\n",
    "    print('Today is {}'.format(day))\n",
    "    "
   ]
  },
  {
   "cell_type": "code",
   "execution_count": null,
   "id": "6d05417c",
   "metadata": {},
   "outputs": [],
   "source": []
  },
  {
   "cell_type": "code",
   "execution_count": null,
   "id": "3174bb3b",
   "metadata": {},
   "outputs": [],
   "source": []
  },
  {
   "cell_type": "code",
   "execution_count": null,
   "id": "ea0aca15",
   "metadata": {},
   "outputs": [],
   "source": []
  },
  {
   "cell_type": "code",
   "execution_count": 77,
   "id": "b2cb5161",
   "metadata": {},
   "outputs": [],
   "source": [
    "months = ['Rajab','Ramadan','Shahban','Rabiul-Awal']"
   ]
  },
  {
   "cell_type": "code",
   "execution_count": 84,
   "id": "ce1ad688",
   "metadata": {},
   "outputs": [
    {
     "name": "stdout",
     "output_type": "stream",
     "text": [
      "Month of blessing Rajab\n",
      "Month of blessing Ramadan\n",
      "Month of blessing Shahban\n",
      "Month of blessing Rabiul-Awal\n",
      "These are the months of blessing\n"
     ]
    }
   ],
   "source": [
    "for month in months:\n",
    "    print('Month of blessing {}'.format(month))\n",
    "    if(month =='Rabiul-Awal'):\n",
    "        print(\"These are the months of blessing\")\n",
    "        break\n",
    "    "
   ]
  },
  {
   "cell_type": "code",
   "execution_count": null,
   "id": "a0ffb944",
   "metadata": {},
   "outputs": [],
   "source": []
  },
  {
   "cell_type": "code",
   "execution_count": 82,
   "id": "b6f3e7f1",
   "metadata": {},
   "outputs": [
    {
     "name": "stdout",
     "output_type": "stream",
     "text": [
      "Month of blessing Rajab\n",
      "Ramadan is the month of forgiveness\n",
      "Month of blessing Shahban\n",
      "Month of blessing Rabiul-Awal\n"
     ]
    }
   ],
   "source": [
    "for month in months:\n",
    "    if(month =='Ramadan'):\n",
    "        print(\"Ramadan is the month of forgiveness\")\n",
    "        continue\n",
    "    print('Month of blessing {}'.format(month))"
   ]
  },
  {
   "cell_type": "code",
   "execution_count": null,
   "id": "8b9f11fe",
   "metadata": {},
   "outputs": [],
   "source": []
  },
  {
   "cell_type": "code",
   "execution_count": null,
   "id": "39ea18b7",
   "metadata": {},
   "outputs": [],
   "source": [
    "###### CREATING AND USING FUNCTIONS"
   ]
  },
  {
   "cell_type": "code",
   "execution_count": 5,
   "id": "7872e85c",
   "metadata": {},
   "outputs": [],
   "source": [
    "def greetings(name):\n",
    "    print('How may I help you {}'.format(name))\n",
    "    print('We are here to make you happy {}'.format(name))"
   ]
  },
  {
   "cell_type": "code",
   "execution_count": 10,
   "id": "fc8b7195",
   "metadata": {},
   "outputs": [
    {
     "name": "stdout",
     "output_type": "stream",
     "text": [
      "How may I help you Abdullah\n",
      "We are here to make you happy Abdullah\n"
     ]
    }
   ],
   "source": [
    "greetings(\"Abdullah\")"
   ]
  },
  {
   "cell_type": "code",
   "execution_count": null,
   "id": "87f56f10",
   "metadata": {},
   "outputs": [],
   "source": []
  },
  {
   "cell_type": "code",
   "execution_count": 11,
   "id": "a8cfadd0",
   "metadata": {},
   "outputs": [
    {
     "name": "stdout",
     "output_type": "stream",
     "text": [
      "How may I help you Muhammad\n",
      "We are here to make you happy Muhammad\n"
     ]
    }
   ],
   "source": [
    "greetings(\"Muhammad\")"
   ]
  },
  {
   "cell_type": "code",
   "execution_count": null,
   "id": "a0a08df0",
   "metadata": {},
   "outputs": [],
   "source": []
  },
  {
   "cell_type": "code",
   "execution_count": null,
   "id": "2cd0a55b",
   "metadata": {},
   "outputs": [],
   "source": []
  },
  {
   "cell_type": "code",
   "execution_count": 12,
   "id": "47546002",
   "metadata": {},
   "outputs": [],
   "source": [
    "def salam(name):\n",
    "    print('Salam Aleakun {}'.format(name))\n",
    "    print('Peace be on to you {}'. format(name))"
   ]
  },
  {
   "cell_type": "code",
   "execution_count": 13,
   "id": "6c78f423",
   "metadata": {},
   "outputs": [
    {
     "name": "stdout",
     "output_type": "stream",
     "text": [
      "Salam Aleakun Abdulrahman\n",
      "Peace be on to you Abdulrahman\n"
     ]
    }
   ],
   "source": [
    "salam(\"Abdulrahman\")"
   ]
  },
  {
   "cell_type": "code",
   "execution_count": 14,
   "id": "efc51e1b",
   "metadata": {},
   "outputs": [
    {
     "name": "stdout",
     "output_type": "stream",
     "text": [
      "Salam Aleakun Abdullah\n",
      "Peace be on to you Abdullah\n"
     ]
    }
   ],
   "source": [
    "salam(\"Abdullah\")"
   ]
  },
  {
   "cell_type": "code",
   "execution_count": null,
   "id": "cb6f954a",
   "metadata": {},
   "outputs": [],
   "source": []
  },
  {
   "cell_type": "code",
   "execution_count": null,
   "id": "0938e3c4",
   "metadata": {},
   "outputs": [],
   "source": []
  },
  {
   "cell_type": "code",
   "execution_count": 29,
   "id": "d192a7ed",
   "metadata": {},
   "outputs": [],
   "source": [
    "def filter_even(number_list):\n",
    "    result_list = []\n",
    "    for number in number_list:\n",
    "        if number % 2 == 0:\n",
    "            result_list.append(number)\n",
    "    return result_list"
   ]
  },
  {
   "cell_type": "code",
   "execution_count": 30,
   "id": "1ef18457",
   "metadata": {},
   "outputs": [],
   "source": [
    "even_list = filter_even([1,2,3,4,5,6,7,8,9])"
   ]
  },
  {
   "cell_type": "code",
   "execution_count": 31,
   "id": "26421ef6",
   "metadata": {},
   "outputs": [
    {
     "data": {
      "text/plain": [
       "[2, 4, 6, 8]"
      ]
     },
     "execution_count": 31,
     "metadata": {},
     "output_type": "execute_result"
    }
   ],
   "source": [
    "even_list"
   ]
  },
  {
   "cell_type": "code",
   "execution_count": null,
   "id": "5a246046",
   "metadata": {},
   "outputs": [],
   "source": []
  },
  {
   "cell_type": "code",
   "execution_count": 41,
   "id": "f6d90538",
   "metadata": {},
   "outputs": [],
   "source": [
    "def filter_odd(number_list):\n",
    "    result_list = []\n",
    "    for number in number_list:\n",
    "        if number % 3 == 0:\n",
    "            result_list.append(number)\n",
    "    return return_list\n",
    "    \n",
    "   \n",
    "   \n",
    "    \n",
    "    "
   ]
  },
  {
   "cell_type": "code",
   "execution_count": 42,
   "id": "8b96853b",
   "metadata": {},
   "outputs": [
    {
     "ename": "NameError",
     "evalue": "name 'return_list' is not defined",
     "output_type": "error",
     "traceback": [
      "\u001b[1;31m---------------------------------------------------------------------------\u001b[0m",
      "\u001b[1;31mNameError\u001b[0m                                 Traceback (most recent call last)",
      "Cell \u001b[1;32mIn[42], line 1\u001b[0m\n\u001b[1;32m----> 1\u001b[0m odd_list \u001b[38;5;241m=\u001b[39m \u001b[43mfilter_odd\u001b[49m\u001b[43m(\u001b[49m\u001b[43m[\u001b[49m\u001b[38;5;241;43m1\u001b[39;49m\u001b[43m,\u001b[49m\u001b[38;5;241;43m2\u001b[39;49m\u001b[43m,\u001b[49m\u001b[38;5;241;43m3\u001b[39;49m\u001b[43m,\u001b[49m\u001b[38;5;241;43m4\u001b[39;49m\u001b[43m,\u001b[49m\u001b[38;5;241;43m5\u001b[39;49m\u001b[43m,\u001b[49m\u001b[38;5;241;43m6\u001b[39;49m\u001b[43m,\u001b[49m\u001b[38;5;241;43m7\u001b[39;49m\u001b[43m,\u001b[49m\u001b[38;5;241;43m8\u001b[39;49m\u001b[43m,\u001b[49m\u001b[38;5;241;43m9\u001b[39;49m\u001b[43m]\u001b[49m\u001b[43m)\u001b[49m\n",
      "Cell \u001b[1;32mIn[41], line 6\u001b[0m, in \u001b[0;36mfilter_odd\u001b[1;34m(number_list)\u001b[0m\n\u001b[0;32m      4\u001b[0m     \u001b[38;5;28;01mif\u001b[39;00m number \u001b[38;5;241m%\u001b[39m \u001b[38;5;241m3\u001b[39m \u001b[38;5;241m==\u001b[39m \u001b[38;5;241m0\u001b[39m:\n\u001b[0;32m      5\u001b[0m         result_list\u001b[38;5;241m.\u001b[39mappend(number)\n\u001b[1;32m----> 6\u001b[0m \u001b[38;5;28;01mreturn\u001b[39;00m \u001b[43mreturn_list\u001b[49m\n",
      "\u001b[1;31mNameError\u001b[0m: name 'return_list' is not defined"
     ]
    }
   ],
   "source": [
    "odd_list = filter_odd([1,2,3,4,5,6,7,8,9])"
   ]
  },
  {
   "cell_type": "code",
   "execution_count": null,
   "id": "3080205f",
   "metadata": {},
   "outputs": [],
   "source": []
  },
  {
   "cell_type": "markdown",
   "id": "8a2610f4",
   "metadata": {},
   "source": [
    "####### Radha is planning to buy a house that costs $1,260,000.\n",
    "She considering two options to finance her purchase:\n",
    "\n",
    "Option 1: Make an immediate down payment of $300,000 and take loan 8-years loan with an interest rate of 10% per annum(compounded monthly)\n",
    "for the remaining amount.\n",
    "\n",
    "Option 2: Take a 10-year loan with an interest rate of 8% per annum (compounded monthly)\n",
    "for the entire amount.\n",
    "\n",
    "Both these loans have to paid back in equal monthly installments(EMIs)\n",
    "Which loan has a lower EMI among the two?\n",
    "\n",
    "Since we need to compare the EMIs for two loan options, it might be helpful to define a function\n",
    "to calculate the EMI for a loan, given inputs like the cost of the house, the down payment, duration of the loan,\n",
    "rate of interest etc."
   ]
  },
  {
   "cell_type": "code",
   "execution_count": 17,
   "id": "5f5e431f",
   "metadata": {},
   "outputs": [],
   "source": [
    "def loan_emi(amount):\n",
    "    emi = amount / 12\n",
    "    print('The EMI is ${}'.format(emi))\n",
    "    "
   ]
  },
  {
   "cell_type": "code",
   "execution_count": 18,
   "id": "30169607",
   "metadata": {},
   "outputs": [
    {
     "name": "stdout",
     "output_type": "stream",
     "text": [
      "The EMI is $105000.0\n"
     ]
    }
   ],
   "source": [
    "loan_emi(1.26e6)  ##### the output is the amount you have to pay per month"
   ]
  },
  {
   "cell_type": "code",
   "execution_count": null,
   "id": "73f5c056",
   "metadata": {},
   "outputs": [],
   "source": []
  },
  {
   "cell_type": "markdown",
   "id": "8e857e82",
   "metadata": {},
   "source": [
    "###### local variables and scope. lets add the second argument to account for the duration of loan in months"
   ]
  },
  {
   "cell_type": "code",
   "execution_count": 19,
   "id": "00b18606",
   "metadata": {},
   "outputs": [],
   "source": [
    "def loan_emi(amount, duration):\n",
    "    emi = amount / duration\n",
    "    print('The EMI is ${}'.format(emi))"
   ]
  },
  {
   "cell_type": "code",
   "execution_count": null,
   "id": "a2c63557",
   "metadata": {},
   "outputs": [],
   "source": []
  },
  {
   "cell_type": "markdown",
   "id": "39852a06",
   "metadata": {},
   "source": [
    "#### Note that the variable emi defined inside the function is not accessible outside the function.\n",
    "Also the parameters amount and duration. These are local variables\n",
    "that lie within the scope of the function.(def)"
   ]
  },
  {
   "cell_type": "code",
   "execution_count": null,
   "id": "99aa8094",
   "metadata": {},
   "outputs": [],
   "source": []
  },
  {
   "cell_type": "code",
   "execution_count": null,
   "id": "5dcd8bd4",
   "metadata": {},
   "outputs": [],
   "source": [
    "##### we can now compare 8 years loan vs 10 years loan(assuming no down payment and interest)"
   ]
  },
  {
   "cell_type": "code",
   "execution_count": null,
   "id": "c4b9aa76",
   "metadata": {},
   "outputs": [],
   "source": []
  },
  {
   "cell_type": "code",
   "execution_count": 60,
   "id": "c782935d",
   "metadata": {},
   "outputs": [
    {
     "name": "stdout",
     "output_type": "stream",
     "text": [
      "The EMI is $10500.0\n"
     ]
    }
   ],
   "source": [
    "loan_emi(1260000, 10*12)"
   ]
  },
  {
   "cell_type": "code",
   "execution_count": 61,
   "id": "55e45efe",
   "metadata": {},
   "outputs": [
    {
     "name": "stdout",
     "output_type": "stream",
     "text": [
      "The EMI is $13125.0\n"
     ]
    }
   ],
   "source": [
    "loan_emi(1260000, 8*12)\n"
   ]
  },
  {
   "cell_type": "code",
   "execution_count": null,
   "id": "b6329b7b",
   "metadata": {},
   "outputs": [],
   "source": []
  },
  {
   "cell_type": "markdown",
   "id": "75060586",
   "metadata": {},
   "source": [
    "###### Return values\n",
    "As you can see, the EMI for 8-year loan is higher compared to the 10-year loan.\n",
    "it would be better to return it and store the results in variables for easier comparison.\n",
    "return statement will be using."
   ]
  },
  {
   "cell_type": "code",
   "execution_count": null,
   "id": "00c502fe",
   "metadata": {},
   "outputs": [],
   "source": []
  },
  {
   "cell_type": "code",
   "execution_count": 20,
   "id": "174922fe",
   "metadata": {},
   "outputs": [],
   "source": [
    "def loan_emi(amount,duration):\n",
    "    emi = amount / duration\n",
    "    return emi"
   ]
  },
  {
   "cell_type": "code",
   "execution_count": 21,
   "id": "78cd85e4",
   "metadata": {},
   "outputs": [],
   "source": [
    "emi1 = loan_emi(1260000, 8*12)"
   ]
  },
  {
   "cell_type": "code",
   "execution_count": 22,
   "id": "7bad3f64",
   "metadata": {},
   "outputs": [
    {
     "data": {
      "text/plain": [
       "13125.0"
      ]
     },
     "execution_count": 22,
     "metadata": {},
     "output_type": "execute_result"
    }
   ],
   "source": [
    "emi1"
   ]
  },
  {
   "cell_type": "code",
   "execution_count": null,
   "id": "cf6ad392",
   "metadata": {},
   "outputs": [],
   "source": []
  },
  {
   "cell_type": "code",
   "execution_count": 23,
   "id": "27e38b10",
   "metadata": {},
   "outputs": [],
   "source": [
    "emi2 = loan_emi(1260000, 10*12)"
   ]
  },
  {
   "cell_type": "code",
   "execution_count": 24,
   "id": "87b65428",
   "metadata": {},
   "outputs": [
    {
     "data": {
      "text/plain": [
       "10500.0"
      ]
     },
     "execution_count": 24,
     "metadata": {},
     "output_type": "execute_result"
    }
   ],
   "source": [
    "emi2"
   ]
  },
  {
   "cell_type": "code",
   "execution_count": null,
   "id": "92d7c441",
   "metadata": {},
   "outputs": [],
   "source": []
  },
  {
   "cell_type": "code",
   "execution_count": 25,
   "id": "e637bd1d",
   "metadata": {},
   "outputs": [
    {
     "data": {
      "text/plain": [
       "2625.0"
      ]
     },
     "execution_count": 25,
     "metadata": {},
     "output_type": "execute_result"
    }
   ],
   "source": [
    "emi1 - emi2 "
   ]
  },
  {
   "cell_type": "code",
   "execution_count": null,
   "id": "289178d3",
   "metadata": {},
   "outputs": [],
   "source": []
  },
  {
   "cell_type": "code",
   "execution_count": null,
   "id": "1bc545cc",
   "metadata": {},
   "outputs": [],
   "source": []
  },
  {
   "cell_type": "markdown",
   "id": "80ffcaeb",
   "metadata": {},
   "source": [
    "###### Optional arguments\n",
    "Let's now add another argument to account for the immediate down payment.\n",
    "We will make it optional argument, with a default value of 0 because first option have down payment and second option do not have"
   ]
  },
  {
   "cell_type": "code",
   "execution_count": 26,
   "id": "c0139db7",
   "metadata": {},
   "outputs": [],
   "source": [
    "def loan_emi(amount, duration, down_payment=0):\n",
    "    loan_amount = amount - down_payment\n",
    "    emi = loan_amount / duration\n",
    "    return emi"
   ]
  },
  {
   "cell_type": "code",
   "execution_count": 27,
   "id": "2f08e78c",
   "metadata": {},
   "outputs": [],
   "source": [
    "emi1 = loan_emi(1260000, 8*12, 3e5)"
   ]
  },
  {
   "cell_type": "code",
   "execution_count": 28,
   "id": "4e383dc6",
   "metadata": {},
   "outputs": [
    {
     "data": {
      "text/plain": [
       "10000.0"
      ]
     },
     "execution_count": 28,
     "metadata": {},
     "output_type": "execute_result"
    }
   ],
   "source": [
    "emi1"
   ]
  },
  {
   "cell_type": "code",
   "execution_count": null,
   "id": "aefab145",
   "metadata": {},
   "outputs": [],
   "source": []
  },
  {
   "cell_type": "code",
   "execution_count": 29,
   "id": "a4f71b69",
   "metadata": {},
   "outputs": [],
   "source": [
    "emi2 = loan_emi(1.26e6, 10*12)"
   ]
  },
  {
   "cell_type": "code",
   "execution_count": 30,
   "id": "a0d70b84",
   "metadata": {},
   "outputs": [
    {
     "data": {
      "text/plain": [
       "10500.0"
      ]
     },
     "execution_count": 30,
     "metadata": {},
     "output_type": "execute_result"
    }
   ],
   "source": [
    "emi2"
   ]
  },
  {
   "cell_type": "code",
   "execution_count": null,
   "id": "0471b2d9",
   "metadata": {},
   "outputs": [],
   "source": []
  },
  {
   "cell_type": "code",
   "execution_count": null,
   "id": "1092a444",
   "metadata": {},
   "outputs": [],
   "source": [
    "###### Next, let's add the interest calculation into the function. here is the formula used to calculate the EMI for a loan:\n",
    "EMI = P X r X (1 + r) raised to power n / (1 + r)power n - 1\n",
    "\n",
    "where P is the loan amount (principal)\n",
    "           n is the no. of months\n",
    "           r is the rate of interest per month"
   ]
  },
  {
   "cell_type": "code",
   "execution_count": null,
   "id": "64a9f6b5",
   "metadata": {},
   "outputs": [],
   "source": []
  },
  {
   "cell_type": "code",
   "execution_count": 23,
   "id": "1fb2cd68",
   "metadata": {},
   "outputs": [],
   "source": [
    "def loan_emi(amount,rate,duration,down_payment=0):\n",
    "    loan_amount = amount - down_payment\n",
    "    emi = loan_amount*rate*((1+rate)**duration)/(((1+rate)**duration)-1)\n",
    "    return emi"
   ]
  },
  {
   "cell_type": "code",
   "execution_count": 24,
   "id": "b9d44512",
   "metadata": {},
   "outputs": [
    {
     "data": {
      "text/plain": [
       "2463836970.940042"
      ]
     },
     "execution_count": 24,
     "metadata": {},
     "output_type": "execute_result"
    }
   ],
   "source": [
    "##### Calculate the EMI for option 1, we need to include down_payment\n",
    "loan_emi(1260000, 8*12, 0.1/12, 3e5)"
   ]
  },
  {
   "cell_type": "code",
   "execution_count": null,
   "id": "d657baf7",
   "metadata": {},
   "outputs": [],
   "source": []
  },
  {
   "cell_type": "markdown",
   "id": "c024b0b7",
   "metadata": {},
   "source": [
    "##### Note that while defining the function, required arguments like cost, duration and rate must appear before optional arguments like down_payment"
   ]
  },
  {
   "cell_type": "code",
   "execution_count": null,
   "id": "f8769486",
   "metadata": {},
   "outputs": [],
   "source": []
  },
  {
   "cell_type": "code",
   "execution_count": 25,
   "id": "981e293d",
   "metadata": {},
   "outputs": [
    {
     "data": {
      "text/plain": [
       "4805150158.293757"
      ]
     },
     "execution_count": 25,
     "metadata": {},
     "output_type": "execute_result"
    }
   ],
   "source": [
    "##### while calculating the EMI for option 2, we need not to include down_payment\n",
    "\n",
    "loan_emi(1.26e6, 10*12, 0.08/12)"
   ]
  },
  {
   "cell_type": "code",
   "execution_count": null,
   "id": "fb40acc6",
   "metadata": {},
   "outputs": [],
   "source": []
  },
  {
   "cell_type": "code",
   "execution_count": null,
   "id": "fa90d0c7",
   "metadata": {},
   "outputs": [],
   "source": []
  },
  {
   "cell_type": "code",
   "execution_count": null,
   "id": "c2c43ea1",
   "metadata": {},
   "outputs": [],
   "source": [
    "####### Named arguments: invoking a function with many arguments can often get confusing and is prone\n",
    "to human errors.\n",
    "Python provides the option of invoking functions with named arguments, for better clarity.\n",
    "Function invocation can also be split into multiple lines\n"
   ]
  },
  {
   "cell_type": "code",
   "execution_count": 26,
   "id": "db0be72d",
   "metadata": {},
   "outputs": [],
   "source": [
    "emi1 = loan_emi(amount = 1260000,\n",
    "                duration = 8*12,\n",
    "                rate = 0.1/12,\n",
    "                down_payment = 300000\n",
    "\n",
    "\n",
    "\n",
    ")"
   ]
  },
  {
   "cell_type": "code",
   "execution_count": 27,
   "id": "a8ddad73",
   "metadata": {},
   "outputs": [
    {
     "data": {
      "text/plain": [
       "14567.19753389219"
      ]
     },
     "execution_count": 27,
     "metadata": {},
     "output_type": "execute_result"
    }
   ],
   "source": [
    "emi1"
   ]
  },
  {
   "cell_type": "code",
   "execution_count": null,
   "id": "43e5e450",
   "metadata": {},
   "outputs": [],
   "source": []
  },
  {
   "cell_type": "code",
   "execution_count": 30,
   "id": "643d7e7e",
   "metadata": {},
   "outputs": [],
   "source": [
    "emi2 = loan_emi(amount=1260000,duration=10*12,rate=0.08/12)"
   ]
  },
  {
   "cell_type": "code",
   "execution_count": 31,
   "id": "0d8aa1d3",
   "metadata": {},
   "outputs": [
    {
     "data": {
      "text/plain": [
       "15287.276888775077"
      ]
     },
     "execution_count": 31,
     "metadata": {},
     "output_type": "execute_result"
    }
   ],
   "source": [
    "emi2"
   ]
  },
  {
   "cell_type": "code",
   "execution_count": null,
   "id": "94933967",
   "metadata": {},
   "outputs": [],
   "source": []
  },
  {
   "cell_type": "code",
   "execution_count": null,
   "id": "f4d5a55f",
   "metadata": {},
   "outputs": [],
   "source": []
  },
  {
   "cell_type": "markdown",
   "id": "8f7fe49b",
   "metadata": {},
   "source": [
    "##### modules and library functions\n",
    "Modules are files containing Python code(variables,functions,classes e.t.c)\n",
    "They provide a way of organizing the code for large Python projects into files and folders.\n",
    "The benefit offered by modules is namespaces. a module or a specific function/class/variable from a module has to be imported before \n",
    "it can be used within a Python script or notebook.\n",
    "For rounding up our EMI amounts, ceil function can be used from the math module.\n",
    "Example round up 1.2"
   ]
  },
  {
   "cell_type": "code",
   "execution_count": 10,
   "id": "c836ec6f",
   "metadata": {},
   "outputs": [],
   "source": [
    "import math"
   ]
  },
  {
   "cell_type": "code",
   "execution_count": 11,
   "id": "c32dc3dd",
   "metadata": {},
   "outputs": [
    {
     "name": "stdout",
     "output_type": "stream",
     "text": [
      "Help on built-in function ceil in module math:\n",
      "\n",
      "ceil(x, /)\n",
      "    Return the ceiling of x as an Integral.\n",
      "    \n",
      "    This is the smallest integer >= x.\n",
      "\n"
     ]
    }
   ],
   "source": [
    "help(math.ceil)"
   ]
  },
  {
   "cell_type": "code",
   "execution_count": 12,
   "id": "22138c79",
   "metadata": {},
   "outputs": [
    {
     "data": {
      "text/plain": [
       "2"
      ]
     },
     "execution_count": 12,
     "metadata": {},
     "output_type": "execute_result"
    }
   ],
   "source": [
    "math.ceil(1.2)"
   ]
  },
  {
   "cell_type": "code",
   "execution_count": 13,
   "id": "904e3d95",
   "metadata": {},
   "outputs": [
    {
     "data": {
      "text/plain": [
       "5"
      ]
     },
     "execution_count": 13,
     "metadata": {},
     "output_type": "execute_result"
    }
   ],
   "source": [
    "math.ceil(4.5)"
   ]
  },
  {
   "cell_type": "code",
   "execution_count": null,
   "id": "155f37d2",
   "metadata": {},
   "outputs": [],
   "source": []
  },
  {
   "cell_type": "code",
   "execution_count": 32,
   "id": "58e7a90e",
   "metadata": {},
   "outputs": [],
   "source": [
    "def loan_emi(amount,rate,duration,down_payment=0):\n",
    "    loan_amount = amount - down_payment\n",
    "    emi = loan_amount*rate*((1+rate)**duration)/(((1+rate)**duration)-1)\n",
    "    emi = math.ceil(emi)\n",
    "    return emi"
   ]
  },
  {
   "cell_type": "code",
   "execution_count": null,
   "id": "9b4f3660",
   "metadata": {},
   "outputs": [],
   "source": []
  },
  {
   "cell_type": "code",
   "execution_count": 33,
   "id": "ca789c65",
   "metadata": {},
   "outputs": [],
   "source": [
    "emi1 = loan_emi(amount = 1260000,\n",
    "                duration = 8*12,\n",
    "                rate = 0.1/12,\n",
    "                down_payment = 300000\n",
    "\n",
    "\n",
    "\n",
    ")"
   ]
  },
  {
   "cell_type": "code",
   "execution_count": 34,
   "id": "8606c206",
   "metadata": {},
   "outputs": [
    {
     "data": {
      "text/plain": [
       "14568"
      ]
     },
     "execution_count": 34,
     "metadata": {},
     "output_type": "execute_result"
    }
   ],
   "source": [
    "emi1"
   ]
  },
  {
   "cell_type": "code",
   "execution_count": null,
   "id": "53f8c6b5",
   "metadata": {},
   "outputs": [],
   "source": []
  },
  {
   "cell_type": "code",
   "execution_count": 35,
   "id": "8f017ee6",
   "metadata": {},
   "outputs": [],
   "source": [
    "emi2 = loan_emi(amount=1260000,duration=10*12,rate=0.08/12)"
   ]
  },
  {
   "cell_type": "code",
   "execution_count": 36,
   "id": "56fcf97c",
   "metadata": {},
   "outputs": [
    {
     "data": {
      "text/plain": [
       "15288"
      ]
     },
     "execution_count": 36,
     "metadata": {},
     "output_type": "execute_result"
    }
   ],
   "source": [
    "emi2"
   ]
  },
  {
   "cell_type": "code",
   "execution_count": null,
   "id": "1f192eba",
   "metadata": {},
   "outputs": [],
   "source": []
  },
  {
   "cell_type": "markdown",
   "id": "6fae93bd",
   "metadata": {},
   "source": [
    "####### Let's compare the EMIs and display a message for the option with the lower EMI."
   ]
  },
  {
   "cell_type": "code",
   "execution_count": 40,
   "id": "1c4607f2",
   "metadata": {},
   "outputs": [
    {
     "name": "stdout",
     "output_type": "stream",
     "text": [
      "option 1 has lower EMI: $14568\n"
     ]
    }
   ],
   "source": [
    "if emi1 < emi2:\n",
    "    print(\"option 1 has lower EMI: ${}\".format(emi1))\n",
    "else:\n",
    "    print(\"option 2 has lower EMI: ${}\".format(emi2))\n"
   ]
  },
  {
   "cell_type": "code",
   "execution_count": null,
   "id": "571ca92e",
   "metadata": {},
   "outputs": [],
   "source": []
  },
  {
   "cell_type": "markdown",
   "id": "be00b5db",
   "metadata": {},
   "source": [
    "###### Reusing and improving functions"
   ]
  },
  {
   "cell_type": "code",
   "execution_count": null,
   "id": "1473f489",
   "metadata": {},
   "outputs": [],
   "source": [
    "Q: Tola is currently paying back a home loan for a house a few years ago.\n",
    "The cost of the house was $800000. Tola made a down payment of 25% of the cost and financed the remaining\n",
    "amount using 6-year loan with an interest rate of 7% per annum(compounded monthly).\n",
    "Tola is now buying a car worth $60000, which he is planning to finance using a 1-year loan with an interest rate of 12% per annum.\n",
    "Both loans are paid back in EMIs.\n",
    "What is the total monthly payment Tola makes towards loan repayment."
   ]
  },
  {
   "cell_type": "code",
   "execution_count": null,
   "id": "1fce1e49",
   "metadata": {},
   "outputs": [],
   "source": [
    "cost_of_house = 800000\n",
    "home_loan_duration = 6*12\n",
    "home_loan_rate = 0.07/12\n",
    "home_down_payment = 0.25*800000"
   ]
  },
  {
   "cell_type": "code",
   "execution_count": null,
   "id": "142a111a",
   "metadata": {},
   "outputs": [],
   "source": [
    "emi_house = loan_emi(cost_of_house,\n",
    "                     home_loan_duration,\n",
    "                     home_loan_rate,\n",
    "                     home_down_payment\n",
    "\n",
    ")"
   ]
  },
  {
   "cell_type": "code",
   "execution_count": null,
   "id": "d3987ee7",
   "metadata": {},
   "outputs": [],
   "source": []
  },
  {
   "cell_type": "code",
   "execution_count": null,
   "id": "974fd74a",
   "metadata": {},
   "outputs": [],
   "source": [
    "cost_of_car = 60000\n",
    "car_loan_duration = 1*12\n",
    "car_loan_rate = 0.12/12\n"
   ]
  },
  {
   "cell_type": "code",
   "execution_count": null,
   "id": "b9fe12e4",
   "metadata": {},
   "outputs": [],
   "source": [
    "emi_car = loan_emi(cost_of_car,\n",
    "                   car_loan_duration,\n",
    "                   car_loan_rate\n",
    "\n",
    ")"
   ]
  },
  {
   "cell_type": "code",
   "execution_count": null,
   "id": "bfd197e5",
   "metadata": {},
   "outputs": [],
   "source": []
  },
  {
   "cell_type": "code",
   "execution_count": null,
   "id": "1ab88cd5",
   "metadata": {},
   "outputs": [],
   "source": []
  },
  {
   "cell_type": "code",
   "execution_count": 41,
   "id": "6a2df9e8",
   "metadata": {},
   "outputs": [],
   "source": [
    "emi1 = loan_emi(amount = 800000,\n",
    "                duration = 6*12,\n",
    "                rate = 0.07/12,\n",
    "                down_payment = 0.25*8e5\n",
    ")"
   ]
  },
  {
   "cell_type": "code",
   "execution_count": 42,
   "id": "a4fa1600",
   "metadata": {},
   "outputs": [
    {
     "data": {
      "text/plain": [
       "10230"
      ]
     },
     "execution_count": 42,
     "metadata": {},
     "output_type": "execute_result"
    }
   ],
   "source": [
    "emi1"
   ]
  },
  {
   "cell_type": "code",
   "execution_count": null,
   "id": "6ac89ce3",
   "metadata": {},
   "outputs": [],
   "source": []
  },
  {
   "cell_type": "code",
   "execution_count": null,
   "id": "66c01a34",
   "metadata": {},
   "outputs": [],
   "source": []
  },
  {
   "cell_type": "code",
   "execution_count": 43,
   "id": "03565629",
   "metadata": {},
   "outputs": [],
   "source": [
    "emi2 = loan_emi(amount = 60000,\n",
    "                duration = 1*12,\n",
    "                rate = 0.12/12,\n",
    "\n",
    ")"
   ]
  },
  {
   "cell_type": "code",
   "execution_count": 44,
   "id": "b120a1fd",
   "metadata": {},
   "outputs": [
    {
     "data": {
      "text/plain": [
       "5331"
      ]
     },
     "execution_count": 44,
     "metadata": {},
     "output_type": "execute_result"
    }
   ],
   "source": [
    "emi2"
   ]
  },
  {
   "cell_type": "code",
   "execution_count": 49,
   "id": "9ae85169",
   "metadata": {},
   "outputs": [
    {
     "name": "stdout",
     "output_type": "stream",
     "text": [
      "Tola makes a total monthly payment of $15561 towards loan repayments\n"
     ]
    }
   ],
   "source": [
    "print(\"Tola makes a total monthly payment of ${} towards loan repayments\".format(emi1 + emi2))"
   ]
  },
  {
   "cell_type": "code",
   "execution_count": null,
   "id": "4f2b8779",
   "metadata": {},
   "outputs": [],
   "source": []
  },
  {
   "cell_type": "code",
   "execution_count": null,
   "id": "8e9dea6a",
   "metadata": {},
   "outputs": [],
   "source": []
  },
  {
   "cell_type": "code",
   "execution_count": 55,
   "id": "2566ba1c",
   "metadata": {},
   "outputs": [],
   "source": [
    "def loan_emi(amount,rate,duration,down_payment=0):\n",
    "    loan_amount = amount - down_payment\n",
    "    emi = loan_amount*rate*((1+rate)**duration)/(((1+rate)**duration)-1)\n",
    "    emi = math.ceil(emi)\n",
    "    return emi"
   ]
  },
  {
   "cell_type": "code",
   "execution_count": null,
   "id": "a8d2996f",
   "metadata": {},
   "outputs": [],
   "source": []
  },
  {
   "cell_type": "code",
   "execution_count": null,
   "id": "7de5780e",
   "metadata": {},
   "outputs": [],
   "source": []
  },
  {
   "cell_type": "code",
   "execution_count": null,
   "id": "8c8574b2",
   "metadata": {},
   "outputs": [],
   "source": []
  },
  {
   "cell_type": "markdown",
   "id": "e4ca9974",
   "metadata": {},
   "source": [
    "###### Q: If you borrow $100,000 using a 10-year loan with an interest rate of 9% per annum, what is the total amount you end up paying as interest?\n",
    "One way to solve this problem is to compare the EMIs for two loans: one with the given rate of interest, and another with a 0% rate of interest.\n",
    "The total interest paid is then simplify the sum of monthly differences over the duration of the loan."
   ]
  },
  {
   "cell_type": "code",
   "execution_count": 56,
   "id": "17824117",
   "metadata": {},
   "outputs": [],
   "source": [
    "emi_with_interest = loan_emi(amount=100000,duration=10*12,rate=0.09/12)"
   ]
  },
  {
   "cell_type": "code",
   "execution_count": 57,
   "id": "076a15c2",
   "metadata": {},
   "outputs": [
    {
     "data": {
      "text/plain": [
       "1267"
      ]
     },
     "execution_count": 57,
     "metadata": {},
     "output_type": "execute_result"
    }
   ],
   "source": [
    "emi_with_interest"
   ]
  },
  {
   "cell_type": "code",
   "execution_count": null,
   "id": "71cf6ddf",
   "metadata": {},
   "outputs": [],
   "source": []
  },
  {
   "cell_type": "markdown",
   "id": "615730dc",
   "metadata": {},
   "source": [
    "###### When an exception occurs in the code inside a try block, the rest of the statements in the block are skipped and except statement is executed."
   ]
  },
  {
   "cell_type": "code",
   "execution_count": 8,
   "id": "c9b32e9e",
   "metadata": {},
   "outputs": [],
   "source": [
    "def loan_emi(amount,rate,duration,down_payment=0):\n",
    "    loan_amount = amount - down_payment\n",
    "    try:\n",
    "        emi = loan_amount*rate*((1+rate)**duration)/(((1+rate)**duration)-1)\n",
    "    except ZeroDivisionError:\n",
    "        emi = loan_amount / duration\n",
    "        \n",
    "    emi = math.ceil(emi)\n",
    "    return emi"
   ]
  },
  {
   "cell_type": "code",
   "execution_count": null,
   "id": "9b46a083",
   "metadata": {},
   "outputs": [],
   "source": []
  },
  {
   "cell_type": "code",
   "execution_count": 9,
   "id": "4c949712",
   "metadata": {},
   "outputs": [
    {
     "name": "stdout",
     "output_type": "stream",
     "text": [
      "Now computing the result\n",
      "Failed to compute the result because you are trying to divide by zero\n",
      "None\n"
     ]
    }
   ],
   "source": [
    "try:\n",
    "    print(\"Now computing the result\")\n",
    "    result = 5/0\n",
    "    print(\"Computing was completed successfully...\")\n",
    "except ZeroDivisionError:\n",
    "    \n",
    "    print(\"Failed to compute the result because you are trying to divide by zero\")\n",
    "    result = None\n",
    "print(result)"
   ]
  },
  {
   "cell_type": "code",
   "execution_count": null,
   "id": "5987cb68",
   "metadata": {},
   "outputs": [],
   "source": []
  },
  {
   "cell_type": "code",
   "execution_count": 12,
   "id": "656f3de4",
   "metadata": {},
   "outputs": [],
   "source": [
    "def loan_emi(amount,rate,duration,down_payment=0):\n",
    "    loan_amount = amount - down_payment\n",
    "    try:\n",
    "        emi = loan_amount*rate*((1+rate)**duration)/(((1+rate)**duration)-1)\n",
    "    except ZeroDivisionError:\n",
    "        emi = loan_amount / duration\n",
    "        \n",
    "    emi = math.ceil(emi)\n",
    "    return emi"
   ]
  },
  {
   "cell_type": "code",
   "execution_count": 13,
   "id": "c902bc67",
   "metadata": {},
   "outputs": [
    {
     "ename": "NameError",
     "evalue": "name 'math' is not defined",
     "output_type": "error",
     "traceback": [
      "\u001b[1;31m---------------------------------------------------------------------------\u001b[0m",
      "\u001b[1;31mNameError\u001b[0m                                 Traceback (most recent call last)",
      "Cell \u001b[1;32mIn[13], line 1\u001b[0m\n\u001b[1;32m----> 1\u001b[0m emi_without_interest \u001b[38;5;241m=\u001b[39m \u001b[43mloan_emi\u001b[49m\u001b[43m(\u001b[49m\u001b[43mamount\u001b[49m\u001b[38;5;241;43m=\u001b[39;49m\u001b[38;5;241;43m100000\u001b[39;49m\u001b[43m,\u001b[49m\u001b[43m \u001b[49m\u001b[43mduration\u001b[49m\u001b[38;5;241;43m=\u001b[39;49m\u001b[38;5;241;43m10\u001b[39;49m\u001b[38;5;241;43m*\u001b[39;49m\u001b[38;5;241;43m12\u001b[39;49m\u001b[43m,\u001b[49m\u001b[43m \u001b[49m\u001b[43mrate\u001b[49m\u001b[38;5;241;43m=\u001b[39;49m\u001b[38;5;241;43m0\u001b[39;49m\u001b[38;5;241;43m/\u001b[39;49m\u001b[38;5;241;43m12\u001b[39;49m\u001b[43m)\u001b[49m\n",
      "Cell \u001b[1;32mIn[12], line 8\u001b[0m, in \u001b[0;36mloan_emi\u001b[1;34m(amount, rate, duration, down_payment)\u001b[0m\n\u001b[0;32m      5\u001b[0m \u001b[38;5;28;01mexcept\u001b[39;00m \u001b[38;5;167;01mZeroDivisionError\u001b[39;00m:\n\u001b[0;32m      6\u001b[0m     emi \u001b[38;5;241m=\u001b[39m loan_amount \u001b[38;5;241m/\u001b[39m duration\n\u001b[1;32m----> 8\u001b[0m emi \u001b[38;5;241m=\u001b[39m \u001b[43mmath\u001b[49m\u001b[38;5;241m.\u001b[39mceil(emi)\n\u001b[0;32m      9\u001b[0m \u001b[38;5;28;01mreturn\u001b[39;00m emi\n",
      "\u001b[1;31mNameError\u001b[0m: name 'math' is not defined"
     ]
    }
   ],
   "source": [
    "emi_without_interest = loan_emi(amount=100000, duration=10*12, rate=0/12)"
   ]
  },
  {
   "cell_type": "code",
   "execution_count": null,
   "id": "d67b5dd5",
   "metadata": {},
   "outputs": [],
   "source": []
  },
  {
   "cell_type": "markdown",
   "id": "9e9fc884",
   "metadata": {},
   "source": [
    "####### Documenting functions using Docstrings\n",
    "We can add some documentation within our function using a docstring.\n",
    "A docstring is simply a string that appears as the first statement within the function body.\n",
    "A good docstring describes what the function does and provides some explanation\n",
    "about the arguments."
   ]
  },
  {
   "cell_type": "code",
   "execution_count": 14,
   "id": "2546a23d",
   "metadata": {},
   "outputs": [],
   "source": [
    "def loan_emi(amount,rate,duration,down_payment=0):\n",
    "    \"\"\"Calculates the equal monthly installment (EMI) for a loan.\n",
    "\n",
    "    Arguments:\n",
    "        amount - Total amount to be spent (loan + down payment)\n",
    "        duration - Duration of the loan (in months)\n",
    "        rate - Rate of interest (monthly)\n",
    "        down_payment (optional) - optional initial payment (deducted from amount)\n",
    "    \"\"\"\n",
    "    \n",
    "    loan_amount = amount - down_payment\n",
    "    try:\n",
    "        emi = loan_amount*rate*((1+rate)**duration)/(((1+rate)**duration)-1)\n",
    "    except ZeroDivisionError:\n",
    "        emi = loan_amount / duration\n",
    "        \n",
    "    emi = math.ceil(emi)\n",
    "    return emi"
   ]
  },
  {
   "cell_type": "code",
   "execution_count": 15,
   "id": "82b85765",
   "metadata": {},
   "outputs": [
    {
     "name": "stdout",
     "output_type": "stream",
     "text": [
      "Help on function loan_emi in module __main__:\n",
      "\n",
      "loan_emi(amount, rate, duration, down_payment=0)\n",
      "    Calculates the equal monthly installment (EMI) for a loan.\n",
      "    \n",
      "    Arguments:\n",
      "        amount - Total amount to be spent (loan + down payment)\n",
      "        duration - Duration of the loan (in months)\n",
      "        rate - Rate of interest (monthly)\n",
      "        down_payment (optional) - optional initial payment (deducted from amount)\n",
      "\n"
     ]
    }
   ],
   "source": [
    "help(loan_emi)"
   ]
  },
  {
   "cell_type": "code",
   "execution_count": null,
   "id": "66248f6f",
   "metadata": {},
   "outputs": [],
   "source": []
  },
  {
   "cell_type": "code",
   "execution_count": null,
   "id": "922f7d00",
   "metadata": {},
   "outputs": [],
   "source": [
    "###### You are planning a leisure trip(vacation) and you need to decide which city you want to \n",
    "visit. You have shortlisted 4 cities and identified the cost of the return flight. daily hotel cost and a weekly\n",
    "car rental cost( a car has to be rented for full weeks, even if you return the car before a week ends)\n",
    "\n",
    "City    Return Flight($)  Hotel Per day($)               Weekly Car Rental($)\n",
    "\n",
    "Paris      200                     20                             200\n",
    "London     250                     30                             120\n",
    "Dubai      370                     15                              80\n",
    "Mumbai     450                     10                              70\n",
    "\n",
    "1. If you are planning 1-week long trip, which city should you visit to spend the least\n",
    "amount of money?\n",
    "2.How does the answer to the previous questions change if you change the duration of the trip\n",
    "to 4 days, 10 days or 2 weeks?\n",
    "3. if your total budget for the trip is $1000, which city should you visit to maximize the duration\n",
    "of your trip? which city should you visit to minimize the duration?\n",
    "4. How does the answer to the previous question change if your budget\n",
    "is $600, $2000 or $1500?\n",
    "\n",
    "Hints: To answer these questions, it will help to define a function cost_of_trip with \n",
    "relevant inputs like flight cost, hotel rate, car rental rate and duration of the trip.\n",
    "You may find the math.ceil function useful for calculating the cost of car rental."
   ]
  },
  {
   "cell_type": "code",
   "execution_count": null,
   "id": "7b3b1d5d",
   "metadata": {},
   "outputs": [],
   "source": [
    "flight_cost=200,\n",
    "hotel_rate=20*7,\n",
    "car_rental_rate=200,\n",
    "duration=7"
   ]
  },
  {
   "cell_type": "code",
   "execution_count": 10,
   "id": "3a6a1ea9",
   "metadata": {},
   "outputs": [],
   "source": [
    "import math"
   ]
  },
  {
   "cell_type": "code",
   "execution_count": 19,
   "id": "8a1f6db0",
   "metadata": {},
   "outputs": [],
   "source": [
    "def cost_of_trip(flight_cost,hotel_rate,car_rental_rate,duration):\n",
    "    trip = flight_cost*hotel_rate*((1+hotel_rate)**duration)/(((1+car_rental_rate)**duration)-1)\n",
    "    trip = math.ceil(trip)\n",
    "    return trip"
   ]
  },
  {
   "cell_type": "code",
   "execution_count": 20,
   "id": "9a13efb5",
   "metadata": {},
   "outputs": [],
   "source": [
    "paris_trip = cost_of_trip(flight_cost=200,\n",
    "                         hotel_rate=20*7,\n",
    "                         car_rental_rate=200,\n",
    "                         duration=7\n",
    ")"
   ]
  },
  {
   "cell_type": "code",
   "execution_count": 21,
   "id": "7cfdcdea",
   "metadata": {},
   "outputs": [
    {
     "data": {
      "text/plain": [
       "2341"
      ]
     },
     "execution_count": 21,
     "metadata": {},
     "output_type": "execute_result"
    }
   ],
   "source": [
    "paris_trip"
   ]
  },
  {
   "cell_type": "code",
   "execution_count": null,
   "id": "74cf387c",
   "metadata": {},
   "outputs": [],
   "source": []
  },
  {
   "cell_type": "code",
   "execution_count": 22,
   "id": "582f2de7",
   "metadata": {},
   "outputs": [],
   "source": [
    "london_trip = cost_of_trip(flight_cost=250,\n",
    "                         hotel_rate=30*7,\n",
    "                         car_rental_rate=120,\n",
    "                         duration=7\n",
    ")"
   ]
  },
  {
   "cell_type": "code",
   "execution_count": 23,
   "id": "a77791d4",
   "metadata": {},
   "outputs": [
    {
     "data": {
      "text/plain": [
       "2574180"
      ]
     },
     "execution_count": 23,
     "metadata": {},
     "output_type": "execute_result"
    }
   ],
   "source": [
    "london_trip"
   ]
  },
  {
   "cell_type": "code",
   "execution_count": null,
   "id": "c9941990",
   "metadata": {},
   "outputs": [],
   "source": []
  },
  {
   "cell_type": "code",
   "execution_count": 24,
   "id": "4460cd6d",
   "metadata": {},
   "outputs": [],
   "source": [
    "Dubai_trip = cost_of_trip(flight_cost=370,\n",
    "                         hotel_rate=15*7,\n",
    "                         car_rental_rate=80,\n",
    "                         duration=7\n",
    ")"
   ]
  },
  {
   "cell_type": "code",
   "execution_count": 25,
   "id": "f62c6ac2",
   "metadata": {},
   "outputs": [
    {
     "data": {
      "text/plain": [
       "255351"
      ]
     },
     "execution_count": 25,
     "metadata": {},
     "output_type": "execute_result"
    }
   ],
   "source": [
    "Dubai_trip"
   ]
  },
  {
   "cell_type": "code",
   "execution_count": null,
   "id": "ae335c8b",
   "metadata": {},
   "outputs": [],
   "source": []
  },
  {
   "cell_type": "code",
   "execution_count": 26,
   "id": "cccf79f3",
   "metadata": {},
   "outputs": [],
   "source": [
    "Mumbai_trip = cost_of_trip(flight_cost=450,\n",
    "                         hotel_rate=10*7,\n",
    "                         car_rental_rate=70,\n",
    "                         duration=7\n",
    ")"
   ]
  },
  {
   "cell_type": "code",
   "execution_count": 27,
   "id": "41ae8e34",
   "metadata": {},
   "outputs": [
    {
     "data": {
      "text/plain": [
       "31501"
      ]
     },
     "execution_count": 27,
     "metadata": {},
     "output_type": "execute_result"
    }
   ],
   "source": [
    "Mumbai_trip"
   ]
  },
  {
   "cell_type": "code",
   "execution_count": null,
   "id": "238e6d36",
   "metadata": {},
   "outputs": [],
   "source": []
  },
  {
   "cell_type": "code",
   "execution_count": null,
   "id": "c8d445d5",
   "metadata": {},
   "outputs": [],
   "source": [
    "######  change the duration of the trip to 4 days, 10 days or 2 weeks?"
   ]
  },
  {
   "cell_type": "code",
   "execution_count": 28,
   "id": "df2daf60",
   "metadata": {},
   "outputs": [],
   "source": [
    "###### 4 days trip to paris\n",
    "paris_trip = cost_of_trip(flight_cost=200,\n",
    "                         hotel_rate=20*4,\n",
    "                         car_rental_rate=200,\n",
    "                         duration=4\n",
    ")"
   ]
  },
  {
   "cell_type": "code",
   "execution_count": 29,
   "id": "383145e3",
   "metadata": {},
   "outputs": [
    {
     "data": {
      "text/plain": [
       "422"
      ]
     },
     "execution_count": 29,
     "metadata": {},
     "output_type": "execute_result"
    }
   ],
   "source": [
    "paris_trip"
   ]
  },
  {
   "cell_type": "code",
   "execution_count": null,
   "id": "9d8d8061",
   "metadata": {},
   "outputs": [],
   "source": []
  },
  {
   "cell_type": "code",
   "execution_count": 30,
   "id": "4325d44c",
   "metadata": {},
   "outputs": [],
   "source": [
    "###### 10 days trip to paris\n",
    "paris_trip = cost_of_trip(flight_cost=200,\n",
    "                         hotel_rate=20*10,\n",
    "                         car_rental_rate=200,\n",
    "                         duration=10\n",
    ")"
   ]
  },
  {
   "cell_type": "code",
   "execution_count": 31,
   "id": "380d81c5",
   "metadata": {},
   "outputs": [
    {
     "data": {
      "text/plain": [
       "40000"
      ]
     },
     "execution_count": 31,
     "metadata": {},
     "output_type": "execute_result"
    }
   ],
   "source": [
    "paris_trip"
   ]
  },
  {
   "cell_type": "code",
   "execution_count": null,
   "id": "85887465",
   "metadata": {},
   "outputs": [],
   "source": []
  },
  {
   "cell_type": "code",
   "execution_count": 32,
   "id": "f0aae96a",
   "metadata": {},
   "outputs": [],
   "source": [
    "#### 2 weeks trip to paris\n",
    "paris_trip = cost_of_trip(flight_cost=200,\n",
    "                         hotel_rate=20*14,\n",
    "                         car_rental_rate=200,\n",
    "                         duration=14\n",
    ")"
   ]
  },
  {
   "cell_type": "code",
   "execution_count": 33,
   "id": "e9fa63e5",
   "metadata": {},
   "outputs": [
    {
     "data": {
      "text/plain": [
       "6100027"
      ]
     },
     "execution_count": 33,
     "metadata": {},
     "output_type": "execute_result"
    }
   ],
   "source": [
    "paris_trip"
   ]
  },
  {
   "cell_type": "code",
   "execution_count": null,
   "id": "9d58da80",
   "metadata": {},
   "outputs": [],
   "source": []
  },
  {
   "cell_type": "code",
   "execution_count": null,
   "id": "41b694cd",
   "metadata": {},
   "outputs": [],
   "source": []
  },
  {
   "cell_type": "code",
   "execution_count": null,
   "id": "0b62fa89",
   "metadata": {},
   "outputs": [],
   "source": []
  },
  {
   "cell_type": "code",
   "execution_count": null,
   "id": "1e0c42d1",
   "metadata": {},
   "outputs": [],
   "source": []
  },
  {
   "cell_type": "code",
   "execution_count": null,
   "id": "25f58ca1",
   "metadata": {},
   "outputs": [],
   "source": []
  },
  {
   "cell_type": "code",
   "execution_count": null,
   "id": "968eb9e5",
   "metadata": {},
   "outputs": [],
   "source": []
  },
  {
   "cell_type": "code",
   "execution_count": null,
   "id": "0b6be7c2",
   "metadata": {},
   "outputs": [],
   "source": []
  }
 ],
 "metadata": {
  "kernelspec": {
   "display_name": "Python 3 (ipykernel)",
   "language": "python",
   "name": "python3"
  },
  "language_info": {
   "codemirror_mode": {
    "name": "ipython",
    "version": 3
   },
   "file_extension": ".py",
   "mimetype": "text/x-python",
   "name": "python",
   "nbconvert_exporter": "python",
   "pygments_lexer": "ipython3",
   "version": "3.10.9"
  }
 },
 "nbformat": 4,
 "nbformat_minor": 5
}
