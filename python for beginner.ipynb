{
 "cells": [
  {
   "cell_type": "code",
   "execution_count": 1,
   "id": "0ea6e842",
   "metadata": {},
   "outputs": [
    {
     "data": {
      "text/plain": [
       "14"
      ]
     },
     "execution_count": 1,
     "metadata": {},
     "output_type": "execute_result"
    }
   ],
   "source": [
    "2+3+4+5"
   ]
  },
  {
   "cell_type": "code",
   "execution_count": 2,
   "id": "aadaa4aa",
   "metadata": {},
   "outputs": [
    {
     "data": {
      "text/plain": [
       "5.0"
      ]
     },
     "execution_count": 2,
     "metadata": {},
     "output_type": "execute_result"
    }
   ],
   "source": [
    "10/2"
   ]
  },
  {
   "cell_type": "code",
   "execution_count": 3,
   "id": "3f1c3273",
   "metadata": {},
   "outputs": [
    {
     "data": {
      "text/plain": [
       "14.285714285714286"
      ]
     },
     "execution_count": 3,
     "metadata": {},
     "output_type": "execute_result"
    }
   ],
   "source": [
    "100/7"
   ]
  },
  {
   "cell_type": "code",
   "execution_count": 4,
   "id": "8218b581",
   "metadata": {},
   "outputs": [
    {
     "data": {
      "text/plain": [
       "1"
      ]
     },
     "execution_count": 4,
     "metadata": {},
     "output_type": "execute_result"
    }
   ],
   "source": [
    "10//7"
   ]
  },
  {
   "cell_type": "code",
   "execution_count": 32,
   "id": "4b7dc392",
   "metadata": {},
   "outputs": [
    {
     "data": {
      "text/plain": [
       "14"
      ]
     },
     "execution_count": 32,
     "metadata": {},
     "output_type": "execute_result"
    }
   ],
   "source": [
    "#### if you don't want any decimal you use //\n",
    "\n",
    "100//7"
   ]
  },
  {
   "cell_type": "code",
   "execution_count": 33,
   "id": "8c768a47",
   "metadata": {},
   "outputs": [
    {
     "data": {
      "text/plain": [
       "2"
      ]
     },
     "execution_count": 33,
     "metadata": {},
     "output_type": "execute_result"
    }
   ],
   "source": [
    "#### if you want to know remainder(modulus) you use %\n",
    "100%7"
   ]
  },
  {
   "cell_type": "code",
   "execution_count": 7,
   "id": "cbb98854",
   "metadata": {},
   "outputs": [
    {
     "data": {
      "text/plain": [
       "100"
      ]
     },
     "execution_count": 7,
     "metadata": {},
     "output_type": "execute_result"
    }
   ],
   "source": [
    "2+14*7"
   ]
  },
  {
   "cell_type": "code",
   "execution_count": 8,
   "id": "66e93c46",
   "metadata": {},
   "outputs": [
    {
     "data": {
      "text/plain": [
       "243"
      ]
     },
     "execution_count": 8,
     "metadata": {},
     "output_type": "execute_result"
    }
   ],
   "source": [
    "#exponential operator Raise to power\n",
    "\n",
    "3**5\n",
    "\n"
   ]
  },
  {
   "cell_type": "code",
   "execution_count": 34,
   "id": "dcd38d48",
   "metadata": {},
   "outputs": [
    {
     "data": {
      "text/plain": [
       "1.53125"
      ]
     },
     "execution_count": 34,
     "metadata": {},
     "output_type": "execute_result"
    }
   ],
   "source": [
    "#### operators like /(division) and *(multiplication) take precedence over the minus(-) and plus(-)\n",
    "#you can also use parenthesis () to specify the order in which operations are performed.\n",
    "\n",
    "((2+5) * (17-3)) / (4**3)\n",
    "\n",
    "\n"
   ]
  },
  {
   "cell_type": "code",
   "execution_count": null,
   "id": "daaef0e4",
   "metadata": {},
   "outputs": [],
   "source": []
  },
  {
   "cell_type": "code",
   "execution_count": null,
   "id": "47374f41",
   "metadata": {},
   "outputs": [],
   "source": []
  },
  {
   "cell_type": "code",
   "execution_count": null,
   "id": "86be78f0",
   "metadata": {},
   "outputs": [],
   "source": [
    "#Solving multi-step problems using variables.\n",
    "Ex-1. A grocery store sells a bag of ice for $1.25 and makes 20% profit. if it sells 500bags of ice, how much total profit does it make?\n",
    "List out the information provided and convert the word problem into a mathematical expression which can be evaluated using python.\n",
    "\n",
    "cost of ice bag($) = 1.25\n",
    "profit marging = 20% == .2\n",
    "profit per bag($) = profit margin * cost of ice bag = .2*1.25\n",
    "No of bags = 500\n",
    "Total profit = no of bags * profit per bag = 500 *(.2*1.25)"
   ]
  },
  {
   "cell_type": "code",
   "execution_count": null,
   "id": "0334a485",
   "metadata": {},
   "outputs": [],
   "source": [
    "cost_of_ice_bag = 1.25\n"
   ]
  },
  {
   "cell_type": "code",
   "execution_count": null,
   "id": "e3590176",
   "metadata": {},
   "outputs": [],
   "source": [
    "profit_margin = .2"
   ]
  },
  {
   "cell_type": "code",
   "execution_count": null,
   "id": "891e5eb5",
   "metadata": {},
   "outputs": [],
   "source": [
    "Number_of_bags = 500"
   ]
  },
  {
   "cell_type": "code",
   "execution_count": 16,
   "id": "08da242f",
   "metadata": {},
   "outputs": [],
   "source": [
    "profit_per_bag = profit_margin * cost_of_ice_bag"
   ]
  },
  {
   "cell_type": "code",
   "execution_count": 26,
   "id": "cda3be99",
   "metadata": {},
   "outputs": [
    {
     "data": {
      "text/plain": [
       "0.25"
      ]
     },
     "execution_count": 26,
     "metadata": {},
     "output_type": "execute_result"
    }
   ],
   "source": [
    "profit_per_bag"
   ]
  },
  {
   "cell_type": "code",
   "execution_count": null,
   "id": "247b4206",
   "metadata": {},
   "outputs": [],
   "source": []
  },
  {
   "cell_type": "code",
   "execution_count": null,
   "id": "b6f45cb4",
   "metadata": {},
   "outputs": [],
   "source": [
    "Total_profit = Number_of_bags * profit_per_bag"
   ]
  },
  {
   "cell_type": "code",
   "execution_count": 27,
   "id": "3f89a3f3",
   "metadata": {},
   "outputs": [
    {
     "data": {
      "text/plain": [
       "125.0"
      ]
     },
     "execution_count": 27,
     "metadata": {},
     "output_type": "execute_result"
    }
   ],
   "source": [
    "Total_profit"
   ]
  },
  {
   "cell_type": "code",
   "execution_count": 35,
   "id": "bd014b9b",
   "metadata": {},
   "outputs": [
    {
     "name": "stdout",
     "output_type": "stream",
     "text": [
      "The grocery store make total profit of $ 125.0\n"
     ]
    }
   ],
   "source": [
    "#### Now use the print function with parenthesis() and double qoute \"\"(if it is sentence) to display the total profit of the grocery store\n",
    "\n",
    "print(\"The grocery store make total profit of $\", Total_profit)"
   ]
  },
  {
   "cell_type": "code",
   "execution_count": null,
   "id": "5dccd098",
   "metadata": {},
   "outputs": [],
   "source": [
    "#### Creating code for each variables on different cells might be tedious, But jupiter allow multiple lines of codes within a single cell\n",
    "\n",
    "\n",
    "#### Input store data in variables\n",
    "cost_of_ice_bag = 1.25\n",
    "profit_margin   = .2\n",
    "number_of_bags  = 500\n",
    "\n",
    "#### Perform the required calculation\n",
    "profit_per_bag = cost_of_ice_bag * profit_margin\n",
    "Total_profit   = number_of_bags * profit_per_bag\n",
    "\n",
    "#### Display the result\n",
    "print(\"The grocery store make total profit of $\", Total_profit)\n"
   ]
  },
  {
   "cell_type": "code",
   "execution_count": null,
   "id": "10b8f9a8",
   "metadata": {},
   "outputs": [],
   "source": []
  },
  {
   "cell_type": "markdown",
   "id": "5679c82c",
   "metadata": {},
   "source": [
    "#### Evaluating conditions using python. python also provides several operations for comparing numbers and variables. such as ==, !=(not equal to).\n",
    "The result of a comparison operation is either True or False (must be in upper case)\n"
   ]
  },
  {
   "cell_type": "code",
   "execution_count": null,
   "id": "5050e517",
   "metadata": {},
   "outputs": [],
   "source": []
  },
  {
   "cell_type": "markdown",
   "id": "0de5f1f5",
   "metadata": {},
   "source": [
    "**The result of a comparison**   ## make test bold using ** on markdown mode\n",
    "*is either True or False*        ## make test italic using * on markdown mode\n",
    "\n",
    "[this is a link]:(https://abd.ml)  <<< link creation under markdown\n",
    "\n",
    "Images are done the same way as links but with an exclamation point in front! \n",
    "\n",
    "![]:(https://abd.com/6ndxl.png)\n",
    "\n",
    "\n",
    "\n",
    "\n",
    "\n",
    " \n"
   ]
  },
  {
   "cell_type": "code",
   "execution_count": null,
   "id": "230f4ccd",
   "metadata": {},
   "outputs": [],
   "source": []
  },
  {
   "cell_type": "code",
   "execution_count": null,
   "id": "29a87257",
   "metadata": {},
   "outputs": [],
   "source": []
  },
  {
   "cell_type": "code",
   "execution_count": null,
   "id": "b50e5b3f",
   "metadata": {},
   "outputs": [],
   "source": []
  }
 ],
 "metadata": {
  "kernelspec": {
   "display_name": "Python 3 (ipykernel)",
   "language": "python",
   "name": "python3"
  },
  "language_info": {
   "codemirror_mode": {
    "name": "ipython",
    "version": 3
   },
   "file_extension": ".py",
   "mimetype": "text/x-python",
   "name": "python",
   "nbconvert_exporter": "python",
   "pygments_lexer": "ipython3",
   "version": "3.10.9"
  }
 },
 "nbformat": 4,
 "nbformat_minor": 5
}
