{
 "cells": [
  {
   "cell_type": "markdown",
   "id": "5fb2b4ec",
   "metadata": {},
   "source": [
    "#### Storing information using variables. Computers are useful for two purposes, storing information and performing operations on stored information. While working with a programing language such as Python, information is stored in variables. You can think of variables as containers for storing data and the data stored within a variable is called it's value"
   ]
  },
  {
   "cell_type": "code",
   "execution_count": 20,
   "id": "547c4767",
   "metadata": {},
   "outputs": [],
   "source": [
    "my_favorite_color = \"Purple\"     ### make sure you run this code to jump to another cell, don't just move to another cell without executing this particular cell"
   ]
  },
  {
   "cell_type": "code",
   "execution_count": 21,
   "id": "6b51994c",
   "metadata": {},
   "outputs": [
    {
     "data": {
      "text/plain": [
       "'Purple'"
      ]
     },
     "execution_count": 21,
     "metadata": {},
     "output_type": "execute_result"
    }
   ],
   "source": [
    "my_favorite_color"
   ]
  },
  {
   "cell_type": "code",
   "execution_count": null,
   "id": "37598c20",
   "metadata": {},
   "outputs": [],
   "source": []
  },
  {
   "cell_type": "code",
   "execution_count": 12,
   "id": "da917fde",
   "metadata": {},
   "outputs": [],
   "source": [
    "color1, color2, color3, color4 = \"Red\",\"Blue\", \"Yellow\",\"Pink\""
   ]
  },
  {
   "cell_type": "code",
   "execution_count": 13,
   "id": "cdac3e93",
   "metadata": {},
   "outputs": [
    {
     "data": {
      "text/plain": [
       "'Red'"
      ]
     },
     "execution_count": 13,
     "metadata": {},
     "output_type": "execute_result"
    }
   ],
   "source": [
    "color1"
   ]
  },
  {
   "cell_type": "code",
   "execution_count": 14,
   "id": "a2e7667e",
   "metadata": {},
   "outputs": [
    {
     "data": {
      "text/plain": [
       "'Blue'"
      ]
     },
     "execution_count": 14,
     "metadata": {},
     "output_type": "execute_result"
    }
   ],
   "source": [
    "color2"
   ]
  },
  {
   "cell_type": "code",
   "execution_count": 15,
   "id": "bc45201d",
   "metadata": {},
   "outputs": [
    {
     "data": {
      "text/plain": [
       "'Yellow'"
      ]
     },
     "execution_count": 15,
     "metadata": {},
     "output_type": "execute_result"
    }
   ],
   "source": [
    "color3"
   ]
  },
  {
   "cell_type": "code",
   "execution_count": 16,
   "id": "f9793487",
   "metadata": {},
   "outputs": [
    {
     "data": {
      "text/plain": [
       "'Pink'"
      ]
     },
     "execution_count": 16,
     "metadata": {},
     "output_type": "execute_result"
    }
   ],
   "source": [
    "color4"
   ]
  },
  {
   "cell_type": "code",
   "execution_count": null,
   "id": "2c0f8d75",
   "metadata": {},
   "outputs": [],
   "source": []
  },
  {
   "cell_type": "code",
   "execution_count": null,
   "id": "dbea431d",
   "metadata": {},
   "outputs": [],
   "source": []
  },
  {
   "cell_type": "code",
   "execution_count": 50,
   "id": "3a81ece4",
   "metadata": {},
   "outputs": [],
   "source": [
    "color5 = color6 = color7 = color8 = \"white\""
   ]
  },
  {
   "cell_type": "code",
   "execution_count": 51,
   "id": "b368f2ad",
   "metadata": {},
   "outputs": [
    {
     "data": {
      "text/plain": [
       "'white'"
      ]
     },
     "execution_count": 51,
     "metadata": {},
     "output_type": "execute_result"
    }
   ],
   "source": [
    "color5"
   ]
  },
  {
   "cell_type": "code",
   "execution_count": 52,
   "id": "4d0fd30f",
   "metadata": {},
   "outputs": [
    {
     "data": {
      "text/plain": [
       "'white'"
      ]
     },
     "execution_count": 52,
     "metadata": {},
     "output_type": "execute_result"
    }
   ],
   "source": [
    "color6"
   ]
  },
  {
   "cell_type": "code",
   "execution_count": 53,
   "id": "6f05d395",
   "metadata": {},
   "outputs": [
    {
     "data": {
      "text/plain": [
       "'white'"
      ]
     },
     "execution_count": 53,
     "metadata": {},
     "output_type": "execute_result"
    }
   ],
   "source": [
    "color7"
   ]
  },
  {
   "cell_type": "code",
   "execution_count": 54,
   "id": "af1839f1",
   "metadata": {},
   "outputs": [
    {
     "data": {
      "text/plain": [
       "'white'"
      ]
     },
     "execution_count": 54,
     "metadata": {},
     "output_type": "execute_result"
    }
   ],
   "source": [
    "color8"
   ]
  },
  {
   "cell_type": "markdown",
   "id": "bc13bd11",
   "metadata": {},
   "source": [
    "#### while assigning a new value to a variable, you can also use the previous value of the variable to determine the new value. "
   ]
  },
  {
   "cell_type": "code",
   "execution_count": 22,
   "id": "dce257bf",
   "metadata": {},
   "outputs": [],
   "source": [
    "counter = 10"
   ]
  },
  {
   "cell_type": "code",
   "execution_count": 23,
   "id": "02d21d37",
   "metadata": {},
   "outputs": [],
   "source": [
    "counter = counter + 1"
   ]
  },
  {
   "cell_type": "code",
   "execution_count": 24,
   "id": "60d750cf",
   "metadata": {},
   "outputs": [
    {
     "data": {
      "text/plain": [
       "11"
      ]
     },
     "execution_count": 24,
     "metadata": {},
     "output_type": "execute_result"
    }
   ],
   "source": [
    "counter"
   ]
  },
  {
   "cell_type": "code",
   "execution_count": null,
   "id": "d7baf9c9",
   "metadata": {},
   "outputs": [],
   "source": []
  },
  {
   "cell_type": "code",
   "execution_count": null,
   "id": "7cecea7e",
   "metadata": {},
   "outputs": [],
   "source": []
  },
  {
   "cell_type": "markdown",
   "id": "4bafd046",
   "metadata": {},
   "source": [
    "#### The pattern var(variable) = var op(operator) something (where op is an arithmetic operator like +, -, *, / ) is very commonly used. Python provides a shorthand syntax for it."
   ]
  },
  {
   "cell_type": "code",
   "execution_count": 25,
   "id": "8f224275",
   "metadata": {},
   "outputs": [],
   "source": [
    "counter = 10"
   ]
  },
  {
   "cell_type": "code",
   "execution_count": 26,
   "id": "7eed021c",
   "metadata": {},
   "outputs": [],
   "source": [
    "counter += 4     ## is the same as counter = counter + 4"
   ]
  },
  {
   "cell_type": "code",
   "execution_count": 27,
   "id": "d4a16a2e",
   "metadata": {},
   "outputs": [
    {
     "data": {
      "text/plain": [
       "14"
      ]
     },
     "execution_count": 27,
     "metadata": {},
     "output_type": "execute_result"
    }
   ],
   "source": [
    "counter "
   ]
  },
  {
   "cell_type": "code",
   "execution_count": null,
   "id": "3a60e781",
   "metadata": {},
   "outputs": [],
   "source": []
  },
  {
   "cell_type": "code",
   "execution_count": null,
   "id": "55a34c2e",
   "metadata": {},
   "outputs": [],
   "source": []
  },
  {
   "cell_type": "markdown",
   "id": "ce04596b",
   "metadata": {},
   "source": [
    "##### Variable names can be short such as (a, x, y etc) or descriptive(my_favorite_color, profit_margin, the_3_musketeers etc.). However, you must follow these rules while naming Python variables.\n",
    "\n",
    "##### A variable's name must start with a letter or the underscore character _. it cannot start with a number.\n",
    "##### A variable name can only contain lowercase or uppercase letters, digits or underscores (a - z, A - Z, 0 - 9 and _)\n",
    "##### Variable names are case sensitive i.e. a_variable, A_Variable and A_VARIABLE are all different variables."
   ]
  },
  {
   "cell_type": "code",
   "execution_count": 32,
   "id": "f5e44920",
   "metadata": {},
   "outputs": [],
   "source": [
    "### here are the valid examples of variables name\n",
    "\n",
    "a_variable = 23\n",
    "\n",
    "is_today_saturday = False\n",
    "\n",
    "my_favorite_car = \"Honda Civic\"\n",
    "\n",
    "the_3_musketers = [\"panthos\", \"landos\", \"aramex\"]\n"
   ]
  },
  {
   "cell_type": "code",
   "execution_count": null,
   "id": "492fd8e4",
   "metadata": {},
   "outputs": [],
   "source": []
  },
  {
   "cell_type": "code",
   "execution_count": null,
   "id": "64a842b4",
   "metadata": {},
   "outputs": [],
   "source": []
  },
  {
   "cell_type": "markdown",
   "id": "7815acbe",
   "metadata": {},
   "source": [
    "##### Built-in Data types in Python\n",
    "*Any data or information stored within a Python variable has a type. The type of data stored within a variable can be checked using the type function*"
   ]
  },
  {
   "cell_type": "code",
   "execution_count": 34,
   "id": "460f7648",
   "metadata": {},
   "outputs": [
    {
     "data": {
      "text/plain": [
       "23"
      ]
     },
     "execution_count": 34,
     "metadata": {},
     "output_type": "execute_result"
    }
   ],
   "source": [
    "a_variable\n"
   ]
  },
  {
   "cell_type": "code",
   "execution_count": 35,
   "id": "bad30b3a",
   "metadata": {},
   "outputs": [
    {
     "data": {
      "text/plain": [
       "int"
      ]
     },
     "execution_count": 35,
     "metadata": {},
     "output_type": "execute_result"
    }
   ],
   "source": [
    "type(a_variable)"
   ]
  },
  {
   "cell_type": "code",
   "execution_count": 36,
   "id": "80c708f5",
   "metadata": {},
   "outputs": [
    {
     "data": {
      "text/plain": [
       "False"
      ]
     },
     "execution_count": 36,
     "metadata": {},
     "output_type": "execute_result"
    }
   ],
   "source": [
    "is_today_saturday"
   ]
  },
  {
   "cell_type": "code",
   "execution_count": 37,
   "id": "ffaf5f3c",
   "metadata": {},
   "outputs": [
    {
     "data": {
      "text/plain": [
       "bool"
      ]
     },
     "execution_count": 37,
     "metadata": {},
     "output_type": "execute_result"
    }
   ],
   "source": [
    "type(is_today_saturday)\n"
   ]
  },
  {
   "cell_type": "code",
   "execution_count": 38,
   "id": "d0110a8b",
   "metadata": {},
   "outputs": [
    {
     "data": {
      "text/plain": [
       "'Honda Civic'"
      ]
     },
     "execution_count": 38,
     "metadata": {},
     "output_type": "execute_result"
    }
   ],
   "source": [
    "my_favorite_car"
   ]
  },
  {
   "cell_type": "code",
   "execution_count": 39,
   "id": "6f4aa180",
   "metadata": {},
   "outputs": [
    {
     "data": {
      "text/plain": [
       "str"
      ]
     },
     "execution_count": 39,
     "metadata": {},
     "output_type": "execute_result"
    }
   ],
   "source": [
    "type(my_favorite_car)"
   ]
  },
  {
   "cell_type": "code",
   "execution_count": 40,
   "id": "b2b8c37b",
   "metadata": {},
   "outputs": [
    {
     "data": {
      "text/plain": [
       "['panthos', 'landos', 'aramex']"
      ]
     },
     "execution_count": 40,
     "metadata": {},
     "output_type": "execute_result"
    }
   ],
   "source": [
    "the_3_musketers"
   ]
  },
  {
   "cell_type": "code",
   "execution_count": 41,
   "id": "bf429bb6",
   "metadata": {},
   "outputs": [
    {
     "data": {
      "text/plain": [
       "list"
      ]
     },
     "execution_count": 41,
     "metadata": {},
     "output_type": "execute_result"
    }
   ],
   "source": [
    "type(the_3_musketers)\n"
   ]
  },
  {
   "cell_type": "code",
   "execution_count": null,
   "id": "74b62379",
   "metadata": {},
   "outputs": [],
   "source": []
  },
  {
   "cell_type": "code",
   "execution_count": null,
   "id": "1a8058b8",
   "metadata": {},
   "outputs": [],
   "source": []
  },
  {
   "cell_type": "markdown",
   "id": "da1d5c42",
   "metadata": {},
   "source": [
    "###### Python has several built-in data types for storing different types of information in variables.\n",
    "Following are some commonly used data types:\n",
    "\n",
    "**Integer, Float, Boolean, None, String, List, Tuple, Dictionary.\n",
    "(Integer,float,boolean,none and string are primitive data types because they represent a single value while other data types such as list,tuplet and dictionary are often called data structures or containers because they hold multiple pieces of data together)**"
   ]
  },
  {
   "cell_type": "markdown",
   "id": "b1236a5a",
   "metadata": {},
   "source": [
    "###### Integers represent positive or negative whole numbers, from negative infinity to infinity. note integers should not include decimal points. Integers have the type int."
   ]
  },
  {
   "cell_type": "code",
   "execution_count": 42,
   "id": "fce97435",
   "metadata": {},
   "outputs": [],
   "source": [
    "current_year = 2022"
   ]
  },
  {
   "cell_type": "code",
   "execution_count": 43,
   "id": "752e78fe",
   "metadata": {},
   "outputs": [
    {
     "data": {
      "text/plain": [
       "2022"
      ]
     },
     "execution_count": 43,
     "metadata": {},
     "output_type": "execute_result"
    }
   ],
   "source": [
    "current_year"
   ]
  },
  {
   "cell_type": "code",
   "execution_count": 44,
   "id": "7a4eaba7",
   "metadata": {},
   "outputs": [
    {
     "data": {
      "text/plain": [
       "int"
      ]
     },
     "execution_count": 44,
     "metadata": {},
     "output_type": "execute_result"
    }
   ],
   "source": [
    "type(current_year)"
   ]
  },
  {
   "cell_type": "code",
   "execution_count": null,
   "id": "4232ff76",
   "metadata": {},
   "outputs": [],
   "source": []
  },
  {
   "cell_type": "code",
   "execution_count": 45,
   "id": "54f83561",
   "metadata": {},
   "outputs": [],
   "source": [
    "a_large_negative_number = -36478939087638930292892929387729292929292"
   ]
  },
  {
   "cell_type": "code",
   "execution_count": 46,
   "id": "7df50301",
   "metadata": {},
   "outputs": [
    {
     "data": {
      "text/plain": [
       "-36478939087638930292892929387729292929292"
      ]
     },
     "execution_count": 46,
     "metadata": {},
     "output_type": "execute_result"
    }
   ],
   "source": [
    "a_large_negative_number"
   ]
  },
  {
   "cell_type": "code",
   "execution_count": 47,
   "id": "188da2f6",
   "metadata": {},
   "outputs": [
    {
     "data": {
      "text/plain": [
       "int"
      ]
     },
     "execution_count": 47,
     "metadata": {},
     "output_type": "execute_result"
    }
   ],
   "source": [
    "type(a_large_negative_number)"
   ]
  },
  {
   "cell_type": "code",
   "execution_count": null,
   "id": "04c6caf1",
   "metadata": {},
   "outputs": [],
   "source": []
  },
  {
   "cell_type": "code",
   "execution_count": null,
   "id": "6befa911",
   "metadata": {},
   "outputs": [],
   "source": []
  },
  {
   "cell_type": "markdown",
   "id": "a22f2077",
   "metadata": {},
   "source": [
    "###### Floats(or floating point numbers) are numbers with a decimal point. There are no limits on the value of a float or the number of digits before or after the decimal point. floating point numbers have the type float. note that a whole number is treated as a float"
   ]
  },
  {
   "cell_type": "code",
   "execution_count": 55,
   "id": "2d93fe2b",
   "metadata": {},
   "outputs": [],
   "source": [
    "a_number = 3.0"
   ]
  },
  {
   "cell_type": "code",
   "execution_count": 56,
   "id": "9dc33423",
   "metadata": {},
   "outputs": [
    {
     "data": {
      "text/plain": [
       "3.0"
      ]
     },
     "execution_count": 56,
     "metadata": {},
     "output_type": "execute_result"
    }
   ],
   "source": [
    "a_number"
   ]
  },
  {
   "cell_type": "code",
   "execution_count": 57,
   "id": "3508a698",
   "metadata": {},
   "outputs": [
    {
     "data": {
      "text/plain": [
       "float"
      ]
     },
     "execution_count": 57,
     "metadata": {},
     "output_type": "execute_result"
    }
   ],
   "source": [
    "type(a_number)"
   ]
  },
  {
   "cell_type": "code",
   "execution_count": null,
   "id": "a0d6a164",
   "metadata": {},
   "outputs": [],
   "source": []
  },
  {
   "cell_type": "code",
   "execution_count": 58,
   "id": "94af59d8",
   "metadata": {},
   "outputs": [],
   "source": [
    "pi = 3.14567892456314563145631"
   ]
  },
  {
   "cell_type": "code",
   "execution_count": 59,
   "id": "41801ec3",
   "metadata": {},
   "outputs": [
    {
     "data": {
      "text/plain": [
       "3.145678924563146"
      ]
     },
     "execution_count": 59,
     "metadata": {},
     "output_type": "execute_result"
    }
   ],
   "source": [
    "pi"
   ]
  },
  {
   "cell_type": "code",
   "execution_count": 60,
   "id": "87aec64a",
   "metadata": {},
   "outputs": [
    {
     "data": {
      "text/plain": [
       "float"
      ]
     },
     "execution_count": 60,
     "metadata": {},
     "output_type": "execute_result"
    }
   ],
   "source": [
    "type(pi)"
   ]
  },
  {
   "cell_type": "code",
   "execution_count": null,
   "id": "61d87948",
   "metadata": {},
   "outputs": [],
   "source": []
  },
  {
   "cell_type": "code",
   "execution_count": null,
   "id": "e9a59544",
   "metadata": {},
   "outputs": [],
   "source": []
  },
  {
   "cell_type": "code",
   "execution_count": 61,
   "id": "7ee6d4ed",
   "metadata": {},
   "outputs": [],
   "source": [
    "another_number = 4."
   ]
  },
  {
   "cell_type": "code",
   "execution_count": 62,
   "id": "b382cb87",
   "metadata": {},
   "outputs": [
    {
     "data": {
      "text/plain": [
       "4.0"
      ]
     },
     "execution_count": 62,
     "metadata": {},
     "output_type": "execute_result"
    }
   ],
   "source": [
    "another_number"
   ]
  },
  {
   "cell_type": "code",
   "execution_count": 63,
   "id": "72eb3366",
   "metadata": {},
   "outputs": [
    {
     "data": {
      "text/plain": [
       "float"
      ]
     },
     "execution_count": 63,
     "metadata": {},
     "output_type": "execute_result"
    }
   ],
   "source": [
    "type(another_number)"
   ]
  },
  {
   "cell_type": "code",
   "execution_count": null,
   "id": "c53988b8",
   "metadata": {},
   "outputs": [],
   "source": []
  },
  {
   "cell_type": "code",
   "execution_count": null,
   "id": "f8e5e257",
   "metadata": {},
   "outputs": [],
   "source": []
  },
  {
   "cell_type": "markdown",
   "id": "06e00378",
   "metadata": {},
   "source": [
    "##### Floating point numbers can also be written using the scientific notation with an \"e\" to indicate the power of 10\n",
    "0.00001 is equivalent to 1e-5 (e-5 means 1 raise to power -5 which is the same as 0.0000)"
   ]
  },
  {
   "cell_type": "code",
   "execution_count": 64,
   "id": "5359a379",
   "metadata": {},
   "outputs": [],
   "source": [
    "one_hundredth = 1e-5"
   ]
  },
  {
   "cell_type": "code",
   "execution_count": 65,
   "id": "4d5b83c8",
   "metadata": {},
   "outputs": [
    {
     "data": {
      "text/plain": [
       "1e-05"
      ]
     },
     "execution_count": 65,
     "metadata": {},
     "output_type": "execute_result"
    }
   ],
   "source": [
    "one_hundredth"
   ]
  },
  {
   "cell_type": "code",
   "execution_count": null,
   "id": "1d5c43c6",
   "metadata": {},
   "outputs": [],
   "source": []
  },
  {
   "cell_type": "code",
   "execution_count": 74,
   "id": "fc6be56e",
   "metadata": {},
   "outputs": [],
   "source": [
    "another_example = 1e-2"
   ]
  },
  {
   "cell_type": "code",
   "execution_count": 75,
   "id": "c9841c3b",
   "metadata": {},
   "outputs": [
    {
     "data": {
      "text/plain": [
       "0.01"
      ]
     },
     "execution_count": 75,
     "metadata": {},
     "output_type": "execute_result"
    }
   ],
   "source": [
    "another_example"
   ]
  },
  {
   "cell_type": "code",
   "execution_count": 76,
   "id": "726dddf1",
   "metadata": {},
   "outputs": [
    {
     "data": {
      "text/plain": [
       "float"
      ]
     },
     "execution_count": 76,
     "metadata": {},
     "output_type": "execute_result"
    }
   ],
   "source": [
    "type(another_example)"
   ]
  },
  {
   "cell_type": "code",
   "execution_count": null,
   "id": "91b990ff",
   "metadata": {},
   "outputs": [],
   "source": []
  },
  {
   "cell_type": "code",
   "execution_count": 77,
   "id": "03be9dcc",
   "metadata": {},
   "outputs": [],
   "source": [
    "another_exampl1 = 1e-4"
   ]
  },
  {
   "cell_type": "code",
   "execution_count": 79,
   "id": "39fb80ad",
   "metadata": {},
   "outputs": [
    {
     "data": {
      "text/plain": [
       "0.0001"
      ]
     },
     "execution_count": 79,
     "metadata": {},
     "output_type": "execute_result"
    }
   ],
   "source": [
    "another_exampl1"
   ]
  },
  {
   "cell_type": "code",
   "execution_count": null,
   "id": "96d2581d",
   "metadata": {},
   "outputs": [],
   "source": []
  },
  {
   "cell_type": "code",
   "execution_count": 80,
   "id": "50ddf44d",
   "metadata": {},
   "outputs": [],
   "source": [
    "try_this = 3e-4"
   ]
  },
  {
   "cell_type": "code",
   "execution_count": 81,
   "id": "184a0841",
   "metadata": {},
   "outputs": [
    {
     "data": {
      "text/plain": [
       "0.0003"
      ]
     },
     "execution_count": 81,
     "metadata": {},
     "output_type": "execute_result"
    }
   ],
   "source": [
    "try_this"
   ]
  },
  {
   "cell_type": "code",
   "execution_count": 82,
   "id": "8053273e",
   "metadata": {},
   "outputs": [
    {
     "data": {
      "text/plain": [
       "float"
      ]
     },
     "execution_count": 82,
     "metadata": {},
     "output_type": "execute_result"
    }
   ],
   "source": [
    "type(try_this)"
   ]
  },
  {
   "cell_type": "code",
   "execution_count": null,
   "id": "484096a9",
   "metadata": {},
   "outputs": [],
   "source": []
  },
  {
   "cell_type": "code",
   "execution_count": 83,
   "id": "0c969439",
   "metadata": {},
   "outputs": [],
   "source": [
    "avogadro_number = 6.022452115e23"
   ]
  },
  {
   "cell_type": "code",
   "execution_count": 85,
   "id": "5b7c9d4c",
   "metadata": {},
   "outputs": [
    {
     "data": {
      "text/plain": [
       "6.022452115e+23"
      ]
     },
     "execution_count": 85,
     "metadata": {},
     "output_type": "execute_result"
    }
   ],
   "source": [
    "avogadro_number"
   ]
  },
  {
   "cell_type": "code",
   "execution_count": 86,
   "id": "fc6e0fef",
   "metadata": {},
   "outputs": [
    {
     "data": {
      "text/plain": [
       "float"
      ]
     },
     "execution_count": 86,
     "metadata": {},
     "output_type": "execute_result"
    }
   ],
   "source": [
    "type(avogadro_number)"
   ]
  },
  {
   "cell_type": "code",
   "execution_count": null,
   "id": "1759a553",
   "metadata": {},
   "outputs": [],
   "source": []
  },
  {
   "cell_type": "code",
   "execution_count": null,
   "id": "3e40365f",
   "metadata": {},
   "outputs": [],
   "source": []
  },
  {
   "cell_type": "markdown",
   "id": "2be001c0",
   "metadata": {},
   "source": [
    "##### Floats can be converted into integers and vice versa using the float and int functions. The operation of converting one type of value into another is called *casting*."
   ]
  },
  {
   "cell_type": "code",
   "execution_count": 87,
   "id": "3f5f9d3f",
   "metadata": {},
   "outputs": [
    {
     "data": {
      "text/plain": [
       "2022"
      ]
     },
     "execution_count": 87,
     "metadata": {},
     "output_type": "execute_result"
    }
   ],
   "source": [
    "current_year"
   ]
  },
  {
   "cell_type": "code",
   "execution_count": 88,
   "id": "b2dde382",
   "metadata": {},
   "outputs": [
    {
     "data": {
      "text/plain": [
       "2022.0"
      ]
     },
     "execution_count": 88,
     "metadata": {},
     "output_type": "execute_result"
    }
   ],
   "source": [
    "float(current_year)"
   ]
  },
  {
   "cell_type": "code",
   "execution_count": null,
   "id": "d4ad10fb",
   "metadata": {},
   "outputs": [],
   "source": []
  },
  {
   "cell_type": "code",
   "execution_count": 91,
   "id": "5d7afbe8",
   "metadata": {},
   "outputs": [
    {
     "data": {
      "text/plain": [
       "-25222224789121238712264892"
      ]
     },
     "execution_count": 91,
     "metadata": {},
     "output_type": "execute_result"
    }
   ],
   "source": [
    "a_large_negative_number"
   ]
  },
  {
   "cell_type": "code",
   "execution_count": 92,
   "id": "7e09e36d",
   "metadata": {},
   "outputs": [
    {
     "data": {
      "text/plain": [
       "-2.522222478912124e+25"
      ]
     },
     "execution_count": 92,
     "metadata": {},
     "output_type": "execute_result"
    }
   ],
   "source": [
    "float(a_large_negative_number)"
   ]
  },
  {
   "cell_type": "code",
   "execution_count": null,
   "id": "09c7b75c",
   "metadata": {},
   "outputs": [],
   "source": []
  },
  {
   "cell_type": "code",
   "execution_count": 93,
   "id": "0bb26aba",
   "metadata": {},
   "outputs": [
    {
     "data": {
      "text/plain": [
       "3.145678924563146"
      ]
     },
     "execution_count": 93,
     "metadata": {},
     "output_type": "execute_result"
    }
   ],
   "source": [
    "pi"
   ]
  },
  {
   "cell_type": "code",
   "execution_count": 94,
   "id": "d23aee4a",
   "metadata": {},
   "outputs": [
    {
     "data": {
      "text/plain": [
       "3"
      ]
     },
     "execution_count": 94,
     "metadata": {},
     "output_type": "execute_result"
    }
   ],
   "source": [
    "int(pi)"
   ]
  },
  {
   "cell_type": "code",
   "execution_count": null,
   "id": "65cf860d",
   "metadata": {},
   "outputs": [],
   "source": []
  },
  {
   "cell_type": "code",
   "execution_count": 95,
   "id": "8bc399b0",
   "metadata": {},
   "outputs": [
    {
     "data": {
      "text/plain": [
       "6.022452115e+23"
      ]
     },
     "execution_count": 95,
     "metadata": {},
     "output_type": "execute_result"
    }
   ],
   "source": [
    "avogadro_number"
   ]
  },
  {
   "cell_type": "code",
   "execution_count": 96,
   "id": "1119a398",
   "metadata": {},
   "outputs": [
    {
     "data": {
      "text/plain": [
       "602245211499999984091136"
      ]
     },
     "execution_count": 96,
     "metadata": {},
     "output_type": "execute_result"
    }
   ],
   "source": [
    "int(avogadro_number)"
   ]
  },
  {
   "cell_type": "code",
   "execution_count": null,
   "id": "b33f9507",
   "metadata": {},
   "outputs": [],
   "source": []
  },
  {
   "cell_type": "code",
   "execution_count": 97,
   "id": "899c0f10",
   "metadata": {},
   "outputs": [
    {
     "data": {
      "text/plain": [
       "4.0"
      ]
     },
     "execution_count": 97,
     "metadata": {},
     "output_type": "execute_result"
    }
   ],
   "source": [
    "another_number"
   ]
  },
  {
   "cell_type": "code",
   "execution_count": 98,
   "id": "3265a72a",
   "metadata": {},
   "outputs": [
    {
     "data": {
      "text/plain": [
       "4"
      ]
     },
     "execution_count": 98,
     "metadata": {},
     "output_type": "execute_result"
    }
   ],
   "source": [
    "int(another_number)"
   ]
  },
  {
   "cell_type": "code",
   "execution_count": null,
   "id": "9739acf5",
   "metadata": {},
   "outputs": [],
   "source": []
  },
  {
   "cell_type": "code",
   "execution_count": 99,
   "id": "41b9c030",
   "metadata": {},
   "outputs": [
    {
     "data": {
      "text/plain": [
       "0.01"
      ]
     },
     "execution_count": 99,
     "metadata": {},
     "output_type": "execute_result"
    }
   ],
   "source": [
    "another_example"
   ]
  },
  {
   "cell_type": "code",
   "execution_count": 100,
   "id": "ce9d31ee",
   "metadata": {},
   "outputs": [
    {
     "data": {
      "text/plain": [
       "0"
      ]
     },
     "execution_count": 100,
     "metadata": {},
     "output_type": "execute_result"
    }
   ],
   "source": [
    "int(another_example)"
   ]
  },
  {
   "cell_type": "code",
   "execution_count": 101,
   "id": "833351d3",
   "metadata": {},
   "outputs": [
    {
     "data": {
      "text/plain": [
       "0.0001"
      ]
     },
     "execution_count": 101,
     "metadata": {},
     "output_type": "execute_result"
    }
   ],
   "source": [
    "another_exampl1"
   ]
  },
  {
   "cell_type": "code",
   "execution_count": 102,
   "id": "71cc4bdc",
   "metadata": {},
   "outputs": [
    {
     "data": {
      "text/plain": [
       "0"
      ]
     },
     "execution_count": 102,
     "metadata": {},
     "output_type": "execute_result"
    }
   ],
   "source": [
    "int(another_exampl1)"
   ]
  },
  {
   "cell_type": "code",
   "execution_count": null,
   "id": "f5365563",
   "metadata": {},
   "outputs": [],
   "source": []
  },
  {
   "cell_type": "code",
   "execution_count": null,
   "id": "a3967753",
   "metadata": {},
   "outputs": [],
   "source": []
  },
  {
   "cell_type": "markdown",
   "id": "8096787d",
   "metadata": {},
   "source": [
    "##### While performing arithmetic operations, integers are automatically converted to floats if any of the operands is a float. Also, the division operator / always returns a float even if the both operands are integers. Use the // operator if you want the result of division to be an int."
   ]
  },
  {
   "cell_type": "code",
   "execution_count": 103,
   "id": "3cdd6757",
   "metadata": {},
   "outputs": [
    {
     "data": {
      "text/plain": [
       "float"
      ]
     },
     "execution_count": 103,
     "metadata": {},
     "output_type": "execute_result"
    }
   ],
   "source": [
    "type(45 * 3.0)"
   ]
  },
  {
   "cell_type": "code",
   "execution_count": 107,
   "id": "53c241cd",
   "metadata": {},
   "outputs": [
    {
     "data": {
      "text/plain": [
       "int"
      ]
     },
     "execution_count": 107,
     "metadata": {},
     "output_type": "execute_result"
    }
   ],
   "source": [
    "type(45 * 3)"
   ]
  },
  {
   "cell_type": "code",
   "execution_count": 104,
   "id": "d9c34da5",
   "metadata": {},
   "outputs": [
    {
     "data": {
      "text/plain": [
       "float"
      ]
     },
     "execution_count": 104,
     "metadata": {},
     "output_type": "execute_result"
    }
   ],
   "source": [
    "type(10/3)"
   ]
  },
  {
   "cell_type": "code",
   "execution_count": 109,
   "id": "099a26b1",
   "metadata": {},
   "outputs": [
    {
     "data": {
      "text/plain": [
       "float"
      ]
     },
     "execution_count": 109,
     "metadata": {},
     "output_type": "execute_result"
    }
   ],
   "source": [
    "type(10/2)"
   ]
  },
  {
   "cell_type": "code",
   "execution_count": 110,
   "id": "a211d557",
   "metadata": {},
   "outputs": [
    {
     "data": {
      "text/plain": [
       "int"
      ]
     },
     "execution_count": 110,
     "metadata": {},
     "output_type": "execute_result"
    }
   ],
   "source": [
    "type(10//3)"
   ]
  },
  {
   "cell_type": "code",
   "execution_count": 111,
   "id": "b3926e87",
   "metadata": {},
   "outputs": [
    {
     "data": {
      "text/plain": [
       "int"
      ]
     },
     "execution_count": 111,
     "metadata": {},
     "output_type": "execute_result"
    }
   ],
   "source": [
    "type(10//2)"
   ]
  },
  {
   "cell_type": "code",
   "execution_count": null,
   "id": "9a6a8ed8",
   "metadata": {},
   "outputs": [],
   "source": []
  },
  {
   "cell_type": "code",
   "execution_count": null,
   "id": "89f5ab35",
   "metadata": {},
   "outputs": [],
   "source": []
  },
  {
   "cell_type": "markdown",
   "id": "35a11272",
   "metadata": {},
   "source": [
    "#### Booleans represent one of 2 values: True and False. Booleans have the type bool"
   ]
  },
  {
   "cell_type": "code",
   "execution_count": 112,
   "id": "51dc6fbe",
   "metadata": {},
   "outputs": [],
   "source": [
    "is_today_sunday = True"
   ]
  },
  {
   "cell_type": "code",
   "execution_count": 113,
   "id": "fa2e6f60",
   "metadata": {},
   "outputs": [
    {
     "data": {
      "text/plain": [
       "True"
      ]
     },
     "execution_count": 113,
     "metadata": {},
     "output_type": "execute_result"
    }
   ],
   "source": [
    "is_today_sunday"
   ]
  },
  {
   "cell_type": "code",
   "execution_count": 114,
   "id": "a03709ce",
   "metadata": {},
   "outputs": [
    {
     "data": {
      "text/plain": [
       "bool"
      ]
     },
     "execution_count": 114,
     "metadata": {},
     "output_type": "execute_result"
    }
   ],
   "source": [
    "type(is_today_sunday)"
   ]
  },
  {
   "cell_type": "code",
   "execution_count": null,
   "id": "de5aaa71",
   "metadata": {},
   "outputs": [],
   "source": []
  },
  {
   "cell_type": "markdown",
   "id": "744c5c2f",
   "metadata": {},
   "source": [
    "#### Booleans are generally returned as the result of a comparison operation(e.g. ==, >=   etc.)"
   ]
  },
  {
   "cell_type": "code",
   "execution_count": 115,
   "id": "2a6803a2",
   "metadata": {},
   "outputs": [],
   "source": [
    "cost_of_ice_bag = 1.25\n",
    "is_ice_bag_expensive = cost_of_ice_bag >= 10"
   ]
  },
  {
   "cell_type": "code",
   "execution_count": 116,
   "id": "267e5e6c",
   "metadata": {},
   "outputs": [
    {
     "data": {
      "text/plain": [
       "False"
      ]
     },
     "execution_count": 116,
     "metadata": {},
     "output_type": "execute_result"
    }
   ],
   "source": [
    "is_ice_bag_expensive"
   ]
  },
  {
   "cell_type": "code",
   "execution_count": 117,
   "id": "570ee1c1",
   "metadata": {},
   "outputs": [
    {
     "data": {
      "text/plain": [
       "bool"
      ]
     },
     "execution_count": 117,
     "metadata": {},
     "output_type": "execute_result"
    }
   ],
   "source": [
    "type(is_ice_bag_expensive)"
   ]
  },
  {
   "cell_type": "code",
   "execution_count": null,
   "id": "fa428689",
   "metadata": {},
   "outputs": [],
   "source": []
  },
  {
   "cell_type": "code",
   "execution_count": null,
   "id": "836f1480",
   "metadata": {},
   "outputs": [],
   "source": []
  },
  {
   "cell_type": "markdown",
   "id": "5f25b22a",
   "metadata": {},
   "source": [
    "#### Booleans are automatically converted to integers when used in arithmetic operations. True is converted to 1 and False is converted to 0"
   ]
  },
  {
   "cell_type": "code",
   "execution_count": 118,
   "id": "79534ac8",
   "metadata": {},
   "outputs": [
    {
     "data": {
      "text/plain": [
       "5"
      ]
     },
     "execution_count": 118,
     "metadata": {},
     "output_type": "execute_result"
    }
   ],
   "source": [
    "5 + False"
   ]
  },
  {
   "cell_type": "code",
   "execution_count": 119,
   "id": "5366e542",
   "metadata": {},
   "outputs": [
    {
     "data": {
      "text/plain": [
       "6"
      ]
     },
     "execution_count": 119,
     "metadata": {},
     "output_type": "execute_result"
    }
   ],
   "source": [
    "5 + True"
   ]
  },
  {
   "cell_type": "code",
   "execution_count": 120,
   "id": "ecc39062",
   "metadata": {},
   "outputs": [
    {
     "data": {
      "text/plain": [
       "4.0"
      ]
     },
     "execution_count": 120,
     "metadata": {},
     "output_type": "execute_result"
    }
   ],
   "source": [
    "3. + True"
   ]
  },
  {
   "cell_type": "code",
   "execution_count": null,
   "id": "5a9b7e66",
   "metadata": {},
   "outputs": [],
   "source": []
  },
  {
   "cell_type": "markdown",
   "id": "b73870d5",
   "metadata": {},
   "source": [
    "#### Any value in Python can be converted to a Boolean using bool function. Only the following values evaluate to False (they are often called falsy values)\n",
    "* The value False itself, *The integer 0, *The float 0.0, *The empty value None, *The empty set set(), *The empty tuple (), *The empty dictionary {}, *The empty text \"\", *The empty list [], *The empty range range(0)\n",
    "#### Everything else evaluates to True (a value that evaluates to True is often called a truthy value)"
   ]
  },
  {
   "cell_type": "code",
   "execution_count": 121,
   "id": "03c9e25a",
   "metadata": {},
   "outputs": [
    {
     "data": {
      "text/plain": [
       "False"
      ]
     },
     "execution_count": 121,
     "metadata": {},
     "output_type": "execute_result"
    }
   ],
   "source": [
    "bool(False)"
   ]
  },
  {
   "cell_type": "code",
   "execution_count": 122,
   "id": "bf42ec9c",
   "metadata": {},
   "outputs": [
    {
     "data": {
      "text/plain": [
       "False"
      ]
     },
     "execution_count": 122,
     "metadata": {},
     "output_type": "execute_result"
    }
   ],
   "source": [
    "bool(0)"
   ]
  },
  {
   "cell_type": "code",
   "execution_count": 123,
   "id": "a6b458f0",
   "metadata": {},
   "outputs": [
    {
     "data": {
      "text/plain": [
       "False"
      ]
     },
     "execution_count": 123,
     "metadata": {},
     "output_type": "execute_result"
    }
   ],
   "source": [
    "bool(None)"
   ]
  },
  {
   "cell_type": "code",
   "execution_count": 124,
   "id": "35720397",
   "metadata": {},
   "outputs": [
    {
     "data": {
      "text/plain": [
       "False"
      ]
     },
     "execution_count": 124,
     "metadata": {},
     "output_type": "execute_result"
    }
   ],
   "source": [
    "bool({})"
   ]
  },
  {
   "cell_type": "code",
   "execution_count": 125,
   "id": "6f7a2523",
   "metadata": {},
   "outputs": [
    {
     "data": {
      "text/plain": [
       "False"
      ]
     },
     "execution_count": 125,
     "metadata": {},
     "output_type": "execute_result"
    }
   ],
   "source": [
    "bool(range(0))"
   ]
  },
  {
   "cell_type": "code",
   "execution_count": 126,
   "id": "d87a3266",
   "metadata": {},
   "outputs": [
    {
     "data": {
      "text/plain": [
       "False"
      ]
     },
     "execution_count": 126,
     "metadata": {},
     "output_type": "execute_result"
    }
   ],
   "source": [
    "bool(set())"
   ]
  },
  {
   "cell_type": "code",
   "execution_count": 133,
   "id": "f97959e2",
   "metadata": {},
   "outputs": [
    {
     "data": {
      "text/plain": [
       "(True, True, True, True, True, True, True, True, True)"
      ]
     },
     "execution_count": 133,
     "metadata": {},
     "output_type": "execute_result"
    }
   ],
   "source": [
    "bool(True), bool(1), bool(2.0), bool((2,3)),bool([3,5]),bool((3,3)),bool({3,5}), bool(range(4,5)), bool(\"Becoming\")"
   ]
  },
  {
   "cell_type": "code",
   "execution_count": null,
   "id": "d4489cab",
   "metadata": {},
   "outputs": [],
   "source": []
  },
  {
   "cell_type": "markdown",
   "id": "b34f157d",
   "metadata": {},
   "source": [
    "##### None: The None type includes a single value None, it is used to indicate the absence of a value. None has the type NoneType. it is often used to declare a variable whose value may be assigned later."
   ]
  },
  {
   "cell_type": "code",
   "execution_count": 134,
   "id": "9424b875",
   "metadata": {},
   "outputs": [],
   "source": [
    "nothing = None"
   ]
  },
  {
   "cell_type": "code",
   "execution_count": 135,
   "id": "5d6de3b9",
   "metadata": {},
   "outputs": [
    {
     "data": {
      "text/plain": [
       "NoneType"
      ]
     },
     "execution_count": 135,
     "metadata": {},
     "output_type": "execute_result"
    }
   ],
   "source": [
    "type(nothing)"
   ]
  },
  {
   "cell_type": "code",
   "execution_count": null,
   "id": "9209fce7",
   "metadata": {},
   "outputs": [],
   "source": []
  },
  {
   "cell_type": "markdown",
   "id": "9ab103c9",
   "metadata": {},
   "source": [
    "##### A String is used to represent text (a string of characters) in Python. Strings must be surrounded using quotations (either the single quote or double quote). Strings have the type str"
   ]
  },
  {
   "cell_type": "code",
   "execution_count": 136,
   "id": "deb2c4d7",
   "metadata": {},
   "outputs": [],
   "source": [
    "today = \"saturday\""
   ]
  },
  {
   "cell_type": "code",
   "execution_count": 137,
   "id": "f79eadb6",
   "metadata": {},
   "outputs": [
    {
     "data": {
      "text/plain": [
       "'saturday'"
      ]
     },
     "execution_count": 137,
     "metadata": {},
     "output_type": "execute_result"
    }
   ],
   "source": [
    "today"
   ]
  },
  {
   "cell_type": "code",
   "execution_count": 138,
   "id": "2062cf79",
   "metadata": {},
   "outputs": [
    {
     "data": {
      "text/plain": [
       "str"
      ]
     },
     "execution_count": 138,
     "metadata": {},
     "output_type": "execute_result"
    }
   ],
   "source": [
    "type(today)"
   ]
  },
  {
   "cell_type": "code",
   "execution_count": 139,
   "id": "050e3b12",
   "metadata": {},
   "outputs": [],
   "source": [
    "tomorrow = \"is sunshine\""
   ]
  },
  {
   "cell_type": "code",
   "execution_count": 140,
   "id": "ac8b0db5",
   "metadata": {},
   "outputs": [
    {
     "data": {
      "text/plain": [
       "'is sunshine'"
      ]
     },
     "execution_count": 140,
     "metadata": {},
     "output_type": "execute_result"
    }
   ],
   "source": [
    "tomorrow"
   ]
  },
  {
   "cell_type": "code",
   "execution_count": 141,
   "id": "a5606e10",
   "metadata": {},
   "outputs": [
    {
     "data": {
      "text/plain": [
       "str"
      ]
     },
     "execution_count": 141,
     "metadata": {},
     "output_type": "execute_result"
    }
   ],
   "source": [
    "type(tomorrow)"
   ]
  },
  {
   "cell_type": "code",
   "execution_count": null,
   "id": "90580485",
   "metadata": {},
   "outputs": [],
   "source": []
  },
  {
   "cell_type": "markdown",
   "id": "3830165c",
   "metadata": {},
   "source": [
    "##### You can use single qoutes inside a string written with double qoutes, and vice versa."
   ]
  },
  {
   "cell_type": "code",
   "execution_count": 149,
   "id": "96a70e6d",
   "metadata": {},
   "outputs": [],
   "source": [
    "my_favorite_movie = \"World of the titan's\""
   ]
  },
  {
   "cell_type": "code",
   "execution_count": 150,
   "id": "c0830a50",
   "metadata": {},
   "outputs": [
    {
     "data": {
      "text/plain": [
       "\"World of the titan's\""
      ]
     },
     "execution_count": 150,
     "metadata": {},
     "output_type": "execute_result"
    }
   ],
   "source": [
    "my_favorite_movie"
   ]
  },
  {
   "cell_type": "code",
   "execution_count": 151,
   "id": "186c7ea4",
   "metadata": {},
   "outputs": [
    {
     "data": {
      "text/plain": [
       "str"
      ]
     },
     "execution_count": 151,
     "metadata": {},
     "output_type": "execute_result"
    }
   ],
   "source": [
    "type(my_favorite_movie)"
   ]
  },
  {
   "cell_type": "code",
   "execution_count": 152,
   "id": "047afdaa",
   "metadata": {},
   "outputs": [
    {
     "data": {
      "text/plain": [
       "True"
      ]
     },
     "execution_count": 152,
     "metadata": {},
     "output_type": "execute_result"
    }
   ],
   "source": [
    "bool(my_favorite_movie)"
   ]
  },
  {
   "cell_type": "markdown",
   "id": "29a6bd68",
   "metadata": {},
   "source": [
    "#### using single qoutes inside a string written with single qoute."
   ]
  },
  {
   "cell_type": "code",
   "execution_count": 153,
   "id": "a4a908cc",
   "metadata": {},
   "outputs": [],
   "source": [
    "my_favorite_surah = 'All verses\\'s of Al-Quran'"
   ]
  },
  {
   "cell_type": "code",
   "execution_count": 154,
   "id": "e149df63",
   "metadata": {},
   "outputs": [
    {
     "data": {
      "text/plain": [
       "\"All verses's of Al-Quran\""
      ]
     },
     "execution_count": 154,
     "metadata": {},
     "output_type": "execute_result"
    }
   ],
   "source": [
    "my_favorite_surah"
   ]
  },
  {
   "cell_type": "code",
   "execution_count": 155,
   "id": "429554a5",
   "metadata": {},
   "outputs": [
    {
     "data": {
      "text/plain": [
       "str"
      ]
     },
     "execution_count": 155,
     "metadata": {},
     "output_type": "execute_result"
    }
   ],
   "source": [
    "type(my_favorite_surah)"
   ]
  },
  {
   "cell_type": "code",
   "execution_count": null,
   "id": "9ff6877f",
   "metadata": {},
   "outputs": [],
   "source": []
  },
  {
   "cell_type": "markdown",
   "id": "49bca7cb",
   "metadata": {},
   "source": [
    "#### using double qoutes inside a string written with single qoute."
   ]
  },
  {
   "cell_type": "code",
   "execution_count": 160,
   "id": "1498b85e",
   "metadata": {},
   "outputs": [],
   "source": [
    "my_favorite_topic = 'Thanks for explaining \"Numpy\" in details, it is awesome'"
   ]
  },
  {
   "cell_type": "code",
   "execution_count": 157,
   "id": "7783d5c1",
   "metadata": {},
   "outputs": [
    {
     "data": {
      "text/plain": [
       "'Thanks for explaining \"Numpy\" in details, it is awesome'"
      ]
     },
     "execution_count": 157,
     "metadata": {},
     "output_type": "execute_result"
    }
   ],
   "source": [
    "my_favorite_topic"
   ]
  },
  {
   "cell_type": "code",
   "execution_count": null,
   "id": "b74062cb",
   "metadata": {},
   "outputs": [],
   "source": []
  },
  {
   "cell_type": "markdown",
   "id": "7fe19b5a",
   "metadata": {},
   "source": [
    "#### To use a double qoute within a string written with double quotes, escape the inner qoutes by prefixing them with the \\ character"
   ]
  },
  {
   "cell_type": "code",
   "execution_count": 165,
   "id": "8d3801bc",
   "metadata": {},
   "outputs": [],
   "source": [
    "remote_control = \"The first time i saw remote control, i thought it was a \\\"toy\" "
   ]
  },
  {
   "cell_type": "code",
   "execution_count": 164,
   "id": "7db43352",
   "metadata": {},
   "outputs": [
    {
     "data": {
      "text/plain": [
       "'The first time i saw remote control, i thought it was a \"toy'"
      ]
     },
     "execution_count": 164,
     "metadata": {},
     "output_type": "execute_result"
    }
   ],
   "source": [
    "remote_control"
   ]
  },
  {
   "cell_type": "code",
   "execution_count": null,
   "id": "26b7817b",
   "metadata": {},
   "outputs": [],
   "source": []
  },
  {
   "cell_type": "code",
   "execution_count": null,
   "id": "34e4f7eb",
   "metadata": {},
   "outputs": [],
   "source": []
  },
  {
   "cell_type": "code",
   "execution_count": null,
   "id": "1aa179e1",
   "metadata": {},
   "outputs": [],
   "source": []
  },
  {
   "cell_type": "code",
   "execution_count": null,
   "id": "d0c4b85b",
   "metadata": {},
   "outputs": [],
   "source": []
  },
  {
   "cell_type": "code",
   "execution_count": null,
   "id": "100d4ac7",
   "metadata": {},
   "outputs": [],
   "source": []
  },
  {
   "cell_type": "markdown",
   "id": "27db29c5",
   "metadata": {},
   "source": [
    "##### Strings created using single or double quotes must begin and end on the same line. To create multiline strings, use three single qoutes '''  or three double qoutes \"\"\" to begin and end the string.\n",
    "Line breaks are represented using the newline character \\n ."
   ]
  },
  {
   "cell_type": "code",
   "execution_count": 166,
   "id": "c115a90b",
   "metadata": {},
   "outputs": [],
   "source": [
    "Father_and_Son = '''Son:\"Father can you take me to park?\"\n",
    "Father:\"it is really hot outside.\"'''\n"
   ]
  },
  {
   "cell_type": "code",
   "execution_count": 167,
   "id": "79eb6ba2",
   "metadata": {},
   "outputs": [
    {
     "data": {
      "text/plain": [
       "'Son:\"Father can you take me to park?\"\\nFather:\"it is really hot outside.\"'"
      ]
     },
     "execution_count": 167,
     "metadata": {},
     "output_type": "execute_result"
    }
   ],
   "source": [
    "Father_and_Son"
   ]
  },
  {
   "cell_type": "markdown",
   "id": "27c18d69",
   "metadata": {},
   "source": [
    "###### Multiline strings are best displayed using print function"
   ]
  },
  {
   "cell_type": "code",
   "execution_count": 168,
   "id": "e20d27eb",
   "metadata": {},
   "outputs": [
    {
     "name": "stdout",
     "output_type": "stream",
     "text": [
      "Son:\"Father can you take me to park?\"\n",
      "Father:\"it is really hot outside.\"\n"
     ]
    }
   ],
   "source": [
    "print(Father_and_Son)"
   ]
  },
  {
   "cell_type": "code",
   "execution_count": null,
   "id": "3fbb1718",
   "metadata": {},
   "outputs": [],
   "source": []
  },
  {
   "cell_type": "code",
   "execution_count": 170,
   "id": "038122c6",
   "metadata": {},
   "outputs": [],
   "source": [
    "Tom_Jerry = \"\"\"Tom:\"Will you like to dance with me?\"\n",
    "Jerry:\"Ofcourse, Why not my friend?\"\n",
    "\n",
    "\n",
    "\"Oh there comes the bride and groom.\"\n",
    "\"\"\""
   ]
  },
  {
   "cell_type": "code",
   "execution_count": 171,
   "id": "eb4bf789",
   "metadata": {},
   "outputs": [
    {
     "data": {
      "text/plain": [
       "'Tom:\"Will you like to dance with me?\"\\nJerry:\"Ofcourse, Why not my friend?\"\\n\\n\\n\"Oh there comes the bride and groom.\"\\n'"
      ]
     },
     "execution_count": 171,
     "metadata": {},
     "output_type": "execute_result"
    }
   ],
   "source": [
    "Tom_Jerry"
   ]
  },
  {
   "cell_type": "code",
   "execution_count": 172,
   "id": "7a8fc3c0",
   "metadata": {},
   "outputs": [
    {
     "name": "stdout",
     "output_type": "stream",
     "text": [
      "Tom:\"Will you like to dance with me?\"\n",
      "Jerry:\"Ofcourse, Why not my friend?\"\n",
      "\n",
      "\n",
      "\"Oh there comes the bride and groom.\"\n",
      "\n"
     ]
    }
   ],
   "source": [
    "print(Tom_Jerry)"
   ]
  },
  {
   "cell_type": "code",
   "execution_count": null,
   "id": "1d7ff75e",
   "metadata": {},
   "outputs": [],
   "source": []
  },
  {
   "cell_type": "markdown",
   "id": "ef54f988",
   "metadata": {},
   "source": [
    "##### You can check the length of a string using the len function."
   ]
  },
  {
   "cell_type": "code",
   "execution_count": 173,
   "id": "ab9fda7e",
   "metadata": {},
   "outputs": [
    {
     "data": {
      "text/plain": [
       "20"
      ]
     },
     "execution_count": 173,
     "metadata": {},
     "output_type": "execute_result"
    }
   ],
   "source": [
    "len(my_favorite_movie)"
   ]
  },
  {
   "cell_type": "code",
   "execution_count": 174,
   "id": "9b58fd6f",
   "metadata": {},
   "outputs": [
    {
     "data": {
      "text/plain": [
       "72"
      ]
     },
     "execution_count": 174,
     "metadata": {},
     "output_type": "execute_result"
    }
   ],
   "source": [
    "len(Father_and_Son)"
   ]
  },
  {
   "cell_type": "code",
   "execution_count": null,
   "id": "24238368",
   "metadata": {},
   "outputs": [],
   "source": []
  },
  {
   "cell_type": "markdown",
   "id": "a6262ae3",
   "metadata": {},
   "source": [
    "###### Note that special characters like \\n and escaped characters like \\\" count as a single character, even though they are written and sometimes printed as 2 characters."
   ]
  },
  {
   "cell_type": "code",
   "execution_count": 177,
   "id": "f1e0d853",
   "metadata": {},
   "outputs": [
    {
     "data": {
      "text/plain": [
       "'a\\nb'"
      ]
     },
     "execution_count": 177,
     "metadata": {},
     "output_type": "execute_result"
    }
   ],
   "source": [
    "multiline_string =\"\"\"a\n",
    "b\"\"\"\n",
    "multiline_string"
   ]
  },
  {
   "cell_type": "code",
   "execution_count": 178,
   "id": "d7b3d30b",
   "metadata": {},
   "outputs": [
    {
     "data": {
      "text/plain": [
       "'a\\nb'"
      ]
     },
     "execution_count": 178,
     "metadata": {},
     "output_type": "execute_result"
    }
   ],
   "source": [
    "multiline_string"
   ]
  },
  {
   "cell_type": "code",
   "execution_count": 179,
   "id": "75cec78f",
   "metadata": {},
   "outputs": [
    {
     "data": {
      "text/plain": [
       "3"
      ]
     },
     "execution_count": 179,
     "metadata": {},
     "output_type": "execute_result"
    }
   ],
   "source": [
    "len(multiline_string)"
   ]
  },
  {
   "cell_type": "code",
   "execution_count": null,
   "id": "696d116a",
   "metadata": {},
   "outputs": [],
   "source": []
  },
  {
   "cell_type": "markdown",
   "id": "2a8f2b9c",
   "metadata": {},
   "source": [
    "###### A string can be converted into a list of characters using list function."
   ]
  },
  {
   "cell_type": "code",
   "execution_count": 180,
   "id": "07830032",
   "metadata": {},
   "outputs": [
    {
     "data": {
      "text/plain": [
       "'a\\nb'"
      ]
     },
     "execution_count": 180,
     "metadata": {},
     "output_type": "execute_result"
    }
   ],
   "source": [
    "multiline_string"
   ]
  },
  {
   "cell_type": "code",
   "execution_count": 181,
   "id": "e0706fa1",
   "metadata": {},
   "outputs": [
    {
     "data": {
      "text/plain": [
       "['a', '\\n', 'b']"
      ]
     },
     "execution_count": 181,
     "metadata": {},
     "output_type": "execute_result"
    }
   ],
   "source": [
    "list(multiline_string)"
   ]
  },
  {
   "cell_type": "code",
   "execution_count": null,
   "id": "248a7df9",
   "metadata": {},
   "outputs": [],
   "source": []
  },
  {
   "cell_type": "markdown",
   "id": "e621c829",
   "metadata": {},
   "source": [
    "##### You can access individual characters within a string using the [ ] indexing notation. Note the character indices go from 0 to n-1, where n is the length of the string."
   ]
  },
  {
   "cell_type": "code",
   "execution_count": 183,
   "id": "01839e29",
   "metadata": {},
   "outputs": [],
   "source": [
    "today = \"saturday\""
   ]
  },
  {
   "cell_type": "code",
   "execution_count": 184,
   "id": "c5bf0e35",
   "metadata": {},
   "outputs": [
    {
     "data": {
      "text/plain": [
       "'s'"
      ]
     },
     "execution_count": 184,
     "metadata": {},
     "output_type": "execute_result"
    }
   ],
   "source": [
    "today[0]"
   ]
  },
  {
   "cell_type": "code",
   "execution_count": 185,
   "id": "8241f3ef",
   "metadata": {},
   "outputs": [
    {
     "data": {
      "text/plain": [
       "'u'"
      ]
     },
     "execution_count": 185,
     "metadata": {},
     "output_type": "execute_result"
    }
   ],
   "source": [
    "today[3]"
   ]
  },
  {
   "cell_type": "code",
   "execution_count": 186,
   "id": "c934340d",
   "metadata": {},
   "outputs": [
    {
     "data": {
      "text/plain": [
       "'y'"
      ]
     },
     "execution_count": 186,
     "metadata": {},
     "output_type": "execute_result"
    }
   ],
   "source": [
    "today[7]"
   ]
  },
  {
   "cell_type": "code",
   "execution_count": null,
   "id": "cc9147c5",
   "metadata": {},
   "outputs": [],
   "source": []
  },
  {
   "cell_type": "markdown",
   "id": "8adcc2c6",
   "metadata": {},
   "source": [
    "##### You can access a part of a string using by providing a start:end range instead of a single index in [ ]"
   ]
  },
  {
   "cell_type": "code",
   "execution_count": 189,
   "id": "88735b28",
   "metadata": {},
   "outputs": [
    {
     "data": {
      "text/plain": [
       "'day'"
      ]
     },
     "execution_count": 189,
     "metadata": {},
     "output_type": "execute_result"
    }
   ],
   "source": [
    "today[5:8]"
   ]
  },
  {
   "cell_type": "code",
   "execution_count": 190,
   "id": "0ca2493e",
   "metadata": {},
   "outputs": [
    {
     "data": {
      "text/plain": [
       "'is sunshine'"
      ]
     },
     "execution_count": 190,
     "metadata": {},
     "output_type": "execute_result"
    }
   ],
   "source": [
    "tomorrow"
   ]
  },
  {
   "cell_type": "code",
   "execution_count": 191,
   "id": "0db6b1d8",
   "metadata": {},
   "outputs": [
    {
     "data": {
      "text/plain": [
       "'sunshine'"
      ]
     },
     "execution_count": 191,
     "metadata": {},
     "output_type": "execute_result"
    }
   ],
   "source": [
    "tomorrow[3:11]"
   ]
  },
  {
   "cell_type": "code",
   "execution_count": 192,
   "id": "159f61da",
   "metadata": {},
   "outputs": [
    {
     "data": {
      "text/plain": [
       "\"World of the titan's\""
      ]
     },
     "execution_count": 192,
     "metadata": {},
     "output_type": "execute_result"
    }
   ],
   "source": [
    "my_favorite_movie"
   ]
  },
  {
   "cell_type": "code",
   "execution_count": 193,
   "id": "7f0a944d",
   "metadata": {},
   "outputs": [
    {
     "data": {
      "text/plain": [
       "'World'"
      ]
     },
     "execution_count": 193,
     "metadata": {},
     "output_type": "execute_result"
    }
   ],
   "source": [
    "my_favorite_movie[0:5]"
   ]
  },
  {
   "cell_type": "code",
   "execution_count": null,
   "id": "cbc31e78",
   "metadata": {},
   "outputs": [],
   "source": []
  },
  {
   "cell_type": "markdown",
   "id": "ff6955e7",
   "metadata": {},
   "source": [
    "###### You can also check wether a string contains some text using the in operator."
   ]
  },
  {
   "cell_type": "code",
   "execution_count": 194,
   "id": "4bac448f",
   "metadata": {},
   "outputs": [
    {
     "data": {
      "text/plain": [
       "'saturday'"
      ]
     },
     "execution_count": 194,
     "metadata": {},
     "output_type": "execute_result"
    }
   ],
   "source": [
    "today"
   ]
  },
  {
   "cell_type": "code",
   "execution_count": 196,
   "id": "9a8b7e82",
   "metadata": {},
   "outputs": [
    {
     "data": {
      "text/plain": [
       "True"
      ]
     },
     "execution_count": 196,
     "metadata": {},
     "output_type": "execute_result"
    }
   ],
   "source": [
    "'day' in today"
   ]
  },
  {
   "cell_type": "code",
   "execution_count": 197,
   "id": "1704ba53",
   "metadata": {},
   "outputs": [
    {
     "data": {
      "text/plain": [
       "True"
      ]
     },
     "execution_count": 197,
     "metadata": {},
     "output_type": "execute_result"
    }
   ],
   "source": [
    "'sat' in today"
   ]
  },
  {
   "cell_type": "code",
   "execution_count": 198,
   "id": "989ce3be",
   "metadata": {},
   "outputs": [
    {
     "data": {
      "text/plain": [
       "True"
      ]
     },
     "execution_count": 198,
     "metadata": {},
     "output_type": "execute_result"
    }
   ],
   "source": [
    "'shine' in tomorrow"
   ]
  },
  {
   "cell_type": "code",
   "execution_count": 199,
   "id": "d4c02087",
   "metadata": {},
   "outputs": [
    {
     "data": {
      "text/plain": [
       "True"
      ]
     },
     "execution_count": 199,
     "metadata": {},
     "output_type": "execute_result"
    }
   ],
   "source": [
    "'sun' in tomorrow"
   ]
  },
  {
   "cell_type": "code",
   "execution_count": 200,
   "id": "839d5eaa",
   "metadata": {},
   "outputs": [
    {
     "data": {
      "text/plain": [
       "False"
      ]
     },
     "execution_count": 200,
     "metadata": {},
     "output_type": "execute_result"
    }
   ],
   "source": [
    "'day' in tomorrow"
   ]
  },
  {
   "cell_type": "code",
   "execution_count": 201,
   "id": "e4a40089",
   "metadata": {},
   "outputs": [
    {
     "data": {
      "text/plain": [
       "False"
      ]
     },
     "execution_count": 201,
     "metadata": {},
     "output_type": "execute_result"
    }
   ],
   "source": [
    "'sun' in today"
   ]
  },
  {
   "cell_type": "code",
   "execution_count": 202,
   "id": "c995ff16",
   "metadata": {},
   "outputs": [
    {
     "data": {
      "text/plain": [
       "False"
      ]
     },
     "execution_count": 202,
     "metadata": {},
     "output_type": "execute_result"
    }
   ],
   "source": [
    "'shine' in today"
   ]
  },
  {
   "cell_type": "code",
   "execution_count": null,
   "id": "b93094bf",
   "metadata": {},
   "outputs": [],
   "source": []
  },
  {
   "cell_type": "markdown",
   "id": "34898eec",
   "metadata": {},
   "source": [
    "##### Two or more strings can be joined or concatenated using the + operator. Sometimes you might need to add a space character \" \" between words"
   ]
  },
  {
   "cell_type": "code",
   "execution_count": 203,
   "id": "f64e1514",
   "metadata": {},
   "outputs": [],
   "source": [
    "full_name = \"Adeola Sotayo-Aro\""
   ]
  },
  {
   "cell_type": "code",
   "execution_count": 205,
   "id": "5db75c4a",
   "metadata": {},
   "outputs": [],
   "source": [
    "greetings = \"Hello\""
   ]
  },
  {
   "cell_type": "code",
   "execution_count": 206,
   "id": "f735b915",
   "metadata": {},
   "outputs": [
    {
     "data": {
      "text/plain": [
       "'Hello Adeola Sotayo-Aro'"
      ]
     },
     "execution_count": 206,
     "metadata": {},
     "output_type": "execute_result"
    }
   ],
   "source": [
    "greetings + \" \" + full_name"
   ]
  },
  {
   "cell_type": "code",
   "execution_count": 207,
   "id": "42a92928",
   "metadata": {},
   "outputs": [],
   "source": [
    "country = \"New York\" "
   ]
  },
  {
   "cell_type": "code",
   "execution_count": 208,
   "id": "2e5a4269",
   "metadata": {},
   "outputs": [],
   "source": [
    "greetings = \"Hello\""
   ]
  },
  {
   "cell_type": "code",
   "execution_count": 209,
   "id": "fe3eb18f",
   "metadata": {},
   "outputs": [
    {
     "data": {
      "text/plain": [
       "'Hello New York'"
      ]
     },
     "execution_count": 209,
     "metadata": {},
     "output_type": "execute_result"
    }
   ],
   "source": [
    "greetings + \" \" + country"
   ]
  },
  {
   "cell_type": "code",
   "execution_count": null,
   "id": "ab70373b",
   "metadata": {},
   "outputs": [],
   "source": []
  },
  {
   "cell_type": "code",
   "execution_count": 210,
   "id": "db7f5bbd",
   "metadata": {},
   "outputs": [],
   "source": [
    "Introduction = \"Introduce\""
   ]
  },
  {
   "cell_type": "code",
   "execution_count": 212,
   "id": "53ddb3f5",
   "metadata": {},
   "outputs": [],
   "source": [
    "Personality = \"Yourself\""
   ]
  },
  {
   "cell_type": "code",
   "execution_count": 213,
   "id": "07d4fd2f",
   "metadata": {},
   "outputs": [
    {
     "data": {
      "text/plain": [
       "'Introduce Yourself'"
      ]
     },
     "execution_count": 213,
     "metadata": {},
     "output_type": "execute_result"
    }
   ],
   "source": [
    "Introduction + \" \" + Personality"
   ]
  },
  {
   "cell_type": "code",
   "execution_count": null,
   "id": "2fa9e46d",
   "metadata": {},
   "outputs": [],
   "source": []
  },
  {
   "cell_type": "code",
   "execution_count": 214,
   "id": "9878048c",
   "metadata": {},
   "outputs": [],
   "source": [
    "full_name = \"Abdulrahman O. Olasupo\""
   ]
  },
  {
   "cell_type": "code",
   "execution_count": 215,
   "id": "43431636",
   "metadata": {},
   "outputs": [],
   "source": [
    "Greetings = \"Salam Alaikun\""
   ]
  },
  {
   "cell_type": "code",
   "execution_count": 217,
   "id": "98bf2a1a",
   "metadata": {},
   "outputs": [],
   "source": [
    "Compliments = \"You are looking great\""
   ]
  },
  {
   "cell_type": "code",
   "execution_count": 218,
   "id": "5f2ab63a",
   "metadata": {},
   "outputs": [
    {
     "data": {
      "text/plain": [
       "'Salam Alaikun Abdulrahman O. Olasupo You are looking great'"
      ]
     },
     "execution_count": 218,
     "metadata": {},
     "output_type": "execute_result"
    }
   ],
   "source": [
    "Greetings + \" \" + full_name + \" \" + Compliments"
   ]
  },
  {
   "cell_type": "code",
   "execution_count": null,
   "id": "713d1212",
   "metadata": {},
   "outputs": [],
   "source": []
  },
  {
   "cell_type": "markdown",
   "id": "b1d7cf68",
   "metadata": {},
   "source": [
    "##### String in Python have many built-in methods that can be used to manipulate them. Here are some common string methods.\n",
    "\n",
    "###### Methods are functions associated with data types, and are accessed using the . notation e.g variable_name.method() or \"a string\".method( )\n",
    "\n",
    "##### Methods are a powerful technique for associating common operations with values of specific data types. The .lower(), .upper() and .capitalize() methods are used to change the case of the characters."
   ]
  },
  {
   "cell_type": "code",
   "execution_count": 219,
   "id": "e0072e98",
   "metadata": {},
   "outputs": [
    {
     "data": {
      "text/plain": [
       "'saturday'"
      ]
     },
     "execution_count": 219,
     "metadata": {},
     "output_type": "execute_result"
    }
   ],
   "source": [
    "today"
   ]
  },
  {
   "cell_type": "code",
   "execution_count": 220,
   "id": "a9d6abb0",
   "metadata": {},
   "outputs": [
    {
     "data": {
      "text/plain": [
       "'SATURDAY'"
      ]
     },
     "execution_count": 220,
     "metadata": {},
     "output_type": "execute_result"
    }
   ],
   "source": [
    "today.upper()"
   ]
  },
  {
   "cell_type": "code",
   "execution_count": 221,
   "id": "5fb9990d",
   "metadata": {},
   "outputs": [
    {
     "data": {
      "text/plain": [
       "'IS SUNSHINE'"
      ]
     },
     "execution_count": 221,
     "metadata": {},
     "output_type": "execute_result"
    }
   ],
   "source": [
    "tomorrow.upper()"
   ]
  },
  {
   "cell_type": "code",
   "execution_count": 222,
   "id": "54256efb",
   "metadata": {},
   "outputs": [
    {
     "data": {
      "text/plain": [
       "'SATURDAY'"
      ]
     },
     "execution_count": 222,
     "metadata": {},
     "output_type": "execute_result"
    }
   ],
   "source": [
    "\"saturday\".upper()"
   ]
  },
  {
   "cell_type": "code",
   "execution_count": 223,
   "id": "538d68ae",
   "metadata": {},
   "outputs": [
    {
     "data": {
      "text/plain": [
       "'MOTHER'"
      ]
     },
     "execution_count": 223,
     "metadata": {},
     "output_type": "execute_result"
    }
   ],
   "source": [
    "\"mother\".upper()"
   ]
  },
  {
   "cell_type": "code",
   "execution_count": 224,
   "id": "4f2c4ecd",
   "metadata": {},
   "outputs": [
    {
     "data": {
      "text/plain": [
       "'father'"
      ]
     },
     "execution_count": 224,
     "metadata": {},
     "output_type": "execute_result"
    }
   ],
   "source": [
    "\"FATHER\".lower()"
   ]
  },
  {
   "cell_type": "code",
   "execution_count": 225,
   "id": "f7979b28",
   "metadata": {},
   "outputs": [
    {
     "data": {
      "text/plain": [
       "'Monday'"
      ]
     },
     "execution_count": 225,
     "metadata": {},
     "output_type": "execute_result"
    }
   ],
   "source": [
    "\"monday\".capitalize()"
   ]
  },
  {
   "cell_type": "code",
   "execution_count": 226,
   "id": "e6cc91f6",
   "metadata": {},
   "outputs": [
    {
     "data": {
      "text/plain": [
       "'Saturday'"
      ]
     },
     "execution_count": 226,
     "metadata": {},
     "output_type": "execute_result"
    }
   ],
   "source": [
    "today.capitalize()"
   ]
  },
  {
   "cell_type": "code",
   "execution_count": null,
   "id": "1385b2af",
   "metadata": {},
   "outputs": [],
   "source": []
  },
  {
   "cell_type": "markdown",
   "id": "993f806f",
   "metadata": {},
   "source": [
    "##### The .replace method is used to replace a part of the string with another string. it takes the portion to be replaced and the replacement text as inputs or arguments."
   ]
  },
  {
   "cell_type": "code",
   "execution_count": 237,
   "id": "f6f552bf",
   "metadata": {},
   "outputs": [],
   "source": [
    "another_day = today.replace(\"satur\", \"remarkable \"\"\")"
   ]
  },
  {
   "cell_type": "code",
   "execution_count": 238,
   "id": "4f6ba84a",
   "metadata": {},
   "outputs": [
    {
     "data": {
      "text/plain": [
       "'remarkable day'"
      ]
     },
     "execution_count": 238,
     "metadata": {},
     "output_type": "execute_result"
    }
   ],
   "source": [
    "another_day"
   ]
  },
  {
   "cell_type": "code",
   "execution_count": null,
   "id": "921e36c2",
   "metadata": {},
   "outputs": [],
   "source": []
  },
  {
   "cell_type": "markdown",
   "id": "9169c0bc",
   "metadata": {},
   "source": [
    "###### Note that a new string is returned, and the original string is not modified"
   ]
  },
  {
   "cell_type": "code",
   "execution_count": 239,
   "id": "489c49a4",
   "metadata": {},
   "outputs": [],
   "source": [
    "some_day = today.replace(\"satur\",\"wednes\")"
   ]
  },
  {
   "cell_type": "code",
   "execution_count": 240,
   "id": "5b0e6643",
   "metadata": {},
   "outputs": [
    {
     "data": {
      "text/plain": [
       "'wednesday'"
      ]
     },
     "execution_count": 240,
     "metadata": {},
     "output_type": "execute_result"
    }
   ],
   "source": [
    "some_day"
   ]
  },
  {
   "cell_type": "code",
   "execution_count": 241,
   "id": "3c3e7c3c",
   "metadata": {},
   "outputs": [
    {
     "data": {
      "text/plain": [
       "'saturday'"
      ]
     },
     "execution_count": 241,
     "metadata": {},
     "output_type": "execute_result"
    }
   ],
   "source": [
    "today"
   ]
  },
  {
   "cell_type": "code",
   "execution_count": null,
   "id": "7d2fc87b",
   "metadata": {},
   "outputs": [],
   "source": []
  },
  {
   "cell_type": "markdown",
   "id": "33a8c478",
   "metadata": {},
   "source": [
    "###### The .split method can be used to split into a list of strings based using the characters provided."
   ]
  },
  {
   "cell_type": "code",
   "execution_count": 245,
   "id": "15353e37",
   "metadata": {},
   "outputs": [
    {
     "data": {
      "text/plain": [
       "['Sun', 'Mon', 'Tue', 'Wed', 'Thur', 'Fri', 'Sat']"
      ]
     },
     "execution_count": 245,
     "metadata": {},
     "output_type": "execute_result"
    }
   ],
   "source": [
    "\"Sun,Mon,Tue,Wed,Thur,Fri,Sat\".split(\",\")"
   ]
  },
  {
   "cell_type": "code",
   "execution_count": 246,
   "id": "190beed6",
   "metadata": {},
   "outputs": [
    {
     "data": {
      "text/plain": [
       "['Joseph', 'John', 'Joel', 'Jack']"
      ]
     },
     "execution_count": 246,
     "metadata": {},
     "output_type": "execute_result"
    }
   ],
   "source": [
    "\"Joseph;John;Joel;Jack\".split(\";\")"
   ]
  },
  {
   "cell_type": "code",
   "execution_count": 248,
   "id": "a4b955f9",
   "metadata": {},
   "outputs": [
    {
     "data": {
      "text/plain": [
       "['Joseph', 'James', 'Jud']"
      ]
     },
     "execution_count": 248,
     "metadata": {},
     "output_type": "execute_result"
    }
   ],
   "source": [
    "\"Joseph:James:Jud\".split(\":\")"
   ]
  },
  {
   "cell_type": "code",
   "execution_count": null,
   "id": "184ed986",
   "metadata": {},
   "outputs": [],
   "source": []
  },
  {
   "cell_type": "markdown",
   "id": "80100023",
   "metadata": {},
   "source": [
    "###### The .strip method is used to remove whitespace characters from the beginning and end of a string."
   ]
  },
  {
   "cell_type": "code",
   "execution_count": 250,
   "id": "2e99cbae",
   "metadata": {},
   "outputs": [],
   "source": [
    "my_recipe = \"                 I prefer to use palm oil for cooking                   \""
   ]
  },
  {
   "cell_type": "code",
   "execution_count": 254,
   "id": "aef64ecc",
   "metadata": {},
   "outputs": [
    {
     "data": {
      "text/plain": [
       "'                 I prefer to use palm oil for cooking                   '"
      ]
     },
     "execution_count": 254,
     "metadata": {},
     "output_type": "execute_result"
    }
   ],
   "source": [
    "my_recipe"
   ]
  },
  {
   "cell_type": "code",
   "execution_count": 255,
   "id": "0c0a9d6f",
   "metadata": {},
   "outputs": [],
   "source": [
    "my_recipe = \"                 I prefer to use palm oil for cooking                   \".strip()"
   ]
  },
  {
   "cell_type": "code",
   "execution_count": 256,
   "id": "5201fec9",
   "metadata": {},
   "outputs": [
    {
     "data": {
      "text/plain": [
       "'I prefer to use palm oil for cooking'"
      ]
     },
     "execution_count": 256,
     "metadata": {},
     "output_type": "execute_result"
    }
   ],
   "source": [
    "my_recipe"
   ]
  },
  {
   "cell_type": "code",
   "execution_count": null,
   "id": "cc371626",
   "metadata": {},
   "outputs": [],
   "source": []
  },
  {
   "cell_type": "markdown",
   "id": "7b058a0a",
   "metadata": {},
   "source": [
    "###### The .format method is used to combine values of other data types e.g. integers,floats,booleans,lists etc. with strings. it is often used to create output messages for display."
   ]
  },
  {
   "cell_type": "code",
   "execution_count": null,
   "id": "e974df18",
   "metadata": {},
   "outputs": [],
   "source": [
    "# Input variables\n",
    "cost_of_ice_bag = 1.25\n",
    "profit_margin = .2\n",
    "number_of_bags = 500\n",
    "\n",
    "# Template for output message\n",
    "output_template = \"\"\"If a grocery store sells ice bags at $ { } per bag, with a profit margin of { } %, then the total profit it makes by selling { } ice bags is $ { }.\"\"\"\n",
    "print(output_template)\n",
    "\n"
   ]
  },
  {
   "cell_type": "code",
   "execution_count": null,
   "id": "8787123d",
   "metadata": {},
   "outputs": [],
   "source": [
    "# Inserting values into the string\n",
    "total_profit = cost_of_ice_bag * profit_margin * number_of_bags\n",
    "output_message = output_template.format(cost_of_ice_bag, profit_margin*100, number_of_bags, total_profit)\n",
    "\n",
    "print(output_message)                                      \n",
    "\n",
    "If a grocery store sells ice bag at $1.25 per bag, with a profit margin of 20.0%, then the total profit it makes by selling 500 ice bags is $ 125.0\n"
   ]
  },
  {
   "cell_type": "code",
   "execution_count": null,
   "id": "47be7a45",
   "metadata": {},
   "outputs": [],
   "source": []
  },
  {
   "cell_type": "markdown",
   "id": "1e0460f3",
   "metadata": {},
   "source": [
    "###### it is also possible to use the string concatenation operator + to combine strings with other values. however, those values must be first converted to strings using the str funtion.\n",
    "\n",
    "Also the str function can be used to convert a value of any data type into a string."
   ]
  },
  {
   "cell_type": "code",
   "execution_count": 270,
   "id": "8d9e04e1",
   "metadata": {},
   "outputs": [],
   "source": [
    "total_profit = \"Tell me about yourself\" + \" \" + \"and where you are leaving\""
   ]
  },
  {
   "cell_type": "code",
   "execution_count": 271,
   "id": "115422c3",
   "metadata": {},
   "outputs": [
    {
     "data": {
      "text/plain": [
       "'Tell me about yourself and where you are leaving'"
      ]
     },
     "execution_count": 271,
     "metadata": {},
     "output_type": "execute_result"
    }
   ],
   "source": [
    "total_profit"
   ]
  },
  {
   "cell_type": "code",
   "execution_count": null,
   "id": "8329d8df",
   "metadata": {},
   "outputs": [],
   "source": []
  },
  {
   "cell_type": "code",
   "execution_count": 272,
   "id": "5b24b6e4",
   "metadata": {},
   "outputs": [
    {
     "data": {
      "text/plain": [
       "'15'"
      ]
     },
     "execution_count": 272,
     "metadata": {},
     "output_type": "execute_result"
    }
   ],
   "source": [
    "str(15)"
   ]
  },
  {
   "cell_type": "code",
   "execution_count": 273,
   "id": "ab2618b5",
   "metadata": {},
   "outputs": [
    {
     "data": {
      "text/plain": [
       "'10.2'"
      ]
     },
     "execution_count": 273,
     "metadata": {},
     "output_type": "execute_result"
    }
   ],
   "source": [
    "str(10.2)"
   ]
  },
  {
   "cell_type": "code",
   "execution_count": 274,
   "id": "7da925b3",
   "metadata": {},
   "outputs": [
    {
     "data": {
      "text/plain": [
       "'Tell me about yourself and where you are leaving'"
      ]
     },
     "execution_count": 274,
     "metadata": {},
     "output_type": "execute_result"
    }
   ],
   "source": [
    "str(total_profit)"
   ]
  },
  {
   "cell_type": "code",
   "execution_count": 276,
   "id": "777d2fec",
   "metadata": {},
   "outputs": [
    {
     "data": {
      "text/plain": [
       "'1.25'"
      ]
     },
     "execution_count": 276,
     "metadata": {},
     "output_type": "execute_result"
    }
   ],
   "source": [
    "str(cost_of_ice_bag)"
   ]
  },
  {
   "cell_type": "code",
   "execution_count": 277,
   "id": "300839b6",
   "metadata": {},
   "outputs": [
    {
     "data": {
      "text/plain": [
       "'True'"
      ]
     },
     "execution_count": 277,
     "metadata": {},
     "output_type": "execute_result"
    }
   ],
   "source": [
    "str(True)"
   ]
  },
  {
   "cell_type": "code",
   "execution_count": 278,
   "id": "97e66e96",
   "metadata": {},
   "outputs": [],
   "source": [
    "cat_type = [\"smoothy cat\",\"babilon cat\",\"texas cat\",\"local cat\"]"
   ]
  },
  {
   "cell_type": "code",
   "execution_count": 279,
   "id": "2583495c",
   "metadata": {},
   "outputs": [
    {
     "data": {
      "text/plain": [
       "\"['smoothy cat', 'babilon cat', 'texas cat', 'local cat']\""
      ]
     },
     "execution_count": 279,
     "metadata": {},
     "output_type": "execute_result"
    }
   ],
   "source": [
    "str(cat_type)"
   ]
  },
  {
   "cell_type": "code",
   "execution_count": null,
   "id": "ee987aa2",
   "metadata": {},
   "outputs": [],
   "source": []
  },
  {
   "cell_type": "code",
   "execution_count": null,
   "id": "6190d8af",
   "metadata": {},
   "outputs": [],
   "source": []
  },
  {
   "cell_type": "markdown",
   "id": "45811d2e",
   "metadata": {},
   "source": [
    "##### Note that all string methods returns new values and DO NOT change the existing string.\n",
    "String also support the comparision operators == and != for checking wether two strings are equal.\n",
    "Also note that = is used to assign values or data type to variables and == $ != used for comparison"
   ]
  },
  {
   "cell_type": "code",
   "execution_count": 281,
   "id": "1a2efaff",
   "metadata": {},
   "outputs": [],
   "source": [
    "last_name = \"rose\""
   ]
  },
  {
   "cell_type": "code",
   "execution_count": 282,
   "id": "ddb594c3",
   "metadata": {},
   "outputs": [
    {
     "data": {
      "text/plain": [
       "False"
      ]
     },
     "execution_count": 282,
     "metadata": {},
     "output_type": "execute_result"
    }
   ],
   "source": [
    "last_name == \"jose\""
   ]
  },
  {
   "cell_type": "code",
   "execution_count": 283,
   "id": "64a22288",
   "metadata": {},
   "outputs": [
    {
     "data": {
      "text/plain": [
       "True"
      ]
     },
     "execution_count": 283,
     "metadata": {},
     "output_type": "execute_result"
    }
   ],
   "source": [
    "last_name != \"james\""
   ]
  },
  {
   "cell_type": "code",
   "execution_count": 286,
   "id": "97a281d2",
   "metadata": {},
   "outputs": [
    {
     "data": {
      "text/plain": [
       "True"
      ]
     },
     "execution_count": 286,
     "metadata": {},
     "output_type": "execute_result"
    }
   ],
   "source": [
    "last_name ==\"rose\""
   ]
  },
  {
   "cell_type": "code",
   "execution_count": null,
   "id": "f7209471",
   "metadata": {},
   "outputs": [],
   "source": []
  },
  {
   "cell_type": "markdown",
   "id": "302be567",
   "metadata": {},
   "source": [
    "##### We have looked at the primitive data types in Python and now we can explore non-primitive data structures or containers.\n",
    "\n",
    "##### A list in Python is an ordered collection of values. Lists can hold values of different data types and support operations to add, remove and change values. Lists have the type list.\n",
    "#### To create a list, you have to enclose a list of values within square brackets [ ] seperated by commas."
   ]
  },
  {
   "cell_type": "code",
   "execution_count": 6,
   "id": "2cfbc890",
   "metadata": {},
   "outputs": [],
   "source": [
    "fruits = ['apple','berry','mango','carrot']"
   ]
  },
  {
   "cell_type": "code",
   "execution_count": 7,
   "id": "7c71188e",
   "metadata": {},
   "outputs": [
    {
     "data": {
      "text/plain": [
       "['apple', 'berry', 'mango', 'carrot']"
      ]
     },
     "execution_count": 7,
     "metadata": {},
     "output_type": "execute_result"
    }
   ],
   "source": [
    "fruits"
   ]
  },
  {
   "cell_type": "code",
   "execution_count": 289,
   "id": "3c1cab6b",
   "metadata": {},
   "outputs": [
    {
     "data": {
      "text/plain": [
       "list"
      ]
     },
     "execution_count": 289,
     "metadata": {},
     "output_type": "execute_result"
    }
   ],
   "source": [
    "type(fruits)"
   ]
  },
  {
   "cell_type": "markdown",
   "id": "39f586a2",
   "metadata": {},
   "source": [
    "#### Creating a list containing values of different data types, including another list"
   ]
  },
  {
   "cell_type": "code",
   "execution_count": 8,
   "id": "5d156dce",
   "metadata": {},
   "outputs": [],
   "source": [
    "a_list = ['Hello',23,None,fruits,3.14,3>=5,4!=5]"
   ]
  },
  {
   "cell_type": "code",
   "execution_count": 9,
   "id": "dc77610f",
   "metadata": {},
   "outputs": [
    {
     "data": {
      "text/plain": [
       "['Hello', 23, None, ['apple', 'berry', 'mango', 'carrot'], 3.14, False, True]"
      ]
     },
     "execution_count": 9,
     "metadata": {},
     "output_type": "execute_result"
    }
   ],
   "source": [
    "a_list"
   ]
  },
  {
   "cell_type": "code",
   "execution_count": 316,
   "id": "65fbcf61",
   "metadata": {},
   "outputs": [
    {
     "data": {
      "text/plain": [
       "7"
      ]
     },
     "execution_count": 316,
     "metadata": {},
     "output_type": "execute_result"
    }
   ],
   "source": [
    "len(a_list)"
   ]
  },
  {
   "cell_type": "code",
   "execution_count": 295,
   "id": "3533948c",
   "metadata": {},
   "outputs": [],
   "source": [
    "empty_list = []"
   ]
  },
  {
   "cell_type": "code",
   "execution_count": 296,
   "id": "2f910fdb",
   "metadata": {},
   "outputs": [
    {
     "data": {
      "text/plain": [
       "[]"
      ]
     },
     "execution_count": 296,
     "metadata": {},
     "output_type": "execute_result"
    }
   ],
   "source": [
    "empty_list"
   ]
  },
  {
   "cell_type": "code",
   "execution_count": 317,
   "id": "fb091a78",
   "metadata": {},
   "outputs": [
    {
     "data": {
      "text/plain": [
       "0"
      ]
     },
     "execution_count": 317,
     "metadata": {},
     "output_type": "execute_result"
    }
   ],
   "source": [
    "len(empty_list)"
   ]
  },
  {
   "cell_type": "code",
   "execution_count": null,
   "id": "aaa79434",
   "metadata": {},
   "outputs": [],
   "source": []
  },
  {
   "cell_type": "code",
   "execution_count": null,
   "id": "12ba5974",
   "metadata": {},
   "outputs": [],
   "source": []
  },
  {
   "cell_type": "markdown",
   "id": "303cde00",
   "metadata": {},
   "source": [
    "###### len function is use to determine the number of values in a list. len function can also be used to determine values in several other data types."
   ]
  },
  {
   "cell_type": "code",
   "execution_count": 297,
   "id": "287e2df4",
   "metadata": {},
   "outputs": [
    {
     "data": {
      "text/plain": [
       "4"
      ]
     },
     "execution_count": 297,
     "metadata": {},
     "output_type": "execute_result"
    }
   ],
   "source": [
    "len(fruits)"
   ]
  },
  {
   "cell_type": "code",
   "execution_count": 298,
   "id": "3b72b3a8",
   "metadata": {},
   "outputs": [
    {
     "name": "stdout",
     "output_type": "stream",
     "text": [
      "Number of fruits: 4\n"
     ]
    }
   ],
   "source": [
    "print(\"Number of fruits:\", len(fruits))"
   ]
  },
  {
   "cell_type": "code",
   "execution_count": null,
   "id": "a7b3bf37",
   "metadata": {},
   "outputs": [],
   "source": []
  },
  {
   "cell_type": "code",
   "execution_count": 10,
   "id": "57963c90",
   "metadata": {},
   "outputs": [],
   "source": [
    "cars = ['civic','corola','toyota','bentley','hundai','chrysler']"
   ]
  },
  {
   "cell_type": "code",
   "execution_count": 11,
   "id": "43ea6044",
   "metadata": {},
   "outputs": [
    {
     "data": {
      "text/plain": [
       "['civic', 'corola', 'toyota', 'bentley', 'hundai', 'chrysler']"
      ]
     },
     "execution_count": 11,
     "metadata": {},
     "output_type": "execute_result"
    }
   ],
   "source": [
    "cars"
   ]
  },
  {
   "cell_type": "code",
   "execution_count": 305,
   "id": "0deab3ae",
   "metadata": {},
   "outputs": [
    {
     "data": {
      "text/plain": [
       "6"
      ]
     },
     "execution_count": 305,
     "metadata": {},
     "output_type": "execute_result"
    }
   ],
   "source": [
    "len(cars)"
   ]
  },
  {
   "cell_type": "code",
   "execution_count": 303,
   "id": "cbfc9040",
   "metadata": {},
   "outputs": [
    {
     "data": {
      "text/plain": [
       "list"
      ]
     },
     "execution_count": 303,
     "metadata": {},
     "output_type": "execute_result"
    }
   ],
   "source": [
    "type(cars)"
   ]
  },
  {
   "cell_type": "code",
   "execution_count": 304,
   "id": "da5ae212",
   "metadata": {},
   "outputs": [
    {
     "name": "stdout",
     "output_type": "stream",
     "text": [
      "Number of cars: 6\n"
     ]
    }
   ],
   "source": [
    "print(\"Number of cars:\", len(cars))"
   ]
  },
  {
   "cell_type": "code",
   "execution_count": null,
   "id": "768a3481",
   "metadata": {},
   "outputs": [],
   "source": []
  },
  {
   "cell_type": "code",
   "execution_count": 312,
   "id": "114fbe78",
   "metadata": {},
   "outputs": [],
   "source": [
    "my_favorite_movies = ['jack','jill','tom','jerry']"
   ]
  },
  {
   "cell_type": "code",
   "execution_count": 313,
   "id": "a3acb7df",
   "metadata": {},
   "outputs": [
    {
     "data": {
      "text/plain": [
       "4"
      ]
     },
     "execution_count": 313,
     "metadata": {},
     "output_type": "execute_result"
    }
   ],
   "source": [
    "len(my_favorite_movies)"
   ]
  },
  {
   "cell_type": "code",
   "execution_count": 315,
   "id": "21aba707",
   "metadata": {},
   "outputs": [
    {
     "name": "stdout",
     "output_type": "stream",
     "text": [
      "my_favorite_movies: 4\n"
     ]
    }
   ],
   "source": [
    "print(\"my_favorite_movies:\",  len(my_favorite_movies))"
   ]
  },
  {
   "cell_type": "code",
   "execution_count": null,
   "id": "16f6590b",
   "metadata": {},
   "outputs": [],
   "source": []
  },
  {
   "cell_type": "markdown",
   "id": "045ac422",
   "metadata": {},
   "source": [
    "##### You can access the elements of a list using the index of the element, starting from the index 0"
   ]
  },
  {
   "cell_type": "code",
   "execution_count": 319,
   "id": "9023ff8d",
   "metadata": {},
   "outputs": [
    {
     "data": {
      "text/plain": [
       "['apple', 'berry', 'mango', 'carrot']"
      ]
     },
     "execution_count": 319,
     "metadata": {},
     "output_type": "execute_result"
    }
   ],
   "source": [
    "fruits"
   ]
  },
  {
   "cell_type": "code",
   "execution_count": 320,
   "id": "e8596d35",
   "metadata": {},
   "outputs": [
    {
     "data": {
      "text/plain": [
       "'apple'"
      ]
     },
     "execution_count": 320,
     "metadata": {},
     "output_type": "execute_result"
    }
   ],
   "source": [
    "fruits[0]"
   ]
  },
  {
   "cell_type": "code",
   "execution_count": 321,
   "id": "b5acde34",
   "metadata": {},
   "outputs": [
    {
     "data": {
      "text/plain": [
       "'carrot'"
      ]
     },
     "execution_count": 321,
     "metadata": {},
     "output_type": "execute_result"
    }
   ],
   "source": [
    "fruits[3]"
   ]
  },
  {
   "cell_type": "code",
   "execution_count": 322,
   "id": "a5c580a6",
   "metadata": {},
   "outputs": [
    {
     "data": {
      "text/plain": [
       "'mango'"
      ]
     },
     "execution_count": 322,
     "metadata": {},
     "output_type": "execute_result"
    }
   ],
   "source": [
    "fruits[2]"
   ]
  },
  {
   "cell_type": "code",
   "execution_count": null,
   "id": "1a75d672",
   "metadata": {},
   "outputs": [],
   "source": []
  },
  {
   "cell_type": "markdown",
   "id": "637eb867",
   "metadata": {},
   "source": [
    "###### if you try to access an index equal to or higher than the lenght of the list, Python returns an indexError"
   ]
  },
  {
   "cell_type": "code",
   "execution_count": 323,
   "id": "f526f561",
   "metadata": {},
   "outputs": [
    {
     "ename": "IndexError",
     "evalue": "list index out of range",
     "output_type": "error",
     "traceback": [
      "\u001b[1;31m---------------------------------------------------------------------------\u001b[0m",
      "\u001b[1;31mIndexError\u001b[0m                                Traceback (most recent call last)",
      "Cell \u001b[1;32mIn[323], line 1\u001b[0m\n\u001b[1;32m----> 1\u001b[0m \u001b[43mfruits\u001b[49m\u001b[43m[\u001b[49m\u001b[38;5;241;43m4\u001b[39;49m\u001b[43m]\u001b[49m\n",
      "\u001b[1;31mIndexError\u001b[0m: list index out of range"
     ]
    }
   ],
   "source": [
    "fruits[4]"
   ]
  },
  {
   "cell_type": "markdown",
   "id": "f676d30d",
   "metadata": {},
   "source": [
    "##### You can also access the elements of a list using the minus - index of the element. such as [ -1], it will pick the last element on the list"
   ]
  },
  {
   "cell_type": "code",
   "execution_count": 12,
   "id": "b950fe3e",
   "metadata": {},
   "outputs": [
    {
     "data": {
      "text/plain": [
       "['apple', 'berry', 'mango', 'carrot']"
      ]
     },
     "execution_count": 12,
     "metadata": {},
     "output_type": "execute_result"
    }
   ],
   "source": [
    "fruits"
   ]
  },
  {
   "cell_type": "code",
   "execution_count": 325,
   "id": "710b07d8",
   "metadata": {},
   "outputs": [
    {
     "data": {
      "text/plain": [
       "'carrot'"
      ]
     },
     "execution_count": 325,
     "metadata": {},
     "output_type": "execute_result"
    }
   ],
   "source": [
    "fruits[-1]"
   ]
  },
  {
   "cell_type": "code",
   "execution_count": 326,
   "id": "bc877ffb",
   "metadata": {},
   "outputs": [
    {
     "data": {
      "text/plain": [
       "'mango'"
      ]
     },
     "execution_count": 326,
     "metadata": {},
     "output_type": "execute_result"
    }
   ],
   "source": [
    "fruits[-2]"
   ]
  },
  {
   "cell_type": "code",
   "execution_count": null,
   "id": "7f73ab0f",
   "metadata": {},
   "outputs": [],
   "source": []
  },
  {
   "cell_type": "markdown",
   "id": "6ead6326",
   "metadata": {},
   "source": [
    "##### You can also access a range of values from the list. The result is itself a list."
   ]
  },
  {
   "cell_type": "code",
   "execution_count": 327,
   "id": "6fcc9534",
   "metadata": {},
   "outputs": [
    {
     "data": {
      "text/plain": [
       "['Hello', 23, None, ['apple', 'berry', 'mango', 'carrot'], 3.14, False, True]"
      ]
     },
     "execution_count": 327,
     "metadata": {},
     "output_type": "execute_result"
    }
   ],
   "source": [
    "a_list"
   ]
  },
  {
   "cell_type": "code",
   "execution_count": 328,
   "id": "c306413f",
   "metadata": {},
   "outputs": [
    {
     "data": {
      "text/plain": [
       "7"
      ]
     },
     "execution_count": 328,
     "metadata": {},
     "output_type": "execute_result"
    }
   ],
   "source": [
    "len(a_list)"
   ]
  },
  {
   "cell_type": "code",
   "execution_count": 335,
   "id": "105aef11",
   "metadata": {},
   "outputs": [
    {
     "data": {
      "text/plain": [
       "[None, ['apple', 'berry', 'mango', 'carrot'], 3.14, False, True]"
      ]
     },
     "execution_count": 335,
     "metadata": {},
     "output_type": "execute_result"
    }
   ],
   "source": [
    "a_list[2:7]"
   ]
  },
  {
   "cell_type": "markdown",
   "id": "82526c32",
   "metadata": {},
   "source": [
    "###### Note that the start index (2 in the above example) of the range is included in the list, but the end index is not included. therefore the result has 4 values(indices 2,3,4 and 5)"
   ]
  },
  {
   "cell_type": "code",
   "execution_count": null,
   "id": "d491eac6",
   "metadata": {},
   "outputs": [],
   "source": []
  },
  {
   "cell_type": "code",
   "execution_count": 337,
   "id": "bb7c1b59",
   "metadata": {},
   "outputs": [
    {
     "data": {
      "text/plain": [
       "['Hello', 23, None]"
      ]
     },
     "execution_count": 337,
     "metadata": {},
     "output_type": "execute_result"
    }
   ],
   "source": [
    "a_list[0:3]"
   ]
  },
  {
   "cell_type": "code",
   "execution_count": null,
   "id": "7714ad01",
   "metadata": {},
   "outputs": [],
   "source": []
  },
  {
   "cell_type": "markdown",
   "id": "d888fc0c",
   "metadata": {},
   "source": [
    "\n",
    "##### Here are some experiments you should try out. Try setting one or both indices of the range are larger than the size of the list. e.g\n",
    "a_list[2:10]\n",
    "Try setting the start index of the range to be larger than the end index of the range\n",
    "Try leaving out the start or end index of a range.\n",
    "Try using negative indices for the range a_list[-2:-5] or a_list[-5:-2].  Can you explain"
   ]
  },
  {
   "cell_type": "code",
   "execution_count": null,
   "id": "e4597d95",
   "metadata": {},
   "outputs": [],
   "source": []
  },
  {
   "cell_type": "code",
   "execution_count": 339,
   "id": "26ab1675",
   "metadata": {},
   "outputs": [
    {
     "data": {
      "text/plain": [
       "['Hello', 23, None, ['apple', 'berry', 'mango', 'carrot'], 3.14, False, True]"
      ]
     },
     "execution_count": 339,
     "metadata": {},
     "output_type": "execute_result"
    }
   ],
   "source": [
    "a_list"
   ]
  },
  {
   "cell_type": "code",
   "execution_count": null,
   "id": "cb676c94",
   "metadata": {},
   "outputs": [],
   "source": []
  },
  {
   "cell_type": "code",
   "execution_count": 338,
   "id": "4ba6d917",
   "metadata": {},
   "outputs": [
    {
     "data": {
      "text/plain": [
       "[None, ['apple', 'berry', 'mango', 'carrot'], 3.14, False]"
      ]
     },
     "execution_count": 338,
     "metadata": {},
     "output_type": "execute_result"
    }
   ],
   "source": [
    "a_list[2:6]"
   ]
  },
  {
   "cell_type": "code",
   "execution_count": null,
   "id": "9e9aaff6",
   "metadata": {},
   "outputs": [],
   "source": []
  },
  {
   "cell_type": "code",
   "execution_count": 346,
   "id": "b09483cd",
   "metadata": {},
   "outputs": [
    {
     "data": {
      "text/plain": [
       "[]"
      ]
     },
     "execution_count": 346,
     "metadata": {},
     "output_type": "execute_result"
    }
   ],
   "source": [
    "a_list[7:7]"
   ]
  },
  {
   "cell_type": "code",
   "execution_count": null,
   "id": "3e8d0b30",
   "metadata": {},
   "outputs": [],
   "source": []
  },
  {
   "cell_type": "code",
   "execution_count": 348,
   "id": "e946547e",
   "metadata": {},
   "outputs": [
    {
     "data": {
      "text/plain": [
       "[None, ['apple', 'berry', 'mango', 'carrot'], 3.14, False, True]"
      ]
     },
     "execution_count": 348,
     "metadata": {},
     "output_type": "execute_result"
    }
   ],
   "source": [
    "a_list[2:11]"
   ]
  },
  {
   "cell_type": "code",
   "execution_count": null,
   "id": "53571ee8",
   "metadata": {},
   "outputs": [],
   "source": []
  },
  {
   "cell_type": "code",
   "execution_count": 349,
   "id": "8465ae6c",
   "metadata": {},
   "outputs": [
    {
     "data": {
      "text/plain": [
       "[]"
      ]
     },
     "execution_count": 349,
     "metadata": {},
     "output_type": "execute_result"
    }
   ],
   "source": [
    "a_list[7:2]"
   ]
  },
  {
   "cell_type": "code",
   "execution_count": null,
   "id": "f23eeaab",
   "metadata": {},
   "outputs": [],
   "source": []
  },
  {
   "cell_type": "code",
   "execution_count": 350,
   "id": "aaf1f9db",
   "metadata": {},
   "outputs": [
    {
     "data": {
      "text/plain": [
       "['Hello', 23, None, ['apple', 'berry', 'mango', 'carrot']]"
      ]
     },
     "execution_count": 350,
     "metadata": {},
     "output_type": "execute_result"
    }
   ],
   "source": [
    "a_list[:4]   #### this format gives output 0 - 3"
   ]
  },
  {
   "cell_type": "code",
   "execution_count": null,
   "id": "0317826b",
   "metadata": {},
   "outputs": [],
   "source": []
  },
  {
   "cell_type": "code",
   "execution_count": 351,
   "id": "80805539",
   "metadata": {},
   "outputs": [
    {
     "data": {
      "text/plain": [
       "[False, True]"
      ]
     },
     "execution_count": 351,
     "metadata": {},
     "output_type": "execute_result"
    }
   ],
   "source": [
    "a_list[5:]   #### this format gives output from 5 - to the last element on the list"
   ]
  },
  {
   "cell_type": "code",
   "execution_count": null,
   "id": "e63b22a0",
   "metadata": {},
   "outputs": [],
   "source": []
  },
  {
   "cell_type": "code",
   "execution_count": 352,
   "id": "fe8faf11",
   "metadata": {},
   "outputs": [
    {
     "data": {
      "text/plain": [
       "['Hello', 23, None, ['apple', 'berry', 'mango', 'carrot'], 3.14, False, True]"
      ]
     },
     "execution_count": 352,
     "metadata": {},
     "output_type": "execute_result"
    }
   ],
   "source": [
    "a_list[0:]  #### this format gives all element in the list"
   ]
  },
  {
   "cell_type": "code",
   "execution_count": null,
   "id": "1f20f672",
   "metadata": {},
   "outputs": [],
   "source": []
  },
  {
   "cell_type": "code",
   "execution_count": 353,
   "id": "c360efd0",
   "metadata": {},
   "outputs": [
    {
     "data": {
      "text/plain": [
       "[['apple', 'berry', 'mango', 'carrot'], 3.14, False, True]"
      ]
     },
     "execution_count": 353,
     "metadata": {},
     "output_type": "execute_result"
    }
   ],
   "source": [
    "a_list[3:]  #### this format gives output from 3 - to the last element on the list"
   ]
  },
  {
   "cell_type": "code",
   "execution_count": null,
   "id": "375b32d7",
   "metadata": {},
   "outputs": [],
   "source": []
  },
  {
   "cell_type": "code",
   "execution_count": 354,
   "id": "65a0ec58",
   "metadata": {},
   "outputs": [
    {
     "data": {
      "text/plain": [
       "[]"
      ]
     },
     "execution_count": 354,
     "metadata": {},
     "output_type": "execute_result"
    }
   ],
   "source": [
    "a_list[-2:-5]"
   ]
  },
  {
   "cell_type": "code",
   "execution_count": null,
   "id": "395e4461",
   "metadata": {},
   "outputs": [],
   "source": []
  },
  {
   "cell_type": "code",
   "execution_count": 355,
   "id": "4a99e3e7",
   "metadata": {},
   "outputs": [
    {
     "data": {
      "text/plain": [
       "[None, ['apple', 'berry', 'mango', 'carrot'], 3.14]"
      ]
     },
     "execution_count": 355,
     "metadata": {},
     "output_type": "execute_result"
    }
   ],
   "source": [
    "a_list[-5:-2]    #### this format gives the same output as [2:5]"
   ]
  },
  {
   "cell_type": "code",
   "execution_count": null,
   "id": "94b9037e",
   "metadata": {},
   "outputs": [],
   "source": []
  },
  {
   "cell_type": "markdown",
   "id": "8798cb0e",
   "metadata": {},
   "source": [
    "##### You can also change or modify the value at a specific index within a list using the assignment operation."
   ]
  },
  {
   "cell_type": "code",
   "execution_count": 356,
   "id": "d2197dc4",
   "metadata": {},
   "outputs": [
    {
     "data": {
      "text/plain": [
       "['apple', 'berry', 'mango', 'carrot']"
      ]
     },
     "execution_count": 356,
     "metadata": {},
     "output_type": "execute_result"
    }
   ],
   "source": [
    "fruits"
   ]
  },
  {
   "cell_type": "code",
   "execution_count": 357,
   "id": "0ac335a4",
   "metadata": {},
   "outputs": [],
   "source": [
    "fruits[1] = 'strawberry'"
   ]
  },
  {
   "cell_type": "code",
   "execution_count": 358,
   "id": "79f1307f",
   "metadata": {},
   "outputs": [
    {
     "data": {
      "text/plain": [
       "['apple', 'strawberry', 'mango', 'carrot']"
      ]
     },
     "execution_count": 358,
     "metadata": {},
     "output_type": "execute_result"
    }
   ],
   "source": [
    "fruits"
   ]
  },
  {
   "cell_type": "code",
   "execution_count": 359,
   "id": "b60a4814",
   "metadata": {},
   "outputs": [],
   "source": [
    "fruits[2] = 'watermelon'"
   ]
  },
  {
   "cell_type": "code",
   "execution_count": 360,
   "id": "21c97ca1",
   "metadata": {},
   "outputs": [
    {
     "data": {
      "text/plain": [
       "['apple', 'strawberry', 'watermelon', 'carrot']"
      ]
     },
     "execution_count": 360,
     "metadata": {},
     "output_type": "execute_result"
    }
   ],
   "source": [
    "fruits"
   ]
  },
  {
   "cell_type": "code",
   "execution_count": null,
   "id": "a8708617",
   "metadata": {},
   "outputs": [],
   "source": []
  },
  {
   "cell_type": "code",
   "execution_count": null,
   "id": "3cb06ebe",
   "metadata": {},
   "outputs": [],
   "source": []
  },
  {
   "cell_type": "markdown",
   "id": "d50851ed",
   "metadata": {},
   "source": [
    "##### A new value can be added to the end of a list using append method"
   ]
  },
  {
   "cell_type": "code",
   "execution_count": 361,
   "id": "157bb213",
   "metadata": {},
   "outputs": [
    {
     "data": {
      "text/plain": [
       "['apple', 'strawberry', 'watermelon', 'carrot']"
      ]
     },
     "execution_count": 361,
     "metadata": {},
     "output_type": "execute_result"
    }
   ],
   "source": [
    "fruits"
   ]
  },
  {
   "cell_type": "code",
   "execution_count": 363,
   "id": "b0fa9856",
   "metadata": {},
   "outputs": [],
   "source": [
    "fruits.append('orange')"
   ]
  },
  {
   "cell_type": "code",
   "execution_count": 364,
   "id": "c4454b8b",
   "metadata": {},
   "outputs": [
    {
     "data": {
      "text/plain": [
       "['apple', 'strawberry', 'watermelon', 'carrot', 'orange']"
      ]
     },
     "execution_count": 364,
     "metadata": {},
     "output_type": "execute_result"
    }
   ],
   "source": [
    "fruits"
   ]
  },
  {
   "cell_type": "code",
   "execution_count": null,
   "id": "45179ecb",
   "metadata": {},
   "outputs": [],
   "source": []
  },
  {
   "cell_type": "code",
   "execution_count": 365,
   "id": "e7b4cc78",
   "metadata": {},
   "outputs": [],
   "source": [
    "fruits.append('banana')"
   ]
  },
  {
   "cell_type": "code",
   "execution_count": 366,
   "id": "5a23502c",
   "metadata": {},
   "outputs": [
    {
     "data": {
      "text/plain": [
       "['apple', 'strawberry', 'watermelon', 'carrot', 'orange', 'banana']"
      ]
     },
     "execution_count": 366,
     "metadata": {},
     "output_type": "execute_result"
    }
   ],
   "source": [
    "fruits"
   ]
  },
  {
   "cell_type": "code",
   "execution_count": null,
   "id": "b2c8aaee",
   "metadata": {},
   "outputs": [],
   "source": []
  },
  {
   "cell_type": "code",
   "execution_count": 367,
   "id": "974c3fc3",
   "metadata": {},
   "outputs": [
    {
     "data": {
      "text/plain": [
       "['civic', 'corola', 'toyota', 'bentley', 'hundai', 'chrysler']"
      ]
     },
     "execution_count": 367,
     "metadata": {},
     "output_type": "execute_result"
    }
   ],
   "source": [
    "cars"
   ]
  },
  {
   "cell_type": "code",
   "execution_count": 368,
   "id": "954a2648",
   "metadata": {},
   "outputs": [],
   "source": [
    "cars[2] = 'masarati'"
   ]
  },
  {
   "cell_type": "code",
   "execution_count": 369,
   "id": "b5d3fab8",
   "metadata": {},
   "outputs": [
    {
     "data": {
      "text/plain": [
       "['civic', 'corola', 'masarati', 'bentley', 'hundai', 'chrysler']"
      ]
     },
     "execution_count": 369,
     "metadata": {},
     "output_type": "execute_result"
    }
   ],
   "source": [
    "cars"
   ]
  },
  {
   "cell_type": "code",
   "execution_count": null,
   "id": "5260ee08",
   "metadata": {},
   "outputs": [],
   "source": []
  },
  {
   "cell_type": "code",
   "execution_count": 371,
   "id": "3eabbeae",
   "metadata": {},
   "outputs": [],
   "source": [
    "cars.append('nissan')"
   ]
  },
  {
   "cell_type": "code",
   "execution_count": 372,
   "id": "2c4cec6e",
   "metadata": {},
   "outputs": [
    {
     "data": {
      "text/plain": [
       "['civic', 'corola', 'masarati', 'bentley', 'hundai', 'chrysler', 'nissan']"
      ]
     },
     "execution_count": 372,
     "metadata": {},
     "output_type": "execute_result"
    }
   ],
   "source": [
    "cars"
   ]
  },
  {
   "cell_type": "code",
   "execution_count": null,
   "id": "bf8a1b9a",
   "metadata": {},
   "outputs": [],
   "source": []
  },
  {
   "cell_type": "code",
   "execution_count": null,
   "id": "f7246370",
   "metadata": {},
   "outputs": [],
   "source": []
  },
  {
   "cell_type": "markdown",
   "id": "45fedeea",
   "metadata": {},
   "source": [
    "###### A new value or element can be inserted at a specific index using the insert method."
   ]
  },
  {
   "cell_type": "code",
   "execution_count": 373,
   "id": "cee35741",
   "metadata": {},
   "outputs": [
    {
     "data": {
      "text/plain": [
       "['apple', 'strawberry', 'watermelon', 'carrot', 'orange', 'banana']"
      ]
     },
     "execution_count": 373,
     "metadata": {},
     "output_type": "execute_result"
    }
   ],
   "source": [
    "fruits"
   ]
  },
  {
   "cell_type": "code",
   "execution_count": 375,
   "id": "b562d3c8",
   "metadata": {},
   "outputs": [],
   "source": [
    "fruits.insert(1,'mango')"
   ]
  },
  {
   "cell_type": "code",
   "execution_count": 376,
   "id": "ba728ceb",
   "metadata": {},
   "outputs": [
    {
     "data": {
      "text/plain": [
       "['apple', 'mango', 'strawberry', 'watermelon', 'carrot', 'orange', 'banana']"
      ]
     },
     "execution_count": 376,
     "metadata": {},
     "output_type": "execute_result"
    }
   ],
   "source": [
    "fruits"
   ]
  },
  {
   "cell_type": "code",
   "execution_count": null,
   "id": "68c21519",
   "metadata": {},
   "outputs": [],
   "source": []
  },
  {
   "cell_type": "code",
   "execution_count": 377,
   "id": "e8532fa5",
   "metadata": {},
   "outputs": [],
   "source": [
    "fruits.insert(3,'dates')"
   ]
  },
  {
   "cell_type": "code",
   "execution_count": null,
   "id": "a0eef3da",
   "metadata": {},
   "outputs": [],
   "source": []
  },
  {
   "cell_type": "code",
   "execution_count": 378,
   "id": "ce02bfa7",
   "metadata": {},
   "outputs": [
    {
     "data": {
      "text/plain": [
       "['apple',\n",
       " 'mango',\n",
       " 'strawberry',\n",
       " 'dates',\n",
       " 'watermelon',\n",
       " 'carrot',\n",
       " 'orange',\n",
       " 'banana']"
      ]
     },
     "execution_count": 378,
     "metadata": {},
     "output_type": "execute_result"
    }
   ],
   "source": [
    "fruits"
   ]
  },
  {
   "cell_type": "code",
   "execution_count": null,
   "id": "81cc4ac4",
   "metadata": {},
   "outputs": [],
   "source": []
  },
  {
   "cell_type": "markdown",
   "id": "5f2559d2",
   "metadata": {},
   "source": [
    "##### You can remove a value or element from the list using the remove method"
   ]
  },
  {
   "cell_type": "code",
   "execution_count": 383,
   "id": "36b1273a",
   "metadata": {},
   "outputs": [
    {
     "data": {
      "text/plain": [
       "['apple',\n",
       " 'mango',\n",
       " 'grapes',\n",
       " 'dates',\n",
       " 'watermelon',\n",
       " 'carrot',\n",
       " 'orange',\n",
       " 'banana']"
      ]
     },
     "execution_count": 383,
     "metadata": {},
     "output_type": "execute_result"
    }
   ],
   "source": [
    "fruits"
   ]
  },
  {
   "cell_type": "code",
   "execution_count": 384,
   "id": "4eb64ab2",
   "metadata": {},
   "outputs": [],
   "source": [
    "fruits.remove('watermelon')"
   ]
  },
  {
   "cell_type": "code",
   "execution_count": 385,
   "id": "866047f2",
   "metadata": {},
   "outputs": [
    {
     "data": {
      "text/plain": [
       "['apple', 'mango', 'grapes', 'dates', 'carrot', 'orange', 'banana']"
      ]
     },
     "execution_count": 385,
     "metadata": {},
     "output_type": "execute_result"
    }
   ],
   "source": [
    "fruits"
   ]
  },
  {
   "cell_type": "code",
   "execution_count": null,
   "id": "971f907d",
   "metadata": {},
   "outputs": [],
   "source": []
  },
  {
   "cell_type": "code",
   "execution_count": 386,
   "id": "cc2a66c5",
   "metadata": {},
   "outputs": [
    {
     "data": {
      "text/plain": [
       "['civic', 'corola', 'masarati', 'bentley', 'hundai', 'chrysler', 'nissan']"
      ]
     },
     "execution_count": 386,
     "metadata": {},
     "output_type": "execute_result"
    }
   ],
   "source": [
    "cars"
   ]
  },
  {
   "cell_type": "code",
   "execution_count": 387,
   "id": "f6fb0371",
   "metadata": {},
   "outputs": [],
   "source": [
    "cars.remove('chrysler')"
   ]
  },
  {
   "cell_type": "code",
   "execution_count": 388,
   "id": "0bdf7891",
   "metadata": {},
   "outputs": [
    {
     "data": {
      "text/plain": [
       "['civic', 'corola', 'masarati', 'bentley', 'hundai', 'nissan']"
      ]
     },
     "execution_count": 388,
     "metadata": {},
     "output_type": "execute_result"
    }
   ],
   "source": [
    "cars"
   ]
  },
  {
   "cell_type": "code",
   "execution_count": 389,
   "id": "2d49da9d",
   "metadata": {},
   "outputs": [
    {
     "ename": "TypeError",
     "evalue": "list.remove() takes exactly one argument (2 given)",
     "output_type": "error",
     "traceback": [
      "\u001b[1;31m---------------------------------------------------------------------------\u001b[0m",
      "\u001b[1;31mTypeError\u001b[0m                                 Traceback (most recent call last)",
      "Cell \u001b[1;32mIn[389], line 1\u001b[0m\n\u001b[1;32m----> 1\u001b[0m \u001b[43mcars\u001b[49m\u001b[38;5;241;43m.\u001b[39;49m\u001b[43mremove\u001b[49m\u001b[43m(\u001b[49m\u001b[43m(\u001b[49m\u001b[38;5;124;43m'\u001b[39;49m\u001b[38;5;124;43mhundai\u001b[39;49m\u001b[38;5;124;43m'\u001b[39;49m\u001b[43m)\u001b[49m\u001b[43m,\u001b[49m\u001b[43m(\u001b[49m\u001b[38;5;124;43m'\u001b[39;49m\u001b[38;5;124;43mnissan\u001b[39;49m\u001b[38;5;124;43m'\u001b[39;49m\u001b[43m)\u001b[49m\u001b[43m)\u001b[49m\n",
      "\u001b[1;31mTypeError\u001b[0m: list.remove() takes exactly one argument (2 given)"
     ]
    }
   ],
   "source": [
    "cars.remove(('hundai'),('nissan'))"
   ]
  },
  {
   "cell_type": "code",
   "execution_count": null,
   "id": "029862ff",
   "metadata": {},
   "outputs": [],
   "source": []
  },
  {
   "cell_type": "code",
   "execution_count": 390,
   "id": "299db9f1",
   "metadata": {},
   "outputs": [
    {
     "ename": "TypeError",
     "evalue": "list.append() takes exactly one argument (2 given)",
     "output_type": "error",
     "traceback": [
      "\u001b[1;31m---------------------------------------------------------------------------\u001b[0m",
      "\u001b[1;31mTypeError\u001b[0m                                 Traceback (most recent call last)",
      "Cell \u001b[1;32mIn[390], line 1\u001b[0m\n\u001b[1;32m----> 1\u001b[0m \u001b[43mcars\u001b[49m\u001b[38;5;241;43m.\u001b[39;49m\u001b[43mappend\u001b[49m\u001b[43m(\u001b[49m\u001b[43m(\u001b[49m\u001b[38;5;124;43m'\u001b[39;49m\u001b[38;5;124;43mhonda\u001b[39;49m\u001b[38;5;124;43m'\u001b[39;49m\u001b[43m)\u001b[49m\u001b[43m,\u001b[49m\u001b[43m(\u001b[49m\u001b[38;5;124;43m'\u001b[39;49m\u001b[38;5;124;43mtoyota\u001b[39;49m\u001b[38;5;124;43m'\u001b[39;49m\u001b[43m)\u001b[49m\u001b[43m)\u001b[49m\n",
      "\u001b[1;31mTypeError\u001b[0m: list.append() takes exactly one argument (2 given)"
     ]
    }
   ],
   "source": [
    "cars.append(('honda'),('toyota'))"
   ]
  },
  {
   "cell_type": "markdown",
   "id": "1523fbcb",
   "metadata": {},
   "source": [
    "##### To remove an element from a specific index, use the pop method. The method also returns the removed element"
   ]
  },
  {
   "cell_type": "code",
   "execution_count": 391,
   "id": "bb1fc0f3",
   "metadata": {},
   "outputs": [
    {
     "data": {
      "text/plain": [
       "['apple', 'mango', 'grapes', 'dates', 'carrot', 'orange', 'banana']"
      ]
     },
     "execution_count": 391,
     "metadata": {},
     "output_type": "execute_result"
    }
   ],
   "source": [
    "fruits"
   ]
  },
  {
   "cell_type": "code",
   "execution_count": 392,
   "id": "b3c4b3f2",
   "metadata": {},
   "outputs": [
    {
     "data": {
      "text/plain": [
       "'mango'"
      ]
     },
     "execution_count": 392,
     "metadata": {},
     "output_type": "execute_result"
    }
   ],
   "source": [
    "fruits.pop(1)"
   ]
  },
  {
   "cell_type": "code",
   "execution_count": 393,
   "id": "11462a5e",
   "metadata": {},
   "outputs": [
    {
     "data": {
      "text/plain": [
       "['apple', 'grapes', 'dates', 'carrot', 'orange', 'banana']"
      ]
     },
     "execution_count": 393,
     "metadata": {},
     "output_type": "execute_result"
    }
   ],
   "source": [
    "fruits"
   ]
  },
  {
   "cell_type": "code",
   "execution_count": null,
   "id": "8d810af5",
   "metadata": {},
   "outputs": [],
   "source": []
  },
  {
   "cell_type": "markdown",
   "id": "0ae56bb5",
   "metadata": {},
   "source": [
    "##### if no index is provided, the pop method remove the last elements from the list"
   ]
  },
  {
   "cell_type": "code",
   "execution_count": 396,
   "id": "e24d8685",
   "metadata": {},
   "outputs": [
    {
     "data": {
      "text/plain": [
       "['apple', 'grapes', 'dates', 'carrot', 'orange']"
      ]
     },
     "execution_count": 396,
     "metadata": {},
     "output_type": "execute_result"
    }
   ],
   "source": [
    "fruits"
   ]
  },
  {
   "cell_type": "code",
   "execution_count": 397,
   "id": "85939cbd",
   "metadata": {},
   "outputs": [
    {
     "data": {
      "text/plain": [
       "'orange'"
      ]
     },
     "execution_count": 397,
     "metadata": {},
     "output_type": "execute_result"
    }
   ],
   "source": [
    "fruits.pop()"
   ]
  },
  {
   "cell_type": "code",
   "execution_count": 398,
   "id": "99c78edb",
   "metadata": {},
   "outputs": [
    {
     "data": {
      "text/plain": [
       "['apple', 'grapes', 'dates', 'carrot']"
      ]
     },
     "execution_count": 398,
     "metadata": {},
     "output_type": "execute_result"
    }
   ],
   "source": [
    "fruits"
   ]
  },
  {
   "cell_type": "code",
   "execution_count": null,
   "id": "dcfb7d43",
   "metadata": {},
   "outputs": [],
   "source": []
  },
  {
   "cell_type": "code",
   "execution_count": 399,
   "id": "c7a8fa32",
   "metadata": {},
   "outputs": [
    {
     "data": {
      "text/plain": [
       "['civic', 'corola', 'masarati', 'bentley', 'hundai', 'nissan']"
      ]
     },
     "execution_count": 399,
     "metadata": {},
     "output_type": "execute_result"
    }
   ],
   "source": [
    "cars"
   ]
  },
  {
   "cell_type": "code",
   "execution_count": 400,
   "id": "f8b647c6",
   "metadata": {},
   "outputs": [
    {
     "data": {
      "text/plain": [
       "'masarati'"
      ]
     },
     "execution_count": 400,
     "metadata": {},
     "output_type": "execute_result"
    }
   ],
   "source": [
    "cars.pop(2)"
   ]
  },
  {
   "cell_type": "code",
   "execution_count": 401,
   "id": "edfb950f",
   "metadata": {},
   "outputs": [
    {
     "data": {
      "text/plain": [
       "['civic', 'corola', 'bentley', 'hundai', 'nissan']"
      ]
     },
     "execution_count": 401,
     "metadata": {},
     "output_type": "execute_result"
    }
   ],
   "source": [
    "cars"
   ]
  },
  {
   "cell_type": "code",
   "execution_count": 402,
   "id": "8a814655",
   "metadata": {},
   "outputs": [
    {
     "data": {
      "text/plain": [
       "'nissan'"
      ]
     },
     "execution_count": 402,
     "metadata": {},
     "output_type": "execute_result"
    }
   ],
   "source": [
    "cars.pop()"
   ]
  },
  {
   "cell_type": "code",
   "execution_count": 403,
   "id": "a8090674",
   "metadata": {},
   "outputs": [
    {
     "data": {
      "text/plain": [
       "['civic', 'corola', 'bentley', 'hundai']"
      ]
     },
     "execution_count": 403,
     "metadata": {},
     "output_type": "execute_result"
    }
   ],
   "source": [
    "cars"
   ]
  },
  {
   "cell_type": "code",
   "execution_count": null,
   "id": "93d53acd",
   "metadata": {},
   "outputs": [],
   "source": []
  },
  {
   "cell_type": "markdown",
   "id": "d0b96adb",
   "metadata": {},
   "source": [
    "##### You can test whether a list contains a value or an element using in operator"
   ]
  },
  {
   "cell_type": "code",
   "execution_count": 404,
   "id": "92d212cb",
   "metadata": {},
   "outputs": [
    {
     "data": {
      "text/plain": [
       "['civic', 'corola', 'bentley', 'hundai']"
      ]
     },
     "execution_count": 404,
     "metadata": {},
     "output_type": "execute_result"
    }
   ],
   "source": [
    "cars"
   ]
  },
  {
   "cell_type": "code",
   "execution_count": 405,
   "id": "c41c09be",
   "metadata": {},
   "outputs": [
    {
     "data": {
      "text/plain": [
       "True"
      ]
     },
     "execution_count": 405,
     "metadata": {},
     "output_type": "execute_result"
    }
   ],
   "source": [
    "'corola' in cars"
   ]
  },
  {
   "cell_type": "code",
   "execution_count": 406,
   "id": "96ebef29",
   "metadata": {},
   "outputs": [
    {
     "data": {
      "text/plain": [
       "False"
      ]
     },
     "execution_count": 406,
     "metadata": {},
     "output_type": "execute_result"
    }
   ],
   "source": [
    "'Tesla' in cars"
   ]
  },
  {
   "cell_type": "code",
   "execution_count": 407,
   "id": "91650daa",
   "metadata": {},
   "outputs": [
    {
     "data": {
      "text/plain": [
       "['apple', 'grapes', 'dates', 'carrot']"
      ]
     },
     "execution_count": 407,
     "metadata": {},
     "output_type": "execute_result"
    }
   ],
   "source": [
    "fruits"
   ]
  },
  {
   "cell_type": "code",
   "execution_count": 408,
   "id": "bbd336c0",
   "metadata": {},
   "outputs": [
    {
     "data": {
      "text/plain": [
       "True"
      ]
     },
     "execution_count": 408,
     "metadata": {},
     "output_type": "execute_result"
    }
   ],
   "source": [
    "'apple' in fruits"
   ]
  },
  {
   "cell_type": "code",
   "execution_count": 409,
   "id": "30c73238",
   "metadata": {},
   "outputs": [
    {
     "data": {
      "text/plain": [
       "False"
      ]
     },
     "execution_count": 409,
     "metadata": {},
     "output_type": "execute_result"
    }
   ],
   "source": [
    "'orange' in fruits"
   ]
  },
  {
   "cell_type": "code",
   "execution_count": null,
   "id": "db3d8082",
   "metadata": {},
   "outputs": [],
   "source": []
  },
  {
   "cell_type": "markdown",
   "id": "b1c5839e",
   "metadata": {},
   "source": [
    "##### To combine two or more lists, use the + operator. This operation is also called concatenation"
   ]
  },
  {
   "cell_type": "code",
   "execution_count": 13,
   "id": "25702cba",
   "metadata": {},
   "outputs": [],
   "source": [
    "plenty_fruits = fruits + ['mango','banana'] + ['pear','berry']"
   ]
  },
  {
   "cell_type": "code",
   "execution_count": 416,
   "id": "7795f0c0",
   "metadata": {},
   "outputs": [
    {
     "data": {
      "text/plain": [
       "['apple', 'grapes', 'dates', 'carrot', 'mango', 'banana', 'pear', 'berry']"
      ]
     },
     "execution_count": 416,
     "metadata": {},
     "output_type": "execute_result"
    }
   ],
   "source": [
    "plenty_fruits"
   ]
  },
  {
   "cell_type": "code",
   "execution_count": null,
   "id": "9a79d9e5",
   "metadata": {},
   "outputs": [],
   "source": []
  },
  {
   "cell_type": "markdown",
   "id": "1cd2fd52",
   "metadata": {},
   "source": [
    "##### To create a copy of a list, use the copy method. Modifying the copied list does not affect the original list."
   ]
  },
  {
   "cell_type": "code",
   "execution_count": 14,
   "id": "c71feb3e",
   "metadata": {},
   "outputs": [],
   "source": [
    "Vegetables = plenty_fruits.copy()"
   ]
  },
  {
   "cell_type": "code",
   "execution_count": 419,
   "id": "58a91f4a",
   "metadata": {},
   "outputs": [
    {
     "data": {
      "text/plain": [
       "['apple', 'grapes', 'dates', 'carrot', 'mango', 'banana', 'pear', 'berry']"
      ]
     },
     "execution_count": 419,
     "metadata": {},
     "output_type": "execute_result"
    }
   ],
   "source": [
    "\n",
    "Vegetables"
   ]
  },
  {
   "cell_type": "code",
   "execution_count": 18,
   "id": "d98c4be2",
   "metadata": {},
   "outputs": [
    {
     "data": {
      "text/plain": [
       "['apple', 'berry', 'mango', 'carrot', 'mango', 'banana', 'pear', 'berry']"
      ]
     },
     "execution_count": 18,
     "metadata": {},
     "output_type": "execute_result"
    }
   ],
   "source": [
    "plenty_fruits"
   ]
  },
  {
   "cell_type": "code",
   "execution_count": 420,
   "id": "5b166d69",
   "metadata": {},
   "outputs": [],
   "source": [
    "vegies = fruits.copy()"
   ]
  },
  {
   "cell_type": "code",
   "execution_count": 421,
   "id": "4641eca0",
   "metadata": {},
   "outputs": [
    {
     "data": {
      "text/plain": [
       "['apple', 'grapes', 'dates', 'carrot']"
      ]
     },
     "execution_count": 421,
     "metadata": {},
     "output_type": "execute_result"
    }
   ],
   "source": [
    "vegies"
   ]
  },
  {
   "cell_type": "code",
   "execution_count": 19,
   "id": "99911b7a",
   "metadata": {},
   "outputs": [
    {
     "data": {
      "text/plain": [
       "['apple', 'berry', 'mango', 'carrot']"
      ]
     },
     "execution_count": 19,
     "metadata": {},
     "output_type": "execute_result"
    }
   ],
   "source": [
    "fruits"
   ]
  },
  {
   "cell_type": "code",
   "execution_count": 15,
   "id": "361a02d5",
   "metadata": {},
   "outputs": [],
   "source": [
    "inventory = cars.copy()"
   ]
  },
  {
   "cell_type": "code",
   "execution_count": 16,
   "id": "dfd120c6",
   "metadata": {},
   "outputs": [
    {
     "data": {
      "text/plain": [
       "['civic', 'corola', 'toyota', 'bentley', 'hundai', 'chrysler']"
      ]
     },
     "execution_count": 16,
     "metadata": {},
     "output_type": "execute_result"
    }
   ],
   "source": [
    "inventory"
   ]
  },
  {
   "cell_type": "code",
   "execution_count": 20,
   "id": "120507e4",
   "metadata": {},
   "outputs": [
    {
     "data": {
      "text/plain": [
       "['civic', 'corola', 'toyota', 'bentley', 'hundai', 'chrysler']"
      ]
     },
     "execution_count": 20,
     "metadata": {},
     "output_type": "execute_result"
    }
   ],
   "source": [
    "cars"
   ]
  },
  {
   "cell_type": "markdown",
   "id": "70d49ec4",
   "metadata": {},
   "source": [
    "##### To modify copy of a list, use the remove or pop method"
   ]
  },
  {
   "cell_type": "code",
   "execution_count": 424,
   "id": "a411f607",
   "metadata": {},
   "outputs": [],
   "source": [
    "inventory.remove('corola')"
   ]
  },
  {
   "cell_type": "code",
   "execution_count": 425,
   "id": "2bff2c7e",
   "metadata": {},
   "outputs": [
    {
     "data": {
      "text/plain": [
       "['civic', 'bentley', 'hundai']"
      ]
     },
     "execution_count": 425,
     "metadata": {},
     "output_type": "execute_result"
    }
   ],
   "source": [
    "inventory"
   ]
  },
  {
   "cell_type": "code",
   "execution_count": null,
   "id": "4eb38ea4",
   "metadata": {},
   "outputs": [],
   "source": []
  },
  {
   "cell_type": "code",
   "execution_count": 426,
   "id": "f67f7162",
   "metadata": {},
   "outputs": [],
   "source": [
    "inventory.append('Range Rover')"
   ]
  },
  {
   "cell_type": "code",
   "execution_count": 427,
   "id": "01cc7083",
   "metadata": {},
   "outputs": [
    {
     "data": {
      "text/plain": [
       "['civic', 'bentley', 'hundai', 'Range Rover']"
      ]
     },
     "execution_count": 427,
     "metadata": {},
     "output_type": "execute_result"
    }
   ],
   "source": [
    "inventory"
   ]
  },
  {
   "cell_type": "code",
   "execution_count": 428,
   "id": "efd2a5ad",
   "metadata": {},
   "outputs": [],
   "source": [
    "inventory[2] = 'lexus'"
   ]
  },
  {
   "cell_type": "code",
   "execution_count": 429,
   "id": "0643965d",
   "metadata": {},
   "outputs": [
    {
     "data": {
      "text/plain": [
       "['civic', 'bentley', 'lexus', 'Range Rover']"
      ]
     },
     "execution_count": 429,
     "metadata": {},
     "output_type": "execute_result"
    }
   ],
   "source": [
    "inventory"
   ]
  },
  {
   "cell_type": "code",
   "execution_count": null,
   "id": "38e2e910",
   "metadata": {},
   "outputs": [],
   "source": []
  },
  {
   "cell_type": "code",
   "execution_count": 431,
   "id": "1b44cd54",
   "metadata": {},
   "outputs": [
    {
     "data": {
      "text/plain": [
       "['apple', 'grapes', 'dates', 'carrot', 'mango', 'banana', 'pear', 'berry']"
      ]
     },
     "execution_count": 431,
     "metadata": {},
     "output_type": "execute_result"
    }
   ],
   "source": [
    "Vegetables"
   ]
  },
  {
   "cell_type": "code",
   "execution_count": 436,
   "id": "3d28691c",
   "metadata": {},
   "outputs": [
    {
     "ename": "TypeError",
     "evalue": "'str' object cannot be interpreted as an integer",
     "output_type": "error",
     "traceback": [
      "\u001b[1;31m---------------------------------------------------------------------------\u001b[0m",
      "\u001b[1;31mTypeError\u001b[0m                                 Traceback (most recent call last)",
      "Cell \u001b[1;32mIn[436], line 1\u001b[0m\n\u001b[1;32m----> 1\u001b[0m \u001b[43mVegetables\u001b[49m\u001b[38;5;241;43m.\u001b[39;49m\u001b[43mpop\u001b[49m\u001b[43m(\u001b[49m\u001b[38;5;124;43m'\u001b[39;49m\u001b[38;5;124;43mmango\u001b[39;49m\u001b[38;5;124;43m'\u001b[39;49m\u001b[43m)\u001b[49m\n",
      "\u001b[1;31mTypeError\u001b[0m: 'str' object cannot be interpreted as an integer"
     ]
    }
   ],
   "source": [
    "Vegetables.pop('mango')"
   ]
  },
  {
   "cell_type": "code",
   "execution_count": 437,
   "id": "bb933506",
   "metadata": {},
   "outputs": [
    {
     "data": {
      "text/plain": [
       "'mango'"
      ]
     },
     "execution_count": 437,
     "metadata": {},
     "output_type": "execute_result"
    }
   ],
   "source": [
    "Vegetables.pop(4)"
   ]
  },
  {
   "cell_type": "code",
   "execution_count": 438,
   "id": "8d270ad5",
   "metadata": {},
   "outputs": [
    {
     "data": {
      "text/plain": [
       "['apple', 'grapes', 'dates', 'carrot', 'banana', 'pear', 'berry']"
      ]
     },
     "execution_count": 438,
     "metadata": {},
     "output_type": "execute_result"
    }
   ],
   "source": [
    "Vegetables"
   ]
  },
  {
   "cell_type": "code",
   "execution_count": null,
   "id": "c504ec18",
   "metadata": {},
   "outputs": [],
   "source": []
  },
  {
   "cell_type": "code",
   "execution_count": 17,
   "id": "da2e65cb",
   "metadata": {},
   "outputs": [
    {
     "data": {
      "text/plain": [
       "['civic', 'corola', 'toyota', 'bentley', 'hundai', 'chrysler']"
      ]
     },
     "execution_count": 17,
     "metadata": {},
     "output_type": "execute_result"
    }
   ],
   "source": [
    "cars"
   ]
  },
  {
   "cell_type": "code",
   "execution_count": null,
   "id": "1f80b071",
   "metadata": {},
   "outputs": [],
   "source": []
  },
  {
   "cell_type": "code",
   "execution_count": null,
   "id": "f6b8b0bf",
   "metadata": {},
   "outputs": [],
   "source": []
  },
  {
   "cell_type": "markdown",
   "id": "cca205df",
   "metadata": {},
   "source": [
    "##### Note that you cannot create a copy of a list by simply creating a new variable using the assign operator = . The new variable will point to the same list and any modifications performed using one varible will affect the other. "
   ]
  },
  {
   "cell_type": "code",
   "execution_count": null,
   "id": "579feba9",
   "metadata": {},
   "outputs": [],
   "source": []
  },
  {
   "cell_type": "markdown",
   "id": "f0b26731",
   "metadata": {},
   "source": [
    "###### Exercises\n",
    "1. Reverse the order of elements in a list\n",
    "2. Add the elements of one list to the end of another list\n",
    "3. Sort a list of strings in alphabetical order\n",
    "4. Sort a list of numbers in decreasing order"
   ]
  },
  {
   "cell_type": "code",
   "execution_count": 21,
   "id": "f6c5736c",
   "metadata": {},
   "outputs": [
    {
     "data": {
      "text/plain": [
       "['civic', 'corola', 'toyota', 'bentley', 'hundai', 'chrysler']"
      ]
     },
     "execution_count": 21,
     "metadata": {},
     "output_type": "execute_result"
    }
   ],
   "source": [
    "cars"
   ]
  },
  {
   "cell_type": "code",
   "execution_count": 22,
   "id": "94f9afea",
   "metadata": {},
   "outputs": [],
   "source": [
    "cars.reverse()"
   ]
  },
  {
   "cell_type": "code",
   "execution_count": 23,
   "id": "f54a8c3a",
   "metadata": {},
   "outputs": [
    {
     "data": {
      "text/plain": [
       "['chrysler', 'hundai', 'bentley', 'toyota', 'corola', 'civic']"
      ]
     },
     "execution_count": 23,
     "metadata": {},
     "output_type": "execute_result"
    }
   ],
   "source": [
    "cars"
   ]
  },
  {
   "cell_type": "code",
   "execution_count": null,
   "id": "349791d4",
   "metadata": {},
   "outputs": [],
   "source": []
  },
  {
   "cell_type": "markdown",
   "id": "6233bfd2",
   "metadata": {},
   "source": [
    "#####  Add the elements of one list to the end of another list"
   ]
  },
  {
   "cell_type": "code",
   "execution_count": 26,
   "id": "b98457dd",
   "metadata": {},
   "outputs": [
    {
     "data": {
      "text/plain": [
       "['apple', 'berry', 'mango', 'carrot', 'mango', 'banana', 'pear', 'berry']"
      ]
     },
     "execution_count": 26,
     "metadata": {},
     "output_type": "execute_result"
    }
   ],
   "source": [
    "plenty_fruits"
   ]
  },
  {
   "cell_type": "code",
   "execution_count": null,
   "id": "3777acf9",
   "metadata": {},
   "outputs": [],
   "source": []
  },
  {
   "cell_type": "code",
   "execution_count": 28,
   "id": "3ec7f58e",
   "metadata": {},
   "outputs": [],
   "source": [
    "cars.append('berry')"
   ]
  },
  {
   "cell_type": "code",
   "execution_count": 29,
   "id": "17b86311",
   "metadata": {},
   "outputs": [
    {
     "data": {
      "text/plain": [
       "['chrysler',\n",
       " 'hundai',\n",
       " 'bentley',\n",
       " 'toyota',\n",
       " 'corola',\n",
       " 'civic',\n",
       " 'berry',\n",
       " 'berry']"
      ]
     },
     "execution_count": 29,
     "metadata": {},
     "output_type": "execute_result"
    }
   ],
   "source": [
    "cars"
   ]
  },
  {
   "cell_type": "code",
   "execution_count": null,
   "id": "627c8542",
   "metadata": {},
   "outputs": [],
   "source": []
  },
  {
   "cell_type": "markdown",
   "id": "273cc2ab",
   "metadata": {},
   "source": [
    "##### Sort a list of strings in alphabetical order"
   ]
  },
  {
   "cell_type": "code",
   "execution_count": 30,
   "id": "784007d1",
   "metadata": {},
   "outputs": [],
   "source": [
    "friend_list =['james','kunle','sahid','rashid','lanre','kafayat','sarah','vic']"
   ]
  },
  {
   "cell_type": "code",
   "execution_count": 31,
   "id": "003296d6",
   "metadata": {},
   "outputs": [
    {
     "data": {
      "text/plain": [
       "['james', 'kunle', 'sahid', 'rashid', 'lanre', 'kafayat', 'sarah', 'vic']"
      ]
     },
     "execution_count": 31,
     "metadata": {},
     "output_type": "execute_result"
    }
   ],
   "source": [
    "friend_list"
   ]
  },
  {
   "cell_type": "code",
   "execution_count": 33,
   "id": "792c39e8",
   "metadata": {},
   "outputs": [],
   "source": [
    "friend_list.sort()"
   ]
  },
  {
   "cell_type": "code",
   "execution_count": 34,
   "id": "0600f9b9",
   "metadata": {},
   "outputs": [
    {
     "data": {
      "text/plain": [
       "['james', 'kafayat', 'kunle', 'lanre', 'rashid', 'sahid', 'sarah', 'vic']"
      ]
     },
     "execution_count": 34,
     "metadata": {},
     "output_type": "execute_result"
    }
   ],
   "source": [
    "friend_list"
   ]
  },
  {
   "cell_type": "code",
   "execution_count": null,
   "id": "55bb5e7a",
   "metadata": {},
   "outputs": [],
   "source": []
  },
  {
   "cell_type": "markdown",
   "id": "88a6f705",
   "metadata": {},
   "source": [
    "##### Sort a list of numbers in decreasing order"
   ]
  },
  {
   "cell_type": "code",
   "execution_count": 35,
   "id": "fc426a52",
   "metadata": {},
   "outputs": [],
   "source": [
    "number_list = [1,2,3,4,5,6,7,8,9]"
   ]
  },
  {
   "cell_type": "code",
   "execution_count": 36,
   "id": "a2af00d5",
   "metadata": {},
   "outputs": [
    {
     "data": {
      "text/plain": [
       "[1, 2, 3, 4, 5, 6, 7, 8, 9]"
      ]
     },
     "execution_count": 36,
     "metadata": {},
     "output_type": "execute_result"
    }
   ],
   "source": [
    "number_list"
   ]
  },
  {
   "cell_type": "code",
   "execution_count": 42,
   "id": "7102621a",
   "metadata": {},
   "outputs": [],
   "source": [
    "number_list.reverse()"
   ]
  },
  {
   "cell_type": "code",
   "execution_count": 43,
   "id": "6585e8f4",
   "metadata": {},
   "outputs": [
    {
     "data": {
      "text/plain": [
       "[9, 8, 7, 6, 5, 4, 3, 2, 1]"
      ]
     },
     "execution_count": 43,
     "metadata": {},
     "output_type": "execute_result"
    }
   ],
   "source": [
    "number_list"
   ]
  },
  {
   "cell_type": "code",
   "execution_count": null,
   "id": "94d8b5ea",
   "metadata": {},
   "outputs": [],
   "source": []
  },
  {
   "cell_type": "markdown",
   "id": "0bd4a5d8",
   "metadata": {},
   "source": [
    "###### Tuple is an ordered collection of values similar to a list, however it is not possible to add,remove or modify values in a tuple. A tuple is created by enclosing values within parentheses ( ) and seperated by commas.\n",
    "Any data structure that cannot be modified after creation is called immutable. You can think of tuples as immutable lists."
   ]
  },
  {
   "cell_type": "code",
   "execution_count": 44,
   "id": "bbaebff7",
   "metadata": {},
   "outputs": [],
   "source": [
    "smoothy = ('berry','cherry','mango','apple')"
   ]
  },
  {
   "cell_type": "code",
   "execution_count": 45,
   "id": "f0e6ad24",
   "metadata": {},
   "outputs": [
    {
     "data": {
      "text/plain": [
       "('berry', 'cherry', 'mango', 'apple')"
      ]
     },
     "execution_count": 45,
     "metadata": {},
     "output_type": "execute_result"
    }
   ],
   "source": [
    "smoothy"
   ]
  },
  {
   "cell_type": "code",
   "execution_count": 46,
   "id": "f94064f7",
   "metadata": {},
   "outputs": [
    {
     "data": {
      "text/plain": [
       "4"
      ]
     },
     "execution_count": 46,
     "metadata": {},
     "output_type": "execute_result"
    }
   ],
   "source": [
    "len(smoothy)"
   ]
  },
  {
   "cell_type": "code",
   "execution_count": 47,
   "id": "0007f6de",
   "metadata": {},
   "outputs": [
    {
     "data": {
      "text/plain": [
       "'berry'"
      ]
     },
     "execution_count": 47,
     "metadata": {},
     "output_type": "execute_result"
    }
   ],
   "source": [
    "smoothy[0]"
   ]
  },
  {
   "cell_type": "code",
   "execution_count": 48,
   "id": "65955ef8",
   "metadata": {},
   "outputs": [
    {
     "data": {
      "text/plain": [
       "'mango'"
      ]
     },
     "execution_count": 48,
     "metadata": {},
     "output_type": "execute_result"
    }
   ],
   "source": [
    "smoothy[-2]"
   ]
  },
  {
   "cell_type": "code",
   "execution_count": 49,
   "id": "3dfc8bb0",
   "metadata": {},
   "outputs": [
    {
     "data": {
      "text/plain": [
       "False"
      ]
     },
     "execution_count": 49,
     "metadata": {},
     "output_type": "execute_result"
    }
   ],
   "source": [
    "'carrot' in smoothy"
   ]
  },
  {
   "cell_type": "code",
   "execution_count": 50,
   "id": "1f73a9a9",
   "metadata": {},
   "outputs": [
    {
     "data": {
      "text/plain": [
       "True"
      ]
     },
     "execution_count": 50,
     "metadata": {},
     "output_type": "execute_result"
    }
   ],
   "source": [
    "'berry' in smoothy"
   ]
  },
  {
   "cell_type": "code",
   "execution_count": 51,
   "id": "b74a8cc6",
   "metadata": {},
   "outputs": [
    {
     "ename": "TypeError",
     "evalue": "'tuple' object does not support item assignment",
     "output_type": "error",
     "traceback": [
      "\u001b[1;31m---------------------------------------------------------------------------\u001b[0m",
      "\u001b[1;31mTypeError\u001b[0m                                 Traceback (most recent call last)",
      "Cell \u001b[1;32mIn[51], line 1\u001b[0m\n\u001b[1;32m----> 1\u001b[0m smoothy[\u001b[38;5;241m1\u001b[39m] \u001b[38;5;241m=\u001b[39m \u001b[38;5;124m'\u001b[39m\u001b[38;5;124mgrapes\u001b[39m\u001b[38;5;124m'\u001b[39m\n",
      "\u001b[1;31mTypeError\u001b[0m: 'tuple' object does not support item assignment"
     ]
    }
   ],
   "source": [
    "smoothy[1] = 'grapes'"
   ]
  },
  {
   "cell_type": "code",
   "execution_count": 52,
   "id": "82cc25e6",
   "metadata": {},
   "outputs": [
    {
     "data": {
      "text/plain": [
       "('berry', 'cherry', 'mango', 'apple')"
      ]
     },
     "execution_count": 52,
     "metadata": {},
     "output_type": "execute_result"
    }
   ],
   "source": [
    "smoothy"
   ]
  },
  {
   "cell_type": "code",
   "execution_count": 53,
   "id": "f9ce5a34",
   "metadata": {},
   "outputs": [
    {
     "ename": "AttributeError",
     "evalue": "'tuple' object has no attribute 'append'",
     "output_type": "error",
     "traceback": [
      "\u001b[1;31m---------------------------------------------------------------------------\u001b[0m",
      "\u001b[1;31mAttributeError\u001b[0m                            Traceback (most recent call last)",
      "Cell \u001b[1;32mIn[53], line 1\u001b[0m\n\u001b[1;32m----> 1\u001b[0m \u001b[43msmoothy\u001b[49m\u001b[38;5;241;43m.\u001b[39;49m\u001b[43mappend\u001b[49m(watermelon)\n",
      "\u001b[1;31mAttributeError\u001b[0m: 'tuple' object has no attribute 'append'"
     ]
    }
   ],
   "source": [
    "smoothy.append(watermelon)"
   ]
  },
  {
   "cell_type": "code",
   "execution_count": 54,
   "id": "1454e1a7",
   "metadata": {},
   "outputs": [
    {
     "ename": "AttributeError",
     "evalue": "'tuple' object has no attribute 'remove'",
     "output_type": "error",
     "traceback": [
      "\u001b[1;31m---------------------------------------------------------------------------\u001b[0m",
      "\u001b[1;31mAttributeError\u001b[0m                            Traceback (most recent call last)",
      "Cell \u001b[1;32mIn[54], line 1\u001b[0m\n\u001b[1;32m----> 1\u001b[0m \u001b[43msmoothy\u001b[49m\u001b[38;5;241;43m.\u001b[39;49m\u001b[43mremove\u001b[49m(\u001b[38;5;124m'\u001b[39m\u001b[38;5;124mcherry\u001b[39m\u001b[38;5;124m'\u001b[39m)\n",
      "\u001b[1;31mAttributeError\u001b[0m: 'tuple' object has no attribute 'remove'"
     ]
    }
   ],
   "source": [
    "smoothy.remove('cherry')"
   ]
  },
  {
   "cell_type": "code",
   "execution_count": 55,
   "id": "0554ad55",
   "metadata": {},
   "outputs": [
    {
     "ename": "AttributeError",
     "evalue": "'tuple' object has no attribute 'sort'",
     "output_type": "error",
     "traceback": [
      "\u001b[1;31m---------------------------------------------------------------------------\u001b[0m",
      "\u001b[1;31mAttributeError\u001b[0m                            Traceback (most recent call last)",
      "Cell \u001b[1;32mIn[55], line 1\u001b[0m\n\u001b[1;32m----> 1\u001b[0m \u001b[43msmoothy\u001b[49m\u001b[38;5;241;43m.\u001b[39;49m\u001b[43msort\u001b[49m()\n",
      "\u001b[1;31mAttributeError\u001b[0m: 'tuple' object has no attribute 'sort'"
     ]
    }
   ],
   "source": [
    "smoothy.sort()"
   ]
  },
  {
   "cell_type": "code",
   "execution_count": 56,
   "id": "066010fe",
   "metadata": {},
   "outputs": [
    {
     "ename": "AttributeError",
     "evalue": "'tuple' object has no attribute 'reverse'",
     "output_type": "error",
     "traceback": [
      "\u001b[1;31m---------------------------------------------------------------------------\u001b[0m",
      "\u001b[1;31mAttributeError\u001b[0m                            Traceback (most recent call last)",
      "Cell \u001b[1;32mIn[56], line 1\u001b[0m\n\u001b[1;32m----> 1\u001b[0m \u001b[43msmoothy\u001b[49m\u001b[38;5;241;43m.\u001b[39;49m\u001b[43mreverse\u001b[49m()\n",
      "\u001b[1;31mAttributeError\u001b[0m: 'tuple' object has no attribute 'reverse'"
     ]
    }
   ],
   "source": [
    "smoothy.reverse()"
   ]
  },
  {
   "cell_type": "markdown",
   "id": "25de4a38",
   "metadata": {},
   "source": [
    "###### tuple used parenthesis ( ) to assign and any modification to the index or element in the variables not allow.\n",
    "###### list give access to modification used [ ] to assign values into variable."
   ]
  },
  {
   "cell_type": "code",
   "execution_count": null,
   "id": "bc9cfee4",
   "metadata": {},
   "outputs": [],
   "source": []
  },
  {
   "cell_type": "markdown",
   "id": "30e8192e",
   "metadata": {},
   "source": [
    "##### You can also skip parenthesis ( ) while creating a tuple. Python automatically converts comma-separated values into a tuple."
   ]
  },
  {
   "cell_type": "code",
   "execution_count": 57,
   "id": "fb622b4b",
   "metadata": {},
   "outputs": [],
   "source": [
    "laban_milk = 'dairy','coast','tuna','peak'"
   ]
  },
  {
   "cell_type": "code",
   "execution_count": 58,
   "id": "dea59f26",
   "metadata": {},
   "outputs": [
    {
     "data": {
      "text/plain": [
       "('dairy', 'coast', 'tuna', 'peak')"
      ]
     },
     "execution_count": 58,
     "metadata": {},
     "output_type": "execute_result"
    }
   ],
   "source": [
    "laban_milk"
   ]
  },
  {
   "cell_type": "code",
   "execution_count": null,
   "id": "6ff44667",
   "metadata": {},
   "outputs": [],
   "source": []
  },
  {
   "cell_type": "markdown",
   "id": "06b9615f",
   "metadata": {},
   "source": [
    "##### You can also create a tuple with just one element if you include a comma after the element. Note just wrapping element with parenthesis ( ) won't create a tuple."
   ]
  },
  {
   "cell_type": "code",
   "execution_count": 59,
   "id": "387e2076",
   "metadata": {},
   "outputs": [],
   "source": [
    "iron_man = 4,"
   ]
  },
  {
   "cell_type": "code",
   "execution_count": 60,
   "id": "70798d26",
   "metadata": {},
   "outputs": [
    {
     "data": {
      "text/plain": [
       "(4,)"
      ]
     },
     "execution_count": 60,
     "metadata": {},
     "output_type": "execute_result"
    }
   ],
   "source": [
    "iron_man"
   ]
  },
  {
   "cell_type": "code",
   "execution_count": 61,
   "id": "09ea94f9",
   "metadata": {},
   "outputs": [],
   "source": [
    "black_pantha = (5,)"
   ]
  },
  {
   "cell_type": "code",
   "execution_count": 62,
   "id": "5a48f097",
   "metadata": {},
   "outputs": [
    {
     "data": {
      "text/plain": [
       "(5,)"
      ]
     },
     "execution_count": 62,
     "metadata": {},
     "output_type": "execute_result"
    }
   ],
   "source": [
    "black_pantha"
   ]
  },
  {
   "cell_type": "code",
   "execution_count": null,
   "id": "a4b7a04b",
   "metadata": {},
   "outputs": [],
   "source": []
  },
  {
   "cell_type": "markdown",
   "id": "0f71dd10",
   "metadata": {},
   "source": [
    "##### Tuples are often used to create multiple variables with a single statement."
   ]
  },
  {
   "cell_type": "code",
   "execution_count": 63,
   "id": "363528b4",
   "metadata": {},
   "outputs": [],
   "source": [
    "points = (4,6)"
   ]
  },
  {
   "cell_type": "code",
   "execution_count": 64,
   "id": "0535f007",
   "metadata": {},
   "outputs": [],
   "source": [
    "point_x,point_y = points"
   ]
  },
  {
   "cell_type": "code",
   "execution_count": 65,
   "id": "abb3f72f",
   "metadata": {},
   "outputs": [
    {
     "data": {
      "text/plain": [
       "4"
      ]
     },
     "execution_count": 65,
     "metadata": {},
     "output_type": "execute_result"
    }
   ],
   "source": [
    "point_x"
   ]
  },
  {
   "cell_type": "code",
   "execution_count": 66,
   "id": "45e95df4",
   "metadata": {},
   "outputs": [
    {
     "data": {
      "text/plain": [
       "6"
      ]
     },
     "execution_count": 66,
     "metadata": {},
     "output_type": "execute_result"
    }
   ],
   "source": [
    "point_y"
   ]
  },
  {
   "cell_type": "code",
   "execution_count": 71,
   "id": "5a0e00c4",
   "metadata": {},
   "outputs": [],
   "source": [
    "axese = (3,4)"
   ]
  },
  {
   "cell_type": "code",
   "execution_count": 72,
   "id": "cd855626",
   "metadata": {},
   "outputs": [],
   "source": [
    "y_axis,x_axis = axese"
   ]
  },
  {
   "cell_type": "code",
   "execution_count": 73,
   "id": "94ff3daf",
   "metadata": {},
   "outputs": [
    {
     "data": {
      "text/plain": [
       "3"
      ]
     },
     "execution_count": 73,
     "metadata": {},
     "output_type": "execute_result"
    }
   ],
   "source": [
    "y_axis"
   ]
  },
  {
   "cell_type": "code",
   "execution_count": 74,
   "id": "0205f929",
   "metadata": {},
   "outputs": [
    {
     "data": {
      "text/plain": [
       "4"
      ]
     },
     "execution_count": 74,
     "metadata": {},
     "output_type": "execute_result"
    }
   ],
   "source": [
    "x_axis"
   ]
  },
  {
   "cell_type": "code",
   "execution_count": null,
   "id": "ce3aebd6",
   "metadata": {},
   "outputs": [],
   "source": []
  },
  {
   "cell_type": "code",
   "execution_count": 84,
   "id": "4c108822",
   "metadata": {},
   "outputs": [],
   "source": [
    "length = (4,5)"
   ]
  },
  {
   "cell_type": "code",
   "execution_count": 85,
   "id": "f8d33ec8",
   "metadata": {},
   "outputs": [],
   "source": [
    "a_horizontal,b_vertical = length"
   ]
  },
  {
   "cell_type": "code",
   "execution_count": 86,
   "id": "ae0df87e",
   "metadata": {},
   "outputs": [
    {
     "data": {
      "text/plain": [
       "4"
      ]
     },
     "execution_count": 86,
     "metadata": {},
     "output_type": "execute_result"
    }
   ],
   "source": [
    "a_horizontal"
   ]
  },
  {
   "cell_type": "code",
   "execution_count": 87,
   "id": "feca9fe9",
   "metadata": {},
   "outputs": [
    {
     "data": {
      "text/plain": [
       "5"
      ]
     },
     "execution_count": 87,
     "metadata": {},
     "output_type": "execute_result"
    }
   ],
   "source": [
    "b_vertical"
   ]
  },
  {
   "cell_type": "code",
   "execution_count": null,
   "id": "e55dced3",
   "metadata": {},
   "outputs": [],
   "source": []
  },
  {
   "cell_type": "markdown",
   "id": "ebdd796e",
   "metadata": {},
   "source": [
    "##### You can convert a list into a tuple using the tuple function and vice versa using the list function"
   ]
  },
  {
   "cell_type": "code",
   "execution_count": 88,
   "id": "e5a05fbc",
   "metadata": {},
   "outputs": [
    {
     "data": {
      "text/plain": [
       "('berry', 'cherry', 'mango', 'apple')"
      ]
     },
     "execution_count": 88,
     "metadata": {},
     "output_type": "execute_result"
    }
   ],
   "source": [
    "smoothy"
   ]
  },
  {
   "cell_type": "code",
   "execution_count": null,
   "id": "b25e89dd",
   "metadata": {},
   "outputs": [],
   "source": [
    "##### convert to list note that it will not affect the original list."
   ]
  },
  {
   "cell_type": "code",
   "execution_count": 90,
   "id": "2e67d1ee",
   "metadata": {},
   "outputs": [
    {
     "data": {
      "text/plain": [
       "['berry', 'cherry', 'mango', 'apple']"
      ]
     },
     "execution_count": 90,
     "metadata": {},
     "output_type": "execute_result"
    }
   ],
   "source": [
    "list(('berry','cherry','mango','apple'))"
   ]
  },
  {
   "cell_type": "code",
   "execution_count": 91,
   "id": "c84dcd19",
   "metadata": {},
   "outputs": [
    {
     "data": {
      "text/plain": [
       "('berry', 'cherry', 'mango', 'apple')"
      ]
     },
     "execution_count": 91,
     "metadata": {},
     "output_type": "execute_result"
    }
   ],
   "source": [
    "smoothy"
   ]
  },
  {
   "cell_type": "code",
   "execution_count": null,
   "id": "a44e0536",
   "metadata": {},
   "outputs": [],
   "source": []
  },
  {
   "cell_type": "code",
   "execution_count": 92,
   "id": "e31f04ab",
   "metadata": {},
   "outputs": [
    {
     "data": {
      "text/plain": [
       "['chrysler',\n",
       " 'hundai',\n",
       " 'bentley',\n",
       " 'toyota',\n",
       " 'corola',\n",
       " 'civic',\n",
       " 'berry',\n",
       " 'berry']"
      ]
     },
     "execution_count": 92,
     "metadata": {},
     "output_type": "execute_result"
    }
   ],
   "source": [
    "cars"
   ]
  },
  {
   "cell_type": "code",
   "execution_count": 93,
   "id": "b7bca85d",
   "metadata": {},
   "outputs": [],
   "source": [
    "cars.remove('chrysler')"
   ]
  },
  {
   "cell_type": "code",
   "execution_count": 94,
   "id": "c738d005",
   "metadata": {},
   "outputs": [
    {
     "data": {
      "text/plain": [
       "['hundai', 'bentley', 'toyota', 'corola', 'civic', 'berry', 'berry']"
      ]
     },
     "execution_count": 94,
     "metadata": {},
     "output_type": "execute_result"
    }
   ],
   "source": [
    "cars"
   ]
  },
  {
   "cell_type": "code",
   "execution_count": null,
   "id": "8bba3545",
   "metadata": {},
   "outputs": [],
   "source": []
  },
  {
   "cell_type": "markdown",
   "id": "a7d323bc",
   "metadata": {},
   "source": [
    "##### To convert list into tuple. note that it does not affect the original list"
   ]
  },
  {
   "cell_type": "code",
   "execution_count": 95,
   "id": "b8af1cd2",
   "metadata": {},
   "outputs": [
    {
     "data": {
      "text/plain": [
       "['hundai', 'bentley', 'toyota', 'corola', 'civic', 'berry', 'berry']"
      ]
     },
     "execution_count": 95,
     "metadata": {},
     "output_type": "execute_result"
    }
   ],
   "source": [
    "cars"
   ]
  },
  {
   "cell_type": "code",
   "execution_count": 96,
   "id": "d76c1abc",
   "metadata": {},
   "outputs": [
    {
     "data": {
      "text/plain": [
       "('hundai', 'bentley', 'toyota', 'corola', 'civic', 'berry', 'berry')"
      ]
     },
     "execution_count": 96,
     "metadata": {},
     "output_type": "execute_result"
    }
   ],
   "source": [
    "tuple(['hundai','bentley','toyota','corola','civic','berry','berry'])"
   ]
  },
  {
   "cell_type": "code",
   "execution_count": 97,
   "id": "ffdf3748",
   "metadata": {},
   "outputs": [
    {
     "data": {
      "text/plain": [
       "['hundai', 'bentley', 'toyota', 'corola', 'civic', 'berry', 'berry']"
      ]
     },
     "execution_count": 97,
     "metadata": {},
     "output_type": "execute_result"
    }
   ],
   "source": [
    "cars"
   ]
  },
  {
   "cell_type": "code",
   "execution_count": null,
   "id": "9b67dfd4",
   "metadata": {},
   "outputs": [],
   "source": []
  },
  {
   "cell_type": "markdown",
   "id": "4a298e11",
   "metadata": {},
   "source": [
    "##### Tuples have 2 built-in methods: count and index. there is an easier way to look for documentation method using the help function. "
   ]
  },
  {
   "cell_type": "code",
   "execution_count": 98,
   "id": "c82a5cc1",
   "metadata": {},
   "outputs": [],
   "source": [
    "a_tuple = (23,\"Hello\",False,None,True,\"Global\",'timber',34,3.4)"
   ]
  },
  {
   "cell_type": "code",
   "execution_count": 99,
   "id": "dc794a4b",
   "metadata": {},
   "outputs": [
    {
     "name": "stdout",
     "output_type": "stream",
     "text": [
      "Help on built-in function count:\n",
      "\n",
      "count(value, /) method of builtins.tuple instance\n",
      "    Return number of occurrences of value.\n",
      "\n"
     ]
    }
   ],
   "source": [
    "help(a_tuple.count)"
   ]
  },
  {
   "cell_type": "code",
   "execution_count": null,
   "id": "f1ecd719",
   "metadata": {},
   "outputs": [],
   "source": []
  },
  {
   "cell_type": "markdown",
   "id": "fa67e549",
   "metadata": {},
   "source": [
    "##### Within a jupyter notebook, you can also start a code cell with ? and type the name of a function or method. When you execute this cell, you will see the documentation for the function/method in a pop-up window."
   ]
  },
  {
   "cell_type": "code",
   "execution_count": 100,
   "id": "2771e741",
   "metadata": {},
   "outputs": [],
   "source": [
    "?a_tuple.index"
   ]
  },
  {
   "cell_type": "code",
   "execution_count": null,
   "id": "4bbeb627",
   "metadata": {},
   "outputs": [],
   "source": []
  },
  {
   "cell_type": "code",
   "execution_count": null,
   "id": "7e656e13",
   "metadata": {},
   "outputs": [],
   "source": []
  },
  {
   "cell_type": "markdown",
   "id": "41c1f74d",
   "metadata": {},
   "source": [
    "##### A dictionary is unordered collection of items. Each item stored in a dictionary has a key and value. Keys are used to retrieve values from the dictionary. Dictionaries have the type dict.\n",
    "Dictionaries are often used to store many pieces of information e.g details about a person in a single variable. Dictionaries are created by enclosing key-value pairs within curly brackets { }"
   ]
  },
  {
   "cell_type": "code",
   "execution_count": 160,
   "id": "0f3817fb",
   "metadata": {},
   "outputs": [],
   "source": [
    "Employee1 = {'Salary code':'Z5070',\n",
    "             'Gender':'Female',\n",
    "             'DOJ':'13-01-2015',\n",
    "             'Dept':'Logistics',\n",
    "             'Salary':'5000 dirahm',\n",
    "             'Transport':'N/A',\n",
    "             'Accomodation':'Leaving outside'\n",
    "\n",
    "}"
   ]
  },
  {
   "cell_type": "code",
   "execution_count": 161,
   "id": "2245e129",
   "metadata": {},
   "outputs": [
    {
     "data": {
      "text/plain": [
       "{'Salary code': 'Z5070',\n",
       " 'Gender': 'Female',\n",
       " 'DOJ': '13-01-2015',\n",
       " 'Dept': 'Logistics',\n",
       " 'Salary': '5000 dirahm',\n",
       " 'Transport': 'N/A',\n",
       " 'Accomodation': 'Leaving outside'}"
      ]
     },
     "execution_count": 161,
     "metadata": {},
     "output_type": "execute_result"
    }
   ],
   "source": [
    "Employee1"
   ]
  },
  {
   "cell_type": "code",
   "execution_count": null,
   "id": "8ad2928c",
   "metadata": {},
   "outputs": [],
   "source": []
  },
  {
   "cell_type": "code",
   "execution_count": 117,
   "id": "dbe4cb75",
   "metadata": {},
   "outputs": [],
   "source": [
    "child1 = {'Name':'Abdulrahman',\n",
    "           'Date of birth':'10th of March',\n",
    "           'Place of birth':'Dubai',\n",
    "           'Gender':'Male',\n",
    "           'Place of Origin':'France',\n",
    "           'Level of education':'Grade2'\n",
    "    \n",
    "}"
   ]
  },
  {
   "cell_type": "code",
   "execution_count": 118,
   "id": "d6bc8a1d",
   "metadata": {},
   "outputs": [
    {
     "data": {
      "text/plain": [
       "{'Name': 'Abdulrahman',\n",
       " 'Date of birth': '10th of March',\n",
       " 'Place of birth': 'Dubai',\n",
       " 'Gender': 'Male',\n",
       " 'Place of Origin': 'France',\n",
       " 'Level of education': 'Grade2'}"
      ]
     },
     "execution_count": 118,
     "metadata": {},
     "output_type": "execute_result"
    }
   ],
   "source": [
    "child1"
   ]
  },
  {
   "cell_type": "code",
   "execution_count": null,
   "id": "beae77dc",
   "metadata": {},
   "outputs": [],
   "source": []
  },
  {
   "cell_type": "markdown",
   "id": "9c4ec7e5",
   "metadata": {},
   "source": [
    "##### Dictionaries can also be created using the dict function and ="
   ]
  },
  {
   "cell_type": "code",
   "execution_count": 134,
   "id": "80c6fbc1",
   "metadata": {},
   "outputs": [],
   "source": [
    "child2 = dict(name='aiza',gender='female',age=5,place_of_birth='dubai',origin='france')"
   ]
  },
  {
   "cell_type": "code",
   "execution_count": 135,
   "id": "fcc3c076",
   "metadata": {},
   "outputs": [
    {
     "data": {
      "text/plain": [
       "{'name': 'aiza',\n",
       " 'gender': 'female',\n",
       " 'age': 5,\n",
       " 'place_of_birth': 'dubai',\n",
       " 'origin': 'france'}"
      ]
     },
     "execution_count": 135,
     "metadata": {},
     "output_type": "execute_result"
    }
   ],
   "source": [
    "child2"
   ]
  },
  {
   "cell_type": "code",
   "execution_count": 136,
   "id": "6909e4ab",
   "metadata": {},
   "outputs": [
    {
     "data": {
      "text/plain": [
       "dict"
      ]
     },
     "execution_count": 136,
     "metadata": {},
     "output_type": "execute_result"
    }
   ],
   "source": [
    "type(child2)"
   ]
  },
  {
   "cell_type": "code",
   "execution_count": null,
   "id": "c19c17bb",
   "metadata": {},
   "outputs": [],
   "source": []
  },
  {
   "cell_type": "markdown",
   "id": "813584ea",
   "metadata": {},
   "source": [
    "###### keys can be used to access values using squre brackest [ ]"
   ]
  },
  {
   "cell_type": "code",
   "execution_count": 162,
   "id": "c3461bbe",
   "metadata": {},
   "outputs": [
    {
     "data": {
      "text/plain": [
       "'Z5070'"
      ]
     },
     "execution_count": 162,
     "metadata": {},
     "output_type": "execute_result"
    }
   ],
   "source": [
    "Employee1['Salary code']"
   ]
  },
  {
   "cell_type": "code",
   "execution_count": 139,
   "id": "458906e6",
   "metadata": {},
   "outputs": [
    {
     "data": {
      "text/plain": [
       "'Abdulrahman'"
      ]
     },
     "execution_count": 139,
     "metadata": {},
     "output_type": "execute_result"
    }
   ],
   "source": [
    "child1['Name']"
   ]
  },
  {
   "cell_type": "code",
   "execution_count": 140,
   "id": "00409181",
   "metadata": {},
   "outputs": [
    {
     "data": {
      "text/plain": [
       "'female'"
      ]
     },
     "execution_count": 140,
     "metadata": {},
     "output_type": "execute_result"
    }
   ],
   "source": [
    "child2['gender']"
   ]
  },
  {
   "cell_type": "code",
   "execution_count": 163,
   "id": "f0d82516",
   "metadata": {},
   "outputs": [
    {
     "data": {
      "text/plain": [
       "'Logistics'"
      ]
     },
     "execution_count": 163,
     "metadata": {},
     "output_type": "execute_result"
    }
   ],
   "source": [
    "Employee1['Dept']"
   ]
  },
  {
   "cell_type": "code",
   "execution_count": 165,
   "id": "fe784b5f",
   "metadata": {},
   "outputs": [
    {
     "data": {
      "text/plain": [
       "'13-01-2015'"
      ]
     },
     "execution_count": 165,
     "metadata": {},
     "output_type": "execute_result"
    }
   ],
   "source": [
    "Employee1['DOJ']"
   ]
  },
  {
   "cell_type": "code",
   "execution_count": null,
   "id": "20cda462",
   "metadata": {},
   "outputs": [],
   "source": []
  },
  {
   "cell_type": "markdown",
   "id": "3ee3db0a",
   "metadata": {},
   "source": [
    "#### The get method can also be used to access value associated with a key"
   ]
  },
  {
   "cell_type": "code",
   "execution_count": 143,
   "id": "86342aa1",
   "metadata": {},
   "outputs": [
    {
     "data": {
      "text/plain": [
       "5"
      ]
     },
     "execution_count": 143,
     "metadata": {},
     "output_type": "execute_result"
    }
   ],
   "source": [
    "child2.get('age')"
   ]
  },
  {
   "cell_type": "code",
   "execution_count": 148,
   "id": "c8d1ecfc",
   "metadata": {},
   "outputs": [
    {
     "data": {
      "text/plain": [
       "'Abdulrahman'"
      ]
     },
     "execution_count": 148,
     "metadata": {},
     "output_type": "execute_result"
    }
   ],
   "source": [
    "child1.get(\"Name\")"
   ]
  },
  {
   "cell_type": "code",
   "execution_count": null,
   "id": "19e552f0",
   "metadata": {},
   "outputs": [],
   "source": []
  },
  {
   "cell_type": "markdown",
   "id": "c046912e",
   "metadata": {},
   "source": [
    "##### The get method also accepts a default value which is returned if the key is not present in the dictionary"
   ]
  },
  {
   "cell_type": "code",
   "execution_count": 149,
   "id": "4a5fb644",
   "metadata": {},
   "outputs": [
    {
     "data": {
      "text/plain": [
       "'unknown'"
      ]
     },
     "execution_count": 149,
     "metadata": {},
     "output_type": "execute_result"
    }
   ],
   "source": [
    "child2.get(\"height\",\"unknown\")"
   ]
  },
  {
   "cell_type": "code",
   "execution_count": null,
   "id": "dd3e7276",
   "metadata": {},
   "outputs": [],
   "source": []
  },
  {
   "cell_type": "code",
   "execution_count": null,
   "id": "9333a747",
   "metadata": {},
   "outputs": [],
   "source": []
  },
  {
   "cell_type": "markdown",
   "id": "a9ead70e",
   "metadata": {},
   "source": [
    "###### You can check wether a key is present in the dictionary by using .in. method"
   ]
  },
  {
   "cell_type": "code",
   "execution_count": 151,
   "id": "d83e6202",
   "metadata": {},
   "outputs": [
    {
     "data": {
      "text/plain": [
       "False"
      ]
     },
     "execution_count": 151,
     "metadata": {},
     "output_type": "execute_result"
    }
   ],
   "source": [
    "'weight' in child1"
   ]
  },
  {
   "cell_type": "code",
   "execution_count": 152,
   "id": "5e193bbb",
   "metadata": {},
   "outputs": [
    {
     "data": {
      "text/plain": [
       "True"
      ]
     },
     "execution_count": 152,
     "metadata": {},
     "output_type": "execute_result"
    }
   ],
   "source": [
    "'age' in child2"
   ]
  },
  {
   "cell_type": "code",
   "execution_count": 154,
   "id": "be59cb24",
   "metadata": {},
   "outputs": [
    {
     "data": {
      "text/plain": [
       "False"
      ]
     },
     "execution_count": 154,
     "metadata": {},
     "output_type": "execute_result"
    }
   ],
   "source": [
    "'Name' in Employee1"
   ]
  },
  {
   "cell_type": "code",
   "execution_count": null,
   "id": "6ca32579",
   "metadata": {},
   "outputs": [],
   "source": []
  },
  {
   "cell_type": "markdown",
   "id": "cc7f6710",
   "metadata": {},
   "source": [
    "###### You can change the value associated with a key using the assignment operator"
   ]
  },
  {
   "cell_type": "code",
   "execution_count": 155,
   "id": "d924e1f2",
   "metadata": {},
   "outputs": [],
   "source": [
    "Employee1 = ['married']"
   ]
  },
  {
   "cell_type": "code",
   "execution_count": 156,
   "id": "d24511fd",
   "metadata": {},
   "outputs": [
    {
     "data": {
      "text/plain": [
       "['married']"
      ]
     },
     "execution_count": 156,
     "metadata": {},
     "output_type": "execute_result"
    }
   ],
   "source": [
    "Employee1"
   ]
  },
  {
   "cell_type": "code",
   "execution_count": 157,
   "id": "5238bd67",
   "metadata": {},
   "outputs": [],
   "source": [
    "Employee1.remove('married')"
   ]
  },
  {
   "cell_type": "code",
   "execution_count": 158,
   "id": "07ed922c",
   "metadata": {},
   "outputs": [
    {
     "data": {
      "text/plain": [
       "[]"
      ]
     },
     "execution_count": 158,
     "metadata": {},
     "output_type": "execute_result"
    }
   ],
   "source": [
    "Employee1"
   ]
  },
  {
   "cell_type": "code",
   "execution_count": 166,
   "id": "0cc19a54",
   "metadata": {},
   "outputs": [
    {
     "data": {
      "text/plain": [
       "'Z5070'"
      ]
     },
     "execution_count": 166,
     "metadata": {},
     "output_type": "execute_result"
    }
   ],
   "source": [
    "Employee1['Salary code']"
   ]
  },
  {
   "cell_type": "code",
   "execution_count": 167,
   "id": "39c2dce5",
   "metadata": {},
   "outputs": [
    {
     "data": {
      "text/plain": [
       "{'Salary code': 'Z5070',\n",
       " 'Gender': 'Female',\n",
       " 'DOJ': '13-01-2015',\n",
       " 'Dept': 'Logistics',\n",
       " 'Salary': '5000 dirahm',\n",
       " 'Transport': 'N/A',\n",
       " 'Accomodation': 'Leaving outside'}"
      ]
     },
     "execution_count": 167,
     "metadata": {},
     "output_type": "execute_result"
    }
   ],
   "source": [
    "Employee1"
   ]
  },
  {
   "cell_type": "code",
   "execution_count": null,
   "id": "fe7caedd",
   "metadata": {},
   "outputs": [],
   "source": []
  },
  {
   "cell_type": "markdown",
   "id": "fe8e1990",
   "metadata": {},
   "source": [
    "#### You can change the value associated with a key using the assignment operator"
   ]
  },
  {
   "cell_type": "code",
   "execution_count": 188,
   "id": "2fcc2e8f",
   "metadata": {},
   "outputs": [],
   "source": [
    "staff_1 = dict(name='james',gender='male',age=30,married='False',address='True')"
   ]
  },
  {
   "cell_type": "code",
   "execution_count": 189,
   "id": "3d994b06",
   "metadata": {},
   "outputs": [
    {
     "data": {
      "text/plain": [
       "{'name': 'james',\n",
       " 'gender': 'male',\n",
       " 'age': 30,\n",
       " 'married': 'False',\n",
       " 'address': 'True'}"
      ]
     },
     "execution_count": 189,
     "metadata": {},
     "output_type": "execute_result"
    }
   ],
   "source": [
    "staff_1"
   ]
  },
  {
   "cell_type": "code",
   "execution_count": 190,
   "id": "ff27a92a",
   "metadata": {},
   "outputs": [
    {
     "data": {
      "text/plain": [
       "'False'"
      ]
     },
     "execution_count": 190,
     "metadata": {},
     "output_type": "execute_result"
    }
   ],
   "source": [
    "staff_1['married']"
   ]
  },
  {
   "cell_type": "code",
   "execution_count": 191,
   "id": "90b947d4",
   "metadata": {},
   "outputs": [],
   "source": [
    "staff_1['married'] = True"
   ]
  },
  {
   "cell_type": "code",
   "execution_count": 184,
   "id": "df65c9df",
   "metadata": {},
   "outputs": [
    {
     "data": {
      "text/plain": [
       "{'name': 'james', 'age': 30, 'married': True, 'address': '13B,Rashidiya'}"
      ]
     },
     "execution_count": 184,
     "metadata": {},
     "output_type": "execute_result"
    }
   ],
   "source": [
    "staff_1"
   ]
  },
  {
   "cell_type": "code",
   "execution_count": null,
   "id": "945754dc",
   "metadata": {},
   "outputs": [],
   "source": []
  },
  {
   "cell_type": "markdown",
   "id": "5592277d",
   "metadata": {},
   "source": [
    "##### The assignment operator can also be used to add new key-value pairs to the dictionary."
   ]
  },
  {
   "cell_type": "code",
   "execution_count": 192,
   "id": "1659e1de",
   "metadata": {},
   "outputs": [
    {
     "data": {
      "text/plain": [
       "'True'"
      ]
     },
     "execution_count": 192,
     "metadata": {},
     "output_type": "execute_result"
    }
   ],
   "source": [
    "staff_1['address']"
   ]
  },
  {
   "cell_type": "code",
   "execution_count": 193,
   "id": "f0657887",
   "metadata": {},
   "outputs": [],
   "source": [
    "staff_1['address'] ='13B,Rashidiya'"
   ]
  },
  {
   "cell_type": "code",
   "execution_count": 194,
   "id": "8ba3081d",
   "metadata": {},
   "outputs": [
    {
     "data": {
      "text/plain": [
       "{'name': 'james',\n",
       " 'gender': 'male',\n",
       " 'age': 30,\n",
       " 'married': True,\n",
       " 'address': '13B,Rashidiya'}"
      ]
     },
     "execution_count": 194,
     "metadata": {},
     "output_type": "execute_result"
    }
   ],
   "source": [
    "staff_1"
   ]
  },
  {
   "cell_type": "code",
   "execution_count": null,
   "id": "ae1286cb",
   "metadata": {},
   "outputs": [],
   "source": []
  },
  {
   "cell_type": "markdown",
   "id": "7ed27c2c",
   "metadata": {},
   "source": [
    "##### To remove a key and the associated value from a dictionary, use the pop method."
   ]
  },
  {
   "cell_type": "code",
   "execution_count": 195,
   "id": "c1eaee7e",
   "metadata": {},
   "outputs": [
    {
     "data": {
      "text/plain": [
       "'male'"
      ]
     },
     "execution_count": 195,
     "metadata": {},
     "output_type": "execute_result"
    }
   ],
   "source": [
    "staff_1.pop('gender')"
   ]
  },
  {
   "cell_type": "code",
   "execution_count": 196,
   "id": "de273be0",
   "metadata": {},
   "outputs": [
    {
     "data": {
      "text/plain": [
       "{'name': 'james', 'age': 30, 'married': True, 'address': '13B,Rashidiya'}"
      ]
     },
     "execution_count": 196,
     "metadata": {},
     "output_type": "execute_result"
    }
   ],
   "source": [
    "staff_1"
   ]
  },
  {
   "cell_type": "code",
   "execution_count": null,
   "id": "f2300117",
   "metadata": {},
   "outputs": [],
   "source": []
  },
  {
   "cell_type": "markdown",
   "id": "8f992ee8",
   "metadata": {},
   "source": [
    "###### Dictionaries also provide methods to view the list of keys, values or key-value pairs inside it."
   ]
  },
  {
   "cell_type": "code",
   "execution_count": 198,
   "id": "b3d234c7",
   "metadata": {},
   "outputs": [
    {
     "data": {
      "text/plain": [
       "dict_keys(['Name', 'Date of birth', 'Place of birth', 'Gender', 'Place of Origin', 'Level of education'])"
      ]
     },
     "execution_count": 198,
     "metadata": {},
     "output_type": "execute_result"
    }
   ],
   "source": [
    "child1.keys()"
   ]
  },
  {
   "cell_type": "code",
   "execution_count": 199,
   "id": "1d5072ff",
   "metadata": {},
   "outputs": [
    {
     "data": {
      "text/plain": [
       "dict_keys(['name', 'gender', 'age', 'place_of_birth', 'origin'])"
      ]
     },
     "execution_count": 199,
     "metadata": {},
     "output_type": "execute_result"
    }
   ],
   "source": [
    "child2.keys()"
   ]
  },
  {
   "cell_type": "code",
   "execution_count": 200,
   "id": "f3c57ee9",
   "metadata": {},
   "outputs": [
    {
     "data": {
      "text/plain": [
       "dict_keys(['Salary code', 'Gender', 'DOJ', 'Dept', 'Salary', 'Transport', 'Accomodation'])"
      ]
     },
     "execution_count": 200,
     "metadata": {},
     "output_type": "execute_result"
    }
   ],
   "source": [
    "Employee1.keys()"
   ]
  },
  {
   "cell_type": "code",
   "execution_count": 201,
   "id": "3626c8b0",
   "metadata": {},
   "outputs": [
    {
     "data": {
      "text/plain": [
       "dict_values(['Abdulrahman', '10th of March', 'Dubai', 'Male', 'France', 'Grade2'])"
      ]
     },
     "execution_count": 201,
     "metadata": {},
     "output_type": "execute_result"
    }
   ],
   "source": [
    "child1.values()"
   ]
  },
  {
   "cell_type": "code",
   "execution_count": 202,
   "id": "a86cd8b3",
   "metadata": {},
   "outputs": [
    {
     "data": {
      "text/plain": [
       "dict_values(['aiza', 'female', 5, 'dubai', 'france'])"
      ]
     },
     "execution_count": 202,
     "metadata": {},
     "output_type": "execute_result"
    }
   ],
   "source": [
    "child2.values()"
   ]
  },
  {
   "cell_type": "code",
   "execution_count": 204,
   "id": "fc3f62c3",
   "metadata": {},
   "outputs": [
    {
     "data": {
      "text/plain": [
       "dict_values(['james', 30, True, '13B,Rashidiya'])"
      ]
     },
     "execution_count": 204,
     "metadata": {},
     "output_type": "execute_result"
    }
   ],
   "source": [
    "staff_1.values()"
   ]
  },
  {
   "cell_type": "code",
   "execution_count": 205,
   "id": "598b583d",
   "metadata": {},
   "outputs": [
    {
     "data": {
      "text/plain": [
       "dict_keys(['name', 'age', 'married', 'address'])"
      ]
     },
     "execution_count": 205,
     "metadata": {},
     "output_type": "execute_result"
    }
   ],
   "source": [
    "staff_1.keys()"
   ]
  },
  {
   "cell_type": "code",
   "execution_count": 206,
   "id": "d8a9728a",
   "metadata": {},
   "outputs": [
    {
     "data": {
      "text/plain": [
       "dict_items([('name', 'james'), ('age', 30), ('married', True), ('address', '13B,Rashidiya')])"
      ]
     },
     "execution_count": 206,
     "metadata": {},
     "output_type": "execute_result"
    }
   ],
   "source": [
    "staff_1.items()"
   ]
  },
  {
   "cell_type": "code",
   "execution_count": null,
   "id": "e0e3aae4",
   "metadata": {},
   "outputs": [],
   "source": []
  },
  {
   "cell_type": "markdown",
   "id": "3c72fea2",
   "metadata": {},
   "source": [
    "##### The result of the keys. values or items look like lists but don't seem to support the indexing operator [ ] for retreiving elements.\n",
    "Figure out how to access an element at a specific index from these results. hint use the list function."
   ]
  },
  {
   "cell_type": "code",
   "execution_count": 208,
   "id": "5b93daed",
   "metadata": {},
   "outputs": [
    {
     "ename": "TypeError",
     "evalue": "'dict_items' object is not subscriptable",
     "output_type": "error",
     "traceback": [
      "\u001b[1;31m---------------------------------------------------------------------------\u001b[0m",
      "\u001b[1;31mTypeError\u001b[0m                                 Traceback (most recent call last)",
      "Cell \u001b[1;32mIn[208], line 1\u001b[0m\n\u001b[1;32m----> 1\u001b[0m \u001b[43mstaff_1\u001b[49m\u001b[38;5;241;43m.\u001b[39;49m\u001b[43mitems\u001b[49m\u001b[43m(\u001b[49m\u001b[43m)\u001b[49m\u001b[43m[\u001b[49m\u001b[38;5;241;43m1\u001b[39;49m\u001b[43m]\u001b[49m\n",
      "\u001b[1;31mTypeError\u001b[0m: 'dict_items' object is not subscriptable"
     ]
    }
   ],
   "source": [
    "staff_1.items()[1]"
   ]
  },
  {
   "cell_type": "code",
   "execution_count": 236,
   "id": "43e565be",
   "metadata": {},
   "outputs": [
    {
     "ename": "AttributeError",
     "evalue": "'dict' object has no attribute 'lists'",
     "output_type": "error",
     "traceback": [
      "\u001b[1;31m---------------------------------------------------------------------------\u001b[0m",
      "\u001b[1;31mAttributeError\u001b[0m                            Traceback (most recent call last)",
      "Cell \u001b[1;32mIn[236], line 1\u001b[0m\n\u001b[1;32m----> 1\u001b[0m \u001b[43mstaff_1\u001b[49m\u001b[38;5;241;43m.\u001b[39;49m\u001b[43mlists\u001b[49m()\n",
      "\u001b[1;31mAttributeError\u001b[0m: 'dict' object has no attribute 'lists'"
     ]
    }
   ],
   "source": [
    "staff_1.lists()"
   ]
  },
  {
   "cell_type": "code",
   "execution_count": null,
   "id": "040ff82a",
   "metadata": {},
   "outputs": [],
   "source": []
  },
  {
   "cell_type": "code",
   "execution_count": null,
   "id": "aa267301",
   "metadata": {},
   "outputs": [],
   "source": []
  },
  {
   "cell_type": "code",
   "execution_count": null,
   "id": "60efdd1e",
   "metadata": {},
   "outputs": [],
   "source": []
  },
  {
   "cell_type": "code",
   "execution_count": null,
   "id": "f47c246f",
   "metadata": {},
   "outputs": [],
   "source": [
    "###### Dictionaries provide many other methods.\n",
    "Here are some experiments you can try out with dictionaries\n",
    "1. What happens if you use the same key multiple times while creating a dictionary?\n",
    "2. How can you create a copy of a dictionary(modifying copy should not change the original)\n",
    "3. Can the value associated with a key itself be a dictionary\n",
    "4. How can you add the key value pairs from one dictionary into another dictionary? Hint: see the update method\n",
    "5. Can the keys of a dictionary be something other than a stringe eg. number, boolean, list"
   ]
  },
  {
   "cell_type": "code",
   "execution_count": null,
   "id": "aa4bbb1f",
   "metadata": {},
   "outputs": [],
   "source": []
  },
  {
   "cell_type": "code",
   "execution_count": 213,
   "id": "55391f2d",
   "metadata": {},
   "outputs": [],
   "source": [
    "fantasy = {'Name':'james',\n",
    "           'gender':'male',\n",
    "           'DOB':'10th_of_march',\n",
    "           'married':'false',\n",
    "           'address':'lagos'\n",
    "    \n",
    "    \n",
    "    \n",
    "    \n",
    "    \n",
    "    \n",
    "}"
   ]
  },
  {
   "cell_type": "code",
   "execution_count": 214,
   "id": "b585cb7a",
   "metadata": {},
   "outputs": [
    {
     "data": {
      "text/plain": [
       "{'Name': 'james',\n",
       " 'gender': 'male',\n",
       " 'DOB': '10th_of_march',\n",
       " 'married': 'false',\n",
       " 'address': 'lagos'}"
      ]
     },
     "execution_count": 214,
     "metadata": {},
     "output_type": "execute_result"
    }
   ],
   "source": [
    "fantasy"
   ]
  },
  {
   "cell_type": "code",
   "execution_count": 215,
   "id": "a0e719ea",
   "metadata": {},
   "outputs": [
    {
     "data": {
      "text/plain": [
       "dict_keys(['Name', 'gender', 'DOB', 'married', 'address'])"
      ]
     },
     "execution_count": 215,
     "metadata": {},
     "output_type": "execute_result"
    }
   ],
   "source": [
    "fantasy.keys()"
   ]
  },
  {
   "cell_type": "code",
   "execution_count": 216,
   "id": "5a004aed",
   "metadata": {},
   "outputs": [
    {
     "data": {
      "text/plain": [
       "dict_values(['james', 'male', '10th_of_march', 'false', 'lagos'])"
      ]
     },
     "execution_count": 216,
     "metadata": {},
     "output_type": "execute_result"
    }
   ],
   "source": [
    "fantasy.values()"
   ]
  },
  {
   "cell_type": "code",
   "execution_count": 217,
   "id": "fd57b006",
   "metadata": {},
   "outputs": [
    {
     "data": {
      "text/plain": [
       "dict_items([('Name', 'james'), ('gender', 'male'), ('DOB', '10th_of_march'), ('married', 'false'), ('address', 'lagos')])"
      ]
     },
     "execution_count": 217,
     "metadata": {},
     "output_type": "execute_result"
    }
   ],
   "source": [
    "fantasy.items()"
   ]
  },
  {
   "cell_type": "code",
   "execution_count": null,
   "id": "a8fc04bb",
   "metadata": {},
   "outputs": [],
   "source": []
  },
  {
   "cell_type": "code",
   "execution_count": 218,
   "id": "ffe2f6ae",
   "metadata": {},
   "outputs": [
    {
     "ename": "SyntaxError",
     "evalue": "keyword argument repeated: name (2265414037.py, line 1)",
     "output_type": "error",
     "traceback": [
      "\u001b[1;36m  Cell \u001b[1;32mIn[218], line 1\u001b[1;36m\u001b[0m\n\u001b[1;33m    employee_name = dict(name='jack',age=31, name='janet', age=32, name='joy', age=53)\u001b[0m\n\u001b[1;37m                                             ^\u001b[0m\n\u001b[1;31mSyntaxError\u001b[0m\u001b[1;31m:\u001b[0m keyword argument repeated: name\n"
     ]
    }
   ],
   "source": [
    "employee_name = dict(name='jack',age=31, name='janet', age=32, name='joy', age=53)"
   ]
  },
  {
   "cell_type": "code",
   "execution_count": null,
   "id": "67523073",
   "metadata": {},
   "outputs": [],
   "source": []
  },
  {
   "cell_type": "code",
   "execution_count": 219,
   "id": "839277f1",
   "metadata": {},
   "outputs": [],
   "source": [
    "luxury = fantasy.copy()"
   ]
  },
  {
   "cell_type": "code",
   "execution_count": 220,
   "id": "bfba0d4a",
   "metadata": {},
   "outputs": [
    {
     "data": {
      "text/plain": [
       "{'Name': 'james',\n",
       " 'gender': 'male',\n",
       " 'DOB': '10th_of_march',\n",
       " 'married': 'false',\n",
       " 'address': 'lagos'}"
      ]
     },
     "execution_count": 220,
     "metadata": {},
     "output_type": "execute_result"
    }
   ],
   "source": [
    "luxury"
   ]
  },
  {
   "cell_type": "code",
   "execution_count": 223,
   "id": "dcd6dc4b",
   "metadata": {},
   "outputs": [
    {
     "data": {
      "text/plain": [
       "{'Name': 'james',\n",
       " 'gender': 'male',\n",
       " 'DOB': '10th_of_march',\n",
       " 'married': 'false',\n",
       " 'address': 'lagos'}"
      ]
     },
     "execution_count": 223,
     "metadata": {},
     "output_type": "execute_result"
    }
   ],
   "source": [
    "fantasy"
   ]
  },
  {
   "cell_type": "code",
   "execution_count": 224,
   "id": "39a96075",
   "metadata": {},
   "outputs": [
    {
     "data": {
      "text/plain": [
       "True"
      ]
     },
     "execution_count": 224,
     "metadata": {},
     "output_type": "execute_result"
    }
   ],
   "source": [
    "'gender' in fantasy"
   ]
  },
  {
   "cell_type": "code",
   "execution_count": null,
   "id": "ff39e244",
   "metadata": {},
   "outputs": [],
   "source": []
  },
  {
   "cell_type": "code",
   "execution_count": 225,
   "id": "491a4dfd",
   "metadata": {},
   "outputs": [
    {
     "data": {
      "text/plain": [
       "{'Name': 'james',\n",
       " 'gender': 'male',\n",
       " 'DOB': '10th_of_march',\n",
       " 'married': 'false',\n",
       " 'address': 'lagos'}"
      ]
     },
     "execution_count": 225,
     "metadata": {},
     "output_type": "execute_result"
    }
   ],
   "source": [
    "luxury"
   ]
  },
  {
   "cell_type": "code",
   "execution_count": 228,
   "id": "b42a226d",
   "metadata": {},
   "outputs": [
    {
     "data": {
      "text/plain": [
       "'10th_of_march'"
      ]
     },
     "execution_count": 228,
     "metadata": {},
     "output_type": "execute_result"
    }
   ],
   "source": [
    "luxury.pop('DOB')"
   ]
  },
  {
   "cell_type": "code",
   "execution_count": 229,
   "id": "869909ad",
   "metadata": {},
   "outputs": [
    {
     "data": {
      "text/plain": [
       "{'Name': 'james', 'gender': 'male', 'married': 'false', 'address': 'lagos'}"
      ]
     },
     "execution_count": 229,
     "metadata": {},
     "output_type": "execute_result"
    }
   ],
   "source": [
    "luxury"
   ]
  },
  {
   "cell_type": "code",
   "execution_count": 232,
   "id": "d07e19e4",
   "metadata": {},
   "outputs": [],
   "source": [
    "luxury['address'] = '35, obalende'"
   ]
  },
  {
   "cell_type": "code",
   "execution_count": 233,
   "id": "0310f2ea",
   "metadata": {},
   "outputs": [
    {
     "data": {
      "text/plain": [
       "{'Name': 'james',\n",
       " 'gender': 'male',\n",
       " 'married': 'false',\n",
       " 'address': '35, obalende'}"
      ]
     },
     "execution_count": 233,
     "metadata": {},
     "output_type": "execute_result"
    }
   ],
   "source": [
    "luxury"
   ]
  },
  {
   "cell_type": "code",
   "execution_count": null,
   "id": "12549ef5",
   "metadata": {},
   "outputs": [],
   "source": []
  },
  {
   "cell_type": "code",
   "execution_count": 234,
   "id": "5bb54ca9",
   "metadata": {},
   "outputs": [
    {
     "data": {
      "text/plain": [
       "{'Name': 'james',\n",
       " 'gender': 'male',\n",
       " 'DOB': '10th_of_march',\n",
       " 'married': 'false',\n",
       " 'address': 'lagos'}"
      ]
     },
     "execution_count": 234,
     "metadata": {},
     "output_type": "execute_result"
    }
   ],
   "source": [
    "fantasy"
   ]
  },
  {
   "cell_type": "code",
   "execution_count": null,
   "id": "ea42698d",
   "metadata": {},
   "outputs": [],
   "source": []
  },
  {
   "cell_type": "markdown",
   "id": "9120b2f9",
   "metadata": {},
   "source": [
    "#####  Can the value associated with a key itself be a dictionary"
   ]
  },
  {
   "cell_type": "code",
   "execution_count": 239,
   "id": "150e7bf3",
   "metadata": {},
   "outputs": [
    {
     "ename": "ValueError",
     "evalue": "dictionary update sequence element #0 has length 1; 2 is required",
     "output_type": "error",
     "traceback": [
      "\u001b[1;31m---------------------------------------------------------------------------\u001b[0m",
      "\u001b[1;31mValueError\u001b[0m                                Traceback (most recent call last)",
      "Cell \u001b[1;32mIn[239], line 1\u001b[0m\n\u001b[1;32m----> 1\u001b[0m expo_2020 \u001b[38;5;241m=\u001b[39m \u001b[38;5;28mdict\u001b[39m(pavilion\u001b[38;5;241m=\u001b[39m (\u001b[38;5;28;43mdict\u001b[39;49m\u001b[43m(\u001b[49m\u001b[38;5;124;43m'\u001b[39;49m\u001b[38;5;124;43mloby\u001b[39;49m\u001b[38;5;124;43m'\u001b[39;49m\u001b[43m)\u001b[49m), arena\u001b[38;5;241m=\u001b[39m\u001b[38;5;124m'\u001b[39m\u001b[38;5;124mdict2\u001b[39m\u001b[38;5;124m'\u001b[39m, mega\u001b[38;5;241m=\u001b[39m\u001b[38;5;124m'\u001b[39m\u001b[38;5;124mdict3\u001b[39m\u001b[38;5;124m'\u001b[39m)\n",
      "\u001b[1;31mValueError\u001b[0m: dictionary update sequence element #0 has length 1; 2 is required"
     ]
    }
   ],
   "source": [
    "expo_2020 = dict(pavilion= dict('loby'), arena='dict2', mega='dict3')"
   ]
  },
  {
   "cell_type": "code",
   "execution_count": null,
   "id": "6251d40a",
   "metadata": {},
   "outputs": [],
   "source": []
  },
  {
   "cell_type": "markdown",
   "id": "0f01dee8",
   "metadata": {},
   "source": [
    "##### How can you add the key value pairs from one dictionary into another dictionary? Hint: see the update method"
   ]
  },
  {
   "cell_type": "code",
   "execution_count": 240,
   "id": "0931d8d5",
   "metadata": {},
   "outputs": [
    {
     "data": {
      "text/plain": [
       "{'Name': 'james',\n",
       " 'gender': 'male',\n",
       " 'DOB': '10th_of_march',\n",
       " 'married': 'false',\n",
       " 'address': 'lagos'}"
      ]
     },
     "execution_count": 240,
     "metadata": {},
     "output_type": "execute_result"
    }
   ],
   "source": [
    "fantasy"
   ]
  },
  {
   "cell_type": "code",
   "execution_count": 241,
   "id": "71efb48f",
   "metadata": {},
   "outputs": [
    {
     "data": {
      "text/plain": [
       "{'Name': 'james',\n",
       " 'gender': 'male',\n",
       " 'married': 'false',\n",
       " 'address': '35, obalende'}"
      ]
     },
     "execution_count": 241,
     "metadata": {},
     "output_type": "execute_result"
    }
   ],
   "source": [
    "luxury"
   ]
  },
  {
   "cell_type": "code",
   "execution_count": 253,
   "id": "8055cc98",
   "metadata": {},
   "outputs": [
    {
     "ename": "TypeError",
     "evalue": "'builtin_function_or_method' object does not support item assignment",
     "output_type": "error",
     "traceback": [
      "\u001b[1;31m---------------------------------------------------------------------------\u001b[0m",
      "\u001b[1;31mTypeError\u001b[0m                                 Traceback (most recent call last)",
      "Cell \u001b[1;32mIn[253], line 1\u001b[0m\n\u001b[1;32m----> 1\u001b[0m fantasy\u001b[38;5;241m.\u001b[39mupdate[\u001b[38;5;124m'\u001b[39m\u001b[38;5;124maddress\u001b[39m\u001b[38;5;124m'\u001b[39m]\u001b[38;5;241m=\u001b[39m (\u001b[38;5;124m'\u001b[39m\u001b[38;5;124mlagos\u001b[39m\u001b[38;5;124m'\u001b[39m, \u001b[38;5;124m'\u001b[39m\u001b[38;5;124m35, obalende\u001b[39m\u001b[38;5;124m'\u001b[39m)\n",
      "\u001b[1;31mTypeError\u001b[0m: 'builtin_function_or_method' object does not support item assignment"
     ]
    }
   ],
   "source": [
    "fantasy.update['address']= ('lagos', '35, obalende')"
   ]
  },
  {
   "cell_type": "code",
   "execution_count": null,
   "id": "30fcf25e",
   "metadata": {},
   "outputs": [],
   "source": []
  },
  {
   "cell_type": "markdown",
   "id": "e61db23e",
   "metadata": {},
   "source": [
    "##### Can the keys of a dictionary be something other than a string such as number, boolean, list"
   ]
  },
  {
   "cell_type": "code",
   "execution_count": 254,
   "id": "2dac1d04",
   "metadata": {},
   "outputs": [
    {
     "ename": "SyntaxError",
     "evalue": "expression cannot contain assignment, perhaps you meant \"==\"? (3989883750.py, line 1)",
     "output_type": "error",
     "traceback": [
      "\u001b[1;36m  Cell \u001b[1;32mIn[254], line 1\u001b[1;36m\u001b[0m\n\u001b[1;33m    expo_2021 = dict(1='jug', 2='cup')\u001b[0m\n\u001b[1;37m                     ^\u001b[0m\n\u001b[1;31mSyntaxError\u001b[0m\u001b[1;31m:\u001b[0m expression cannot contain assignment, perhaps you meant \"==\"?\n"
     ]
    }
   ],
   "source": [
    "expo_2021 = dict(1='jug', 2='cup')"
   ]
  },
  {
   "cell_type": "code",
   "execution_count": null,
   "id": "0c2d62c0",
   "metadata": {},
   "outputs": [],
   "source": []
  },
  {
   "cell_type": "code",
   "execution_count": null,
   "id": "9db1c7a4",
   "metadata": {},
   "outputs": [],
   "source": []
  },
  {
   "cell_type": "code",
   "execution_count": null,
   "id": "209f89f9",
   "metadata": {},
   "outputs": [],
   "source": []
  },
  {
   "cell_type": "code",
   "execution_count": null,
   "id": "d4a49d46",
   "metadata": {},
   "outputs": [],
   "source": []
  },
  {
   "cell_type": "code",
   "execution_count": null,
   "id": "3c776030",
   "metadata": {},
   "outputs": [],
   "source": []
  },
  {
   "cell_type": "code",
   "execution_count": null,
   "id": "b0a5a9e8",
   "metadata": {},
   "outputs": [],
   "source": []
  }
 ],
 "metadata": {
  "kernelspec": {
   "display_name": "Python 3 (ipykernel)",
   "language": "python",
   "name": "python3"
  },
  "language_info": {
   "codemirror_mode": {
    "name": "ipython",
    "version": 3
   },
   "file_extension": ".py",
   "mimetype": "text/x-python",
   "name": "python",
   "nbconvert_exporter": "python",
   "pygments_lexer": "ipython3",
   "version": "3.10.9"
  }
 },
 "nbformat": 4,
 "nbformat_minor": 5
}
