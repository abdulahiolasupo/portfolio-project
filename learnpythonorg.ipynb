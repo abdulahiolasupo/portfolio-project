{
 "cells": [
  {
   "cell_type": "code",
   "execution_count": null,
   "id": "36a974d9",
   "metadata": {},
   "outputs": [],
   "source": []
  },
  {
   "cell_type": "code",
   "execution_count": 1,
   "id": "891774b3",
   "metadata": {},
   "outputs": [
    {
     "name": "stdout",
     "output_type": "stream",
     "text": [
      "The factorial of 100 is: 3628800\n",
      "CPU times: total: 0 ns\n",
      "Wall time: 0 ns\n"
     ]
    }
   ],
   "source": [
    "%%time\n",
    "a_nswer = 1\n",
    "i = 1\n",
    "while i <= 10:\n",
    "    a_nswer = a_nswer * i\n",
    "    i = i + 1\n",
    "\n",
    "print('The factorial of 100 is: {}'.format(a_nswer))"
   ]
  },
  {
   "cell_type": "code",
   "execution_count": null,
   "id": "b0b8c9e5",
   "metadata": {},
   "outputs": [],
   "source": []
  },
  {
   "cell_type": "code",
   "execution_count": 3,
   "id": "7c6d338b",
   "metadata": {},
   "outputs": [
    {
     "name": "stdout",
     "output_type": "stream",
     "text": [
      "magic number 42 reached! stop execute..\n",
      "i: 42\n",
      "result 1405006117752879898543142606244511569936384000000000\n"
     ]
    }
   ],
   "source": [
    "i = 1\n",
    "result = 1\n",
    "\n",
    "while i<=100:\n",
    "    result = result * i\n",
    "    if i == 42:\n",
    "        print('magic number 42 reached! stop execute..')\n",
    "        break\n",
    "    i += 1\n",
    "\n",
    "print('i:', i)\n",
    "print('result', result)\n",
    "    \n"
   ]
  },
  {
   "cell_type": "code",
   "execution_count": null,
   "id": "87ab1f15",
   "metadata": {},
   "outputs": [],
   "source": []
  },
  {
   "cell_type": "code",
   "execution_count": null,
   "id": "2d2b65a0",
   "metadata": {},
   "outputs": [],
   "source": []
  },
  {
   "cell_type": "code",
   "execution_count": 2,
   "id": "4449c82f",
   "metadata": {},
   "outputs": [
    {
     "name": "stdout",
     "output_type": "stream",
     "text": [
      "skipping 2 \n",
      "multiplying with 3.\n",
      "skipping 4 \n",
      "multiplying with 5.\n",
      "skipping 6 \n",
      "multiplying with 7.\n",
      "skipping 8 \n",
      "multiplying with 9.\n",
      "skipping 10 \n",
      "multiplying with 11.\n",
      "skipping 12 \n",
      "multiplying with 13.\n",
      "skipping 14 \n",
      "multiplying with 15.\n",
      "skipping 16 \n",
      "multiplying with 17.\n",
      "skipping 18 \n",
      "multiplying with 19.\n",
      "skipping 20 \n",
      "i: 20\n",
      "result: 654729075\n"
     ]
    }
   ],
   "source": [
    "i = 1\n",
    "result = 1\n",
    "while i < 20:\n",
    "    i += 1\n",
    "    if i % 2 == 0:\n",
    "        print('skipping {} '.format(i))\n",
    "        continue\n",
    "    print('multiplying with {}.'.format(i))\n",
    "    result = result * i\n",
    "\n",
    "print('i:', i)\n",
    "print('result:', result)\n",
    "    "
   ]
  },
  {
   "cell_type": "code",
   "execution_count": null,
   "id": "21f9d29a",
   "metadata": {},
   "outputs": [],
   "source": []
  },
  {
   "cell_type": "code",
   "execution_count": 7,
   "id": "9a95b9c1",
   "metadata": {},
   "outputs": [
    {
     "name": "stdout",
     "output_type": "stream",
     "text": [
      "Morning, Aiza!\n"
     ]
    }
   ],
   "source": [
    "name = \"Aiza\"\n",
    "print(\"Morning, %s!\" % name)"
   ]
  },
  {
   "cell_type": "code",
   "execution_count": null,
   "id": "86febcf0",
   "metadata": {},
   "outputs": [],
   "source": []
  },
  {
   "cell_type": "code",
   "execution_count": 8,
   "id": "b4f3faa4",
   "metadata": {},
   "outputs": [
    {
     "name": "stdout",
     "output_type": "stream",
     "text": [
      "Salam, Muhammad!\n"
     ]
    }
   ],
   "source": [
    "name = \"Muhammad\"\n",
    "print(\"Salam, %s!\" % name)"
   ]
  },
  {
   "cell_type": "code",
   "execution_count": null,
   "id": "3aa65408",
   "metadata": {},
   "outputs": [],
   "source": []
  },
  {
   "cell_type": "code",
   "execution_count": 9,
   "id": "5c32f96e",
   "metadata": {},
   "outputs": [
    {
     "name": "stdout",
     "output_type": "stream",
     "text": [
      "Good day, Officer!\n"
     ]
    }
   ],
   "source": [
    "name = \"Officer\"\n",
    "print(\"Good day, %s!\" % name)"
   ]
  },
  {
   "cell_type": "code",
   "execution_count": null,
   "id": "3f1f6cad",
   "metadata": {},
   "outputs": [],
   "source": []
  },
  {
   "cell_type": "code",
   "execution_count": 10,
   "id": "624d9184",
   "metadata": {},
   "outputs": [
    {
     "name": "stdout",
     "output_type": "stream",
     "text": [
      "Where have you been Tolani!\n"
     ]
    }
   ],
   "source": [
    "name = \"Tolani\"\n",
    "print(\"Where have you been %s!\" % name)\n"
   ]
  },
  {
   "cell_type": "code",
   "execution_count": null,
   "id": "c933bdfd",
   "metadata": {},
   "outputs": [],
   "source": []
  },
  {
   "cell_type": "code",
   "execution_count": 11,
   "id": "7f3b4627",
   "metadata": {},
   "outputs": [
    {
     "name": "stdout",
     "output_type": "stream",
     "text": [
      "Where were you, I have been looking for you Muhammad\n"
     ]
    }
   ],
   "source": [
    "name = \"Muhammad\"\n",
    "print(\"Where were you, I have been looking for you %s\" % name)"
   ]
  },
  {
   "cell_type": "code",
   "execution_count": null,
   "id": "fba45173",
   "metadata": {},
   "outputs": [],
   "source": []
  },
  {
   "cell_type": "code",
   "execution_count": null,
   "id": "c3de6ca6",
   "metadata": {},
   "outputs": [],
   "source": []
  },
  {
   "cell_type": "code",
   "execution_count": 1,
   "id": "f3775663",
   "metadata": {},
   "outputs": [
    {
     "name": "stdout",
     "output_type": "stream",
     "text": [
      "Lade is 33 years old, earning 65000 as income!\n"
     ]
    }
   ],
   "source": [
    "name = \"Lade\"\n",
    "income = 65000\n",
    "age = 33\n",
    "print(\"%s is %d years old, earning %s as income!\" % (name,age,income))"
   ]
  },
  {
   "cell_type": "code",
   "execution_count": null,
   "id": "ff3c4fad",
   "metadata": {},
   "outputs": [],
   "source": []
  },
  {
   "cell_type": "code",
   "execution_count": 2,
   "id": "55210a40",
   "metadata": {},
   "outputs": [
    {
     "name": "stdout",
     "output_type": "stream",
     "text": [
      "John is 23 years old.\n"
     ]
    }
   ],
   "source": [
    "name = \"John\"\n",
    "age = 23\n",
    "print(\"%s is %d years old.\" % (name, age))"
   ]
  },
  {
   "cell_type": "code",
   "execution_count": null,
   "id": "d97ef873",
   "metadata": {},
   "outputs": [],
   "source": []
  },
  {
   "cell_type": "code",
   "execution_count": 3,
   "id": "d866951c",
   "metadata": {},
   "outputs": [
    {
     "name": "stdout",
     "output_type": "stream",
     "text": [
      "Joel is 33 years old.\n"
     ]
    }
   ],
   "source": [
    "name = \"Joel\"\n",
    "age = 33\n",
    "print(\"%s is %d years old.\" % (name,age))"
   ]
  },
  {
   "cell_type": "code",
   "execution_count": null,
   "id": "3e372687",
   "metadata": {},
   "outputs": [],
   "source": []
  },
  {
   "cell_type": "code",
   "execution_count": 4,
   "id": "9f2160c2",
   "metadata": {},
   "outputs": [
    {
     "name": "stdout",
     "output_type": "stream",
     "text": [
      "Wale is earning 30000 dirahm monthly.\n"
     ]
    }
   ],
   "source": [
    "name = \"Wale\"\n",
    "salary = 30000\n",
    "print(\"%s is earning %d dirahm monthly.\" % (name, salary))\n"
   ]
  },
  {
   "cell_type": "code",
   "execution_count": null,
   "id": "d6dc3002",
   "metadata": {},
   "outputs": [],
   "source": []
  },
  {
   "cell_type": "code",
   "execution_count": 5,
   "id": "7d7bfad8",
   "metadata": {},
   "outputs": [
    {
     "name": "stdout",
     "output_type": "stream",
     "text": [
      "Abdul Hamid is getting 70000 dirahm overtime monthly!\n"
     ]
    }
   ],
   "source": [
    "name = \"Abdul Hamid\"\n",
    "overtime = 70000\n",
    "salary = 120000\n",
    "\n",
    "print(\"%s is getting %d dirahm overtime monthly!\" %(name,overtime))\n"
   ]
  },
  {
   "cell_type": "code",
   "execution_count": null,
   "id": "41dcb165",
   "metadata": {},
   "outputs": [],
   "source": []
  },
  {
   "cell_type": "code",
   "execution_count": 6,
   "id": "b9b7e7df",
   "metadata": {},
   "outputs": [
    {
     "name": "stdout",
     "output_type": "stream",
     "text": [
      "Lade is 33 years old, earning 65000 as income!\n"
     ]
    }
   ],
   "source": [
    "name = \"Lade\"\n",
    "income = 65000\n",
    "age = 33\n",
    "print(\"%s is %d years old, earning %s as income!\" % (name,age,income))"
   ]
  },
  {
   "cell_type": "code",
   "execution_count": null,
   "id": "ebe0595a",
   "metadata": {},
   "outputs": [],
   "source": []
  },
  {
   "cell_type": "code",
   "execution_count": null,
   "id": "bb58a0d0",
   "metadata": {},
   "outputs": [],
   "source": []
  },
  {
   "cell_type": "markdown",
   "id": "c1feb1f8",
   "metadata": {},
   "source": [
    "####### Any object which is not a string can be formatted using the %s operator as well. The string which returns from the \"repr\" method of that object is formatted as the string. For example:"
   ]
  },
  {
   "cell_type": "code",
   "execution_count": 12,
   "id": "dff35db2",
   "metadata": {},
   "outputs": [
    {
     "name": "stdout",
     "output_type": "stream",
     "text": [
      "A list: [1, 2, 3, 4, 5]\n"
     ]
    }
   ],
   "source": [
    "mylist = [1,2,3,4,5]\n",
    "print(\"A list: %s\" % mylist)"
   ]
  },
  {
   "cell_type": "code",
   "execution_count": null,
   "id": "b88b111a",
   "metadata": {},
   "outputs": [],
   "source": []
  },
  {
   "cell_type": "code",
   "execution_count": 17,
   "id": "98edba87",
   "metadata": {},
   "outputs": [
    {
     "name": "stdout",
     "output_type": "stream",
     "text": [
      "A list of even number [2, 4, 6, 8, 10]\n"
     ]
    }
   ],
   "source": [
    "evenlist = [2,4,6,8,10]\n",
    "print(\"A list of even number %s\" % evenlist)"
   ]
  },
  {
   "cell_type": "code",
   "execution_count": null,
   "id": "d802c84b",
   "metadata": {},
   "outputs": [],
   "source": []
  },
  {
   "cell_type": "code",
   "execution_count": null,
   "id": "e4164398",
   "metadata": {},
   "outputs": [],
   "source": [
    "##### Here are some basic argument specifiers you should know:\n",
    "\n",
    "%s - String (or any object with a string representation, like numbers)\n",
    "\n",
    "%d - Integers\n",
    "\n",
    "%f - Floating point numbers\n",
    "\n",
    "%.<number of digits>f - Floating point numbers with a fixed amount of digits to the right of the dot.\n",
    "\n",
    "%x/%X - Integers in hex representation (lowercase/uppercase)"
   ]
  },
  {
   "cell_type": "code",
   "execution_count": null,
   "id": "3bccd449",
   "metadata": {},
   "outputs": [],
   "source": []
  },
  {
   "cell_type": "markdown",
   "id": "64a5e1fc",
   "metadata": {},
   "source": [
    "###### Exercise\n",
    "You will need to write a format string which prints out the data using the following syntax: Hello John Doe. Your current balance is $53.44."
   ]
  },
  {
   "cell_type": "code",
   "execution_count": 18,
   "id": "9c805b9b",
   "metadata": {},
   "outputs": [
    {
     "name": "stdout",
     "output_type": "stream",
     "text": [
      "Hello John Doe. Your current balance is $53.44.\n"
     ]
    }
   ],
   "source": [
    "data = (\"John\", \"Doe\", 53.44)\n",
    "format_string = \"Hello %s %s. Your current balance is $%s.\"\n",
    "\n",
    "print(format_string % data)"
   ]
  },
  {
   "cell_type": "code",
   "execution_count": null,
   "id": "9199d2b2",
   "metadata": {},
   "outputs": [],
   "source": []
  },
  {
   "cell_type": "code",
   "execution_count": 6,
   "id": "72ada80e",
   "metadata": {},
   "outputs": [
    {
     "name": "stdout",
     "output_type": "stream",
     "text": [
      "the programming language is C\n"
     ]
    }
   ],
   "source": [
    "language = \"C\"\n",
    "if language == \"python\":\n",
    "    print('language is python')\n",
    "    \n",
    "elif language == \"java\":\n",
    "    print('java script')\n",
    "    \n",
    "elif language == \"C\":\n",
    "    print('the programming language is C')\n",
    "else:\n",
    "    print('no match')"
   ]
  },
  {
   "cell_type": "code",
   "execution_count": null,
   "id": "6933b548",
   "metadata": {},
   "outputs": [],
   "source": []
  },
  {
   "cell_type": "code",
   "execution_count": 11,
   "id": "f07450b3",
   "metadata": {},
   "outputs": [
    {
     "name": "stdout",
     "output_type": "stream",
     "text": [
      "you may be wright but am not sure\n"
     ]
    }
   ],
   "source": [
    "first_child = \"muhammad\"\n",
    "if first_child == \"abdulrahman\":\n",
    "    print('That\\'s correct' )\n",
    "elif first_child == \"aiza\":\n",
    "    print('certainly')\n",
    "elif first_child == \"muhammad\":\n",
    "    print('you may be wright but am not sure')\n",
    "else:\n",
    "    print('False info')"
   ]
  },
  {
   "cell_type": "code",
   "execution_count": null,
   "id": "e123d095",
   "metadata": {},
   "outputs": [],
   "source": []
  },
  {
   "cell_type": "code",
   "execution_count": 13,
   "id": "daf6218f",
   "metadata": {},
   "outputs": [
    {
     "name": "stdout",
     "output_type": "stream",
     "text": [
      "wrong info\n"
     ]
    }
   ],
   "source": [
    "first_child = \"abdulrahman\"\n",
    "male_child = False\n",
    "\n",
    "if first_child == \"abdulrahman\" and male_child == True:\n",
    "    print('absolutely')\n",
    "else:\n",
    "    print('wrong info')"
   ]
  },
  {
   "cell_type": "code",
   "execution_count": null,
   "id": "3e26d042",
   "metadata": {},
   "outputs": [],
   "source": []
  },
  {
   "cell_type": "code",
   "execution_count": 17,
   "id": "71d78a90",
   "metadata": {},
   "outputs": [
    {
     "name": "stdout",
     "output_type": "stream",
     "text": [
      "fun fact\n"
     ]
    }
   ],
   "source": [
    "my_child = \"amin\"\n",
    "morolayo = True\n",
    "\n",
    "if my_child == \"aiza\" or morolayo == True:\n",
    "    print('fun fact')\n",
    "else:\n",
    "    print('park well')"
   ]
  },
  {
   "cell_type": "code",
   "execution_count": null,
   "id": "afce4a59",
   "metadata": {},
   "outputs": [],
   "source": []
  },
  {
   "cell_type": "code",
   "execution_count": 20,
   "id": "aaf2d6e0",
   "metadata": {},
   "outputs": [
    {
     "name": "stdout",
     "output_type": "stream",
     "text": [
      "authentic\n"
     ]
    }
   ],
   "source": [
    "my_child = \"aiza\"\n",
    "morolayo = False\n",
    "if not morolayo:\n",
    "    print('authentic')\n",
    "else:\n",
    "    print('bad info')"
   ]
  },
  {
   "cell_type": "code",
   "execution_count": null,
   "id": "c69f8811",
   "metadata": {},
   "outputs": [],
   "source": []
  },
  {
   "cell_type": "code",
   "execution_count": 25,
   "id": "fe0bab8e",
   "metadata": {},
   "outputs": [
    {
     "name": "stdout",
     "output_type": "stream",
     "text": [
      "evaluate to false\n"
     ]
    }
   ],
   "source": [
    "condition = \"\"\n",
    "\n",
    "if condition:\n",
    "    print('evaluate to true')\n",
    "else:\n",
    "    print('evaluate to false')"
   ]
  },
  {
   "cell_type": "code",
   "execution_count": null,
   "id": "38adc8ba",
   "metadata": {},
   "outputs": [],
   "source": []
  },
  {
   "cell_type": "code",
   "execution_count": 26,
   "id": "010cb3d6",
   "metadata": {},
   "outputs": [
    {
     "name": "stdout",
     "output_type": "stream",
     "text": [
      "compliment of the season's to you my love\n"
     ]
    }
   ],
   "source": [
    "greetings = 'compliment of the season\\'s to you my love'\n",
    "print(greetings)"
   ]
  },
  {
   "cell_type": "code",
   "execution_count": null,
   "id": "fd75984a",
   "metadata": {},
   "outputs": [],
   "source": []
  },
  {
   "cell_type": "code",
   "execution_count": 30,
   "id": "16937c92",
   "metadata": {},
   "outputs": [
    {
     "name": "stdout",
     "output_type": "stream",
     "text": [
      " Home my home!!!, \n",
      "when shall i see my home?, when shall i see my native friend\n",
      "and my sister's children, \n",
      "I will never forget my home.\n",
      "\n",
      "\n"
     ]
    }
   ],
   "source": [
    "home_lyrics = \"\"\" Home my home!!!, \n",
    "when shall i see my home?, when shall i see my native friend\n",
    "and my sister's children, \n",
    "I will never forget my home.\n",
    "\n",
    "\"\"\"\n",
    "print(home_lyrics)\n"
   ]
  },
  {
   "cell_type": "code",
   "execution_count": 31,
   "id": "a5b57c68",
   "metadata": {},
   "outputs": [
    {
     "name": "stdout",
     "output_type": "stream",
     "text": [
      "your\n"
     ]
    }
   ],
   "source": [
    "salute = 'your majesty'\n",
    "print(salute[:4])"
   ]
  },
  {
   "cell_type": "code",
   "execution_count": 32,
   "id": "75a96869",
   "metadata": {},
   "outputs": [
    {
     "name": "stdout",
     "output_type": "stream",
     "text": [
      "majesty\n"
     ]
    }
   ],
   "source": [
    "print(salute[5:])"
   ]
  },
  {
   "cell_type": "code",
   "execution_count": 33,
   "id": "74dffaaf",
   "metadata": {},
   "outputs": [
    {
     "name": "stdout",
     "output_type": "stream",
     "text": [
      "majesty\n"
     ]
    }
   ],
   "source": [
    "print(salute[-7:])"
   ]
  },
  {
   "cell_type": "code",
   "execution_count": null,
   "id": "dd017cd0",
   "metadata": {},
   "outputs": [],
   "source": []
  },
  {
   "cell_type": "code",
   "execution_count": 34,
   "id": "f4f51564",
   "metadata": {},
   "outputs": [],
   "source": [
    "my_list = [0,1,2,3,4,5,6,7,8,9]\n",
    "         # 0,1,2,3,4,5,6,7,8,9\n",
    "         #-10               -1  \n",
    "    "
   ]
  },
  {
   "cell_type": "code",
   "execution_count": 35,
   "id": "0ba33099",
   "metadata": {},
   "outputs": [
    {
     "name": "stdout",
     "output_type": "stream",
     "text": [
      "[0, 1, 2, 3, 4, 5, 6, 7, 8, 9]\n"
     ]
    }
   ],
   "source": [
    "print(my_list[:])"
   ]
  },
  {
   "cell_type": "code",
   "execution_count": 37,
   "id": "6f89516c",
   "metadata": {},
   "outputs": [
    {
     "name": "stdout",
     "output_type": "stream",
     "text": [
      "[1, 3, 5]\n"
     ]
    }
   ],
   "source": [
    "print(my_list[1:6:2])"
   ]
  },
  {
   "cell_type": "code",
   "execution_count": null,
   "id": "8d8862ae",
   "metadata": {},
   "outputs": [],
   "source": []
  },
  {
   "cell_type": "code",
   "execution_count": 38,
   "id": "0abf9c0b",
   "metadata": {},
   "outputs": [
    {
     "name": "stdout",
     "output_type": "stream",
     "text": [
      "[2, 4, 6, 8]\n"
     ]
    }
   ],
   "source": [
    "print(my_list[2:9:2])"
   ]
  },
  {
   "cell_type": "code",
   "execution_count": null,
   "id": "454a178c",
   "metadata": {},
   "outputs": [],
   "source": []
  },
  {
   "cell_type": "code",
   "execution_count": 39,
   "id": "6a2da322",
   "metadata": {},
   "outputs": [
    {
     "name": "stdout",
     "output_type": "stream",
     "text": [
      "<h1> get on the line </h1>\n"
     ]
    }
   ],
   "source": [
    "#string\n",
    "\n",
    "mac = 'h1'\n",
    "donald = 'get on the line'\n",
    "\n",
    "details = '<{0}> {1} </{0}>'.format(mac, donald)\n",
    "print(details)"
   ]
  },
  {
   "cell_type": "code",
   "execution_count": null,
   "id": "d1c5e018",
   "metadata": {},
   "outputs": [],
   "source": []
  },
  {
   "cell_type": "code",
   "execution_count": 41,
   "id": "07ace929",
   "metadata": {},
   "outputs": [
    {
     "name": "stdout",
     "output_type": "stream",
     "text": [
      "My name is joel, I am male, I work in logistics, I am 35 years old and I joined the compay on 13th-sept-23.\n"
     ]
    }
   ],
   "source": [
    "staff = {'name':'joel', 'gender':'male', 'dept':'logistics', 'age':35, 'doj':'13th-sept-23'}\n",
    "details = \"My name is {0[name]}, I am {0[gender]}, I work in {0[dept]}, I am {0[age]} years old and I joined the compay on {0[doj]}.\".format(staff)\n",
    "print(details)"
   ]
  },
  {
   "cell_type": "code",
   "execution_count": 42,
   "id": "6115fd8c",
   "metadata": {},
   "outputs": [
    {
     "name": "stdout",
     "output_type": "stream",
     "text": [
      "My name is joel, I am male, I work in logistics, I am 35 years old and i joined the company on 13th-sept-23.\n"
     ]
    }
   ],
   "source": [
    "staff = {'name':'joel', 'gender':'male', 'dept':'logistics', 'age':35, 'doj':'13th-sept-23'}\n",
    "info = ['joel', 'male', 'logistics', 35, '13th-sept-23']\n",
    "details = \"My name is {0[0]}, I am {0[1]}, I work in {0[2]}, I am {0[3]} years old and i joined the company on {0[4]}.\".format(info)\n",
    "print(details)"
   ]
  },
  {
   "cell_type": "code",
   "execution_count": null,
   "id": "16b2a218",
   "metadata": {},
   "outputs": [],
   "source": []
  },
  {
   "cell_type": "code",
   "execution_count": 43,
   "id": "e075fce6",
   "metadata": {},
   "outputs": [
    {
     "name": "stdout",
     "output_type": "stream",
     "text": [
      "My name is jenny, I am 23 years old and I am female.\n"
     ]
    }
   ],
   "source": [
    "employee = {'name':'jenny', 'age': 23, 'gender':'female'}\n",
    "details = \"My name is {name}, I am {age} years old and I am {gender}.\".format(**employee)\n",
    "print(details)"
   ]
  },
  {
   "cell_type": "code",
   "execution_count": null,
   "id": "e0e99399",
   "metadata": {},
   "outputs": [],
   "source": []
  },
  {
   "cell_type": "code",
   "execution_count": 44,
   "id": "8b34c839",
   "metadata": {},
   "outputs": [
    {
     "name": "stdout",
     "output_type": "stream",
     "text": [
      "The value is 0\n",
      "The value is 1\n",
      "The value is 2\n",
      "The value is 3\n",
      "The value is 4\n",
      "The value is 5\n",
      "The value is 6\n",
      "The value is 7\n",
      "The value is 8\n",
      "The value is 9\n"
     ]
    }
   ],
   "source": [
    "# Numbers range\n",
    "\n",
    "for i in range(10):\n",
    "    details = 'The value is {}'.format(i)\n",
    "    print(details)"
   ]
  },
  {
   "cell_type": "code",
   "execution_count": 47,
   "id": "a1c108f3",
   "metadata": {},
   "outputs": [
    {
     "name": "stdout",
     "output_type": "stream",
     "text": [
      "The data is 1\n",
      "The data is 2\n",
      "The data is 3\n",
      "The data is 4\n",
      "The data is 5\n",
      "The data is 6\n",
      "The data is 7\n",
      "The data is 8\n",
      "The data is 9\n",
      "The data is 10\n"
     ]
    }
   ],
   "source": [
    "for i in range(1,11):\n",
    "    info = 'The data is {}'.format(i)\n",
    "    print(info)"
   ]
  },
  {
   "cell_type": "code",
   "execution_count": null,
   "id": "30457216",
   "metadata": {},
   "outputs": [],
   "source": [
    "###### convert to decimal places"
   ]
  },
  {
   "cell_type": "code",
   "execution_count": 49,
   "id": "9473385e",
   "metadata": {},
   "outputs": [
    {
     "name": "stdout",
     "output_type": "stream",
     "text": [
      "number is in two decimal point 01\n",
      "number is in two decimal point 02\n",
      "number is in two decimal point 03\n",
      "number is in two decimal point 04\n",
      "number is in two decimal point 05\n"
     ]
    }
   ],
   "source": [
    "for i in range(1,6):\n",
    "    info = 'number is in two decimal point {:02}'.format(i)\n",
    "    print(info)"
   ]
  },
  {
   "cell_type": "code",
   "execution_count": null,
   "id": "48fac834",
   "metadata": {},
   "outputs": [],
   "source": []
  },
  {
   "cell_type": "code",
   "execution_count": 51,
   "id": "a83ecab3",
   "metadata": {},
   "outputs": [
    {
     "name": "stdout",
     "output_type": "stream",
     "text": [
      "this is 3.457\n"
     ]
    }
   ],
   "source": [
    "#### convert float number to .. decimal place\n",
    "\n",
    "pi = 3.45666\n",
    "detail = 'this is {:.3f}'.format(pi)\n",
    "print(detail)"
   ]
  },
  {
   "cell_type": "code",
   "execution_count": null,
   "id": "728338e9",
   "metadata": {},
   "outputs": [],
   "source": []
  },
  {
   "cell_type": "code",
   "execution_count": 57,
   "id": "85ad37a6",
   "metadata": {},
   "outputs": [
    {
     "name": "stdout",
     "output_type": "stream",
     "text": [
      "December,27,1981\n"
     ]
    }
   ],
   "source": [
    "import datetime\n",
    "my_date = datetime.datetime(1981,12,27,12,30)\n",
    "period = '{:%B,%d,%Y}'.format(my_date)\n",
    "print(period)"
   ]
  },
  {
   "cell_type": "code",
   "execution_count": null,
   "id": "a9685de8",
   "metadata": {},
   "outputs": [],
   "source": []
  },
  {
   "cell_type": "code",
   "execution_count": null,
   "id": "6afcfe44",
   "metadata": {},
   "outputs": [],
   "source": []
  },
  {
   "cell_type": "code",
   "execution_count": 58,
   "id": "562bbef1",
   "metadata": {},
   "outputs": [
    {
     "name": "stdout",
     "output_type": "stream",
     "text": [
      "good morning\n"
     ]
    }
   ],
   "source": [
    "greetings = \"good morning\"\n",
    "print(greetings)"
   ]
  },
  {
   "cell_type": "code",
   "execution_count": 59,
   "id": "ee199139",
   "metadata": {},
   "outputs": [
    {
     "name": "stdout",
     "output_type": "stream",
     "text": [
      "GOOD MORNING\n"
     ]
    }
   ],
   "source": [
    "greetings = \"good morning\"\n",
    "print(greetings.upper())"
   ]
  },
  {
   "cell_type": "code",
   "execution_count": 60,
   "id": "7eb39e6b",
   "metadata": {},
   "outputs": [
    {
     "name": "stdout",
     "output_type": "stream",
     "text": [
      "good morning\n"
     ]
    }
   ],
   "source": [
    "greetings = \"good morning\"\n",
    "print(greetings.lower())"
   ]
  },
  {
   "cell_type": "code",
   "execution_count": null,
   "id": "8af529a3",
   "metadata": {},
   "outputs": [],
   "source": []
  },
  {
   "cell_type": "code",
   "execution_count": 61,
   "id": "68089733",
   "metadata": {},
   "outputs": [
    {
     "name": "stdout",
     "output_type": "stream",
     "text": [
      "wonderful morning\n"
     ]
    }
   ],
   "source": [
    "##replace.\n",
    "greetings = \"good morning\"\n",
    "print(greetings.replace('good', 'wonderful'))\n"
   ]
  },
  {
   "cell_type": "code",
   "execution_count": 64,
   "id": "b88dcae1",
   "metadata": {},
   "outputs": [
    {
     "name": "stdout",
     "output_type": "stream",
     "text": [
      "GOOD AFTERNOON\n"
     ]
    }
   ],
   "source": [
    "greetings = \"good morning\"\n",
    "print(greetings.replace('morning', 'afternoon').upper())"
   ]
  },
  {
   "cell_type": "code",
   "execution_count": null,
   "id": "c5c2d2df",
   "metadata": {},
   "outputs": [],
   "source": []
  },
  {
   "cell_type": "code",
   "execution_count": null,
   "id": "83d79921",
   "metadata": {},
   "outputs": [],
   "source": [
    "#### concatenate"
   ]
  },
  {
   "cell_type": "code",
   "execution_count": 68,
   "id": "c3f76995",
   "metadata": {},
   "outputs": [
    {
     "name": "stdout",
     "output_type": "stream",
     "text": [
      "Hello Muhammad! welcome\n"
     ]
    }
   ],
   "source": [
    "greetings = \"Hello\"\n",
    "name = \"Muhammad\"\n",
    "\n",
    "details = greetings + ' ' + name + '! welcome'\n",
    "print(details)"
   ]
  },
  {
   "cell_type": "code",
   "execution_count": null,
   "id": "9c6d9ae8",
   "metadata": {},
   "outputs": [],
   "source": []
  },
  {
   "cell_type": "code",
   "execution_count": 71,
   "id": "135a7922",
   "metadata": {},
   "outputs": [
    {
     "name": "stdout",
     "output_type": "stream",
     "text": [
      "Hello Muhammad\n"
     ]
    }
   ],
   "source": [
    "details = '{} {}'.format(greetings,name)\n",
    "print(details)"
   ]
  },
  {
   "cell_type": "code",
   "execution_count": null,
   "id": "defa49b4",
   "metadata": {},
   "outputs": [],
   "source": []
  },
  {
   "cell_type": "code",
   "execution_count": 74,
   "id": "1cc4ce42",
   "metadata": {},
   "outputs": [
    {
     "name": "stdout",
     "output_type": "stream",
     "text": [
      "Hello Muhammad\n"
     ]
    }
   ],
   "source": [
    "details = f'{greetings} {name}'\n",
    "print(details)"
   ]
  },
  {
   "cell_type": "code",
   "execution_count": null,
   "id": "80909afc",
   "metadata": {},
   "outputs": [],
   "source": []
  },
  {
   "cell_type": "code",
   "execution_count": 78,
   "id": "095627c5",
   "metadata": {},
   "outputs": [
    {
     "name": "stdout",
     "output_type": "stream",
     "text": [
      "do have a LOVELY DAY at work ABDULRAHMAN\n"
     ]
    }
   ],
   "source": [
    "message = \"lovely day\"\n",
    "name = \"Abdulrahman\"\n",
    "\n",
    "details = f'do have a {message.upper()} at work {name.upper()}'\n",
    "print(details)"
   ]
  },
  {
   "cell_type": "code",
   "execution_count": null,
   "id": "247cf2ca",
   "metadata": {},
   "outputs": [],
   "source": []
  },
  {
   "cell_type": "code",
   "execution_count": 79,
   "id": "d5a47ac4",
   "metadata": {},
   "outputs": [
    {
     "name": "stdout",
     "output_type": "stream",
     "text": [
      "7\n"
     ]
    }
   ],
   "source": [
    "num = 3\n",
    "num += 4\n",
    "print(num)"
   ]
  },
  {
   "cell_type": "code",
   "execution_count": 80,
   "id": "d2559731",
   "metadata": {},
   "outputs": [
    {
     "name": "stdout",
     "output_type": "stream",
     "text": [
      "10\n"
     ]
    }
   ],
   "source": [
    "num = 2\n",
    "num *= 5\n",
    "print(num)"
   ]
  },
  {
   "cell_type": "code",
   "execution_count": null,
   "id": "3ca0c37f",
   "metadata": {},
   "outputs": [],
   "source": []
  },
  {
   "cell_type": "code",
   "execution_count": 81,
   "id": "6571fc7d",
   "metadata": {},
   "outputs": [
    {
     "name": "stdout",
     "output_type": "stream",
     "text": [
      "13\n"
     ]
    }
   ],
   "source": [
    "print(abs(-13))"
   ]
  },
  {
   "cell_type": "code",
   "execution_count": 85,
   "id": "12026687",
   "metadata": {},
   "outputs": [
    {
     "name": "stdout",
     "output_type": "stream",
     "text": [
      "4.656\n"
     ]
    }
   ],
   "source": [
    "print(round(4.656, 3))"
   ]
  },
  {
   "cell_type": "code",
   "execution_count": null,
   "id": "00660de2",
   "metadata": {},
   "outputs": [],
   "source": [
    "### casting"
   ]
  },
  {
   "cell_type": "code",
   "execution_count": 87,
   "id": "45a2c2f3",
   "metadata": {},
   "outputs": [
    {
     "name": "stdout",
     "output_type": "stream",
     "text": [
      "4500\n"
     ]
    }
   ],
   "source": [
    "num_1 = '3000'\n",
    "num_2 = '1500'\n",
    "\n",
    "print(int(num_1) + int(num_2))"
   ]
  },
  {
   "cell_type": "code",
   "execution_count": null,
   "id": "b73952bc",
   "metadata": {},
   "outputs": [],
   "source": []
  },
  {
   "cell_type": "code",
   "execution_count": 88,
   "id": "96feda4a",
   "metadata": {},
   "outputs": [
    {
     "name": "stdout",
     "output_type": "stream",
     "text": [
      "4500\n"
     ]
    }
   ],
   "source": [
    "num_1 = '3000'\n",
    "num_2 = '1500'\n",
    "\n",
    "num_1 = int(num_1)\n",
    "num_2 = int(num_2)\n",
    "\n",
    "print(num_1 + num_2)"
   ]
  },
  {
   "cell_type": "code",
   "execution_count": null,
   "id": "234e3d14",
   "metadata": {},
   "outputs": [],
   "source": []
  },
  {
   "cell_type": "code",
   "execution_count": 90,
   "id": "24588659",
   "metadata": {},
   "outputs": [
    {
     "name": "stdout",
     "output_type": "stream",
     "text": [
      "['chem', 'english', 'maths', 'physics']\n",
      "[1, 2, 3, 4, 5, 6, 7, 8, 9]\n"
     ]
    }
   ],
   "source": [
    "####### TO SORT THE LIST THAT CONTAINS NUMBERS & VALUES(TO SORT VALUES IN DESC OR BOTH )\n",
    "courses = ['physics','maths','chem','english']\n",
    "nums = [1,3,2,6,5,4,7,9,8]\n",
    "\n",
    "courses.sort()\n",
    "nums.sort()\n",
    "\n",
    "print(courses)\n",
    "print(nums)"
   ]
  },
  {
   "cell_type": "code",
   "execution_count": null,
   "id": "7bb57e2b",
   "metadata": {},
   "outputs": [],
   "source": []
  },
  {
   "cell_type": "code",
   "execution_count": 91,
   "id": "a575b70e",
   "metadata": {},
   "outputs": [
    {
     "name": "stdout",
     "output_type": "stream",
     "text": [
      "['physics', 'maths', 'english', 'chem']\n",
      "[9, 8, 7, 6, 5, 4, 3, 2, 1]\n"
     ]
    }
   ],
   "source": [
    "####### TO SORT THE LIST THAT CONTAINS NUMBERS & VALUES(TO SORT VALUES IN DESC OR BOTH )\n",
    "courses = ['physics','maths','chem','english']\n",
    "nums = [1,3,2,6,5,4,7,9,8]\n",
    "\n",
    "courses.sort(reverse=True)\n",
    "nums.sort(reverse=True)\n",
    "\n",
    "print(courses)\n",
    "print(nums)"
   ]
  },
  {
   "cell_type": "code",
   "execution_count": null,
   "id": "172eccd1",
   "metadata": {},
   "outputs": [],
   "source": []
  },
  {
   "cell_type": "code",
   "execution_count": 92,
   "id": "45a647f4",
   "metadata": {},
   "outputs": [
    {
     "name": "stdout",
     "output_type": "stream",
     "text": [
      "['physics', 'maths', 'chem', 'english', 'commerce', 'literature']\n"
     ]
    }
   ],
   "source": [
    "##### To add list from another list to original list use EXTEND (it's useful when adding multiple list)\n",
    "\n",
    "courses = ['physics','maths','chem','english']\n",
    "courses_2 = ['commerce','literature']\n",
    "\n",
    "courses.extend(courses_2)\n",
    "print(courses)"
   ]
  },
  {
   "cell_type": "code",
   "execution_count": null,
   "id": "69a1a41c",
   "metadata": {},
   "outputs": [],
   "source": []
  },
  {
   "cell_type": "code",
   "execution_count": 94,
   "id": "bee06760",
   "metadata": {},
   "outputs": [
    {
     "name": "stdout",
     "output_type": "stream",
     "text": [
      "['physics', 'literature', 'maths', 'chem', 'english']\n"
     ]
    }
   ],
   "source": [
    "#### To add into particular place in the list - use INSERT and then mention location\n",
    "\n",
    "courses = ['physics','maths','chem','english']\n",
    "\n",
    "courses.insert(1,'literature')\n",
    "print(courses)"
   ]
  },
  {
   "cell_type": "code",
   "execution_count": 95,
   "id": "4e71559d",
   "metadata": {},
   "outputs": [
    {
     "name": "stdout",
     "output_type": "stream",
     "text": [
      "['physics', 'literature', 'maths', 'chem', 'english', 'geo']\n"
     ]
    }
   ],
   "source": [
    "courses.append('geo')\n",
    "print(courses)"
   ]
  },
  {
   "cell_type": "code",
   "execution_count": 96,
   "id": "53d61d5d",
   "metadata": {},
   "outputs": [
    {
     "name": "stdout",
     "output_type": "stream",
     "text": [
      "['physics', 'literature', 'maths', 'chem', 'english']\n"
     ]
    }
   ],
   "source": [
    "courses.pop()\n",
    "print(courses)"
   ]
  },
  {
   "cell_type": "code",
   "execution_count": 99,
   "id": "2bea2fc9",
   "metadata": {},
   "outputs": [
    {
     "name": "stdout",
     "output_type": "stream",
     "text": [
      "['physics', 'maths', 'english']\n"
     ]
    }
   ],
   "source": [
    "courses.remove('chem')\n",
    "print(courses)"
   ]
  },
  {
   "cell_type": "code",
   "execution_count": null,
   "id": "5c363197",
   "metadata": {},
   "outputs": [],
   "source": []
  },
  {
   "cell_type": "code",
   "execution_count": 100,
   "id": "c4635596",
   "metadata": {},
   "outputs": [
    {
     "name": "stdout",
     "output_type": "stream",
     "text": [
      "['chem', 'english', 'maths', 'physics']\n",
      "[1, 2, 3, 4, 5, 6, 7, 8, 9]\n"
     ]
    }
   ],
   "source": [
    "##### TO GET SORTED VERSION OF THE LISTS WITHOUT ALTERING THE ORIGINAL LISTS.\n",
    "courses = ['physics','maths','chem','english']\n",
    "nums = [1,3,2,6,5,4,7,9,8]\n",
    "\n",
    "courses = sorted(courses)\n",
    "nums = sorted(nums)\n",
    "print(courses)\n",
    "print(nums)"
   ]
  },
  {
   "cell_type": "code",
   "execution_count": null,
   "id": "ad645e5f",
   "metadata": {},
   "outputs": [],
   "source": []
  },
  {
   "cell_type": "code",
   "execution_count": 101,
   "id": "ebf5c0da",
   "metadata": {},
   "outputs": [
    {
     "name": "stdout",
     "output_type": "stream",
     "text": [
      "45\n"
     ]
    }
   ],
   "source": [
    "##### MIN,MAX,SUM\n",
    "nums = [1,3,2,6,5,4,7,9,8]\n",
    "print(sum(nums))\n"
   ]
  },
  {
   "cell_type": "code",
   "execution_count": 103,
   "id": "2168f1df",
   "metadata": {},
   "outputs": [
    {
     "name": "stdout",
     "output_type": "stream",
     "text": [
      "1\n"
     ]
    }
   ],
   "source": [
    "print(min(nums))"
   ]
  },
  {
   "cell_type": "code",
   "execution_count": 104,
   "id": "f0fc93f8",
   "metadata": {},
   "outputs": [
    {
     "name": "stdout",
     "output_type": "stream",
     "text": [
      "9\n"
     ]
    }
   ],
   "source": [
    "print(max(nums))"
   ]
  },
  {
   "cell_type": "code",
   "execution_count": 106,
   "id": "ccd06328",
   "metadata": {},
   "outputs": [
    {
     "name": "stdout",
     "output_type": "stream",
     "text": [
      "2\n"
     ]
    }
   ],
   "source": [
    "####### To search for index of the particular value in the list\n",
    "courses = ['physics','maths','chem','english']\n",
    "\n",
    "print(courses.index('chem'))"
   ]
  },
  {
   "cell_type": "code",
   "execution_count": 108,
   "id": "2640dd2f",
   "metadata": {},
   "outputs": [
    {
     "name": "stdout",
     "output_type": "stream",
     "text": [
      "True\n"
     ]
    }
   ],
   "source": [
    "##### To search if the values are in the list\n",
    "courses = ['physics','maths','chem','english']\n",
    "print('maths'in courses)"
   ]
  },
  {
   "cell_type": "code",
   "execution_count": 109,
   "id": "e02ba5ef",
   "metadata": {},
   "outputs": [
    {
     "name": "stdout",
     "output_type": "stream",
     "text": [
      "False\n"
     ]
    }
   ],
   "source": [
    "print('bio' in courses)"
   ]
  },
  {
   "cell_type": "code",
   "execution_count": null,
   "id": "5a0318c5",
   "metadata": {},
   "outputs": [],
   "source": []
  },
  {
   "cell_type": "code",
   "execution_count": 111,
   "id": "13073fa5",
   "metadata": {},
   "outputs": [
    {
     "name": "stdout",
     "output_type": "stream",
     "text": [
      "physics\n",
      "maths\n",
      "chem\n",
      "english\n"
     ]
    }
   ],
   "source": [
    "##### To loop through values of the list by using for loop\n",
    "courses = ['physics','maths','chem','english']\n",
    "\n",
    "for i in courses:\n",
    "    print(i)"
   ]
  },
  {
   "cell_type": "code",
   "execution_count": null,
   "id": "6ae4e037",
   "metadata": {},
   "outputs": [],
   "source": []
  },
  {
   "cell_type": "code",
   "execution_count": 112,
   "id": "f754e150",
   "metadata": {},
   "outputs": [
    {
     "name": "stdout",
     "output_type": "stream",
     "text": [
      "physics\n",
      "maths\n",
      "chem\n",
      "english\n"
     ]
    }
   ],
   "source": [
    "for course in courses:\n",
    "    print(course)"
   ]
  },
  {
   "cell_type": "code",
   "execution_count": null,
   "id": "0853265f",
   "metadata": {},
   "outputs": [],
   "source": []
  },
  {
   "cell_type": "code",
   "execution_count": 118,
   "id": "878ea7ba",
   "metadata": {},
   "outputs": [
    {
     "name": "stdout",
     "output_type": "stream",
     "text": [
      "0 physics\n",
      "1 maths\n",
      "2 chem\n",
      "3 english\n"
     ]
    }
   ],
   "source": [
    "##### To loop through values of the list by using for loop and have index...\n",
    "courses = ['physics','maths','chem','english']\n",
    "\n",
    "for index, course in enumerate(courses):\n",
    "    print(index, course)\n"
   ]
  },
  {
   "cell_type": "code",
   "execution_count": null,
   "id": "2776c86f",
   "metadata": {},
   "outputs": [],
   "source": []
  },
  {
   "cell_type": "code",
   "execution_count": 119,
   "id": "a02b3063",
   "metadata": {},
   "outputs": [
    {
     "name": "stdout",
     "output_type": "stream",
     "text": [
      "1 physics\n",
      "2 maths\n",
      "3 chem\n",
      "4 english\n"
     ]
    }
   ],
   "source": [
    "##### To loop through values of the list by using for loop and have index start from 1\n",
    "courses = ['physics','maths','chem','english']\n",
    "\n",
    "for index, course in enumerate(courses, start=1):\n",
    "    print(index, course)\n"
   ]
  },
  {
   "cell_type": "code",
   "execution_count": null,
   "id": "e0cb7807",
   "metadata": {},
   "outputs": [],
   "source": []
  },
  {
   "cell_type": "code",
   "execution_count": 120,
   "id": "41245b1f",
   "metadata": {},
   "outputs": [
    {
     "name": "stdout",
     "output_type": "stream",
     "text": [
      "physics, maths, chem, english\n"
     ]
    }
   ],
   "source": [
    "#### TO TURN THE LIST INTO STRING SEPERATED BY COMA\n",
    "courses = ['physics','maths','chem','english']\n",
    "\n",
    "courses_str = ', '.join(courses)\n",
    "print(courses_str)\n"
   ]
  },
  {
   "cell_type": "code",
   "execution_count": null,
   "id": "07235c95",
   "metadata": {},
   "outputs": [],
   "source": [
    "##### TO REVERSE STRING BACK TO THE LIST"
   ]
  },
  {
   "cell_type": "code",
   "execution_count": 124,
   "id": "c7463471",
   "metadata": {},
   "outputs": [
    {
     "name": "stdout",
     "output_type": "stream",
     "text": [
      "['physics', 'maths', 'chem', 'english']\n"
     ]
    }
   ],
   "source": [
    "new_courses = courses_str.split(', ')\n",
    "print(new_courses)"
   ]
  },
  {
   "cell_type": "code",
   "execution_count": null,
   "id": "14e2fd0a",
   "metadata": {},
   "outputs": [],
   "source": []
  },
  {
   "cell_type": "code",
   "execution_count": null,
   "id": "07bb9551",
   "metadata": {},
   "outputs": [],
   "source": []
  },
  {
   "cell_type": "code",
   "execution_count": 122,
   "id": "8e997cdf",
   "metadata": {},
   "outputs": [
    {
     "name": "stdout",
     "output_type": "stream",
     "text": [
      "apple - mango - grapes - berry\n"
     ]
    }
   ],
   "source": [
    "#### TO TURN THE LIST INTO STRING SEPERATED BY (-)\n",
    "fruits = ['apple','mango','grapes','berry']\n",
    "fruits_str = ' - '.join(fruits)\n",
    "print(fruits_str)"
   ]
  },
  {
   "cell_type": "code",
   "execution_count": null,
   "id": "7275217b",
   "metadata": {},
   "outputs": [],
   "source": [
    "##### TO REVERSE STRING BACK TO THE LIST"
   ]
  },
  {
   "cell_type": "code",
   "execution_count": 123,
   "id": "f70ed4ca",
   "metadata": {},
   "outputs": [
    {
     "name": "stdout",
     "output_type": "stream",
     "text": [
      "['apple', 'mango', 'grapes', 'berry']\n"
     ]
    }
   ],
   "source": [
    "new_list = fruits_str.split(' - ')\n",
    "print(new_list)"
   ]
  },
  {
   "cell_type": "code",
   "execution_count": null,
   "id": "4c824b59",
   "metadata": {},
   "outputs": [],
   "source": []
  },
  {
   "cell_type": "code",
   "execution_count": null,
   "id": "65126ee5",
   "metadata": {},
   "outputs": [],
   "source": []
  },
  {
   "cell_type": "code",
   "execution_count": null,
   "id": "c94d33a8",
   "metadata": {},
   "outputs": [],
   "source": []
  },
  {
   "cell_type": "code",
   "execution_count": 125,
   "id": "db7b0982",
   "metadata": {},
   "outputs": [
    {
     "name": "stdout",
     "output_type": "stream",
     "text": [
      "['math', 'chem', 'physics', 'eng', 'geo']\n",
      "['math', 'chem', 'physics', 'eng', 'geo']\n"
     ]
    }
   ],
   "source": [
    "list_1 = ['math','chem','physics','eng','geo']\n",
    "list_2 = list_1\n",
    "\n",
    "print(list_1)\n",
    "print(list_2)"
   ]
  },
  {
   "cell_type": "code",
   "execution_count": null,
   "id": "2e058264",
   "metadata": {},
   "outputs": [],
   "source": []
  },
  {
   "cell_type": "code",
   "execution_count": 126,
   "id": "de4e9016",
   "metadata": {},
   "outputs": [
    {
     "name": "stdout",
     "output_type": "stream",
     "text": [
      "['math', 'chem', 'physics', 'econ', 'geo']\n",
      "['math', 'chem', 'physics', 'econ', 'geo']\n"
     ]
    }
   ],
   "source": [
    "list_1[3] = 'econ'\n",
    "print(list_1)\n",
    "print(list_2)\n"
   ]
  },
  {
   "cell_type": "code",
   "execution_count": null,
   "id": "c6f1cbdf",
   "metadata": {},
   "outputs": [],
   "source": []
  },
  {
   "cell_type": "code",
   "execution_count": 132,
   "id": "e19ff27f",
   "metadata": {},
   "outputs": [],
   "source": [
    "a_level = {'maths','eng','phy','chem','geo'}\n",
    "o_level = {'maths','eng','bio','commerce','art'}"
   ]
  },
  {
   "cell_type": "code",
   "execution_count": 133,
   "id": "5de00464",
   "metadata": {},
   "outputs": [
    {
     "name": "stdout",
     "output_type": "stream",
     "text": [
      "{'maths', 'eng'}\n"
     ]
    }
   ],
   "source": [
    "print(a_level.intersection(o_level))\n"
   ]
  },
  {
   "cell_type": "code",
   "execution_count": 137,
   "id": "e6eed5ac",
   "metadata": {},
   "outputs": [
    {
     "name": "stdout",
     "output_type": "stream",
     "text": [
      "{'phy', 'geo', 'chem'}\n"
     ]
    }
   ],
   "source": [
    "print(a_level.difference(o_level))"
   ]
  },
  {
   "cell_type": "code",
   "execution_count": 138,
   "id": "6ebaad8c",
   "metadata": {},
   "outputs": [
    {
     "name": "stdout",
     "output_type": "stream",
     "text": [
      "{'commerce', 'art', 'bio'}\n"
     ]
    }
   ],
   "source": [
    "print(o_level.difference(a_level))"
   ]
  },
  {
   "cell_type": "code",
   "execution_count": 136,
   "id": "c12aea90",
   "metadata": {},
   "outputs": [
    {
     "name": "stdout",
     "output_type": "stream",
     "text": [
      "{'mango', 'apple'}\n"
     ]
    }
   ],
   "source": [
    "fruits = {'apple','mango','grapes','berry'}\n",
    "courses = {'physics','maths','chem','english','mango','apple'}\n",
    "print(fruits.intersection(courses))"
   ]
  },
  {
   "cell_type": "code",
   "execution_count": null,
   "id": "1794d124",
   "metadata": {},
   "outputs": [],
   "source": []
  },
  {
   "cell_type": "code",
   "execution_count": 139,
   "id": "a6020b65",
   "metadata": {},
   "outputs": [
    {
     "name": "stdout",
     "output_type": "stream",
     "text": [
      "{'commerce', 'bio', 'phy', 'chem', 'art', 'geo', 'maths', 'eng'}\n"
     ]
    }
   ],
   "source": [
    "a_level = {'maths','eng','phy','chem','geo'}\n",
    "o_level = {'maths','eng','bio','commerce','art'}\n",
    "\n",
    "print(a_level.union(o_level))"
   ]
  },
  {
   "cell_type": "code",
   "execution_count": null,
   "id": "bc1c7f99",
   "metadata": {},
   "outputs": [],
   "source": []
  },
  {
   "cell_type": "code",
   "execution_count": 142,
   "id": "4105f79c",
   "metadata": {},
   "outputs": [
    {
     "name": "stdout",
     "output_type": "stream",
     "text": [
      "1\n",
      "2\n",
      "3\n",
      "4\n",
      "5\n",
      "great\n"
     ]
    }
   ],
   "source": [
    "#### for loops\n",
    "nums = [1,2,3,4,5,6,7]\n",
    "\n",
    "for num in nums:\n",
    "    if num == 6:\n",
    "        print('great')\n",
    "        break\n",
    "    print(num)"
   ]
  },
  {
   "cell_type": "code",
   "execution_count": null,
   "id": "f3abbf9d",
   "metadata": {},
   "outputs": [],
   "source": []
  },
  {
   "cell_type": "code",
   "execution_count": 148,
   "id": "96d1f67d",
   "metadata": {},
   "outputs": [
    {
     "name": "stdout",
     "output_type": "stream",
     "text": [
      "1\n",
      "2\n",
      "3\n",
      "4\n",
      "5\n",
      "6\n",
      "7\n",
      "8\n",
      "excellent\n"
     ]
    }
   ],
   "source": [
    "nums = [1,3,2,6,5,4,7,9,8]\n",
    "nums.sort()\n",
    "for num in nums:\n",
    "    if num == 9:\n",
    "        print('excellent')\n",
    "        break\n",
    "    print(num) "
   ]
  },
  {
   "cell_type": "code",
   "execution_count": null,
   "id": "1c5728a3",
   "metadata": {},
   "outputs": [],
   "source": []
  },
  {
   "cell_type": "code",
   "execution_count": 149,
   "id": "3a950064",
   "metadata": {},
   "outputs": [
    {
     "name": "stdout",
     "output_type": "stream",
     "text": [
      "1\n",
      "2\n",
      "3\n",
      "4\n",
      "5\n",
      "6\n",
      "7\n",
      "bravo\n",
      "9\n"
     ]
    }
   ],
   "source": [
    "nums = [1,3,2,6,5,4,7,9,8]\n",
    "nums.sort()\n",
    "for num in nums:\n",
    "    if num == 8:\n",
    "        print('bravo')\n",
    "        continue\n",
    "    print(num)"
   ]
  },
  {
   "cell_type": "code",
   "execution_count": null,
   "id": "31c1d39d",
   "metadata": {},
   "outputs": [],
   "source": []
  },
  {
   "cell_type": "code",
   "execution_count": 152,
   "id": "08afc4f3",
   "metadata": {},
   "outputs": [
    {
     "name": "stdout",
     "output_type": "stream",
     "text": [
      "1 a\n",
      "1 b\n",
      "2 a\n",
      "2 b\n",
      "3 a\n",
      "3 b\n",
      "4 a\n",
      "4 b\n",
      "5 a\n",
      "5 b\n",
      "6 a\n",
      "6 b\n"
     ]
    }
   ],
   "source": [
    "## loop within a loop\n",
    "nums = [1,2,3,4,5,6]\n",
    "for num in nums:\n",
    "    for alphabet in 'ab':\n",
    "        \n",
    "        print(num,alphabet)\n",
    "        "
   ]
  },
  {
   "cell_type": "code",
   "execution_count": null,
   "id": "f9a41cff",
   "metadata": {},
   "outputs": [],
   "source": []
  },
  {
   "cell_type": "code",
   "execution_count": 156,
   "id": "94cc28af",
   "metadata": {},
   "outputs": [
    {
     "name": "stdout",
     "output_type": "stream",
     "text": [
      "0\n",
      "1\n",
      "2\n",
      "3\n",
      "4\n",
      "5\n",
      "6\n",
      "7\n",
      "8\n",
      "9\n"
     ]
    }
   ],
   "source": [
    "##### TO RUN THROUGH A LOOP 10-times (range key-word is require)\n",
    "for i in range (10):\n",
    "    print(i)\n"
   ]
  },
  {
   "cell_type": "code",
   "execution_count": null,
   "id": "2857ed78",
   "metadata": {},
   "outputs": [],
   "source": []
  },
  {
   "cell_type": "code",
   "execution_count": 157,
   "id": "c50a9f26",
   "metadata": {},
   "outputs": [
    {
     "name": "stdout",
     "output_type": "stream",
     "text": [
      "1\n",
      "2\n",
      "3\n",
      "4\n",
      "5\n",
      "6\n",
      "7\n"
     ]
    }
   ],
   "source": [
    "for i in range(1, 8):\n",
    "    print(i)"
   ]
  },
  {
   "cell_type": "code",
   "execution_count": 168,
   "id": "13bba11d",
   "metadata": {},
   "outputs": [
    {
     "name": "stdout",
     "output_type": "stream",
     "text": [
      "0\n",
      "2\n",
      "4\n",
      "6\n",
      "8\n",
      "10\n"
     ]
    }
   ],
   "source": [
    "#### while loop\n",
    "\n",
    "x = 0\n",
    "while x <= 10:\n",
    "    print(x)\n",
    "    x += 2"
   ]
  },
  {
   "cell_type": "code",
   "execution_count": 4,
   "id": "008de601",
   "metadata": {},
   "outputs": [
    {
     "name": "stdout",
     "output_type": "stream",
     "text": [
      "1\n",
      "2\n",
      "4\n",
      "8\n",
      "16\n"
     ]
    }
   ],
   "source": [
    "m = 1\n",
    "\n",
    "while m <= 16:\n",
    "    print(m)\n",
    "    m *= 2\n",
    "    "
   ]
  },
  {
   "cell_type": "code",
   "execution_count": 8,
   "id": "1b0e94a0",
   "metadata": {},
   "outputs": [
    {
     "name": "stdout",
     "output_type": "stream",
     "text": [
      "we are the world, we are the children!\n"
     ]
    }
   ],
   "source": [
    "##### Function\n",
    "\n",
    "def greetings():\n",
    "    print('we are the world, we are the children!')\n",
    "\n",
    "greetings()"
   ]
  },
  {
   "cell_type": "code",
   "execution_count": 9,
   "id": "7d4197ce",
   "metadata": {},
   "outputs": [
    {
     "name": "stdout",
     "output_type": "stream",
     "text": [
      "we are the world, we are the children!\n"
     ]
    }
   ],
   "source": [
    "def greetings():\n",
    "    return'we are the world, we are the children!'\n",
    "\n",
    "print(greetings())"
   ]
  },
  {
   "cell_type": "code",
   "execution_count": 10,
   "id": "ab9b17b5",
   "metadata": {},
   "outputs": [
    {
     "name": "stdout",
     "output_type": "stream",
     "text": [
      "life goes on!\n"
     ]
    }
   ],
   "source": [
    "def salutation():\n",
    "    return 'life goes on!'\n",
    "\n",
    "print(salutation())"
   ]
  },
  {
   "cell_type": "code",
   "execution_count": 13,
   "id": "b0b2a92f",
   "metadata": {},
   "outputs": [
    {
     "name": "stdout",
     "output_type": "stream",
     "text": [
      "LIFE GOES ON!\n"
     ]
    }
   ],
   "source": [
    "#### change  to upper or lower\n",
    "\n",
    "def salutation():\n",
    "    return 'life goes on!'\n",
    "\n",
    "print(salutation().upper())"
   ]
  },
  {
   "cell_type": "code",
   "execution_count": 15,
   "id": "2324a721",
   "metadata": {},
   "outputs": [
    {
     "name": "stdout",
     "output_type": "stream",
     "text": [
      "WE ARE THE WORLD, WE ARE THE CHILDREN!\n"
     ]
    }
   ],
   "source": [
    "def greetings():\n",
    "    return'we are the world, we are the children!'\n",
    "\n",
    "print(greetings().upper())"
   ]
  },
  {
   "cell_type": "code",
   "execution_count": 22,
   "id": "9bbf0e15",
   "metadata": {},
   "outputs": [
    {
     "name": "stdout",
     "output_type": "stream",
     "text": [
      "Good morning your excellency\n"
     ]
    }
   ],
   "source": [
    "###### HOW TO PASS ARGUMENT TO THE FUNCTION\n",
    "def greetings(salute):\n",
    "    return'{} your excellency'.format(salute)\n",
    "print(greetings('Good morning'))"
   ]
  },
  {
   "cell_type": "code",
   "execution_count": null,
   "id": "cebd9b16",
   "metadata": {},
   "outputs": [],
   "source": []
  },
  {
   "cell_type": "code",
   "execution_count": 24,
   "id": "7964e0e6",
   "metadata": {},
   "outputs": [
    {
     "name": "stdout",
     "output_type": "stream",
     "text": [
      "we are the world, we are the chidren!\n"
     ]
    }
   ],
   "source": [
    "def greetings(message):\n",
    "    return '{} we are the chidren!'.format(message)\n",
    "\n",
    "print(greetings('we are the world,'))"
   ]
  },
  {
   "cell_type": "code",
   "execution_count": null,
   "id": "b794c63c",
   "metadata": {},
   "outputs": [],
   "source": []
  },
  {
   "cell_type": "code",
   "execution_count": 26,
   "id": "7444757d",
   "metadata": {},
   "outputs": [
    {
     "name": "stdout",
     "output_type": "stream",
     "text": [
      "DO HAVE A WONDERFUL DAY AT WORK SWEET HEART\n"
     ]
    }
   ],
   "source": [
    "def greetings(mine):\n",
    "    return '{} at work sweet heart'.format(mine)\n",
    "\n",
    "print(greetings('do have a wonderful day').upper())"
   ]
  },
  {
   "cell_type": "code",
   "execution_count": null,
   "id": "7161fb1c",
   "metadata": {},
   "outputs": [],
   "source": []
  },
  {
   "cell_type": "code",
   "execution_count": 31,
   "id": "dd3f618f",
   "metadata": {},
   "outputs": [
    {
     "name": "stdout",
     "output_type": "stream",
     "text": [
      "I can't just stop adeola thinking about you my love\n"
     ]
    }
   ],
   "source": [
    "def greetings(sweetie, name = 'adeola'):\n",
    "    return '{} {} thinking about you my love'.format(sweetie, name)\n",
    "\n",
    "print(greetings('I can\\'t just stop'))"
   ]
  },
  {
   "cell_type": "code",
   "execution_count": null,
   "id": "20b9d6aa",
   "metadata": {},
   "outputs": [],
   "source": []
  },
  {
   "cell_type": "code",
   "execution_count": 34,
   "id": "0de23e7d",
   "metadata": {},
   "outputs": [
    {
     "name": "stdout",
     "output_type": "stream",
     "text": [
      "You are the apple of my eyes romola and the love of my live.\n"
     ]
    }
   ],
   "source": [
    "def greetings(eulogy, name = 'romola'):\n",
    "    return '{} {} and the love of my live.'.format(eulogy, name)\n",
    "\n",
    "print(greetings('You are the apple of my eyes'))"
   ]
  },
  {
   "cell_type": "code",
   "execution_count": null,
   "id": "5e4f50f9",
   "metadata": {},
   "outputs": [],
   "source": []
  },
  {
   "cell_type": "code",
   "execution_count": 39,
   "id": "41026446",
   "metadata": {},
   "outputs": [
    {
     "name": "stdout",
     "output_type": "stream",
     "text": [
      "('female', 'married')\n",
      "{'name': 'hope', 'age': 30, 'dept': 'logistics'}\n"
     ]
    }
   ],
   "source": [
    "def employee(*args, **kwargs):\n",
    "    print(args)\n",
    "    print(kwargs)\n",
    "    \n",
    "employee('female','married', name='hope',age=30, dept='logistics')"
   ]
  },
  {
   "cell_type": "code",
   "execution_count": null,
   "id": "1d77c338",
   "metadata": {},
   "outputs": [],
   "source": []
  },
  {
   "cell_type": "code",
   "execution_count": 45,
   "id": "48e93c88",
   "metadata": {},
   "outputs": [
    {
     "name": "stdout",
     "output_type": "stream",
     "text": [
      "('maths', 'eng', 'phy', 'chem', 'geo')\n",
      "{'maths': 'mat', 'eng': 'en', 'bio': 'bi', 'commerce': 'com', 'art': 'ar'}\n",
      "None\n"
     ]
    }
   ],
   "source": [
    "def empl_inf(*args, **kwargs):\n",
    "    print(args)\n",
    "    print(kwargs)\n",
    "    \n",
    "a_level = ['maths','eng','phy','chem','geo']\n",
    "o_level = {'maths':'mat','eng':'en','bio':'bi','commerce':'com','art':'ar'}\n",
    "\n",
    "print(empl_inf(*a_level, **o_level))\n"
   ]
  },
  {
   "cell_type": "code",
   "execution_count": null,
   "id": "a0d43e62",
   "metadata": {},
   "outputs": [],
   "source": []
  },
  {
   "cell_type": "code",
   "execution_count": null,
   "id": "ac1ebc6f",
   "metadata": {},
   "outputs": [],
   "source": [
    "##### numpy"
   ]
  },
  {
   "cell_type": "code",
   "execution_count": 46,
   "id": "d1516704",
   "metadata": {},
   "outputs": [],
   "source": [
    "import numpy as np"
   ]
  },
  {
   "cell_type": "code",
   "execution_count": 48,
   "id": "792eb407",
   "metadata": {},
   "outputs": [
    {
     "name": "stdout",
     "output_type": "stream",
     "text": [
      "[[1 2 3 4 5 6]\n",
      " [7 8 9 1 2 3]]\n"
     ]
    }
   ],
   "source": [
    "d = np.array([[1,2,3,4,5,6],[7,8,9,1,2,3]])\n",
    "print(d)"
   ]
  },
  {
   "cell_type": "code",
   "execution_count": 54,
   "id": "df373e43",
   "metadata": {},
   "outputs": [
    {
     "data": {
      "text/plain": [
       "array([2, 8])"
      ]
     },
     "execution_count": 54,
     "metadata": {},
     "output_type": "execute_result"
    }
   ],
   "source": [
    "d[:,1]\n"
   ]
  },
  {
   "cell_type": "code",
   "execution_count": 56,
   "id": "d2ad0b7b",
   "metadata": {},
   "outputs": [
    {
     "data": {
      "text/plain": [
       "array([4, 1])"
      ]
     },
     "execution_count": 56,
     "metadata": {},
     "output_type": "execute_result"
    }
   ],
   "source": [
    "d[0:,3]"
   ]
  },
  {
   "cell_type": "code",
   "execution_count": 58,
   "id": "d5edadf5",
   "metadata": {},
   "outputs": [
    {
     "data": {
      "text/plain": [
       "array([7, 8, 9, 1, 2, 3])"
      ]
     },
     "execution_count": 58,
     "metadata": {},
     "output_type": "execute_result"
    }
   ],
   "source": [
    "d[1,:]"
   ]
  },
  {
   "cell_type": "code",
   "execution_count": 59,
   "id": "8187a1df",
   "metadata": {},
   "outputs": [
    {
     "data": {
      "text/plain": [
       "array([3, 4, 5, 6])"
      ]
     },
     "execution_count": 59,
     "metadata": {},
     "output_type": "execute_result"
    }
   ],
   "source": [
    "d[0,2:6:1]"
   ]
  },
  {
   "cell_type": "code",
   "execution_count": 62,
   "id": "5afd5f67",
   "metadata": {},
   "outputs": [
    {
     "name": "stdout",
     "output_type": "stream",
     "text": [
      "[[1 2 3 7 5 6]\n",
      " [7 8 9 5 2 3]]\n"
     ]
    }
   ],
   "source": [
    "d[:,3] = [7,5]\n",
    "print(d)"
   ]
  },
  {
   "cell_type": "code",
   "execution_count": null,
   "id": "6f1f2a3c",
   "metadata": {},
   "outputs": [],
   "source": []
  },
  {
   "cell_type": "code",
   "execution_count": 64,
   "id": "435e5ead",
   "metadata": {},
   "outputs": [
    {
     "name": "stdout",
     "output_type": "stream",
     "text": [
      "[[ 1  2  3  7  5  6]\n",
      " [ 7  8  9  5 23  3]]\n"
     ]
    }
   ],
   "source": [
    "d[1,4] = 23\n",
    "print(d)"
   ]
  },
  {
   "cell_type": "code",
   "execution_count": null,
   "id": "9ddcd961",
   "metadata": {},
   "outputs": [],
   "source": []
  },
  {
   "cell_type": "code",
   "execution_count": 67,
   "id": "8dbdbe94",
   "metadata": {},
   "outputs": [
    {
     "name": "stdout",
     "output_type": "stream",
     "text": [
      "[[[3 2]\n",
      "  [3 4]]\n",
      "\n",
      " [[3 5]\n",
      "  [4 3]]]\n"
     ]
    }
   ],
   "source": [
    "e = np.array([[[3,2],[3,4]],[[3,5],[4,3]]])\n",
    "print(e)"
   ]
  },
  {
   "cell_type": "code",
   "execution_count": 68,
   "id": "f83a4275",
   "metadata": {},
   "outputs": [
    {
     "name": "stdout",
     "output_type": "stream",
     "text": [
      "[[[2 4]\n",
      "  [3 4]]\n",
      "\n",
      " [[2 5]\n",
      "  [4 6]]]\n"
     ]
    }
   ],
   "source": [
    "f = np.array([[[2,4],[3,4]],[[2,5],[4,6]]])\n",
    "print(f)"
   ]
  },
  {
   "cell_type": "code",
   "execution_count": 70,
   "id": "90b6b250",
   "metadata": {},
   "outputs": [
    {
     "data": {
      "text/plain": [
       "4"
      ]
     },
     "execution_count": 70,
     "metadata": {},
     "output_type": "execute_result"
    }
   ],
   "source": [
    "f[0,1,1]"
   ]
  },
  {
   "cell_type": "code",
   "execution_count": 71,
   "id": "5d89800a",
   "metadata": {},
   "outputs": [
    {
     "data": {
      "text/plain": [
       "2"
      ]
     },
     "execution_count": 71,
     "metadata": {},
     "output_type": "execute_result"
    }
   ],
   "source": [
    "f[1,0,0]"
   ]
  },
  {
   "cell_type": "code",
   "execution_count": 72,
   "id": "59f6143d",
   "metadata": {},
   "outputs": [
    {
     "data": {
      "text/plain": [
       "array([[2, 4],\n",
       "       [2, 5]])"
      ]
     },
     "execution_count": 72,
     "metadata": {},
     "output_type": "execute_result"
    }
   ],
   "source": [
    "f[:,0,:]"
   ]
  },
  {
   "cell_type": "code",
   "execution_count": 75,
   "id": "e5f6722b",
   "metadata": {},
   "outputs": [],
   "source": [
    "f[:,1,:] = [[8,8],[4,5]]"
   ]
  },
  {
   "cell_type": "code",
   "execution_count": 76,
   "id": "a877ef77",
   "metadata": {},
   "outputs": [
    {
     "name": "stdout",
     "output_type": "stream",
     "text": [
      "[[[2 4]\n",
      "  [8 8]]\n",
      "\n",
      " [[2 5]\n",
      "  [4 5]]]\n"
     ]
    }
   ],
   "source": [
    "print(f)"
   ]
  },
  {
   "cell_type": "code",
   "execution_count": null,
   "id": "99d7b284",
   "metadata": {},
   "outputs": [],
   "source": []
  },
  {
   "cell_type": "code",
   "execution_count": null,
   "id": "d087c340",
   "metadata": {},
   "outputs": [],
   "source": []
  },
  {
   "cell_type": "code",
   "execution_count": 4,
   "id": "6801fb5b",
   "metadata": {},
   "outputs": [],
   "source": [
    "people = {'Firstname':['Jack','Ben','Gin','Husk'],\n",
    "         'Lastname':['Rob','Aflex','Rob','Rob'],\n",
    "         'Email':['jack@gmail.com','ben@gmail.com','gin@gmail.com','husk1@gmail.com']\n",
    "    \n",
    "    \n",
    "    \n",
    "    \n",
    "}"
   ]
  },
  {
   "cell_type": "code",
   "execution_count": 5,
   "id": "bd935edd",
   "metadata": {},
   "outputs": [
    {
     "data": {
      "text/plain": [
       "['jack@gmail.com', 'ben@gmail.com', 'gin@gmail.com', 'husk1@gmail.com']"
      ]
     },
     "execution_count": 5,
     "metadata": {},
     "output_type": "execute_result"
    }
   ],
   "source": [
    "people['Email']"
   ]
  },
  {
   "cell_type": "code",
   "execution_count": 6,
   "id": "acb514c0",
   "metadata": {},
   "outputs": [],
   "source": [
    "import pandas as pd"
   ]
  },
  {
   "cell_type": "code",
   "execution_count": 7,
   "id": "de74493d",
   "metadata": {},
   "outputs": [],
   "source": [
    "df = pd.DataFrame(people)"
   ]
  },
  {
   "cell_type": "code",
   "execution_count": 6,
   "id": "0cc255ff",
   "metadata": {},
   "outputs": [
    {
     "data": {
      "text/html": [
       "<div>\n",
       "<style scoped>\n",
       "    .dataframe tbody tr th:only-of-type {\n",
       "        vertical-align: middle;\n",
       "    }\n",
       "\n",
       "    .dataframe tbody tr th {\n",
       "        vertical-align: top;\n",
       "    }\n",
       "\n",
       "    .dataframe thead th {\n",
       "        text-align: right;\n",
       "    }\n",
       "</style>\n",
       "<table border=\"1\" class=\"dataframe\">\n",
       "  <thead>\n",
       "    <tr style=\"text-align: right;\">\n",
       "      <th></th>\n",
       "      <th>Firstname</th>\n",
       "      <th>Lastname</th>\n",
       "      <th>Email</th>\n",
       "    </tr>\n",
       "  </thead>\n",
       "  <tbody>\n",
       "    <tr>\n",
       "      <th>0</th>\n",
       "      <td>Jack</td>\n",
       "      <td>Rob</td>\n",
       "      <td>jack@gmail.com</td>\n",
       "    </tr>\n",
       "    <tr>\n",
       "      <th>1</th>\n",
       "      <td>Ben</td>\n",
       "      <td>Aflex</td>\n",
       "      <td>ben@gmail.com</td>\n",
       "    </tr>\n",
       "    <tr>\n",
       "      <th>2</th>\n",
       "      <td>Gin</td>\n",
       "      <td>Rob</td>\n",
       "      <td>gin@gmail.com</td>\n",
       "    </tr>\n",
       "    <tr>\n",
       "      <th>3</th>\n",
       "      <td>Husk</td>\n",
       "      <td>Rob</td>\n",
       "      <td>husk1@gmail.com</td>\n",
       "    </tr>\n",
       "  </tbody>\n",
       "</table>\n",
       "</div>"
      ],
      "text/plain": [
       "  Firstname Lastname            Email\n",
       "0      Jack      Rob   jack@gmail.com\n",
       "1       Ben    Aflex    ben@gmail.com\n",
       "2       Gin      Rob    gin@gmail.com\n",
       "3      Husk      Rob  husk1@gmail.com"
      ]
     },
     "execution_count": 6,
     "metadata": {},
     "output_type": "execute_result"
    }
   ],
   "source": [
    "df"
   ]
  },
  {
   "cell_type": "code",
   "execution_count": null,
   "id": "490b0da7",
   "metadata": {},
   "outputs": [],
   "source": []
  },
  {
   "cell_type": "code",
   "execution_count": 13,
   "id": "f315655f",
   "metadata": {},
   "outputs": [
    {
     "data": {
      "text/plain": [
       "0     jack@gmail.com\n",
       "1      ben@gmail.com\n",
       "2      gin@gmail.com\n",
       "3    husk1@gmail.com\n",
       "Name: Email, dtype: object"
      ]
     },
     "execution_count": 13,
     "metadata": {},
     "output_type": "execute_result"
    }
   ],
   "source": [
    "df['Email']  #### This method to access value from dataframe is much better and safe from getting error"
   ]
  },
  {
   "cell_type": "code",
   "execution_count": 15,
   "id": "5eb25727",
   "metadata": {},
   "outputs": [
    {
     "data": {
      "text/plain": [
       "0     jack@gmail.com\n",
       "1      ben@gmail.com\n",
       "2      gin@gmail.com\n",
       "3    husk1@gmail.com\n",
       "Name: Email, dtype: object"
      ]
     },
     "execution_count": 15,
     "metadata": {},
     "output_type": "execute_result"
    }
   ],
   "source": [
    "df.Email     ### dot \".\" notation can also be used to access values in the dataframe"
   ]
  },
  {
   "cell_type": "code",
   "execution_count": 14,
   "id": "22675e30",
   "metadata": {},
   "outputs": [
    {
     "data": {
      "text/plain": [
       "pandas.core.series.Series"
      ]
     },
     "execution_count": 14,
     "metadata": {},
     "output_type": "execute_result"
    }
   ],
   "source": [
    "type(df['Email'])   ### a series is accessing a single column or row."
   ]
  },
  {
   "cell_type": "code",
   "execution_count": null,
   "id": "df7a949a",
   "metadata": {},
   "outputs": [],
   "source": [
    "### To rename the column.\n",
    "\n"
   ]
  },
  {
   "cell_type": "code",
   "execution_count": 7,
   "id": "99afe173",
   "metadata": {},
   "outputs": [
    {
     "data": {
      "text/html": [
       "<div>\n",
       "<style scoped>\n",
       "    .dataframe tbody tr th:only-of-type {\n",
       "        vertical-align: middle;\n",
       "    }\n",
       "\n",
       "    .dataframe tbody tr th {\n",
       "        vertical-align: top;\n",
       "    }\n",
       "\n",
       "    .dataframe thead th {\n",
       "        text-align: right;\n",
       "    }\n",
       "</style>\n",
       "<table border=\"1\" class=\"dataframe\">\n",
       "  <thead>\n",
       "    <tr style=\"text-align: right;\">\n",
       "      <th></th>\n",
       "      <th>Lastname</th>\n",
       "      <th>Email</th>\n",
       "    </tr>\n",
       "  </thead>\n",
       "  <tbody>\n",
       "    <tr>\n",
       "      <th>0</th>\n",
       "      <td>Rob</td>\n",
       "      <td>jack@gmail.com</td>\n",
       "    </tr>\n",
       "    <tr>\n",
       "      <th>1</th>\n",
       "      <td>Aflex</td>\n",
       "      <td>ben@gmail.com</td>\n",
       "    </tr>\n",
       "    <tr>\n",
       "      <th>2</th>\n",
       "      <td>Rob</td>\n",
       "      <td>gin@gmail.com</td>\n",
       "    </tr>\n",
       "    <tr>\n",
       "      <th>3</th>\n",
       "      <td>Rob</td>\n",
       "      <td>husk1@gmail.com</td>\n",
       "    </tr>\n",
       "  </tbody>\n",
       "</table>\n",
       "</div>"
      ],
      "text/plain": [
       "  Lastname            Email\n",
       "0      Rob   jack@gmail.com\n",
       "1    Aflex    ben@gmail.com\n",
       "2      Rob    gin@gmail.com\n",
       "3      Rob  husk1@gmail.com"
      ]
     },
     "execution_count": 7,
     "metadata": {},
     "output_type": "execute_result"
    }
   ],
   "source": [
    "#### TO ACCESS MULTIPLE COLUMN: note, this no longer a series cos it access multiple rows and column\n",
    "##### ### this is another dataframe. this is like a filter with  specific columns or multiple column.\n",
    "\n",
    "df[['Lastname', 'Email']]  \n"
   ]
  },
  {
   "cell_type": "code",
   "execution_count": 17,
   "id": "e2b56aee",
   "metadata": {},
   "outputs": [
    {
     "data": {
      "text/plain": [
       "Index(['Firstname', 'Lastname', 'Email'], dtype='object')"
      ]
     },
     "execution_count": 17,
     "metadata": {},
     "output_type": "execute_result"
    }
   ],
   "source": [
    "#### if you have alot of columns and you want to see all of them easily then we can rap the column\n",
    "### specificly by saying\n",
    "\n",
    "df.columns"
   ]
  },
  {
   "cell_type": "code",
   "execution_count": null,
   "id": "85cdbd3c",
   "metadata": {},
   "outputs": [],
   "source": [
    "#### then how can we get rows? we can get rows by using \"loc\" and \"iloc\"\n",
    "### iloc allow us to access rows by integer location. iloc-stands for (index)integer location."
   ]
  },
  {
   "cell_type": "code",
   "execution_count": 18,
   "id": "dff7458c",
   "metadata": {},
   "outputs": [
    {
     "data": {
      "text/plain": [
       "Firstname              Jack\n",
       "Lastname                Rob\n",
       "Email        jack@gmail.com\n",
       "Name: 0, dtype: object"
      ]
     },
     "execution_count": 18,
     "metadata": {},
     "output_type": "execute_result"
    }
   ],
   "source": [
    "df.iloc[0]    ### To get the first row because our integer location i.e (index) started from \"0\". it returns\n",
    "              ### the series of the first row that contains the data."
   ]
  },
  {
   "cell_type": "code",
   "execution_count": 8,
   "id": "fabf8ac1",
   "metadata": {},
   "outputs": [
    {
     "data": {
      "text/html": [
       "<div>\n",
       "<style scoped>\n",
       "    .dataframe tbody tr th:only-of-type {\n",
       "        vertical-align: middle;\n",
       "    }\n",
       "\n",
       "    .dataframe tbody tr th {\n",
       "        vertical-align: top;\n",
       "    }\n",
       "\n",
       "    .dataframe thead th {\n",
       "        text-align: right;\n",
       "    }\n",
       "</style>\n",
       "<table border=\"1\" class=\"dataframe\">\n",
       "  <thead>\n",
       "    <tr style=\"text-align: right;\">\n",
       "      <th></th>\n",
       "      <th>Firstname</th>\n",
       "      <th>Lastname</th>\n",
       "      <th>Email</th>\n",
       "    </tr>\n",
       "  </thead>\n",
       "  <tbody>\n",
       "    <tr>\n",
       "      <th>0</th>\n",
       "      <td>Jack</td>\n",
       "      <td>Rob</td>\n",
       "      <td>jack@gmail.com</td>\n",
       "    </tr>\n",
       "    <tr>\n",
       "      <th>1</th>\n",
       "      <td>Ben</td>\n",
       "      <td>Aflex</td>\n",
       "      <td>ben@gmail.com</td>\n",
       "    </tr>\n",
       "    <tr>\n",
       "      <th>2</th>\n",
       "      <td>Gin</td>\n",
       "      <td>Rob</td>\n",
       "      <td>gin@gmail.com</td>\n",
       "    </tr>\n",
       "  </tbody>\n",
       "</table>\n",
       "</div>"
      ],
      "text/plain": [
       "  Firstname Lastname           Email\n",
       "0      Jack      Rob  jack@gmail.com\n",
       "1       Ben    Aflex   ben@gmail.com\n",
       "2       Gin      Rob   gin@gmail.com"
      ]
     },
     "execution_count": 8,
     "metadata": {},
     "output_type": "execute_result"
    }
   ],
   "source": [
    "#### To select multiple rows\n",
    "\n",
    "df.iloc[[0,1,2]]"
   ]
  },
  {
   "cell_type": "code",
   "execution_count": 20,
   "id": "6ec872e7",
   "metadata": {},
   "outputs": [
    {
     "data": {
      "text/plain": [
       "0    jack@gmail.com\n",
       "1     ben@gmail.com\n",
       "2     gin@gmail.com\n",
       "Name: Email, dtype: object"
      ]
     },
     "execution_count": 20,
     "metadata": {},
     "output_type": "execute_result"
    }
   ],
   "source": [
    "### with these iloc and loc indexes, we can also select columns as well. that will be the \n",
    "### second value that we will pass into to the iloc list. With \"iloc\" & \"loc\" functions, we can think\n",
    "### of rows and columns\n",
    "\n",
    "df.iloc[[0,1,2],2]   #### if i needed the email of the these rows that i pass in.\n",
    "                     ####('remember \"Fistname/First column is 0\"') therefore \"2\" is email."
   ]
  },
  {
   "cell_type": "code",
   "execution_count": null,
   "id": "2755dd48",
   "metadata": {},
   "outputs": [],
   "source": []
  },
  {
   "cell_type": "code",
   "execution_count": null,
   "id": "40e26161",
   "metadata": {},
   "outputs": [],
   "source": [
    "#### Let's look into \"loc\". we will be searching by label."
   ]
  },
  {
   "cell_type": "code",
   "execution_count": 9,
   "id": "4574f04a",
   "metadata": {},
   "outputs": [
    {
     "data": {
      "text/html": [
       "<div>\n",
       "<style scoped>\n",
       "    .dataframe tbody tr th:only-of-type {\n",
       "        vertical-align: middle;\n",
       "    }\n",
       "\n",
       "    .dataframe tbody tr th {\n",
       "        vertical-align: top;\n",
       "    }\n",
       "\n",
       "    .dataframe thead th {\n",
       "        text-align: right;\n",
       "    }\n",
       "</style>\n",
       "<table border=\"1\" class=\"dataframe\">\n",
       "  <thead>\n",
       "    <tr style=\"text-align: right;\">\n",
       "      <th></th>\n",
       "      <th>Firstname</th>\n",
       "      <th>Lastname</th>\n",
       "      <th>Email</th>\n",
       "    </tr>\n",
       "  </thead>\n",
       "  <tbody>\n",
       "    <tr>\n",
       "      <th>0</th>\n",
       "      <td>Jack</td>\n",
       "      <td>Rob</td>\n",
       "      <td>jack@gmail.com</td>\n",
       "    </tr>\n",
       "    <tr>\n",
       "      <th>1</th>\n",
       "      <td>Ben</td>\n",
       "      <td>Aflex</td>\n",
       "      <td>ben@gmail.com</td>\n",
       "    </tr>\n",
       "    <tr>\n",
       "      <th>2</th>\n",
       "      <td>Gin</td>\n",
       "      <td>Rob</td>\n",
       "      <td>gin@gmail.com</td>\n",
       "    </tr>\n",
       "    <tr>\n",
       "      <th>3</th>\n",
       "      <td>Husk</td>\n",
       "      <td>Rob</td>\n",
       "      <td>husk1@gmail.com</td>\n",
       "    </tr>\n",
       "  </tbody>\n",
       "</table>\n",
       "</div>"
      ],
      "text/plain": [
       "  Firstname Lastname            Email\n",
       "0      Jack      Rob   jack@gmail.com\n",
       "1       Ben    Aflex    ben@gmail.com\n",
       "2       Gin      Rob    gin@gmail.com\n",
       "3      Husk      Rob  husk1@gmail.com"
      ]
     },
     "execution_count": 9,
     "metadata": {},
     "output_type": "execute_result"
    }
   ],
   "source": [
    "df"
   ]
  },
  {
   "cell_type": "code",
   "execution_count": 22,
   "id": "dd40f091",
   "metadata": {},
   "outputs": [
    {
     "data": {
      "text/plain": [
       "Firstname              Jack\n",
       "Lastname                Rob\n",
       "Email        jack@gmail.com\n",
       "Name: 0, dtype: object"
      ]
     },
     "execution_count": 22,
     "metadata": {},
     "output_type": "execute_result"
    }
   ],
   "source": [
    "df.loc[0]"
   ]
  },
  {
   "cell_type": "code",
   "execution_count": 10,
   "id": "81439a69",
   "metadata": {},
   "outputs": [
    {
     "data": {
      "text/html": [
       "<div>\n",
       "<style scoped>\n",
       "    .dataframe tbody tr th:only-of-type {\n",
       "        vertical-align: middle;\n",
       "    }\n",
       "\n",
       "    .dataframe tbody tr th {\n",
       "        vertical-align: top;\n",
       "    }\n",
       "\n",
       "    .dataframe thead th {\n",
       "        text-align: right;\n",
       "    }\n",
       "</style>\n",
       "<table border=\"1\" class=\"dataframe\">\n",
       "  <thead>\n",
       "    <tr style=\"text-align: right;\">\n",
       "      <th></th>\n",
       "      <th>Firstname</th>\n",
       "      <th>Lastname</th>\n",
       "      <th>Email</th>\n",
       "    </tr>\n",
       "  </thead>\n",
       "  <tbody>\n",
       "    <tr>\n",
       "      <th>0</th>\n",
       "      <td>Jack</td>\n",
       "      <td>Rob</td>\n",
       "      <td>jack@gmail.com</td>\n",
       "    </tr>\n",
       "    <tr>\n",
       "      <th>1</th>\n",
       "      <td>Ben</td>\n",
       "      <td>Aflex</td>\n",
       "      <td>ben@gmail.com</td>\n",
       "    </tr>\n",
       "    <tr>\n",
       "      <th>2</th>\n",
       "      <td>Gin</td>\n",
       "      <td>Rob</td>\n",
       "      <td>gin@gmail.com</td>\n",
       "    </tr>\n",
       "  </tbody>\n",
       "</table>\n",
       "</div>"
      ],
      "text/plain": [
       "  Firstname Lastname           Email\n",
       "0      Jack      Rob  jack@gmail.com\n",
       "1       Ben    Aflex   ben@gmail.com\n",
       "2       Gin      Rob   gin@gmail.com"
      ]
     },
     "execution_count": 10,
     "metadata": {},
     "output_type": "execute_result"
    }
   ],
   "source": [
    "df.loc[[0,1,2]]"
   ]
  },
  {
   "cell_type": "code",
   "execution_count": 27,
   "id": "bf35dbe4",
   "metadata": {},
   "outputs": [
    {
     "data": {
      "text/plain": [
       "0    jack@gmail.com\n",
       "1     ben@gmail.com\n",
       "2     gin@gmail.com\n",
       "Name: Email, dtype: object"
      ]
     },
     "execution_count": 27,
     "metadata": {},
     "output_type": "execute_result"
    }
   ],
   "source": [
    "df.loc[[0,1,2], 'Email']"
   ]
  },
  {
   "cell_type": "code",
   "execution_count": null,
   "id": "409d90ab",
   "metadata": {},
   "outputs": [],
   "source": []
  },
  {
   "cell_type": "code",
   "execution_count": 11,
   "id": "6f499202",
   "metadata": {},
   "outputs": [
    {
     "data": {
      "text/html": [
       "<div>\n",
       "<style scoped>\n",
       "    .dataframe tbody tr th:only-of-type {\n",
       "        vertical-align: middle;\n",
       "    }\n",
       "\n",
       "    .dataframe tbody tr th {\n",
       "        vertical-align: top;\n",
       "    }\n",
       "\n",
       "    .dataframe thead th {\n",
       "        text-align: right;\n",
       "    }\n",
       "</style>\n",
       "<table border=\"1\" class=\"dataframe\">\n",
       "  <thead>\n",
       "    <tr style=\"text-align: right;\">\n",
       "      <th></th>\n",
       "      <th>Email</th>\n",
       "      <th>Lastname</th>\n",
       "    </tr>\n",
       "  </thead>\n",
       "  <tbody>\n",
       "    <tr>\n",
       "      <th>0</th>\n",
       "      <td>jack@gmail.com</td>\n",
       "      <td>Rob</td>\n",
       "    </tr>\n",
       "    <tr>\n",
       "      <th>1</th>\n",
       "      <td>ben@gmail.com</td>\n",
       "      <td>Aflex</td>\n",
       "    </tr>\n",
       "    <tr>\n",
       "      <th>2</th>\n",
       "      <td>gin@gmail.com</td>\n",
       "      <td>Rob</td>\n",
       "    </tr>\n",
       "  </tbody>\n",
       "</table>\n",
       "</div>"
      ],
      "text/plain": [
       "            Email Lastname\n",
       "0  jack@gmail.com      Rob\n",
       "1   ben@gmail.com    Aflex\n",
       "2   gin@gmail.com      Rob"
      ]
     },
     "execution_count": 11,
     "metadata": {},
     "output_type": "execute_result"
    }
   ],
   "source": [
    "df.loc[[0,1,2], ['Email','Lastname']]"
   ]
  },
  {
   "cell_type": "code",
   "execution_count": null,
   "id": "5622d627",
   "metadata": {},
   "outputs": [],
   "source": []
  },
  {
   "cell_type": "markdown",
   "id": "4afa289d",
   "metadata": {},
   "source": [
    "###### Indexes - How to Set, Reset, and Use"
   ]
  },
  {
   "cell_type": "code",
   "execution_count": 29,
   "id": "79fec874",
   "metadata": {},
   "outputs": [],
   "source": [
    "df = pd.DataFrame(people)"
   ]
  },
  {
   "cell_type": "code",
   "execution_count": 12,
   "id": "4bae8af1",
   "metadata": {},
   "outputs": [
    {
     "data": {
      "text/html": [
       "<div>\n",
       "<style scoped>\n",
       "    .dataframe tbody tr th:only-of-type {\n",
       "        vertical-align: middle;\n",
       "    }\n",
       "\n",
       "    .dataframe tbody tr th {\n",
       "        vertical-align: top;\n",
       "    }\n",
       "\n",
       "    .dataframe thead th {\n",
       "        text-align: right;\n",
       "    }\n",
       "</style>\n",
       "<table border=\"1\" class=\"dataframe\">\n",
       "  <thead>\n",
       "    <tr style=\"text-align: right;\">\n",
       "      <th></th>\n",
       "      <th>Firstname</th>\n",
       "      <th>Lastname</th>\n",
       "      <th>Email</th>\n",
       "    </tr>\n",
       "  </thead>\n",
       "  <tbody>\n",
       "    <tr>\n",
       "      <th>0</th>\n",
       "      <td>Jack</td>\n",
       "      <td>Rob</td>\n",
       "      <td>jack@gmail.com</td>\n",
       "    </tr>\n",
       "    <tr>\n",
       "      <th>1</th>\n",
       "      <td>Ben</td>\n",
       "      <td>Aflex</td>\n",
       "      <td>ben@gmail.com</td>\n",
       "    </tr>\n",
       "    <tr>\n",
       "      <th>2</th>\n",
       "      <td>Gin</td>\n",
       "      <td>Rob</td>\n",
       "      <td>gin@gmail.com</td>\n",
       "    </tr>\n",
       "    <tr>\n",
       "      <th>3</th>\n",
       "      <td>Husk</td>\n",
       "      <td>Rob</td>\n",
       "      <td>husk1@gmail.com</td>\n",
       "    </tr>\n",
       "  </tbody>\n",
       "</table>\n",
       "</div>"
      ],
      "text/plain": [
       "  Firstname Lastname            Email\n",
       "0      Jack      Rob   jack@gmail.com\n",
       "1       Ben    Aflex    ben@gmail.com\n",
       "2       Gin      Rob    gin@gmail.com\n",
       "3      Husk      Rob  husk1@gmail.com"
      ]
     },
     "execution_count": 12,
     "metadata": {},
     "output_type": "execute_result"
    }
   ],
   "source": [
    "df"
   ]
  },
  {
   "cell_type": "code",
   "execution_count": 31,
   "id": "dda0cd23",
   "metadata": {},
   "outputs": [
    {
     "data": {
      "text/plain": [
       "0     jack@gmail.com\n",
       "1      ben@gmail.com\n",
       "2      gin@gmail.com\n",
       "3    husk1@gmail.com\n",
       "Name: Email, dtype: object"
      ]
     },
     "execution_count": 31,
     "metadata": {},
     "output_type": "execute_result"
    }
   ],
   "source": [
    "### To access only email addresses.\n",
    "\n",
    "df['Email']"
   ]
  },
  {
   "cell_type": "code",
   "execution_count": 13,
   "id": "5781ff12",
   "metadata": {},
   "outputs": [
    {
     "data": {
      "text/html": [
       "<div>\n",
       "<style scoped>\n",
       "    .dataframe tbody tr th:only-of-type {\n",
       "        vertical-align: middle;\n",
       "    }\n",
       "\n",
       "    .dataframe tbody tr th {\n",
       "        vertical-align: top;\n",
       "    }\n",
       "\n",
       "    .dataframe thead th {\n",
       "        text-align: right;\n",
       "    }\n",
       "</style>\n",
       "<table border=\"1\" class=\"dataframe\">\n",
       "  <thead>\n",
       "    <tr style=\"text-align: right;\">\n",
       "      <th></th>\n",
       "      <th>Firstname</th>\n",
       "      <th>Lastname</th>\n",
       "    </tr>\n",
       "    <tr>\n",
       "      <th>Email</th>\n",
       "      <th></th>\n",
       "      <th></th>\n",
       "    </tr>\n",
       "  </thead>\n",
       "  <tbody>\n",
       "    <tr>\n",
       "      <th>jack@gmail.com</th>\n",
       "      <td>Jack</td>\n",
       "      <td>Rob</td>\n",
       "    </tr>\n",
       "    <tr>\n",
       "      <th>ben@gmail.com</th>\n",
       "      <td>Ben</td>\n",
       "      <td>Aflex</td>\n",
       "    </tr>\n",
       "    <tr>\n",
       "      <th>gin@gmail.com</th>\n",
       "      <td>Gin</td>\n",
       "      <td>Rob</td>\n",
       "    </tr>\n",
       "    <tr>\n",
       "      <th>husk1@gmail.com</th>\n",
       "      <td>Husk</td>\n",
       "      <td>Rob</td>\n",
       "    </tr>\n",
       "  </tbody>\n",
       "</table>\n",
       "</div>"
      ],
      "text/plain": [
       "                Firstname Lastname\n",
       "Email                             \n",
       "jack@gmail.com       Jack      Rob\n",
       "ben@gmail.com         Ben    Aflex\n",
       "gin@gmail.com         Gin      Rob\n",
       "husk1@gmail.com      Husk      Rob"
      ]
     },
     "execution_count": 13,
     "metadata": {},
     "output_type": "execute_result"
    }
   ],
   "source": [
    "#### To set these emails addresses as an index for this data frame:\n",
    "\n",
    "df.set_index('Email')"
   ]
  },
  {
   "cell_type": "code",
   "execution_count": 14,
   "id": "d8129a88",
   "metadata": {},
   "outputs": [
    {
     "data": {
      "text/html": [
       "<div>\n",
       "<style scoped>\n",
       "    .dataframe tbody tr th:only-of-type {\n",
       "        vertical-align: middle;\n",
       "    }\n",
       "\n",
       "    .dataframe tbody tr th {\n",
       "        vertical-align: top;\n",
       "    }\n",
       "\n",
       "    .dataframe thead th {\n",
       "        text-align: right;\n",
       "    }\n",
       "</style>\n",
       "<table border=\"1\" class=\"dataframe\">\n",
       "  <thead>\n",
       "    <tr style=\"text-align: right;\">\n",
       "      <th></th>\n",
       "      <th>Firstname</th>\n",
       "      <th>Lastname</th>\n",
       "      <th>Email</th>\n",
       "    </tr>\n",
       "  </thead>\n",
       "  <tbody>\n",
       "    <tr>\n",
       "      <th>0</th>\n",
       "      <td>Jack</td>\n",
       "      <td>Rob</td>\n",
       "      <td>jack@gmail.com</td>\n",
       "    </tr>\n",
       "    <tr>\n",
       "      <th>1</th>\n",
       "      <td>Ben</td>\n",
       "      <td>Aflex</td>\n",
       "      <td>ben@gmail.com</td>\n",
       "    </tr>\n",
       "    <tr>\n",
       "      <th>2</th>\n",
       "      <td>Gin</td>\n",
       "      <td>Rob</td>\n",
       "      <td>gin@gmail.com</td>\n",
       "    </tr>\n",
       "    <tr>\n",
       "      <th>3</th>\n",
       "      <td>Husk</td>\n",
       "      <td>Rob</td>\n",
       "      <td>husk1@gmail.com</td>\n",
       "    </tr>\n",
       "  </tbody>\n",
       "</table>\n",
       "</div>"
      ],
      "text/plain": [
       "  Firstname Lastname            Email\n",
       "0      Jack      Rob   jack@gmail.com\n",
       "1       Ben    Aflex    ben@gmail.com\n",
       "2       Gin      Rob    gin@gmail.com\n",
       "3      Husk      Rob  husk1@gmail.com"
      ]
     },
     "execution_count": 14,
     "metadata": {},
     "output_type": "execute_result"
    }
   ],
   "source": [
    "df      ### as you can see, the original dataframe is not being affected."
   ]
  },
  {
   "cell_type": "code",
   "execution_count": 15,
   "id": "ce2c7710",
   "metadata": {},
   "outputs": [],
   "source": [
    "#### But if we really want to modify the dataframe and if we want the changes to really have impact.\n",
    "\n",
    "df.set_index('Email', inplace=True)"
   ]
  },
  {
   "cell_type": "code",
   "execution_count": 16,
   "id": "2aecad15",
   "metadata": {},
   "outputs": [
    {
     "data": {
      "text/html": [
       "<div>\n",
       "<style scoped>\n",
       "    .dataframe tbody tr th:only-of-type {\n",
       "        vertical-align: middle;\n",
       "    }\n",
       "\n",
       "    .dataframe tbody tr th {\n",
       "        vertical-align: top;\n",
       "    }\n",
       "\n",
       "    .dataframe thead th {\n",
       "        text-align: right;\n",
       "    }\n",
       "</style>\n",
       "<table border=\"1\" class=\"dataframe\">\n",
       "  <thead>\n",
       "    <tr style=\"text-align: right;\">\n",
       "      <th></th>\n",
       "      <th>Firstname</th>\n",
       "      <th>Lastname</th>\n",
       "    </tr>\n",
       "    <tr>\n",
       "      <th>Email</th>\n",
       "      <th></th>\n",
       "      <th></th>\n",
       "    </tr>\n",
       "  </thead>\n",
       "  <tbody>\n",
       "    <tr>\n",
       "      <th>jack@gmail.com</th>\n",
       "      <td>Jack</td>\n",
       "      <td>Rob</td>\n",
       "    </tr>\n",
       "    <tr>\n",
       "      <th>ben@gmail.com</th>\n",
       "      <td>Ben</td>\n",
       "      <td>Aflex</td>\n",
       "    </tr>\n",
       "    <tr>\n",
       "      <th>gin@gmail.com</th>\n",
       "      <td>Gin</td>\n",
       "      <td>Rob</td>\n",
       "    </tr>\n",
       "    <tr>\n",
       "      <th>husk1@gmail.com</th>\n",
       "      <td>Husk</td>\n",
       "      <td>Rob</td>\n",
       "    </tr>\n",
       "  </tbody>\n",
       "</table>\n",
       "</div>"
      ],
      "text/plain": [
       "                Firstname Lastname\n",
       "Email                             \n",
       "jack@gmail.com       Jack      Rob\n",
       "ben@gmail.com         Ben    Aflex\n",
       "gin@gmail.com         Gin      Rob\n",
       "husk1@gmail.com      Husk      Rob"
      ]
     },
     "execution_count": 16,
     "metadata": {},
     "output_type": "execute_result"
    }
   ],
   "source": [
    "df   ### Now as you can see, our dataframe has change"
   ]
  },
  {
   "cell_type": "code",
   "execution_count": 36,
   "id": "5bc3a9c1",
   "metadata": {},
   "outputs": [
    {
     "data": {
      "text/plain": [
       "Index(['jack@gmail.com', 'ben@gmail.com', 'gin@gmail.com', 'husk1@gmail.com'], dtype='object', name='Email')"
      ]
     },
     "execution_count": 36,
     "metadata": {},
     "output_type": "execute_result"
    }
   ],
   "source": [
    "df.index"
   ]
  },
  {
   "cell_type": "code",
   "execution_count": 39,
   "id": "1aa1d48c",
   "metadata": {},
   "outputs": [
    {
     "data": {
      "text/plain": [
       "'Rob'"
      ]
     },
     "execution_count": 39,
     "metadata": {},
     "output_type": "execute_result"
    }
   ],
   "source": [
    "df.loc['jack@gmail.com', 'Lastname']"
   ]
  },
  {
   "cell_type": "code",
   "execution_count": 17,
   "id": "6989c5fd",
   "metadata": {},
   "outputs": [
    {
     "data": {
      "text/plain": [
       "'Aflex'"
      ]
     },
     "execution_count": 17,
     "metadata": {},
     "output_type": "execute_result"
    }
   ],
   "source": [
    "df.loc['ben@gmail.com', 'Lastname']"
   ]
  },
  {
   "cell_type": "code",
   "execution_count": 41,
   "id": "e717f9c1",
   "metadata": {},
   "outputs": [
    {
     "ename": "KeyError",
     "evalue": "0",
     "output_type": "error",
     "traceback": [
      "\u001b[1;31m---------------------------------------------------------------------------\u001b[0m",
      "\u001b[1;31mKeyError\u001b[0m                                  Traceback (most recent call last)",
      "File \u001b[1;32m~\\anaconda3\\lib\\site-packages\\pandas\\core\\indexes\\base.py:3802\u001b[0m, in \u001b[0;36mIndex.get_loc\u001b[1;34m(self, key, method, tolerance)\u001b[0m\n\u001b[0;32m   3801\u001b[0m \u001b[38;5;28;01mtry\u001b[39;00m:\n\u001b[1;32m-> 3802\u001b[0m     \u001b[38;5;28;01mreturn\u001b[39;00m \u001b[38;5;28;43mself\u001b[39;49m\u001b[38;5;241;43m.\u001b[39;49m\u001b[43m_engine\u001b[49m\u001b[38;5;241;43m.\u001b[39;49m\u001b[43mget_loc\u001b[49m\u001b[43m(\u001b[49m\u001b[43mcasted_key\u001b[49m\u001b[43m)\u001b[49m\n\u001b[0;32m   3803\u001b[0m \u001b[38;5;28;01mexcept\u001b[39;00m \u001b[38;5;167;01mKeyError\u001b[39;00m \u001b[38;5;28;01mas\u001b[39;00m err:\n",
      "File \u001b[1;32m~\\anaconda3\\lib\\site-packages\\pandas\\_libs\\index.pyx:138\u001b[0m, in \u001b[0;36mpandas._libs.index.IndexEngine.get_loc\u001b[1;34m()\u001b[0m\n",
      "File \u001b[1;32m~\\anaconda3\\lib\\site-packages\\pandas\\_libs\\index.pyx:165\u001b[0m, in \u001b[0;36mpandas._libs.index.IndexEngine.get_loc\u001b[1;34m()\u001b[0m\n",
      "File \u001b[1;32mpandas\\_libs\\hashtable_class_helper.pxi:5745\u001b[0m, in \u001b[0;36mpandas._libs.hashtable.PyObjectHashTable.get_item\u001b[1;34m()\u001b[0m\n",
      "File \u001b[1;32mpandas\\_libs\\hashtable_class_helper.pxi:5753\u001b[0m, in \u001b[0;36mpandas._libs.hashtable.PyObjectHashTable.get_item\u001b[1;34m()\u001b[0m\n",
      "\u001b[1;31mKeyError\u001b[0m: 0",
      "\nThe above exception was the direct cause of the following exception:\n",
      "\u001b[1;31mKeyError\u001b[0m                                  Traceback (most recent call last)",
      "Cell \u001b[1;32mIn[41], line 1\u001b[0m\n\u001b[1;32m----> 1\u001b[0m \u001b[43mdf\u001b[49m\u001b[38;5;241;43m.\u001b[39;49m\u001b[43mloc\u001b[49m\u001b[43m[\u001b[49m\u001b[38;5;241;43m0\u001b[39;49m\u001b[43m]\u001b[49m\n",
      "File \u001b[1;32m~\\anaconda3\\lib\\site-packages\\pandas\\core\\indexing.py:1073\u001b[0m, in \u001b[0;36m_LocationIndexer.__getitem__\u001b[1;34m(self, key)\u001b[0m\n\u001b[0;32m   1070\u001b[0m axis \u001b[38;5;241m=\u001b[39m \u001b[38;5;28mself\u001b[39m\u001b[38;5;241m.\u001b[39maxis \u001b[38;5;129;01mor\u001b[39;00m \u001b[38;5;241m0\u001b[39m\n\u001b[0;32m   1072\u001b[0m maybe_callable \u001b[38;5;241m=\u001b[39m com\u001b[38;5;241m.\u001b[39mapply_if_callable(key, \u001b[38;5;28mself\u001b[39m\u001b[38;5;241m.\u001b[39mobj)\n\u001b[1;32m-> 1073\u001b[0m \u001b[38;5;28;01mreturn\u001b[39;00m \u001b[38;5;28;43mself\u001b[39;49m\u001b[38;5;241;43m.\u001b[39;49m\u001b[43m_getitem_axis\u001b[49m\u001b[43m(\u001b[49m\u001b[43mmaybe_callable\u001b[49m\u001b[43m,\u001b[49m\u001b[43m \u001b[49m\u001b[43maxis\u001b[49m\u001b[38;5;241;43m=\u001b[39;49m\u001b[43maxis\u001b[49m\u001b[43m)\u001b[49m\n",
      "File \u001b[1;32m~\\anaconda3\\lib\\site-packages\\pandas\\core\\indexing.py:1312\u001b[0m, in \u001b[0;36m_LocIndexer._getitem_axis\u001b[1;34m(self, key, axis)\u001b[0m\n\u001b[0;32m   1310\u001b[0m \u001b[38;5;66;03m# fall thru to straight lookup\u001b[39;00m\n\u001b[0;32m   1311\u001b[0m \u001b[38;5;28mself\u001b[39m\u001b[38;5;241m.\u001b[39m_validate_key(key, axis)\n\u001b[1;32m-> 1312\u001b[0m \u001b[38;5;28;01mreturn\u001b[39;00m \u001b[38;5;28;43mself\u001b[39;49m\u001b[38;5;241;43m.\u001b[39;49m\u001b[43m_get_label\u001b[49m\u001b[43m(\u001b[49m\u001b[43mkey\u001b[49m\u001b[43m,\u001b[49m\u001b[43m \u001b[49m\u001b[43maxis\u001b[49m\u001b[38;5;241;43m=\u001b[39;49m\u001b[43maxis\u001b[49m\u001b[43m)\u001b[49m\n",
      "File \u001b[1;32m~\\anaconda3\\lib\\site-packages\\pandas\\core\\indexing.py:1260\u001b[0m, in \u001b[0;36m_LocIndexer._get_label\u001b[1;34m(self, label, axis)\u001b[0m\n\u001b[0;32m   1258\u001b[0m \u001b[38;5;28;01mdef\u001b[39;00m \u001b[38;5;21m_get_label\u001b[39m(\u001b[38;5;28mself\u001b[39m, label, axis: \u001b[38;5;28mint\u001b[39m):\n\u001b[0;32m   1259\u001b[0m     \u001b[38;5;66;03m# GH#5567 this will fail if the label is not present in the axis.\u001b[39;00m\n\u001b[1;32m-> 1260\u001b[0m     \u001b[38;5;28;01mreturn\u001b[39;00m \u001b[38;5;28;43mself\u001b[39;49m\u001b[38;5;241;43m.\u001b[39;49m\u001b[43mobj\u001b[49m\u001b[38;5;241;43m.\u001b[39;49m\u001b[43mxs\u001b[49m\u001b[43m(\u001b[49m\u001b[43mlabel\u001b[49m\u001b[43m,\u001b[49m\u001b[43m \u001b[49m\u001b[43maxis\u001b[49m\u001b[38;5;241;43m=\u001b[39;49m\u001b[43maxis\u001b[49m\u001b[43m)\u001b[49m\n",
      "File \u001b[1;32m~\\anaconda3\\lib\\site-packages\\pandas\\core\\generic.py:4056\u001b[0m, in \u001b[0;36mNDFrame.xs\u001b[1;34m(self, key, axis, level, drop_level)\u001b[0m\n\u001b[0;32m   4054\u001b[0m             new_index \u001b[38;5;241m=\u001b[39m index[loc]\n\u001b[0;32m   4055\u001b[0m \u001b[38;5;28;01melse\u001b[39;00m:\n\u001b[1;32m-> 4056\u001b[0m     loc \u001b[38;5;241m=\u001b[39m \u001b[43mindex\u001b[49m\u001b[38;5;241;43m.\u001b[39;49m\u001b[43mget_loc\u001b[49m\u001b[43m(\u001b[49m\u001b[43mkey\u001b[49m\u001b[43m)\u001b[49m\n\u001b[0;32m   4058\u001b[0m     \u001b[38;5;28;01mif\u001b[39;00m \u001b[38;5;28misinstance\u001b[39m(loc, np\u001b[38;5;241m.\u001b[39mndarray):\n\u001b[0;32m   4059\u001b[0m         \u001b[38;5;28;01mif\u001b[39;00m loc\u001b[38;5;241m.\u001b[39mdtype \u001b[38;5;241m==\u001b[39m np\u001b[38;5;241m.\u001b[39mbool_:\n",
      "File \u001b[1;32m~\\anaconda3\\lib\\site-packages\\pandas\\core\\indexes\\base.py:3804\u001b[0m, in \u001b[0;36mIndex.get_loc\u001b[1;34m(self, key, method, tolerance)\u001b[0m\n\u001b[0;32m   3802\u001b[0m     \u001b[38;5;28;01mreturn\u001b[39;00m \u001b[38;5;28mself\u001b[39m\u001b[38;5;241m.\u001b[39m_engine\u001b[38;5;241m.\u001b[39mget_loc(casted_key)\n\u001b[0;32m   3803\u001b[0m \u001b[38;5;28;01mexcept\u001b[39;00m \u001b[38;5;167;01mKeyError\u001b[39;00m \u001b[38;5;28;01mas\u001b[39;00m err:\n\u001b[1;32m-> 3804\u001b[0m     \u001b[38;5;28;01mraise\u001b[39;00m \u001b[38;5;167;01mKeyError\u001b[39;00m(key) \u001b[38;5;28;01mfrom\u001b[39;00m \u001b[38;5;21;01merr\u001b[39;00m\n\u001b[0;32m   3805\u001b[0m \u001b[38;5;28;01mexcept\u001b[39;00m \u001b[38;5;167;01mTypeError\u001b[39;00m:\n\u001b[0;32m   3806\u001b[0m     \u001b[38;5;66;03m# If we have a listlike key, _check_indexing_error will raise\u001b[39;00m\n\u001b[0;32m   3807\u001b[0m     \u001b[38;5;66;03m#  InvalidIndexError. Otherwise we fall through and re-raise\u001b[39;00m\n\u001b[0;32m   3808\u001b[0m     \u001b[38;5;66;03m#  the TypeError.\u001b[39;00m\n\u001b[0;32m   3809\u001b[0m     \u001b[38;5;28mself\u001b[39m\u001b[38;5;241m.\u001b[39m_check_indexing_error(key)\n",
      "\u001b[1;31mKeyError\u001b[0m: 0"
     ]
    }
   ],
   "source": [
    "df.loc[0]     ### because the index has change to \"email address\" (label) but it can still be accessed\n",
    "              ### by using \"iloc\""
   ]
  },
  {
   "cell_type": "code",
   "execution_count": 42,
   "id": "daf86a7f",
   "metadata": {},
   "outputs": [
    {
     "data": {
      "text/plain": [
       "Firstname    Jack\n",
       "Lastname      Rob\n",
       "Name: jack@gmail.com, dtype: object"
      ]
     },
     "execution_count": 42,
     "metadata": {},
     "output_type": "execute_result"
    }
   ],
   "source": [
    "df.iloc[0]"
   ]
  },
  {
   "cell_type": "code",
   "execution_count": null,
   "id": "98b58dbd",
   "metadata": {},
   "outputs": [],
   "source": []
  },
  {
   "cell_type": "code",
   "execution_count": 18,
   "id": "4a8cb23b",
   "metadata": {},
   "outputs": [
    {
     "data": {
      "text/html": [
       "<div>\n",
       "<style scoped>\n",
       "    .dataframe tbody tr th:only-of-type {\n",
       "        vertical-align: middle;\n",
       "    }\n",
       "\n",
       "    .dataframe tbody tr th {\n",
       "        vertical-align: top;\n",
       "    }\n",
       "\n",
       "    .dataframe thead th {\n",
       "        text-align: right;\n",
       "    }\n",
       "</style>\n",
       "<table border=\"1\" class=\"dataframe\">\n",
       "  <thead>\n",
       "    <tr style=\"text-align: right;\">\n",
       "      <th></th>\n",
       "      <th>Firstname</th>\n",
       "      <th>Lastname</th>\n",
       "    </tr>\n",
       "    <tr>\n",
       "      <th>Email</th>\n",
       "      <th></th>\n",
       "      <th></th>\n",
       "    </tr>\n",
       "  </thead>\n",
       "  <tbody>\n",
       "    <tr>\n",
       "      <th>jack@gmail.com</th>\n",
       "      <td>Jack</td>\n",
       "      <td>Rob</td>\n",
       "    </tr>\n",
       "    <tr>\n",
       "      <th>ben@gmail.com</th>\n",
       "      <td>Ben</td>\n",
       "      <td>Aflex</td>\n",
       "    </tr>\n",
       "    <tr>\n",
       "      <th>gin@gmail.com</th>\n",
       "      <td>Gin</td>\n",
       "      <td>Rob</td>\n",
       "    </tr>\n",
       "    <tr>\n",
       "      <th>husk1@gmail.com</th>\n",
       "      <td>Husk</td>\n",
       "      <td>Rob</td>\n",
       "    </tr>\n",
       "  </tbody>\n",
       "</table>\n",
       "</div>"
      ],
      "text/plain": [
       "                Firstname Lastname\n",
       "Email                             \n",
       "jack@gmail.com       Jack      Rob\n",
       "ben@gmail.com         Ben    Aflex\n",
       "gin@gmail.com         Gin      Rob\n",
       "husk1@gmail.com      Husk      Rob"
      ]
     },
     "execution_count": 18,
     "metadata": {},
     "output_type": "execute_result"
    }
   ],
   "source": [
    "df"
   ]
  },
  {
   "cell_type": "markdown",
   "id": "1b28b6ba",
   "metadata": {},
   "source": [
    "#### How to \"reset the index\" from label to integer if you accidently set the index to label"
   ]
  },
  {
   "cell_type": "code",
   "execution_count": 15,
   "id": "9aef3b27",
   "metadata": {},
   "outputs": [],
   "source": [
    "df.reset_index(inplace=True)"
   ]
  },
  {
   "cell_type": "code",
   "execution_count": 17,
   "id": "ed18463e",
   "metadata": {},
   "outputs": [
    {
     "data": {
      "text/html": [
       "<div>\n",
       "<style scoped>\n",
       "    .dataframe tbody tr th:only-of-type {\n",
       "        vertical-align: middle;\n",
       "    }\n",
       "\n",
       "    .dataframe tbody tr th {\n",
       "        vertical-align: top;\n",
       "    }\n",
       "\n",
       "    .dataframe thead th {\n",
       "        text-align: right;\n",
       "    }\n",
       "</style>\n",
       "<table border=\"1\" class=\"dataframe\">\n",
       "  <thead>\n",
       "    <tr style=\"text-align: right;\">\n",
       "      <th></th>\n",
       "      <th>level_0</th>\n",
       "      <th>index</th>\n",
       "      <th>Firstname</th>\n",
       "      <th>Lastname</th>\n",
       "      <th>Email</th>\n",
       "    </tr>\n",
       "  </thead>\n",
       "  <tbody>\n",
       "    <tr>\n",
       "      <th>0</th>\n",
       "      <td>0</td>\n",
       "      <td>0</td>\n",
       "      <td>Jack</td>\n",
       "      <td>Rob</td>\n",
       "      <td>jack@gmail.com</td>\n",
       "    </tr>\n",
       "    <tr>\n",
       "      <th>1</th>\n",
       "      <td>1</td>\n",
       "      <td>1</td>\n",
       "      <td>Ben</td>\n",
       "      <td>Aflex</td>\n",
       "      <td>ben@gmail.com</td>\n",
       "    </tr>\n",
       "    <tr>\n",
       "      <th>2</th>\n",
       "      <td>2</td>\n",
       "      <td>2</td>\n",
       "      <td>Gin</td>\n",
       "      <td>Rob</td>\n",
       "      <td>gin@gmail.com</td>\n",
       "    </tr>\n",
       "    <tr>\n",
       "      <th>3</th>\n",
       "      <td>3</td>\n",
       "      <td>3</td>\n",
       "      <td>Husk</td>\n",
       "      <td>Rob</td>\n",
       "      <td>husk1@gmail.com</td>\n",
       "    </tr>\n",
       "  </tbody>\n",
       "</table>\n",
       "</div>"
      ],
      "text/plain": [
       "   level_0  index Firstname Lastname            Email\n",
       "0        0      0      Jack      Rob   jack@gmail.com\n",
       "1        1      1       Ben    Aflex    ben@gmail.com\n",
       "2        2      2       Gin      Rob    gin@gmail.com\n",
       "3        3      3      Husk      Rob  husk1@gmail.com"
      ]
     },
     "execution_count": 17,
     "metadata": {},
     "output_type": "execute_result"
    }
   ],
   "source": [
    "df"
   ]
  },
  {
   "cell_type": "markdown",
   "id": "67f359aa",
   "metadata": {},
   "source": [
    "#### Filtering - Using Conditionals to Filter Rows and Columns"
   ]
  },
  {
   "cell_type": "code",
   "execution_count": 22,
   "id": "ae7e1ccb",
   "metadata": {},
   "outputs": [
    {
     "data": {
      "text/plain": [
       "0     True\n",
       "1    False\n",
       "2     True\n",
       "3     True\n",
       "Name: Lastname, dtype: bool"
      ]
     },
     "execution_count": 22,
     "metadata": {},
     "output_type": "execute_result"
    }
   ],
   "source": [
    "df['Lastname'] == 'Rob'"
   ]
  },
  {
   "cell_type": "code",
   "execution_count": 10,
   "id": "8d540a51",
   "metadata": {},
   "outputs": [],
   "source": [
    "filt = (df['Lastname'] == 'Rob')"
   ]
  },
  {
   "cell_type": "code",
   "execution_count": 11,
   "id": "374f3675",
   "metadata": {},
   "outputs": [
    {
     "data": {
      "text/html": [
       "<div>\n",
       "<style scoped>\n",
       "    .dataframe tbody tr th:only-of-type {\n",
       "        vertical-align: middle;\n",
       "    }\n",
       "\n",
       "    .dataframe tbody tr th {\n",
       "        vertical-align: top;\n",
       "    }\n",
       "\n",
       "    .dataframe thead th {\n",
       "        text-align: right;\n",
       "    }\n",
       "</style>\n",
       "<table border=\"1\" class=\"dataframe\">\n",
       "  <thead>\n",
       "    <tr style=\"text-align: right;\">\n",
       "      <th></th>\n",
       "      <th>index</th>\n",
       "      <th>Firstname</th>\n",
       "      <th>Lastname</th>\n",
       "      <th>Email</th>\n",
       "    </tr>\n",
       "  </thead>\n",
       "  <tbody>\n",
       "    <tr>\n",
       "      <th>0</th>\n",
       "      <td>0</td>\n",
       "      <td>Jack</td>\n",
       "      <td>Rob</td>\n",
       "      <td>jack@gmail.com</td>\n",
       "    </tr>\n",
       "    <tr>\n",
       "      <th>2</th>\n",
       "      <td>2</td>\n",
       "      <td>Gin</td>\n",
       "      <td>Rob</td>\n",
       "      <td>gin@gmail.com</td>\n",
       "    </tr>\n",
       "    <tr>\n",
       "      <th>3</th>\n",
       "      <td>3</td>\n",
       "      <td>Husk</td>\n",
       "      <td>Rob</td>\n",
       "      <td>husk1@gmail.com</td>\n",
       "    </tr>\n",
       "  </tbody>\n",
       "</table>\n",
       "</div>"
      ],
      "text/plain": [
       "   index Firstname Lastname            Email\n",
       "0      0      Jack      Rob   jack@gmail.com\n",
       "2      2       Gin      Rob    gin@gmail.com\n",
       "3      3      Husk      Rob  husk1@gmail.com"
      ]
     },
     "execution_count": 11,
     "metadata": {},
     "output_type": "execute_result"
    }
   ],
   "source": [
    "df[filt]"
   ]
  },
  {
   "cell_type": "code",
   "execution_count": 14,
   "id": "748ed6b8",
   "metadata": {},
   "outputs": [
    {
     "data": {
      "text/html": [
       "<div>\n",
       "<style scoped>\n",
       "    .dataframe tbody tr th:only-of-type {\n",
       "        vertical-align: middle;\n",
       "    }\n",
       "\n",
       "    .dataframe tbody tr th {\n",
       "        vertical-align: top;\n",
       "    }\n",
       "\n",
       "    .dataframe thead th {\n",
       "        text-align: right;\n",
       "    }\n",
       "</style>\n",
       "<table border=\"1\" class=\"dataframe\">\n",
       "  <thead>\n",
       "    <tr style=\"text-align: right;\">\n",
       "      <th></th>\n",
       "      <th>index</th>\n",
       "      <th>Firstname</th>\n",
       "      <th>Lastname</th>\n",
       "      <th>Email</th>\n",
       "    </tr>\n",
       "  </thead>\n",
       "  <tbody>\n",
       "    <tr>\n",
       "      <th>0</th>\n",
       "      <td>0</td>\n",
       "      <td>Jack</td>\n",
       "      <td>Rob</td>\n",
       "      <td>jack@gmail.com</td>\n",
       "    </tr>\n",
       "    <tr>\n",
       "      <th>2</th>\n",
       "      <td>2</td>\n",
       "      <td>Gin</td>\n",
       "      <td>Rob</td>\n",
       "      <td>gin@gmail.com</td>\n",
       "    </tr>\n",
       "    <tr>\n",
       "      <th>3</th>\n",
       "      <td>3</td>\n",
       "      <td>Husk</td>\n",
       "      <td>Rob</td>\n",
       "      <td>husk1@gmail.com</td>\n",
       "    </tr>\n",
       "  </tbody>\n",
       "</table>\n",
       "</div>"
      ],
      "text/plain": [
       "   index Firstname Lastname            Email\n",
       "0      0      Jack      Rob   jack@gmail.com\n",
       "2      2       Gin      Rob    gin@gmail.com\n",
       "3      3      Husk      Rob  husk1@gmail.com"
      ]
     },
     "execution_count": 14,
     "metadata": {},
     "output_type": "execute_result"
    }
   ],
   "source": [
    "df.loc[filt]"
   ]
  },
  {
   "cell_type": "code",
   "execution_count": null,
   "id": "bbf7bbc1",
   "metadata": {},
   "outputs": [],
   "source": [
    "#### To filter the email...."
   ]
  },
  {
   "cell_type": "code",
   "execution_count": 18,
   "id": "59dd8429",
   "metadata": {},
   "outputs": [
    {
     "data": {
      "text/plain": [
       "0     jack@gmail.com\n",
       "2      gin@gmail.com\n",
       "3    husk1@gmail.com\n",
       "Name: Email, dtype: object"
      ]
     },
     "execution_count": 18,
     "metadata": {},
     "output_type": "execute_result"
    }
   ],
   "source": [
    "df.loc[filt, 'Email']"
   ]
  },
  {
   "cell_type": "code",
   "execution_count": null,
   "id": "0d055337",
   "metadata": {},
   "outputs": [],
   "source": []
  },
  {
   "cell_type": "code",
   "execution_count": null,
   "id": "c961052f",
   "metadata": {},
   "outputs": [],
   "source": [
    "#### \"&\" which stands for (AND), \"|\" which stand for (OR) can also be used to FILTER."
   ]
  },
  {
   "cell_type": "code",
   "execution_count": 25,
   "id": "1b5911f6",
   "metadata": {},
   "outputs": [],
   "source": [
    "filt= (df['Lastname'] == 'Rob') & (df['Firstname'] == 'Gin')"
   ]
  },
  {
   "cell_type": "code",
   "execution_count": 26,
   "id": "439ebfd6",
   "metadata": {},
   "outputs": [
    {
     "data": {
      "text/plain": [
       "2    gin@gmail.com\n",
       "Name: Email, dtype: object"
      ]
     },
     "execution_count": 26,
     "metadata": {},
     "output_type": "execute_result"
    }
   ],
   "source": [
    "df.loc[filt,'Email']\n"
   ]
  },
  {
   "cell_type": "code",
   "execution_count": null,
   "id": "f6b1e81a",
   "metadata": {},
   "outputs": [],
   "source": []
  },
  {
   "cell_type": "code",
   "execution_count": null,
   "id": "2a3cbf05",
   "metadata": {},
   "outputs": [],
   "source": [
    "##### To filter using \"|\" (OR) function"
   ]
  },
  {
   "cell_type": "code",
   "execution_count": 27,
   "id": "28345a10",
   "metadata": {},
   "outputs": [],
   "source": [
    "filt = (df['Lastname'] == 'Rob') | (df['Firstname'] == 'Husk')"
   ]
  },
  {
   "cell_type": "code",
   "execution_count": 29,
   "id": "b791defc",
   "metadata": {},
   "outputs": [
    {
     "data": {
      "text/plain": [
       "0     jack@gmail.com\n",
       "2      gin@gmail.com\n",
       "3    husk1@gmail.com\n",
       "Name: Email, dtype: object"
      ]
     },
     "execution_count": 29,
     "metadata": {},
     "output_type": "execute_result"
    }
   ],
   "source": [
    "df.loc[filt, 'Email']"
   ]
  },
  {
   "cell_type": "code",
   "execution_count": null,
   "id": "48bd8e8c",
   "metadata": {},
   "outputs": [],
   "source": [
    "#### TO GET OPPOSITE RESULT OF THE ABOVE . JUST PUT \"~\" (TIL) AT THE BACK OF \"filt\""
   ]
  },
  {
   "cell_type": "code",
   "execution_count": 30,
   "id": "b0e1078d",
   "metadata": {},
   "outputs": [],
   "source": [
    "filt = (df['Lastname'] == 'Rob') | (df['Firstname'] == 'Husk')"
   ]
  },
  {
   "cell_type": "code",
   "execution_count": 31,
   "id": "c7173cb2",
   "metadata": {},
   "outputs": [
    {
     "data": {
      "text/plain": [
       "1    ben@gmail.com\n",
       "Name: Email, dtype: object"
      ]
     },
     "execution_count": 31,
     "metadata": {},
     "output_type": "execute_result"
    }
   ],
   "source": [
    "df.loc[~filt, 'Email']"
   ]
  },
  {
   "cell_type": "code",
   "execution_count": null,
   "id": "af67116c",
   "metadata": {},
   "outputs": [],
   "source": []
  },
  {
   "cell_type": "code",
   "execution_count": null,
   "id": "1aaf1deb",
   "metadata": {},
   "outputs": [],
   "source": [
    " ##### Updating Rows and Columns - Modifying Data Within DataFrames"
   ]
  },
  {
   "cell_type": "code",
   "execution_count": 45,
   "id": "43a733e0",
   "metadata": {},
   "outputs": [],
   "source": [
    "import pandas as pd"
   ]
  },
  {
   "cell_type": "code",
   "execution_count": 46,
   "id": "2feaf929",
   "metadata": {},
   "outputs": [],
   "source": [
    "df = pd.DataFrame(people)"
   ]
  },
  {
   "cell_type": "code",
   "execution_count": 47,
   "id": "ffaf92f1",
   "metadata": {},
   "outputs": [
    {
     "data": {
      "text/html": [
       "<div>\n",
       "<style scoped>\n",
       "    .dataframe tbody tr th:only-of-type {\n",
       "        vertical-align: middle;\n",
       "    }\n",
       "\n",
       "    .dataframe tbody tr th {\n",
       "        vertical-align: top;\n",
       "    }\n",
       "\n",
       "    .dataframe thead th {\n",
       "        text-align: right;\n",
       "    }\n",
       "</style>\n",
       "<table border=\"1\" class=\"dataframe\">\n",
       "  <thead>\n",
       "    <tr style=\"text-align: right;\">\n",
       "      <th></th>\n",
       "      <th>Firstname</th>\n",
       "      <th>Lastname</th>\n",
       "      <th>Email</th>\n",
       "    </tr>\n",
       "  </thead>\n",
       "  <tbody>\n",
       "    <tr>\n",
       "      <th>0</th>\n",
       "      <td>Jack</td>\n",
       "      <td>Rob</td>\n",
       "      <td>jack@gmail.com</td>\n",
       "    </tr>\n",
       "    <tr>\n",
       "      <th>1</th>\n",
       "      <td>Ben</td>\n",
       "      <td>Aflex</td>\n",
       "      <td>ben@gmail.com</td>\n",
       "    </tr>\n",
       "    <tr>\n",
       "      <th>2</th>\n",
       "      <td>Gin</td>\n",
       "      <td>Rob</td>\n",
       "      <td>gin@gmail.com</td>\n",
       "    </tr>\n",
       "    <tr>\n",
       "      <th>3</th>\n",
       "      <td>Husk</td>\n",
       "      <td>Rob</td>\n",
       "      <td>husk1@gmail.com</td>\n",
       "    </tr>\n",
       "  </tbody>\n",
       "</table>\n",
       "</div>"
      ],
      "text/plain": [
       "  Firstname Lastname            Email\n",
       "0      Jack      Rob   jack@gmail.com\n",
       "1       Ben    Aflex    ben@gmail.com\n",
       "2       Gin      Rob    gin@gmail.com\n",
       "3      Husk      Rob  husk1@gmail.com"
      ]
     },
     "execution_count": 47,
     "metadata": {},
     "output_type": "execute_result"
    }
   ],
   "source": [
    "df"
   ]
  },
  {
   "cell_type": "code",
   "execution_count": 48,
   "id": "86001c73",
   "metadata": {},
   "outputs": [
    {
     "data": {
      "text/plain": [
       "Index(['Firstname', 'Lastname', 'Email'], dtype='object')"
      ]
     },
     "execution_count": 48,
     "metadata": {},
     "output_type": "execute_result"
    }
   ],
   "source": [
    "### To check the columns\n",
    "\n",
    "df.columns"
   ]
  },
  {
   "cell_type": "code",
   "execution_count": 36,
   "id": "3145556d",
   "metadata": {},
   "outputs": [],
   "source": [
    "#### To rename the column\n",
    "\n",
    "df.columns = ['First_name','Last_name', 'Email']"
   ]
  },
  {
   "cell_type": "code",
   "execution_count": 37,
   "id": "9d3e1ce9",
   "metadata": {},
   "outputs": [
    {
     "data": {
      "text/plain": [
       "Index(['First_name', 'Last_name', 'Email'], dtype='object')"
      ]
     },
     "execution_count": 37,
     "metadata": {},
     "output_type": "execute_result"
    }
   ],
   "source": [
    "df.columns"
   ]
  },
  {
   "cell_type": "code",
   "execution_count": 38,
   "id": "0516a0f4",
   "metadata": {},
   "outputs": [
    {
     "data": {
      "text/html": [
       "<div>\n",
       "<style scoped>\n",
       "    .dataframe tbody tr th:only-of-type {\n",
       "        vertical-align: middle;\n",
       "    }\n",
       "\n",
       "    .dataframe tbody tr th {\n",
       "        vertical-align: top;\n",
       "    }\n",
       "\n",
       "    .dataframe thead th {\n",
       "        text-align: right;\n",
       "    }\n",
       "</style>\n",
       "<table border=\"1\" class=\"dataframe\">\n",
       "  <thead>\n",
       "    <tr style=\"text-align: right;\">\n",
       "      <th></th>\n",
       "      <th>First_name</th>\n",
       "      <th>Last_name</th>\n",
       "      <th>Email</th>\n",
       "    </tr>\n",
       "  </thead>\n",
       "  <tbody>\n",
       "    <tr>\n",
       "      <th>0</th>\n",
       "      <td>Jack</td>\n",
       "      <td>Rob</td>\n",
       "      <td>jack@gmail.com</td>\n",
       "    </tr>\n",
       "    <tr>\n",
       "      <th>1</th>\n",
       "      <td>Ben</td>\n",
       "      <td>Aflex</td>\n",
       "      <td>ben@gmail.com</td>\n",
       "    </tr>\n",
       "    <tr>\n",
       "      <th>2</th>\n",
       "      <td>Gin</td>\n",
       "      <td>Rob</td>\n",
       "      <td>gin@gmail.com</td>\n",
       "    </tr>\n",
       "    <tr>\n",
       "      <th>3</th>\n",
       "      <td>Husk</td>\n",
       "      <td>Rob</td>\n",
       "      <td>husk1@gmail.com</td>\n",
       "    </tr>\n",
       "  </tbody>\n",
       "</table>\n",
       "</div>"
      ],
      "text/plain": [
       "  First_name Last_name            Email\n",
       "0       Jack       Rob   jack@gmail.com\n",
       "1        Ben     Aflex    ben@gmail.com\n",
       "2        Gin       Rob    gin@gmail.com\n",
       "3       Husk       Rob  husk1@gmail.com"
      ]
     },
     "execution_count": 38,
     "metadata": {},
     "output_type": "execute_result"
    }
   ],
   "source": [
    "### check data frame if there is changes\n",
    "\n",
    "df"
   ]
  },
  {
   "cell_type": "markdown",
   "id": "b9519eb6",
   "metadata": {},
   "source": [
    "##### To change column name from upper to lover or vice-versa or column have spaces and you want to replace\n",
    "#### spaces with \"_\" (under-score)"
   ]
  },
  {
   "cell_type": "code",
   "execution_count": 49,
   "id": "d3d9fc8a",
   "metadata": {},
   "outputs": [],
   "source": [
    "df.columns = [x.upper() for x in df.columns]"
   ]
  },
  {
   "cell_type": "code",
   "execution_count": 51,
   "id": "49945fc9",
   "metadata": {},
   "outputs": [
    {
     "data": {
      "text/html": [
       "<div>\n",
       "<style scoped>\n",
       "    .dataframe tbody tr th:only-of-type {\n",
       "        vertical-align: middle;\n",
       "    }\n",
       "\n",
       "    .dataframe tbody tr th {\n",
       "        vertical-align: top;\n",
       "    }\n",
       "\n",
       "    .dataframe thead th {\n",
       "        text-align: right;\n",
       "    }\n",
       "</style>\n",
       "<table border=\"1\" class=\"dataframe\">\n",
       "  <thead>\n",
       "    <tr style=\"text-align: right;\">\n",
       "      <th></th>\n",
       "      <th>FIRSTNAME</th>\n",
       "      <th>LASTNAME</th>\n",
       "      <th>EMAIL</th>\n",
       "    </tr>\n",
       "  </thead>\n",
       "  <tbody>\n",
       "    <tr>\n",
       "      <th>0</th>\n",
       "      <td>Jack</td>\n",
       "      <td>Rob</td>\n",
       "      <td>jack@gmail.com</td>\n",
       "    </tr>\n",
       "    <tr>\n",
       "      <th>1</th>\n",
       "      <td>Ben</td>\n",
       "      <td>Aflex</td>\n",
       "      <td>ben@gmail.com</td>\n",
       "    </tr>\n",
       "    <tr>\n",
       "      <th>2</th>\n",
       "      <td>Gin</td>\n",
       "      <td>Rob</td>\n",
       "      <td>gin@gmail.com</td>\n",
       "    </tr>\n",
       "    <tr>\n",
       "      <th>3</th>\n",
       "      <td>Husk</td>\n",
       "      <td>Rob</td>\n",
       "      <td>husk1@gmail.com</td>\n",
       "    </tr>\n",
       "  </tbody>\n",
       "</table>\n",
       "</div>"
      ],
      "text/plain": [
       "  FIRSTNAME LASTNAME            EMAIL\n",
       "0      Jack      Rob   jack@gmail.com\n",
       "1       Ben    Aflex    ben@gmail.com\n",
       "2       Gin      Rob    gin@gmail.com\n",
       "3      Husk      Rob  husk1@gmail.com"
      ]
     },
     "execution_count": 51,
     "metadata": {},
     "output_type": "execute_result"
    }
   ],
   "source": [
    "df"
   ]
  },
  {
   "cell_type": "code",
   "execution_count": null,
   "id": "f6942d73",
   "metadata": {},
   "outputs": [],
   "source": []
  },
  {
   "cell_type": "code",
   "execution_count": 67,
   "id": "21f7cbe1",
   "metadata": {},
   "outputs": [],
   "source": [
    "df.columns = ['FIRST NAME','LAST NAME','EMAIL']"
   ]
  },
  {
   "cell_type": "code",
   "execution_count": 68,
   "id": "b0674709",
   "metadata": {},
   "outputs": [
    {
     "data": {
      "text/html": [
       "<div>\n",
       "<style scoped>\n",
       "    .dataframe tbody tr th:only-of-type {\n",
       "        vertical-align: middle;\n",
       "    }\n",
       "\n",
       "    .dataframe tbody tr th {\n",
       "        vertical-align: top;\n",
       "    }\n",
       "\n",
       "    .dataframe thead th {\n",
       "        text-align: right;\n",
       "    }\n",
       "</style>\n",
       "<table border=\"1\" class=\"dataframe\">\n",
       "  <thead>\n",
       "    <tr style=\"text-align: right;\">\n",
       "      <th></th>\n",
       "      <th>FIRST NAME</th>\n",
       "      <th>LAST NAME</th>\n",
       "      <th>EMAIL</th>\n",
       "    </tr>\n",
       "  </thead>\n",
       "  <tbody>\n",
       "    <tr>\n",
       "      <th>0</th>\n",
       "      <td>Jack</td>\n",
       "      <td>Rob</td>\n",
       "      <td>jack@gmail.com</td>\n",
       "    </tr>\n",
       "    <tr>\n",
       "      <th>1</th>\n",
       "      <td>Ben</td>\n",
       "      <td>Aflex</td>\n",
       "      <td>ben@gmail.com</td>\n",
       "    </tr>\n",
       "    <tr>\n",
       "      <th>2</th>\n",
       "      <td>Gin</td>\n",
       "      <td>Rob</td>\n",
       "      <td>gin@gmail.com</td>\n",
       "    </tr>\n",
       "    <tr>\n",
       "      <th>3</th>\n",
       "      <td>Husk</td>\n",
       "      <td>Rob</td>\n",
       "      <td>husk1@gmail.com</td>\n",
       "    </tr>\n",
       "  </tbody>\n",
       "</table>\n",
       "</div>"
      ],
      "text/plain": [
       "  FIRST NAME LAST NAME            EMAIL\n",
       "0       Jack       Rob   jack@gmail.com\n",
       "1        Ben     Aflex    ben@gmail.com\n",
       "2        Gin       Rob    gin@gmail.com\n",
       "3       Husk       Rob  husk1@gmail.com"
      ]
     },
     "execution_count": 68,
     "metadata": {},
     "output_type": "execute_result"
    }
   ],
   "source": [
    "df"
   ]
  },
  {
   "cell_type": "code",
   "execution_count": null,
   "id": "7cf724bc",
   "metadata": {},
   "outputs": [],
   "source": [
    "#### To reduce spaces and replace them with \"_\" under-score (Note, you cannot use dot (.) notation if there is a space between your variables)"
   ]
  },
  {
   "cell_type": "code",
   "execution_count": 69,
   "id": "4f892cce",
   "metadata": {},
   "outputs": [],
   "source": [
    "df.columns = df.columns.str.replace(' ', '_')"
   ]
  },
  {
   "cell_type": "code",
   "execution_count": 70,
   "id": "57c21be3",
   "metadata": {},
   "outputs": [
    {
     "data": {
      "text/html": [
       "<div>\n",
       "<style scoped>\n",
       "    .dataframe tbody tr th:only-of-type {\n",
       "        vertical-align: middle;\n",
       "    }\n",
       "\n",
       "    .dataframe tbody tr th {\n",
       "        vertical-align: top;\n",
       "    }\n",
       "\n",
       "    .dataframe thead th {\n",
       "        text-align: right;\n",
       "    }\n",
       "</style>\n",
       "<table border=\"1\" class=\"dataframe\">\n",
       "  <thead>\n",
       "    <tr style=\"text-align: right;\">\n",
       "      <th></th>\n",
       "      <th>FIRST_NAME</th>\n",
       "      <th>LAST_NAME</th>\n",
       "      <th>EMAIL</th>\n",
       "    </tr>\n",
       "  </thead>\n",
       "  <tbody>\n",
       "    <tr>\n",
       "      <th>0</th>\n",
       "      <td>Jack</td>\n",
       "      <td>Rob</td>\n",
       "      <td>jack@gmail.com</td>\n",
       "    </tr>\n",
       "    <tr>\n",
       "      <th>1</th>\n",
       "      <td>Ben</td>\n",
       "      <td>Aflex</td>\n",
       "      <td>ben@gmail.com</td>\n",
       "    </tr>\n",
       "    <tr>\n",
       "      <th>2</th>\n",
       "      <td>Gin</td>\n",
       "      <td>Rob</td>\n",
       "      <td>gin@gmail.com</td>\n",
       "    </tr>\n",
       "    <tr>\n",
       "      <th>3</th>\n",
       "      <td>Husk</td>\n",
       "      <td>Rob</td>\n",
       "      <td>husk1@gmail.com</td>\n",
       "    </tr>\n",
       "  </tbody>\n",
       "</table>\n",
       "</div>"
      ],
      "text/plain": [
       "  FIRST_NAME LAST_NAME            EMAIL\n",
       "0       Jack       Rob   jack@gmail.com\n",
       "1        Ben     Aflex    ben@gmail.com\n",
       "2        Gin       Rob    gin@gmail.com\n",
       "3       Husk       Rob  husk1@gmail.com"
      ]
     },
     "execution_count": 70,
     "metadata": {},
     "output_type": "execute_result"
    }
   ],
   "source": [
    "df"
   ]
  },
  {
   "cell_type": "code",
   "execution_count": null,
   "id": "bf21ace4",
   "metadata": {},
   "outputs": [],
   "source": [
    "#### To change to lower case"
   ]
  },
  {
   "cell_type": "code",
   "execution_count": 71,
   "id": "0f4d76c9",
   "metadata": {},
   "outputs": [],
   "source": [
    "df.columns = [x.lower() for x in df.columns]"
   ]
  },
  {
   "cell_type": "code",
   "execution_count": 72,
   "id": "5e52fde3",
   "metadata": {},
   "outputs": [
    {
     "data": {
      "text/html": [
       "<div>\n",
       "<style scoped>\n",
       "    .dataframe tbody tr th:only-of-type {\n",
       "        vertical-align: middle;\n",
       "    }\n",
       "\n",
       "    .dataframe tbody tr th {\n",
       "        vertical-align: top;\n",
       "    }\n",
       "\n",
       "    .dataframe thead th {\n",
       "        text-align: right;\n",
       "    }\n",
       "</style>\n",
       "<table border=\"1\" class=\"dataframe\">\n",
       "  <thead>\n",
       "    <tr style=\"text-align: right;\">\n",
       "      <th></th>\n",
       "      <th>first_name</th>\n",
       "      <th>last_name</th>\n",
       "      <th>email</th>\n",
       "    </tr>\n",
       "  </thead>\n",
       "  <tbody>\n",
       "    <tr>\n",
       "      <th>0</th>\n",
       "      <td>Jack</td>\n",
       "      <td>Rob</td>\n",
       "      <td>jack@gmail.com</td>\n",
       "    </tr>\n",
       "    <tr>\n",
       "      <th>1</th>\n",
       "      <td>Ben</td>\n",
       "      <td>Aflex</td>\n",
       "      <td>ben@gmail.com</td>\n",
       "    </tr>\n",
       "    <tr>\n",
       "      <th>2</th>\n",
       "      <td>Gin</td>\n",
       "      <td>Rob</td>\n",
       "      <td>gin@gmail.com</td>\n",
       "    </tr>\n",
       "    <tr>\n",
       "      <th>3</th>\n",
       "      <td>Husk</td>\n",
       "      <td>Rob</td>\n",
       "      <td>husk1@gmail.com</td>\n",
       "    </tr>\n",
       "  </tbody>\n",
       "</table>\n",
       "</div>"
      ],
      "text/plain": [
       "  first_name last_name            email\n",
       "0       Jack       Rob   jack@gmail.com\n",
       "1        Ben     Aflex    ben@gmail.com\n",
       "2        Gin       Rob    gin@gmail.com\n",
       "3       Husk       Rob  husk1@gmail.com"
      ]
     },
     "execution_count": 72,
     "metadata": {},
     "output_type": "execute_result"
    }
   ],
   "source": [
    "df"
   ]
  },
  {
   "cell_type": "code",
   "execution_count": null,
   "id": "d2e497f2",
   "metadata": {},
   "outputs": [],
   "source": []
  },
  {
   "cell_type": "code",
   "execution_count": null,
   "id": "b7dd87e5",
   "metadata": {},
   "outputs": [],
   "source": [
    "#### what if i want to change some column, not every column.\n",
    "#### for example i want to return firstname and lastname to what they were before"
   ]
  },
  {
   "cell_type": "code",
   "execution_count": 73,
   "id": "14cda3fe",
   "metadata": {},
   "outputs": [],
   "source": [
    "df.rename(columns={'first_name':'Firstname', 'last_name':'Lastname'}, inplace=True)"
   ]
  },
  {
   "cell_type": "code",
   "execution_count": 74,
   "id": "222bff42",
   "metadata": {},
   "outputs": [
    {
     "data": {
      "text/html": [
       "<div>\n",
       "<style scoped>\n",
       "    .dataframe tbody tr th:only-of-type {\n",
       "        vertical-align: middle;\n",
       "    }\n",
       "\n",
       "    .dataframe tbody tr th {\n",
       "        vertical-align: top;\n",
       "    }\n",
       "\n",
       "    .dataframe thead th {\n",
       "        text-align: right;\n",
       "    }\n",
       "</style>\n",
       "<table border=\"1\" class=\"dataframe\">\n",
       "  <thead>\n",
       "    <tr style=\"text-align: right;\">\n",
       "      <th></th>\n",
       "      <th>Firstname</th>\n",
       "      <th>Lastname</th>\n",
       "      <th>email</th>\n",
       "    </tr>\n",
       "  </thead>\n",
       "  <tbody>\n",
       "    <tr>\n",
       "      <th>0</th>\n",
       "      <td>Jack</td>\n",
       "      <td>Rob</td>\n",
       "      <td>jack@gmail.com</td>\n",
       "    </tr>\n",
       "    <tr>\n",
       "      <th>1</th>\n",
       "      <td>Ben</td>\n",
       "      <td>Aflex</td>\n",
       "      <td>ben@gmail.com</td>\n",
       "    </tr>\n",
       "    <tr>\n",
       "      <th>2</th>\n",
       "      <td>Gin</td>\n",
       "      <td>Rob</td>\n",
       "      <td>gin@gmail.com</td>\n",
       "    </tr>\n",
       "    <tr>\n",
       "      <th>3</th>\n",
       "      <td>Husk</td>\n",
       "      <td>Rob</td>\n",
       "      <td>husk1@gmail.com</td>\n",
       "    </tr>\n",
       "  </tbody>\n",
       "</table>\n",
       "</div>"
      ],
      "text/plain": [
       "  Firstname Lastname            email\n",
       "0      Jack      Rob   jack@gmail.com\n",
       "1       Ben    Aflex    ben@gmail.com\n",
       "2       Gin      Rob    gin@gmail.com\n",
       "3      Husk      Rob  husk1@gmail.com"
      ]
     },
     "execution_count": 74,
     "metadata": {},
     "output_type": "execute_result"
    }
   ],
   "source": [
    "df"
   ]
  },
  {
   "cell_type": "code",
   "execution_count": null,
   "id": "2337cb97",
   "metadata": {},
   "outputs": [],
   "source": []
  },
  {
   "cell_type": "markdown",
   "id": "2a09c8b6",
   "metadata": {},
   "source": [
    "#### updating rows"
   ]
  },
  {
   "cell_type": "code",
   "execution_count": 75,
   "id": "1d57b661",
   "metadata": {},
   "outputs": [
    {
     "data": {
      "text/plain": [
       "Firstname              Ben\n",
       "Lastname             Aflex\n",
       "email        ben@gmail.com\n",
       "Name: 1, dtype: object"
      ]
     },
     "execution_count": 75,
     "metadata": {},
     "output_type": "execute_result"
    }
   ],
   "source": [
    "#to update a single value, for expample.change the lastname of \"Ben Aflex\" in above column, i.e index 1\n",
    "\n",
    "df.loc[1]"
   ]
  },
  {
   "cell_type": "code",
   "execution_count": 76,
   "id": "0afc74ab",
   "metadata": {},
   "outputs": [],
   "source": [
    "df.loc[1] = ['Ben','Smith', 'smith@gmail.com']"
   ]
  },
  {
   "cell_type": "code",
   "execution_count": 77,
   "id": "ae0a1166",
   "metadata": {},
   "outputs": [
    {
     "data": {
      "text/html": [
       "<div>\n",
       "<style scoped>\n",
       "    .dataframe tbody tr th:only-of-type {\n",
       "        vertical-align: middle;\n",
       "    }\n",
       "\n",
       "    .dataframe tbody tr th {\n",
       "        vertical-align: top;\n",
       "    }\n",
       "\n",
       "    .dataframe thead th {\n",
       "        text-align: right;\n",
       "    }\n",
       "</style>\n",
       "<table border=\"1\" class=\"dataframe\">\n",
       "  <thead>\n",
       "    <tr style=\"text-align: right;\">\n",
       "      <th></th>\n",
       "      <th>Firstname</th>\n",
       "      <th>Lastname</th>\n",
       "      <th>email</th>\n",
       "    </tr>\n",
       "  </thead>\n",
       "  <tbody>\n",
       "    <tr>\n",
       "      <th>0</th>\n",
       "      <td>Jack</td>\n",
       "      <td>Rob</td>\n",
       "      <td>jack@gmail.com</td>\n",
       "    </tr>\n",
       "    <tr>\n",
       "      <th>1</th>\n",
       "      <td>Ben</td>\n",
       "      <td>Smith</td>\n",
       "      <td>smith@gmail.com</td>\n",
       "    </tr>\n",
       "    <tr>\n",
       "      <th>2</th>\n",
       "      <td>Gin</td>\n",
       "      <td>Rob</td>\n",
       "      <td>gin@gmail.com</td>\n",
       "    </tr>\n",
       "    <tr>\n",
       "      <th>3</th>\n",
       "      <td>Husk</td>\n",
       "      <td>Rob</td>\n",
       "      <td>husk1@gmail.com</td>\n",
       "    </tr>\n",
       "  </tbody>\n",
       "</table>\n",
       "</div>"
      ],
      "text/plain": [
       "  Firstname Lastname            email\n",
       "0      Jack      Rob   jack@gmail.com\n",
       "1       Ben    Smith  smith@gmail.com\n",
       "2       Gin      Rob    gin@gmail.com\n",
       "3      Husk      Rob  husk1@gmail.com"
      ]
     },
     "execution_count": 77,
     "metadata": {},
     "output_type": "execute_result"
    }
   ],
   "source": [
    "df"
   ]
  },
  {
   "cell_type": "markdown",
   "id": "fb772c71",
   "metadata": {},
   "source": [
    "#### what if there is lot of columns and we only want to change some values. such as lastname and email"
   ]
  },
  {
   "cell_type": "code",
   "execution_count": 79,
   "id": "2bc96912",
   "metadata": {},
   "outputs": [],
   "source": [
    "## To do that..\n",
    "df.loc[1, ['Lastname','email']] = ['Aflex', 'ben@gmail.com']"
   ]
  },
  {
   "cell_type": "code",
   "execution_count": 80,
   "id": "f0ea97f8",
   "metadata": {},
   "outputs": [
    {
     "data": {
      "text/html": [
       "<div>\n",
       "<style scoped>\n",
       "    .dataframe tbody tr th:only-of-type {\n",
       "        vertical-align: middle;\n",
       "    }\n",
       "\n",
       "    .dataframe tbody tr th {\n",
       "        vertical-align: top;\n",
       "    }\n",
       "\n",
       "    .dataframe thead th {\n",
       "        text-align: right;\n",
       "    }\n",
       "</style>\n",
       "<table border=\"1\" class=\"dataframe\">\n",
       "  <thead>\n",
       "    <tr style=\"text-align: right;\">\n",
       "      <th></th>\n",
       "      <th>Firstname</th>\n",
       "      <th>Lastname</th>\n",
       "      <th>email</th>\n",
       "    </tr>\n",
       "  </thead>\n",
       "  <tbody>\n",
       "    <tr>\n",
       "      <th>0</th>\n",
       "      <td>Jack</td>\n",
       "      <td>Rob</td>\n",
       "      <td>jack@gmail.com</td>\n",
       "    </tr>\n",
       "    <tr>\n",
       "      <th>1</th>\n",
       "      <td>Ben</td>\n",
       "      <td>Aflex</td>\n",
       "      <td>ben@gmail.com</td>\n",
       "    </tr>\n",
       "    <tr>\n",
       "      <th>2</th>\n",
       "      <td>Gin</td>\n",
       "      <td>Rob</td>\n",
       "      <td>gin@gmail.com</td>\n",
       "    </tr>\n",
       "    <tr>\n",
       "      <th>3</th>\n",
       "      <td>Husk</td>\n",
       "      <td>Rob</td>\n",
       "      <td>husk1@gmail.com</td>\n",
       "    </tr>\n",
       "  </tbody>\n",
       "</table>\n",
       "</div>"
      ],
      "text/plain": [
       "  Firstname Lastname            email\n",
       "0      Jack      Rob   jack@gmail.com\n",
       "1       Ben    Aflex    ben@gmail.com\n",
       "2       Gin      Rob    gin@gmail.com\n",
       "3      Husk      Rob  husk1@gmail.com"
      ]
     },
     "execution_count": 80,
     "metadata": {},
     "output_type": "execute_result"
    }
   ],
   "source": [
    "df"
   ]
  },
  {
   "cell_type": "code",
   "execution_count": 81,
   "id": "b52cb5dd",
   "metadata": {},
   "outputs": [],
   "source": [
    "### To change a single value\n",
    "\n",
    "df.loc[2,'Firstname'] = 'Maya'"
   ]
  },
  {
   "cell_type": "code",
   "execution_count": 82,
   "id": "a2395850",
   "metadata": {},
   "outputs": [
    {
     "data": {
      "text/html": [
       "<div>\n",
       "<style scoped>\n",
       "    .dataframe tbody tr th:only-of-type {\n",
       "        vertical-align: middle;\n",
       "    }\n",
       "\n",
       "    .dataframe tbody tr th {\n",
       "        vertical-align: top;\n",
       "    }\n",
       "\n",
       "    .dataframe thead th {\n",
       "        text-align: right;\n",
       "    }\n",
       "</style>\n",
       "<table border=\"1\" class=\"dataframe\">\n",
       "  <thead>\n",
       "    <tr style=\"text-align: right;\">\n",
       "      <th></th>\n",
       "      <th>Firstname</th>\n",
       "      <th>Lastname</th>\n",
       "      <th>email</th>\n",
       "    </tr>\n",
       "  </thead>\n",
       "  <tbody>\n",
       "    <tr>\n",
       "      <th>0</th>\n",
       "      <td>Jack</td>\n",
       "      <td>Rob</td>\n",
       "      <td>jack@gmail.com</td>\n",
       "    </tr>\n",
       "    <tr>\n",
       "      <th>1</th>\n",
       "      <td>Ben</td>\n",
       "      <td>Aflex</td>\n",
       "      <td>ben@gmail.com</td>\n",
       "    </tr>\n",
       "    <tr>\n",
       "      <th>2</th>\n",
       "      <td>Maya</td>\n",
       "      <td>Rob</td>\n",
       "      <td>gin@gmail.com</td>\n",
       "    </tr>\n",
       "    <tr>\n",
       "      <th>3</th>\n",
       "      <td>Husk</td>\n",
       "      <td>Rob</td>\n",
       "      <td>husk1@gmail.com</td>\n",
       "    </tr>\n",
       "  </tbody>\n",
       "</table>\n",
       "</div>"
      ],
      "text/plain": [
       "  Firstname Lastname            email\n",
       "0      Jack      Rob   jack@gmail.com\n",
       "1       Ben    Aflex    ben@gmail.com\n",
       "2      Maya      Rob    gin@gmail.com\n",
       "3      Husk      Rob  husk1@gmail.com"
      ]
     },
     "execution_count": 82,
     "metadata": {},
     "output_type": "execute_result"
    }
   ],
   "source": [
    "df"
   ]
  },
  {
   "cell_type": "code",
   "execution_count": 83,
   "id": "cb598691",
   "metadata": {},
   "outputs": [],
   "source": [
    "### Another method to change a single value in a row\n",
    "\n",
    "df.at[2,'Firstname'] = 'Gin'"
   ]
  },
  {
   "cell_type": "code",
   "execution_count": 84,
   "id": "994ff80d",
   "metadata": {},
   "outputs": [
    {
     "data": {
      "text/html": [
       "<div>\n",
       "<style scoped>\n",
       "    .dataframe tbody tr th:only-of-type {\n",
       "        vertical-align: middle;\n",
       "    }\n",
       "\n",
       "    .dataframe tbody tr th {\n",
       "        vertical-align: top;\n",
       "    }\n",
       "\n",
       "    .dataframe thead th {\n",
       "        text-align: right;\n",
       "    }\n",
       "</style>\n",
       "<table border=\"1\" class=\"dataframe\">\n",
       "  <thead>\n",
       "    <tr style=\"text-align: right;\">\n",
       "      <th></th>\n",
       "      <th>Firstname</th>\n",
       "      <th>Lastname</th>\n",
       "      <th>email</th>\n",
       "    </tr>\n",
       "  </thead>\n",
       "  <tbody>\n",
       "    <tr>\n",
       "      <th>0</th>\n",
       "      <td>Jack</td>\n",
       "      <td>Rob</td>\n",
       "      <td>jack@gmail.com</td>\n",
       "    </tr>\n",
       "    <tr>\n",
       "      <th>1</th>\n",
       "      <td>Ben</td>\n",
       "      <td>Aflex</td>\n",
       "      <td>ben@gmail.com</td>\n",
       "    </tr>\n",
       "    <tr>\n",
       "      <th>2</th>\n",
       "      <td>Gin</td>\n",
       "      <td>Rob</td>\n",
       "      <td>gin@gmail.com</td>\n",
       "    </tr>\n",
       "    <tr>\n",
       "      <th>3</th>\n",
       "      <td>Husk</td>\n",
       "      <td>Rob</td>\n",
       "      <td>husk1@gmail.com</td>\n",
       "    </tr>\n",
       "  </tbody>\n",
       "</table>\n",
       "</div>"
      ],
      "text/plain": [
       "  Firstname Lastname            email\n",
       "0      Jack      Rob   jack@gmail.com\n",
       "1       Ben    Aflex    ben@gmail.com\n",
       "2       Gin      Rob    gin@gmail.com\n",
       "3      Husk      Rob  husk1@gmail.com"
      ]
     },
     "execution_count": 84,
     "metadata": {},
     "output_type": "execute_result"
    }
   ],
   "source": [
    "df"
   ]
  },
  {
   "cell_type": "code",
   "execution_count": null,
   "id": "a8e9a62b",
   "metadata": {},
   "outputs": [],
   "source": []
  },
  {
   "cell_type": "code",
   "execution_count": 85,
   "id": "0e362ef4",
   "metadata": {},
   "outputs": [
    {
     "data": {
      "text/plain": [
       "3    Rob\n",
       "Name: Lastname, dtype: object"
      ]
     },
     "execution_count": 85,
     "metadata": {},
     "output_type": "execute_result"
    }
   ],
   "source": [
    "# for instance you have email details and you need the lastname or firstname of this column\n",
    "filt = (df['email'] == 'husk1@gmail.com')\n",
    "df[filt]['Lastname']"
   ]
  },
  {
   "cell_type": "code",
   "execution_count": null,
   "id": "5da14296",
   "metadata": {},
   "outputs": [],
   "source": []
  },
  {
   "cell_type": "code",
   "execution_count": 90,
   "id": "5195e744",
   "metadata": {},
   "outputs": [
    {
     "data": {
      "text/plain": [
       "0    Rob\n",
       "Name: Lastname, dtype: object"
      ]
     },
     "execution_count": 90,
     "metadata": {},
     "output_type": "execute_result"
    }
   ],
   "source": [
    "filt = (df['email'] == 'jack@gmail.com')\n",
    "df[filt]['Lastname']"
   ]
  },
  {
   "cell_type": "code",
   "execution_count": null,
   "id": "75cb531b",
   "metadata": {},
   "outputs": [],
   "source": []
  },
  {
   "cell_type": "code",
   "execution_count": null,
   "id": "3e62f183",
   "metadata": {},
   "outputs": [],
   "source": [
    "#### common mistakes or error when changing a single value and forget to use \"loc\" or \"at\" function"
   ]
  },
  {
   "cell_type": "code",
   "execution_count": 92,
   "id": "7b492e3e",
   "metadata": {},
   "outputs": [
    {
     "name": "stderr",
     "output_type": "stream",
     "text": [
      "C:\\Users\\lenovo pc\\AppData\\Local\\Temp\\ipykernel_3744\\527000160.py:2: SettingWithCopyWarning: \n",
      "A value is trying to be set on a copy of a slice from a DataFrame.\n",
      "Try using .loc[row_indexer,col_indexer] = value instead\n",
      "\n",
      "See the caveats in the documentation: https://pandas.pydata.org/pandas-docs/stable/user_guide/indexing.html#returning-a-view-versus-a-copy\n",
      "  df[filt]['Lastname'] = 'smith'\n"
     ]
    }
   ],
   "source": [
    "filt = (df['email'] == 'husk1@gmail.com')\n",
    "df[filt]['Lastname'] = 'smith'   ### This will give error message."
   ]
  },
  {
   "cell_type": "code",
   "execution_count": 93,
   "id": "cb4429e3",
   "metadata": {},
   "outputs": [],
   "source": [
    "### you can instead do it this way...\n",
    "filt = (df['email'] == 'husk1@gmail.com')\n",
    "df.loc[filt,'Lastname'] = 'smith'"
   ]
  },
  {
   "cell_type": "code",
   "execution_count": 94,
   "id": "fcb81d9c",
   "metadata": {},
   "outputs": [
    {
     "data": {
      "text/html": [
       "<div>\n",
       "<style scoped>\n",
       "    .dataframe tbody tr th:only-of-type {\n",
       "        vertical-align: middle;\n",
       "    }\n",
       "\n",
       "    .dataframe tbody tr th {\n",
       "        vertical-align: top;\n",
       "    }\n",
       "\n",
       "    .dataframe thead th {\n",
       "        text-align: right;\n",
       "    }\n",
       "</style>\n",
       "<table border=\"1\" class=\"dataframe\">\n",
       "  <thead>\n",
       "    <tr style=\"text-align: right;\">\n",
       "      <th></th>\n",
       "      <th>Firstname</th>\n",
       "      <th>Lastname</th>\n",
       "      <th>email</th>\n",
       "    </tr>\n",
       "  </thead>\n",
       "  <tbody>\n",
       "    <tr>\n",
       "      <th>0</th>\n",
       "      <td>Jack</td>\n",
       "      <td>Rob</td>\n",
       "      <td>jack@gmail.com</td>\n",
       "    </tr>\n",
       "    <tr>\n",
       "      <th>1</th>\n",
       "      <td>Ben</td>\n",
       "      <td>Aflex</td>\n",
       "      <td>ben@gmail.com</td>\n",
       "    </tr>\n",
       "    <tr>\n",
       "      <th>2</th>\n",
       "      <td>Gin</td>\n",
       "      <td>Rob</td>\n",
       "      <td>gin@gmail.com</td>\n",
       "    </tr>\n",
       "    <tr>\n",
       "      <th>3</th>\n",
       "      <td>Husk</td>\n",
       "      <td>smith</td>\n",
       "      <td>husk1@gmail.com</td>\n",
       "    </tr>\n",
       "  </tbody>\n",
       "</table>\n",
       "</div>"
      ],
      "text/plain": [
       "  Firstname Lastname            email\n",
       "0      Jack      Rob   jack@gmail.com\n",
       "1       Ben    Aflex    ben@gmail.com\n",
       "2       Gin      Rob    gin@gmail.com\n",
       "3      Husk    smith  husk1@gmail.com"
      ]
     },
     "execution_count": 94,
     "metadata": {},
     "output_type": "execute_result"
    }
   ],
   "source": [
    "df"
   ]
  },
  {
   "cell_type": "code",
   "execution_count": null,
   "id": "7cc7b96e",
   "metadata": {},
   "outputs": [],
   "source": []
  },
  {
   "cell_type": "code",
   "execution_count": null,
   "id": "2f565e70",
   "metadata": {},
   "outputs": [],
   "source": [
    "### How to update multiple rows of data\n",
    "### let assumes we want to change all email addresses of the dataframe to be upper case"
   ]
  },
  {
   "cell_type": "code",
   "execution_count": 96,
   "id": "6e872c42",
   "metadata": {},
   "outputs": [
    {
     "data": {
      "text/plain": [
       "0     JACK@GMAIL.COM\n",
       "1      BEN@GMAIL.COM\n",
       "2      GIN@GMAIL.COM\n",
       "3    HUSK1@GMAIL.COM\n",
       "Name: email, dtype: object"
      ]
     },
     "execution_count": 96,
     "metadata": {},
     "output_type": "execute_result"
    }
   ],
   "source": [
    "df['email'].str.upper() "
   ]
  },
  {
   "cell_type": "code",
   "execution_count": 98,
   "id": "310076bc",
   "metadata": {},
   "outputs": [
    {
     "data": {
      "text/html": [
       "<div>\n",
       "<style scoped>\n",
       "    .dataframe tbody tr th:only-of-type {\n",
       "        vertical-align: middle;\n",
       "    }\n",
       "\n",
       "    .dataframe tbody tr th {\n",
       "        vertical-align: top;\n",
       "    }\n",
       "\n",
       "    .dataframe thead th {\n",
       "        text-align: right;\n",
       "    }\n",
       "</style>\n",
       "<table border=\"1\" class=\"dataframe\">\n",
       "  <thead>\n",
       "    <tr style=\"text-align: right;\">\n",
       "      <th></th>\n",
       "      <th>Firstname</th>\n",
       "      <th>Lastname</th>\n",
       "      <th>email</th>\n",
       "    </tr>\n",
       "  </thead>\n",
       "  <tbody>\n",
       "    <tr>\n",
       "      <th>0</th>\n",
       "      <td>Jack</td>\n",
       "      <td>Rob</td>\n",
       "      <td>jack@gmail.com</td>\n",
       "    </tr>\n",
       "    <tr>\n",
       "      <th>1</th>\n",
       "      <td>Ben</td>\n",
       "      <td>Aflex</td>\n",
       "      <td>ben@gmail.com</td>\n",
       "    </tr>\n",
       "    <tr>\n",
       "      <th>2</th>\n",
       "      <td>Gin</td>\n",
       "      <td>Rob</td>\n",
       "      <td>gin@gmail.com</td>\n",
       "    </tr>\n",
       "    <tr>\n",
       "      <th>3</th>\n",
       "      <td>Husk</td>\n",
       "      <td>smith</td>\n",
       "      <td>husk1@gmail.com</td>\n",
       "    </tr>\n",
       "  </tbody>\n",
       "</table>\n",
       "</div>"
      ],
      "text/plain": [
       "  Firstname Lastname            email\n",
       "0      Jack      Rob   jack@gmail.com\n",
       "1       Ben    Aflex    ben@gmail.com\n",
       "2       Gin      Rob    gin@gmail.com\n",
       "3      Husk    smith  husk1@gmail.com"
      ]
     },
     "execution_count": 98,
     "metadata": {},
     "output_type": "execute_result"
    }
   ],
   "source": [
    "df                       #### it did not actually change it in the dataframe"
   ]
  },
  {
   "cell_type": "code",
   "execution_count": 99,
   "id": "9f070995",
   "metadata": {},
   "outputs": [],
   "source": [
    "#### instead we can change it\n",
    "\n",
    "df['email'] = df['email'].str.upper()"
   ]
  },
  {
   "cell_type": "code",
   "execution_count": 100,
   "id": "ccc1b246",
   "metadata": {},
   "outputs": [
    {
     "data": {
      "text/html": [
       "<div>\n",
       "<style scoped>\n",
       "    .dataframe tbody tr th:only-of-type {\n",
       "        vertical-align: middle;\n",
       "    }\n",
       "\n",
       "    .dataframe tbody tr th {\n",
       "        vertical-align: top;\n",
       "    }\n",
       "\n",
       "    .dataframe thead th {\n",
       "        text-align: right;\n",
       "    }\n",
       "</style>\n",
       "<table border=\"1\" class=\"dataframe\">\n",
       "  <thead>\n",
       "    <tr style=\"text-align: right;\">\n",
       "      <th></th>\n",
       "      <th>Firstname</th>\n",
       "      <th>Lastname</th>\n",
       "      <th>email</th>\n",
       "    </tr>\n",
       "  </thead>\n",
       "  <tbody>\n",
       "    <tr>\n",
       "      <th>0</th>\n",
       "      <td>Jack</td>\n",
       "      <td>Rob</td>\n",
       "      <td>JACK@GMAIL.COM</td>\n",
       "    </tr>\n",
       "    <tr>\n",
       "      <th>1</th>\n",
       "      <td>Ben</td>\n",
       "      <td>Aflex</td>\n",
       "      <td>BEN@GMAIL.COM</td>\n",
       "    </tr>\n",
       "    <tr>\n",
       "      <th>2</th>\n",
       "      <td>Gin</td>\n",
       "      <td>Rob</td>\n",
       "      <td>GIN@GMAIL.COM</td>\n",
       "    </tr>\n",
       "    <tr>\n",
       "      <th>3</th>\n",
       "      <td>Husk</td>\n",
       "      <td>smith</td>\n",
       "      <td>HUSK1@GMAIL.COM</td>\n",
       "    </tr>\n",
       "  </tbody>\n",
       "</table>\n",
       "</div>"
      ],
      "text/plain": [
       "  Firstname Lastname            email\n",
       "0      Jack      Rob   JACK@GMAIL.COM\n",
       "1       Ben    Aflex    BEN@GMAIL.COM\n",
       "2       Gin      Rob    GIN@GMAIL.COM\n",
       "3      Husk    smith  HUSK1@GMAIL.COM"
      ]
     },
     "execution_count": 100,
     "metadata": {},
     "output_type": "execute_result"
    }
   ],
   "source": [
    "df"
   ]
  },
  {
   "cell_type": "code",
   "execution_count": 101,
   "id": "dbb1c6b7",
   "metadata": {},
   "outputs": [],
   "source": [
    "### To change the entire email to lower case in the dataframe\n",
    "\n",
    "df['email'] = df['email'].str.lower()"
   ]
  },
  {
   "cell_type": "code",
   "execution_count": 102,
   "id": "df7be40e",
   "metadata": {},
   "outputs": [
    {
     "data": {
      "text/html": [
       "<div>\n",
       "<style scoped>\n",
       "    .dataframe tbody tr th:only-of-type {\n",
       "        vertical-align: middle;\n",
       "    }\n",
       "\n",
       "    .dataframe tbody tr th {\n",
       "        vertical-align: top;\n",
       "    }\n",
       "\n",
       "    .dataframe thead th {\n",
       "        text-align: right;\n",
       "    }\n",
       "</style>\n",
       "<table border=\"1\" class=\"dataframe\">\n",
       "  <thead>\n",
       "    <tr style=\"text-align: right;\">\n",
       "      <th></th>\n",
       "      <th>Firstname</th>\n",
       "      <th>Lastname</th>\n",
       "      <th>email</th>\n",
       "    </tr>\n",
       "  </thead>\n",
       "  <tbody>\n",
       "    <tr>\n",
       "      <th>0</th>\n",
       "      <td>Jack</td>\n",
       "      <td>Rob</td>\n",
       "      <td>jack@gmail.com</td>\n",
       "    </tr>\n",
       "    <tr>\n",
       "      <th>1</th>\n",
       "      <td>Ben</td>\n",
       "      <td>Aflex</td>\n",
       "      <td>ben@gmail.com</td>\n",
       "    </tr>\n",
       "    <tr>\n",
       "      <th>2</th>\n",
       "      <td>Gin</td>\n",
       "      <td>Rob</td>\n",
       "      <td>gin@gmail.com</td>\n",
       "    </tr>\n",
       "    <tr>\n",
       "      <th>3</th>\n",
       "      <td>Husk</td>\n",
       "      <td>smith</td>\n",
       "      <td>husk1@gmail.com</td>\n",
       "    </tr>\n",
       "  </tbody>\n",
       "</table>\n",
       "</div>"
      ],
      "text/plain": [
       "  Firstname Lastname            email\n",
       "0      Jack      Rob   jack@gmail.com\n",
       "1       Ben    Aflex    ben@gmail.com\n",
       "2       Gin      Rob    gin@gmail.com\n",
       "3      Husk    smith  husk1@gmail.com"
      ]
     },
     "execution_count": 102,
     "metadata": {},
     "output_type": "execute_result"
    }
   ],
   "source": [
    "df"
   ]
  },
  {
   "cell_type": "code",
   "execution_count": null,
   "id": "c2826d1c",
   "metadata": {},
   "outputs": [],
   "source": [
    "### some other methods are: \"map\", \"apply\", \"applymap\",\"replace\"\n"
   ]
  },
  {
   "cell_type": "code",
   "execution_count": 103,
   "id": "eb21d4e3",
   "metadata": {},
   "outputs": [
    {
     "data": {
      "text/plain": [
       "0    14\n",
       "1    13\n",
       "2    13\n",
       "3    15\n",
       "Name: email, dtype: int64"
      ]
     },
     "execution_count": 103,
     "metadata": {},
     "output_type": "execute_result"
    }
   ],
   "source": [
    "## \"apply\" is used for calling a function on a value. \"apply\" can work on dataframe or series object.\n",
    "#let see how \"apply\" work on a series.\n",
    "\n",
    "df['email'].apply(len)"
   ]
  },
  {
   "cell_type": "code",
   "execution_count": 104,
   "id": "99681270",
   "metadata": {},
   "outputs": [],
   "source": [
    "### write simple function to update email from lower to upper\n",
    "\n",
    "def update_email(email):\n",
    "    return email.upper()"
   ]
  },
  {
   "cell_type": "code",
   "execution_count": 105,
   "id": "98d4773e",
   "metadata": {},
   "outputs": [
    {
     "data": {
      "text/plain": [
       "0     JACK@GMAIL.COM\n",
       "1      BEN@GMAIL.COM\n",
       "2      GIN@GMAIL.COM\n",
       "3    HUSK1@GMAIL.COM\n",
       "Name: email, dtype: object"
      ]
     },
     "execution_count": 105,
     "metadata": {},
     "output_type": "execute_result"
    }
   ],
   "source": [
    "df['email'].apply(update_email)"
   ]
  },
  {
   "cell_type": "code",
   "execution_count": null,
   "id": "18631c63",
   "metadata": {},
   "outputs": [],
   "source": [
    "### As you can see. it did not change it in the dataframe."
   ]
  },
  {
   "cell_type": "code",
   "execution_count": 106,
   "id": "335d7ae0",
   "metadata": {},
   "outputs": [],
   "source": [
    "## instead we can do it this way..\n",
    "df['email'] = df['email'].apply(update_email)"
   ]
  },
  {
   "cell_type": "code",
   "execution_count": 107,
   "id": "961fb8e5",
   "metadata": {},
   "outputs": [
    {
     "data": {
      "text/html": [
       "<div>\n",
       "<style scoped>\n",
       "    .dataframe tbody tr th:only-of-type {\n",
       "        vertical-align: middle;\n",
       "    }\n",
       "\n",
       "    .dataframe tbody tr th {\n",
       "        vertical-align: top;\n",
       "    }\n",
       "\n",
       "    .dataframe thead th {\n",
       "        text-align: right;\n",
       "    }\n",
       "</style>\n",
       "<table border=\"1\" class=\"dataframe\">\n",
       "  <thead>\n",
       "    <tr style=\"text-align: right;\">\n",
       "      <th></th>\n",
       "      <th>Firstname</th>\n",
       "      <th>Lastname</th>\n",
       "      <th>email</th>\n",
       "    </tr>\n",
       "  </thead>\n",
       "  <tbody>\n",
       "    <tr>\n",
       "      <th>0</th>\n",
       "      <td>Jack</td>\n",
       "      <td>Rob</td>\n",
       "      <td>JACK@GMAIL.COM</td>\n",
       "    </tr>\n",
       "    <tr>\n",
       "      <th>1</th>\n",
       "      <td>Ben</td>\n",
       "      <td>Aflex</td>\n",
       "      <td>BEN@GMAIL.COM</td>\n",
       "    </tr>\n",
       "    <tr>\n",
       "      <th>2</th>\n",
       "      <td>Gin</td>\n",
       "      <td>Rob</td>\n",
       "      <td>GIN@GMAIL.COM</td>\n",
       "    </tr>\n",
       "    <tr>\n",
       "      <th>3</th>\n",
       "      <td>Husk</td>\n",
       "      <td>smith</td>\n",
       "      <td>HUSK1@GMAIL.COM</td>\n",
       "    </tr>\n",
       "  </tbody>\n",
       "</table>\n",
       "</div>"
      ],
      "text/plain": [
       "  Firstname Lastname            email\n",
       "0      Jack      Rob   JACK@GMAIL.COM\n",
       "1       Ben    Aflex    BEN@GMAIL.COM\n",
       "2       Gin      Rob    GIN@GMAIL.COM\n",
       "3      Husk    smith  HUSK1@GMAIL.COM"
      ]
     },
     "execution_count": 107,
     "metadata": {},
     "output_type": "execute_result"
    }
   ],
   "source": [
    "df"
   ]
  },
  {
   "cell_type": "code",
   "execution_count": 108,
   "id": "1d56dc4e",
   "metadata": {},
   "outputs": [],
   "source": [
    "            #OR\n",
    "### to return the email back to lower\n",
    "df['email'] = df['email'].apply(lambda x: x.lower())"
   ]
  },
  {
   "cell_type": "code",
   "execution_count": 109,
   "id": "3e23474e",
   "metadata": {},
   "outputs": [
    {
     "data": {
      "text/html": [
       "<div>\n",
       "<style scoped>\n",
       "    .dataframe tbody tr th:only-of-type {\n",
       "        vertical-align: middle;\n",
       "    }\n",
       "\n",
       "    .dataframe tbody tr th {\n",
       "        vertical-align: top;\n",
       "    }\n",
       "\n",
       "    .dataframe thead th {\n",
       "        text-align: right;\n",
       "    }\n",
       "</style>\n",
       "<table border=\"1\" class=\"dataframe\">\n",
       "  <thead>\n",
       "    <tr style=\"text-align: right;\">\n",
       "      <th></th>\n",
       "      <th>Firstname</th>\n",
       "      <th>Lastname</th>\n",
       "      <th>email</th>\n",
       "    </tr>\n",
       "  </thead>\n",
       "  <tbody>\n",
       "    <tr>\n",
       "      <th>0</th>\n",
       "      <td>Jack</td>\n",
       "      <td>Rob</td>\n",
       "      <td>jack@gmail.com</td>\n",
       "    </tr>\n",
       "    <tr>\n",
       "      <th>1</th>\n",
       "      <td>Ben</td>\n",
       "      <td>Aflex</td>\n",
       "      <td>ben@gmail.com</td>\n",
       "    </tr>\n",
       "    <tr>\n",
       "      <th>2</th>\n",
       "      <td>Gin</td>\n",
       "      <td>Rob</td>\n",
       "      <td>gin@gmail.com</td>\n",
       "    </tr>\n",
       "    <tr>\n",
       "      <th>3</th>\n",
       "      <td>Husk</td>\n",
       "      <td>smith</td>\n",
       "      <td>husk1@gmail.com</td>\n",
       "    </tr>\n",
       "  </tbody>\n",
       "</table>\n",
       "</div>"
      ],
      "text/plain": [
       "  Firstname Lastname            email\n",
       "0      Jack      Rob   jack@gmail.com\n",
       "1       Ben    Aflex    ben@gmail.com\n",
       "2       Gin      Rob    gin@gmail.com\n",
       "3      Husk    smith  husk1@gmail.com"
      ]
     },
     "execution_count": 109,
     "metadata": {},
     "output_type": "execute_result"
    }
   ],
   "source": [
    "df"
   ]
  },
  {
   "cell_type": "code",
   "execution_count": null,
   "id": "dab38f61",
   "metadata": {},
   "outputs": [],
   "source": []
  },
  {
   "cell_type": "code",
   "execution_count": null,
   "id": "a4157bb2",
   "metadata": {},
   "outputs": [],
   "source": [
    "#### Let see how \"apply\" work on dataframe"
   ]
  },
  {
   "cell_type": "code",
   "execution_count": 110,
   "id": "8206cc56",
   "metadata": {},
   "outputs": [
    {
     "data": {
      "text/plain": [
       "0    14\n",
       "1    13\n",
       "2    13\n",
       "3    15\n",
       "Name: email, dtype: int64"
      ]
     },
     "execution_count": 110,
     "metadata": {},
     "output_type": "execute_result"
    }
   ],
   "source": [
    "df['email'].apply(len)"
   ]
  },
  {
   "cell_type": "code",
   "execution_count": 122,
   "id": "d3c3cf88",
   "metadata": {},
   "outputs": [
    {
     "data": {
      "text/plain": [
       "0    3\n",
       "1    3\n",
       "2    3\n",
       "3    3\n",
       "dtype: int64"
      ]
     },
     "execution_count": 122,
     "metadata": {},
     "output_type": "execute_result"
    }
   ],
   "source": [
    "df.apply(len, axis='columns')  #### this counting by rows using ('columns as axis')"
   ]
  },
  {
   "cell_type": "code",
   "execution_count": 123,
   "id": "f64fde24",
   "metadata": {},
   "outputs": [
    {
     "data": {
      "text/plain": [
       "4"
      ]
     },
     "execution_count": 123,
     "metadata": {},
     "output_type": "execute_result"
    }
   ],
   "source": [
    "len(df['email'])    #### this counting columns"
   ]
  },
  {
   "cell_type": "code",
   "execution_count": 124,
   "id": "9939a4c6",
   "metadata": {},
   "outputs": [
    {
     "data": {
      "text/plain": [
       "4"
      ]
     },
     "execution_count": 124,
     "metadata": {},
     "output_type": "execute_result"
    }
   ],
   "source": [
    "len(df['Lastname'])  #### this counting columns"
   ]
  },
  {
   "cell_type": "code",
   "execution_count": null,
   "id": "a3b78cd6",
   "metadata": {},
   "outputs": [],
   "source": []
  },
  {
   "cell_type": "code",
   "execution_count": 125,
   "id": "ce2fc5af",
   "metadata": {},
   "outputs": [
    {
     "data": {
      "text/plain": [
       "Firstname              Ben\n",
       "Lastname             Aflex\n",
       "email        ben@gmail.com\n",
       "dtype: object"
      ]
     },
     "execution_count": 125,
     "metadata": {},
     "output_type": "execute_result"
    }
   ],
   "source": [
    "df.apply(pd.Series.min)   #### this code would have been better if use on numerical data."
   ]
  },
  {
   "cell_type": "code",
   "execution_count": null,
   "id": "750b5109",
   "metadata": {},
   "outputs": [],
   "source": []
  },
  {
   "cell_type": "code",
   "execution_count": 126,
   "id": "23d23728",
   "metadata": {},
   "outputs": [
    {
     "data": {
      "text/plain": [
       "Firstname              Ben\n",
       "Lastname             Aflex\n",
       "email        ben@gmail.com\n",
       "dtype: object"
      ]
     },
     "execution_count": 126,
     "metadata": {},
     "output_type": "execute_result"
    }
   ],
   "source": [
    "df.apply(lambda x: x.min()) ### same result. But it's better on numerical value"
   ]
  },
  {
   "cell_type": "code",
   "execution_count": null,
   "id": "e4519882",
   "metadata": {},
   "outputs": [],
   "source": []
  },
  {
   "cell_type": "code",
   "execution_count": null,
   "id": "af6d80fc",
   "metadata": {},
   "outputs": [],
   "source": []
  },
  {
   "cell_type": "code",
   "execution_count": 127,
   "id": "b47390fa",
   "metadata": {},
   "outputs": [
    {
     "data": {
      "text/html": [
       "<div>\n",
       "<style scoped>\n",
       "    .dataframe tbody tr th:only-of-type {\n",
       "        vertical-align: middle;\n",
       "    }\n",
       "\n",
       "    .dataframe tbody tr th {\n",
       "        vertical-align: top;\n",
       "    }\n",
       "\n",
       "    .dataframe thead th {\n",
       "        text-align: right;\n",
       "    }\n",
       "</style>\n",
       "<table border=\"1\" class=\"dataframe\">\n",
       "  <thead>\n",
       "    <tr style=\"text-align: right;\">\n",
       "      <th></th>\n",
       "      <th>Firstname</th>\n",
       "      <th>Lastname</th>\n",
       "      <th>email</th>\n",
       "    </tr>\n",
       "  </thead>\n",
       "  <tbody>\n",
       "    <tr>\n",
       "      <th>0</th>\n",
       "      <td>Jack</td>\n",
       "      <td>Rob</td>\n",
       "      <td>jack@gmail.com</td>\n",
       "    </tr>\n",
       "    <tr>\n",
       "      <th>1</th>\n",
       "      <td>Ben</td>\n",
       "      <td>Aflex</td>\n",
       "      <td>ben@gmail.com</td>\n",
       "    </tr>\n",
       "    <tr>\n",
       "      <th>2</th>\n",
       "      <td>Gin</td>\n",
       "      <td>Rob</td>\n",
       "      <td>gin@gmail.com</td>\n",
       "    </tr>\n",
       "    <tr>\n",
       "      <th>3</th>\n",
       "      <td>Husk</td>\n",
       "      <td>smith</td>\n",
       "      <td>husk1@gmail.com</td>\n",
       "    </tr>\n",
       "  </tbody>\n",
       "</table>\n",
       "</div>"
      ],
      "text/plain": [
       "  Firstname Lastname            email\n",
       "0      Jack      Rob   jack@gmail.com\n",
       "1       Ben    Aflex    ben@gmail.com\n",
       "2       Gin      Rob    gin@gmail.com\n",
       "3      Husk    smith  husk1@gmail.com"
      ]
     },
     "execution_count": 127,
     "metadata": {},
     "output_type": "execute_result"
    }
   ],
   "source": [
    "df"
   ]
  },
  {
   "cell_type": "code",
   "execution_count": null,
   "id": "6710b85f",
   "metadata": {},
   "outputs": [],
   "source": [
    "### \"applymap only work on dataframe\". its apply to every individual element in the dataframe."
   ]
  },
  {
   "cell_type": "code",
   "execution_count": 128,
   "id": "e10e2acc",
   "metadata": {},
   "outputs": [
    {
     "data": {
      "text/html": [
       "<div>\n",
       "<style scoped>\n",
       "    .dataframe tbody tr th:only-of-type {\n",
       "        vertical-align: middle;\n",
       "    }\n",
       "\n",
       "    .dataframe tbody tr th {\n",
       "        vertical-align: top;\n",
       "    }\n",
       "\n",
       "    .dataframe thead th {\n",
       "        text-align: right;\n",
       "    }\n",
       "</style>\n",
       "<table border=\"1\" class=\"dataframe\">\n",
       "  <thead>\n",
       "    <tr style=\"text-align: right;\">\n",
       "      <th></th>\n",
       "      <th>Firstname</th>\n",
       "      <th>Lastname</th>\n",
       "      <th>email</th>\n",
       "    </tr>\n",
       "  </thead>\n",
       "  <tbody>\n",
       "    <tr>\n",
       "      <th>0</th>\n",
       "      <td>4</td>\n",
       "      <td>3</td>\n",
       "      <td>14</td>\n",
       "    </tr>\n",
       "    <tr>\n",
       "      <th>1</th>\n",
       "      <td>3</td>\n",
       "      <td>5</td>\n",
       "      <td>13</td>\n",
       "    </tr>\n",
       "    <tr>\n",
       "      <th>2</th>\n",
       "      <td>3</td>\n",
       "      <td>3</td>\n",
       "      <td>13</td>\n",
       "    </tr>\n",
       "    <tr>\n",
       "      <th>3</th>\n",
       "      <td>4</td>\n",
       "      <td>5</td>\n",
       "      <td>15</td>\n",
       "    </tr>\n",
       "  </tbody>\n",
       "</table>\n",
       "</div>"
      ],
      "text/plain": [
       "   Firstname  Lastname  email\n",
       "0          4         3     14\n",
       "1          3         5     13\n",
       "2          3         3     13\n",
       "3          4         5     15"
      ]
     },
     "execution_count": 128,
     "metadata": {},
     "output_type": "execute_result"
    }
   ],
   "source": [
    "df.applymap(len)"
   ]
  },
  {
   "cell_type": "code",
   "execution_count": 129,
   "id": "6a3dda37",
   "metadata": {},
   "outputs": [
    {
     "data": {
      "text/html": [
       "<div>\n",
       "<style scoped>\n",
       "    .dataframe tbody tr th:only-of-type {\n",
       "        vertical-align: middle;\n",
       "    }\n",
       "\n",
       "    .dataframe tbody tr th {\n",
       "        vertical-align: top;\n",
       "    }\n",
       "\n",
       "    .dataframe thead th {\n",
       "        text-align: right;\n",
       "    }\n",
       "</style>\n",
       "<table border=\"1\" class=\"dataframe\">\n",
       "  <thead>\n",
       "    <tr style=\"text-align: right;\">\n",
       "      <th></th>\n",
       "      <th>Firstname</th>\n",
       "      <th>Lastname</th>\n",
       "      <th>email</th>\n",
       "    </tr>\n",
       "  </thead>\n",
       "  <tbody>\n",
       "    <tr>\n",
       "      <th>0</th>\n",
       "      <td>jack</td>\n",
       "      <td>rob</td>\n",
       "      <td>jack@gmail.com</td>\n",
       "    </tr>\n",
       "    <tr>\n",
       "      <th>1</th>\n",
       "      <td>ben</td>\n",
       "      <td>aflex</td>\n",
       "      <td>ben@gmail.com</td>\n",
       "    </tr>\n",
       "    <tr>\n",
       "      <th>2</th>\n",
       "      <td>gin</td>\n",
       "      <td>rob</td>\n",
       "      <td>gin@gmail.com</td>\n",
       "    </tr>\n",
       "    <tr>\n",
       "      <th>3</th>\n",
       "      <td>husk</td>\n",
       "      <td>smith</td>\n",
       "      <td>husk1@gmail.com</td>\n",
       "    </tr>\n",
       "  </tbody>\n",
       "</table>\n",
       "</div>"
      ],
      "text/plain": [
       "  Firstname Lastname            email\n",
       "0      jack      rob   jack@gmail.com\n",
       "1       ben    aflex    ben@gmail.com\n",
       "2       gin      rob    gin@gmail.com\n",
       "3      husk    smith  husk1@gmail.com"
      ]
     },
     "execution_count": 129,
     "metadata": {},
     "output_type": "execute_result"
    }
   ],
   "source": [
    "### if i want all the value in dataframe to be lower case using \"applymap\" note if you have numerical\n",
    "### value in dataframe, it will give error message becos of the \"str\"\n",
    "\n",
    "df.applymap(str.lower)"
   ]
  },
  {
   "cell_type": "code",
   "execution_count": null,
   "id": "cb97fad0",
   "metadata": {},
   "outputs": [],
   "source": []
  },
  {
   "cell_type": "code",
   "execution_count": null,
   "id": "1a5a5f68",
   "metadata": {},
   "outputs": [],
   "source": [
    "### let's check on \"map\" method. \"map\" method only work on a series, it is used for subtituting each values\n",
    "### on a series with another value"
   ]
  },
  {
   "cell_type": "code",
   "execution_count": 132,
   "id": "a9cc150e",
   "metadata": {},
   "outputs": [
    {
     "data": {
      "text/plain": [
       "0        john\n",
       "1    benedict\n",
       "2         NaN\n",
       "3         NaN\n",
       "Name: Firstname, dtype: object"
      ]
     },
     "execution_count": 132,
     "metadata": {},
     "output_type": "execute_result"
    }
   ],
   "source": [
    "### example: To subtitles some of the firstname.\n",
    "\n",
    "df['Firstname'].map({'Jack':'john','Ben':'benedict'})"
   ]
  },
  {
   "cell_type": "code",
   "execution_count": null,
   "id": "771f5dce",
   "metadata": {},
   "outputs": [],
   "source": [
    "### But \"replace\" method would be better inorder to avoid \"NaN\" that is in the output."
   ]
  },
  {
   "cell_type": "code",
   "execution_count": 133,
   "id": "1c19ea01",
   "metadata": {},
   "outputs": [
    {
     "data": {
      "text/plain": [
       "0      NaN\n",
       "1    Akins\n",
       "2      NaN\n",
       "3     Maya\n",
       "Name: Lastname, dtype: object"
      ]
     },
     "execution_count": 133,
     "metadata": {},
     "output_type": "execute_result"
    }
   ],
   "source": [
    "df['Lastname'].map({'Aflex':'Akins','smith':'Maya'})"
   ]
  },
  {
   "cell_type": "code",
   "execution_count": null,
   "id": "ef69d2d8",
   "metadata": {},
   "outputs": [],
   "source": [
    "### But \"replace\" method would be better inorder to avoid \"NaN\" that is in the output."
   ]
  },
  {
   "cell_type": "code",
   "execution_count": null,
   "id": "73c2f9bf",
   "metadata": {},
   "outputs": [],
   "source": []
  },
  {
   "cell_type": "code",
   "execution_count": null,
   "id": "1b9c3ced",
   "metadata": {},
   "outputs": [],
   "source": [
    "### let's check on \"replace\" method. \"replace\" method only work on a series, it is used for subtituting each values\n",
    "### on a series with another value"
   ]
  },
  {
   "cell_type": "code",
   "execution_count": 135,
   "id": "060870d1",
   "metadata": {},
   "outputs": [
    {
     "data": {
      "text/html": [
       "<div>\n",
       "<style scoped>\n",
       "    .dataframe tbody tr th:only-of-type {\n",
       "        vertical-align: middle;\n",
       "    }\n",
       "\n",
       "    .dataframe tbody tr th {\n",
       "        vertical-align: top;\n",
       "    }\n",
       "\n",
       "    .dataframe thead th {\n",
       "        text-align: right;\n",
       "    }\n",
       "</style>\n",
       "<table border=\"1\" class=\"dataframe\">\n",
       "  <thead>\n",
       "    <tr style=\"text-align: right;\">\n",
       "      <th></th>\n",
       "      <th>Firstname</th>\n",
       "      <th>Lastname</th>\n",
       "      <th>email</th>\n",
       "    </tr>\n",
       "  </thead>\n",
       "  <tbody>\n",
       "    <tr>\n",
       "      <th>0</th>\n",
       "      <td>Jack</td>\n",
       "      <td>Rob</td>\n",
       "      <td>jack@gmail.com</td>\n",
       "    </tr>\n",
       "    <tr>\n",
       "      <th>1</th>\n",
       "      <td>Ben</td>\n",
       "      <td>Aflex</td>\n",
       "      <td>ben@gmail.com</td>\n",
       "    </tr>\n",
       "    <tr>\n",
       "      <th>2</th>\n",
       "      <td>Gin</td>\n",
       "      <td>Rob</td>\n",
       "      <td>gin@gmail.com</td>\n",
       "    </tr>\n",
       "    <tr>\n",
       "      <th>3</th>\n",
       "      <td>Husk</td>\n",
       "      <td>smith</td>\n",
       "      <td>husk1@gmail.com</td>\n",
       "    </tr>\n",
       "  </tbody>\n",
       "</table>\n",
       "</div>"
      ],
      "text/plain": [
       "  Firstname Lastname            email\n",
       "0      Jack      Rob   jack@gmail.com\n",
       "1       Ben    Aflex    ben@gmail.com\n",
       "2       Gin      Rob    gin@gmail.com\n",
       "3      Husk    smith  husk1@gmail.com"
      ]
     },
     "execution_count": 135,
     "metadata": {},
     "output_type": "execute_result"
    }
   ],
   "source": [
    "df\n"
   ]
  },
  {
   "cell_type": "code",
   "execution_count": 136,
   "id": "d7c36a28",
   "metadata": {},
   "outputs": [
    {
     "data": {
      "text/plain": [
       "0     Jack\n",
       "1    Blade\n",
       "2      Joy\n",
       "3     Husk\n",
       "Name: Firstname, dtype: object"
      ]
     },
     "execution_count": 136,
     "metadata": {},
     "output_type": "execute_result"
    }
   ],
   "source": [
    "df['Firstname'].replace({'Ben':'Blade','Gin':'Joy'})  ### the output is in Series"
   ]
  },
  {
   "cell_type": "code",
   "execution_count": 137,
   "id": "5fc1035e",
   "metadata": {},
   "outputs": [],
   "source": [
    "## Note, those changes does not have effect on the dataframe but if we want it to have effect\n",
    "## then we can do it this way...\n",
    "\n",
    "df['Firstname'] = df['Firstname'].replace({'Ben':'Blade','Gin':'Joy'})"
   ]
  },
  {
   "cell_type": "code",
   "execution_count": 138,
   "id": "67189713",
   "metadata": {},
   "outputs": [
    {
     "data": {
      "text/html": [
       "<div>\n",
       "<style scoped>\n",
       "    .dataframe tbody tr th:only-of-type {\n",
       "        vertical-align: middle;\n",
       "    }\n",
       "\n",
       "    .dataframe tbody tr th {\n",
       "        vertical-align: top;\n",
       "    }\n",
       "\n",
       "    .dataframe thead th {\n",
       "        text-align: right;\n",
       "    }\n",
       "</style>\n",
       "<table border=\"1\" class=\"dataframe\">\n",
       "  <thead>\n",
       "    <tr style=\"text-align: right;\">\n",
       "      <th></th>\n",
       "      <th>Firstname</th>\n",
       "      <th>Lastname</th>\n",
       "      <th>email</th>\n",
       "    </tr>\n",
       "  </thead>\n",
       "  <tbody>\n",
       "    <tr>\n",
       "      <th>0</th>\n",
       "      <td>Jack</td>\n",
       "      <td>Rob</td>\n",
       "      <td>jack@gmail.com</td>\n",
       "    </tr>\n",
       "    <tr>\n",
       "      <th>1</th>\n",
       "      <td>Blade</td>\n",
       "      <td>Aflex</td>\n",
       "      <td>ben@gmail.com</td>\n",
       "    </tr>\n",
       "    <tr>\n",
       "      <th>2</th>\n",
       "      <td>Joy</td>\n",
       "      <td>Rob</td>\n",
       "      <td>gin@gmail.com</td>\n",
       "    </tr>\n",
       "    <tr>\n",
       "      <th>3</th>\n",
       "      <td>Husk</td>\n",
       "      <td>smith</td>\n",
       "      <td>husk1@gmail.com</td>\n",
       "    </tr>\n",
       "  </tbody>\n",
       "</table>\n",
       "</div>"
      ],
      "text/plain": [
       "  Firstname Lastname            email\n",
       "0      Jack      Rob   jack@gmail.com\n",
       "1     Blade    Aflex    ben@gmail.com\n",
       "2       Joy      Rob    gin@gmail.com\n",
       "3      Husk    smith  husk1@gmail.com"
      ]
     },
     "execution_count": 138,
     "metadata": {},
     "output_type": "execute_result"
    }
   ],
   "source": [
    "df"
   ]
  },
  {
   "cell_type": "code",
   "execution_count": null,
   "id": "b13a2ec4",
   "metadata": {},
   "outputs": [],
   "source": []
  },
  {
   "cell_type": "markdown",
   "id": "a7fa4c59",
   "metadata": {},
   "source": [
    "##### Add/Remove Columns From DataFrames"
   ]
  },
  {
   "cell_type": "code",
   "execution_count": 140,
   "id": "a853927d",
   "metadata": {},
   "outputs": [
    {
     "data": {
      "text/plain": [
       "0       Jack Rob\n",
       "1    Blade Aflex\n",
       "2        Joy Rob\n",
       "3     Husk smith\n",
       "dtype: object"
      ]
     },
     "execution_count": 140,
     "metadata": {},
     "output_type": "execute_result"
    }
   ],
   "source": [
    "### let's look at adding columns. exple, we want to combine firstname and lastname column and name it\n",
    "### as firstname.\n",
    "\n",
    "df['Firstname'] + ' ' + df['Lastname']"
   ]
  },
  {
   "cell_type": "code",
   "execution_count": 141,
   "id": "1ceb6b6d",
   "metadata": {},
   "outputs": [],
   "source": [
    "### To add this new join names in seperate column in the dataframe..\n",
    "\n",
    "df['Full_Name'] = df['Firstname'] + ' ' + df['Lastname']"
   ]
  },
  {
   "cell_type": "code",
   "execution_count": 142,
   "id": "45fce526",
   "metadata": {},
   "outputs": [
    {
     "data": {
      "text/html": [
       "<div>\n",
       "<style scoped>\n",
       "    .dataframe tbody tr th:only-of-type {\n",
       "        vertical-align: middle;\n",
       "    }\n",
       "\n",
       "    .dataframe tbody tr th {\n",
       "        vertical-align: top;\n",
       "    }\n",
       "\n",
       "    .dataframe thead th {\n",
       "        text-align: right;\n",
       "    }\n",
       "</style>\n",
       "<table border=\"1\" class=\"dataframe\">\n",
       "  <thead>\n",
       "    <tr style=\"text-align: right;\">\n",
       "      <th></th>\n",
       "      <th>Firstname</th>\n",
       "      <th>Lastname</th>\n",
       "      <th>email</th>\n",
       "      <th>Full_Name</th>\n",
       "    </tr>\n",
       "  </thead>\n",
       "  <tbody>\n",
       "    <tr>\n",
       "      <th>0</th>\n",
       "      <td>Jack</td>\n",
       "      <td>Rob</td>\n",
       "      <td>jack@gmail.com</td>\n",
       "      <td>Jack Rob</td>\n",
       "    </tr>\n",
       "    <tr>\n",
       "      <th>1</th>\n",
       "      <td>Blade</td>\n",
       "      <td>Aflex</td>\n",
       "      <td>ben@gmail.com</td>\n",
       "      <td>Blade Aflex</td>\n",
       "    </tr>\n",
       "    <tr>\n",
       "      <th>2</th>\n",
       "      <td>Joy</td>\n",
       "      <td>Rob</td>\n",
       "      <td>gin@gmail.com</td>\n",
       "      <td>Joy Rob</td>\n",
       "    </tr>\n",
       "    <tr>\n",
       "      <th>3</th>\n",
       "      <td>Husk</td>\n",
       "      <td>smith</td>\n",
       "      <td>husk1@gmail.com</td>\n",
       "      <td>Husk smith</td>\n",
       "    </tr>\n",
       "  </tbody>\n",
       "</table>\n",
       "</div>"
      ],
      "text/plain": [
       "  Firstname Lastname            email    Full_Name\n",
       "0      Jack      Rob   jack@gmail.com     Jack Rob\n",
       "1     Blade    Aflex    ben@gmail.com  Blade Aflex\n",
       "2       Joy      Rob    gin@gmail.com      Joy Rob\n",
       "3      Husk    smith  husk1@gmail.com   Husk smith"
      ]
     },
     "execution_count": 142,
     "metadata": {},
     "output_type": "execute_result"
    }
   ],
   "source": [
    "df"
   ]
  },
  {
   "cell_type": "code",
   "execution_count": null,
   "id": "7ea65af4",
   "metadata": {},
   "outputs": [],
   "source": []
  },
  {
   "cell_type": "code",
   "execution_count": 143,
   "id": "48ea07a6",
   "metadata": {},
   "outputs": [
    {
     "data": {
      "text/html": [
       "<div>\n",
       "<style scoped>\n",
       "    .dataframe tbody tr th:only-of-type {\n",
       "        vertical-align: middle;\n",
       "    }\n",
       "\n",
       "    .dataframe tbody tr th {\n",
       "        vertical-align: top;\n",
       "    }\n",
       "\n",
       "    .dataframe thead th {\n",
       "        text-align: right;\n",
       "    }\n",
       "</style>\n",
       "<table border=\"1\" class=\"dataframe\">\n",
       "  <thead>\n",
       "    <tr style=\"text-align: right;\">\n",
       "      <th></th>\n",
       "      <th>email</th>\n",
       "      <th>Full_Name</th>\n",
       "    </tr>\n",
       "  </thead>\n",
       "  <tbody>\n",
       "    <tr>\n",
       "      <th>0</th>\n",
       "      <td>jack@gmail.com</td>\n",
       "      <td>Jack Rob</td>\n",
       "    </tr>\n",
       "    <tr>\n",
       "      <th>1</th>\n",
       "      <td>ben@gmail.com</td>\n",
       "      <td>Blade Aflex</td>\n",
       "    </tr>\n",
       "    <tr>\n",
       "      <th>2</th>\n",
       "      <td>gin@gmail.com</td>\n",
       "      <td>Joy Rob</td>\n",
       "    </tr>\n",
       "    <tr>\n",
       "      <th>3</th>\n",
       "      <td>husk1@gmail.com</td>\n",
       "      <td>Husk smith</td>\n",
       "    </tr>\n",
       "  </tbody>\n",
       "</table>\n",
       "</div>"
      ],
      "text/plain": [
       "             email    Full_Name\n",
       "0   jack@gmail.com     Jack Rob\n",
       "1    ben@gmail.com  Blade Aflex\n",
       "2    gin@gmail.com      Joy Rob\n",
       "3  husk1@gmail.com   Husk smith"
      ]
     },
     "execution_count": 143,
     "metadata": {},
     "output_type": "execute_result"
    }
   ],
   "source": [
    "#### Now let's look at removing column. let assume we want to remove Firstname and Lastname column.\n",
    "\n",
    "df.drop(columns=['Firstname','Lastname'])\n"
   ]
  },
  {
   "cell_type": "code",
   "execution_count": 144,
   "id": "0dbb8ef2",
   "metadata": {},
   "outputs": [],
   "source": [
    "### as you aware that above changes has not yet have effect on dataframe but if we want it to be effective\n",
    "### \"inplace\" function is required\n",
    "\n",
    "df.drop(columns=['Firstname','Lastname'], inplace=True)\n"
   ]
  },
  {
   "cell_type": "code",
   "execution_count": 145,
   "id": "62bf6290",
   "metadata": {},
   "outputs": [
    {
     "data": {
      "text/html": [
       "<div>\n",
       "<style scoped>\n",
       "    .dataframe tbody tr th:only-of-type {\n",
       "        vertical-align: middle;\n",
       "    }\n",
       "\n",
       "    .dataframe tbody tr th {\n",
       "        vertical-align: top;\n",
       "    }\n",
       "\n",
       "    .dataframe thead th {\n",
       "        text-align: right;\n",
       "    }\n",
       "</style>\n",
       "<table border=\"1\" class=\"dataframe\">\n",
       "  <thead>\n",
       "    <tr style=\"text-align: right;\">\n",
       "      <th></th>\n",
       "      <th>email</th>\n",
       "      <th>Full_Name</th>\n",
       "    </tr>\n",
       "  </thead>\n",
       "  <tbody>\n",
       "    <tr>\n",
       "      <th>0</th>\n",
       "      <td>jack@gmail.com</td>\n",
       "      <td>Jack Rob</td>\n",
       "    </tr>\n",
       "    <tr>\n",
       "      <th>1</th>\n",
       "      <td>ben@gmail.com</td>\n",
       "      <td>Blade Aflex</td>\n",
       "    </tr>\n",
       "    <tr>\n",
       "      <th>2</th>\n",
       "      <td>gin@gmail.com</td>\n",
       "      <td>Joy Rob</td>\n",
       "    </tr>\n",
       "    <tr>\n",
       "      <th>3</th>\n",
       "      <td>husk1@gmail.com</td>\n",
       "      <td>Husk smith</td>\n",
       "    </tr>\n",
       "  </tbody>\n",
       "</table>\n",
       "</div>"
      ],
      "text/plain": [
       "             email    Full_Name\n",
       "0   jack@gmail.com     Jack Rob\n",
       "1    ben@gmail.com  Blade Aflex\n",
       "2    gin@gmail.com      Joy Rob\n",
       "3  husk1@gmail.com   Husk smith"
      ]
     },
     "execution_count": 145,
     "metadata": {},
     "output_type": "execute_result"
    }
   ],
   "source": [
    "df"
   ]
  },
  {
   "cell_type": "code",
   "execution_count": null,
   "id": "aa093e30",
   "metadata": {},
   "outputs": [],
   "source": []
  },
  {
   "cell_type": "code",
   "execution_count": 146,
   "id": "6f3addb0",
   "metadata": {},
   "outputs": [
    {
     "data": {
      "text/plain": [
       "0       [Jack, Rob]\n",
       "1    [Blade, Aflex]\n",
       "2        [Joy, Rob]\n",
       "3     [Husk, smith]\n",
       "Name: Full_Name, dtype: object"
      ]
     },
     "execution_count": 146,
     "metadata": {},
     "output_type": "execute_result"
    }
   ],
   "source": [
    "### To reverse this or to seperate our Full_Name column..\n",
    "\n",
    "df['Full_Name'].str.split(' ')"
   ]
  },
  {
   "cell_type": "code",
   "execution_count": 147,
   "id": "e5b49482",
   "metadata": {},
   "outputs": [
    {
     "data": {
      "text/html": [
       "<div>\n",
       "<style scoped>\n",
       "    .dataframe tbody tr th:only-of-type {\n",
       "        vertical-align: middle;\n",
       "    }\n",
       "\n",
       "    .dataframe tbody tr th {\n",
       "        vertical-align: top;\n",
       "    }\n",
       "\n",
       "    .dataframe thead th {\n",
       "        text-align: right;\n",
       "    }\n",
       "</style>\n",
       "<table border=\"1\" class=\"dataframe\">\n",
       "  <thead>\n",
       "    <tr style=\"text-align: right;\">\n",
       "      <th></th>\n",
       "      <th>0</th>\n",
       "      <th>1</th>\n",
       "    </tr>\n",
       "  </thead>\n",
       "  <tbody>\n",
       "    <tr>\n",
       "      <th>0</th>\n",
       "      <td>Jack</td>\n",
       "      <td>Rob</td>\n",
       "    </tr>\n",
       "    <tr>\n",
       "      <th>1</th>\n",
       "      <td>Blade</td>\n",
       "      <td>Aflex</td>\n",
       "    </tr>\n",
       "    <tr>\n",
       "      <th>2</th>\n",
       "      <td>Joy</td>\n",
       "      <td>Rob</td>\n",
       "    </tr>\n",
       "    <tr>\n",
       "      <th>3</th>\n",
       "      <td>Husk</td>\n",
       "      <td>smith</td>\n",
       "    </tr>\n",
       "  </tbody>\n",
       "</table>\n",
       "</div>"
      ],
      "text/plain": [
       "       0      1\n",
       "0   Jack    Rob\n",
       "1  Blade  Aflex\n",
       "2    Joy    Rob\n",
       "3   Husk  smith"
      ]
     },
     "execution_count": 147,
     "metadata": {},
     "output_type": "execute_result"
    }
   ],
   "source": [
    "### inorder to make above into two different column, \"expand\" argument is require\n",
    "\n",
    "df['Full_Name'].str.split(' ', expand=True)"
   ]
  },
  {
   "cell_type": "code",
   "execution_count": 148,
   "id": "11ac275f",
   "metadata": {},
   "outputs": [],
   "source": [
    "### Now we need to set two column in our dataframe to these two column that just returned.\n",
    "### we passed two list \"[[]]\" cos we are accessing multiple column\n",
    "df[['Firstname','Lastname']] = df['Full_Name'].str.split(' ', expand=True)"
   ]
  },
  {
   "cell_type": "code",
   "execution_count": 149,
   "id": "987c0d00",
   "metadata": {},
   "outputs": [
    {
     "data": {
      "text/html": [
       "<div>\n",
       "<style scoped>\n",
       "    .dataframe tbody tr th:only-of-type {\n",
       "        vertical-align: middle;\n",
       "    }\n",
       "\n",
       "    .dataframe tbody tr th {\n",
       "        vertical-align: top;\n",
       "    }\n",
       "\n",
       "    .dataframe thead th {\n",
       "        text-align: right;\n",
       "    }\n",
       "</style>\n",
       "<table border=\"1\" class=\"dataframe\">\n",
       "  <thead>\n",
       "    <tr style=\"text-align: right;\">\n",
       "      <th></th>\n",
       "      <th>email</th>\n",
       "      <th>Full_Name</th>\n",
       "      <th>Firstname</th>\n",
       "      <th>Lastname</th>\n",
       "    </tr>\n",
       "  </thead>\n",
       "  <tbody>\n",
       "    <tr>\n",
       "      <th>0</th>\n",
       "      <td>jack@gmail.com</td>\n",
       "      <td>Jack Rob</td>\n",
       "      <td>Jack</td>\n",
       "      <td>Rob</td>\n",
       "    </tr>\n",
       "    <tr>\n",
       "      <th>1</th>\n",
       "      <td>ben@gmail.com</td>\n",
       "      <td>Blade Aflex</td>\n",
       "      <td>Blade</td>\n",
       "      <td>Aflex</td>\n",
       "    </tr>\n",
       "    <tr>\n",
       "      <th>2</th>\n",
       "      <td>gin@gmail.com</td>\n",
       "      <td>Joy Rob</td>\n",
       "      <td>Joy</td>\n",
       "      <td>Rob</td>\n",
       "    </tr>\n",
       "    <tr>\n",
       "      <th>3</th>\n",
       "      <td>husk1@gmail.com</td>\n",
       "      <td>Husk smith</td>\n",
       "      <td>Husk</td>\n",
       "      <td>smith</td>\n",
       "    </tr>\n",
       "  </tbody>\n",
       "</table>\n",
       "</div>"
      ],
      "text/plain": [
       "             email    Full_Name Firstname Lastname\n",
       "0   jack@gmail.com     Jack Rob      Jack      Rob\n",
       "1    ben@gmail.com  Blade Aflex     Blade    Aflex\n",
       "2    gin@gmail.com      Joy Rob       Joy      Rob\n",
       "3  husk1@gmail.com   Husk smith      Husk    smith"
      ]
     },
     "execution_count": 149,
     "metadata": {},
     "output_type": "execute_result"
    }
   ],
   "source": [
    "df"
   ]
  },
  {
   "cell_type": "code",
   "execution_count": null,
   "id": "d9a306e0",
   "metadata": {},
   "outputs": [],
   "source": []
  },
  {
   "cell_type": "markdown",
   "id": "77e4ef46",
   "metadata": {},
   "source": [
    "#### adding  rows from data/dataframe"
   ]
  },
  {
   "cell_type": "code",
   "execution_count": 152,
   "id": "f971c52e",
   "metadata": {},
   "outputs": [
    {
     "name": "stderr",
     "output_type": "stream",
     "text": [
      "C:\\Users\\lenovo pc\\AppData\\Local\\Temp\\ipykernel_3744\\3403197595.py:3: FutureWarning: The frame.append method is deprecated and will be removed from pandas in a future version. Use pandas.concat instead.\n",
      "  df.append({'Firstname':'Tony','Lastname':'Babra'}, ignore_index=True)\n"
     ]
    },
    {
     "data": {
      "text/html": [
       "<div>\n",
       "<style scoped>\n",
       "    .dataframe tbody tr th:only-of-type {\n",
       "        vertical-align: middle;\n",
       "    }\n",
       "\n",
       "    .dataframe tbody tr th {\n",
       "        vertical-align: top;\n",
       "    }\n",
       "\n",
       "    .dataframe thead th {\n",
       "        text-align: right;\n",
       "    }\n",
       "</style>\n",
       "<table border=\"1\" class=\"dataframe\">\n",
       "  <thead>\n",
       "    <tr style=\"text-align: right;\">\n",
       "      <th></th>\n",
       "      <th>email</th>\n",
       "      <th>Full_Name</th>\n",
       "      <th>Firstname</th>\n",
       "      <th>Lastname</th>\n",
       "    </tr>\n",
       "  </thead>\n",
       "  <tbody>\n",
       "    <tr>\n",
       "      <th>0</th>\n",
       "      <td>jack@gmail.com</td>\n",
       "      <td>Jack Rob</td>\n",
       "      <td>Jack</td>\n",
       "      <td>Rob</td>\n",
       "    </tr>\n",
       "    <tr>\n",
       "      <th>1</th>\n",
       "      <td>ben@gmail.com</td>\n",
       "      <td>Blade Aflex</td>\n",
       "      <td>Blade</td>\n",
       "      <td>Aflex</td>\n",
       "    </tr>\n",
       "    <tr>\n",
       "      <th>2</th>\n",
       "      <td>gin@gmail.com</td>\n",
       "      <td>Joy Rob</td>\n",
       "      <td>Joy</td>\n",
       "      <td>Rob</td>\n",
       "    </tr>\n",
       "    <tr>\n",
       "      <th>3</th>\n",
       "      <td>husk1@gmail.com</td>\n",
       "      <td>Husk smith</td>\n",
       "      <td>Husk</td>\n",
       "      <td>smith</td>\n",
       "    </tr>\n",
       "    <tr>\n",
       "      <th>4</th>\n",
       "      <td>NaN</td>\n",
       "      <td>NaN</td>\n",
       "      <td>Tony</td>\n",
       "      <td>Babra</td>\n",
       "    </tr>\n",
       "  </tbody>\n",
       "</table>\n",
       "</div>"
      ],
      "text/plain": [
       "             email    Full_Name Firstname Lastname\n",
       "0   jack@gmail.com     Jack Rob      Jack      Rob\n",
       "1    ben@gmail.com  Blade Aflex     Blade    Aflex\n",
       "2    gin@gmail.com      Joy Rob       Joy      Rob\n",
       "3  husk1@gmail.com   Husk smith      Husk    smith\n",
       "4              NaN          NaN      Tony    Babra"
      ]
     },
     "execution_count": 152,
     "metadata": {},
     "output_type": "execute_result"
    }
   ],
   "source": [
    "###let's look at adding a single row of data...we can use append method\n",
    "\n",
    "df.append({'Firstname':'Tony','Lastname':'Babra'}, ignore_index=True)"
   ]
  },
  {
   "cell_type": "code",
   "execution_count": null,
   "id": "7b08bfbf",
   "metadata": {},
   "outputs": [],
   "source": []
  },
  {
   "cell_type": "code",
   "execution_count": null,
   "id": "ce2a0776",
   "metadata": {},
   "outputs": [],
   "source": [
    "### \"NaN\" means \"Not a Number\" which is use for missing value"
   ]
  },
  {
   "cell_type": "code",
   "execution_count": null,
   "id": "e33e7397",
   "metadata": {},
   "outputs": [],
   "source": [
    "### To add a dataframe to existing dataframe.."
   ]
  },
  {
   "cell_type": "code",
   "execution_count": 162,
   "id": "1109618a",
   "metadata": {},
   "outputs": [],
   "source": [
    "people = {'Full_Name':['Tom Raj','Bidin Afro','Gem Rem'],'Firstname':['Tom','Bidin','Gem'],\n",
    "         'Lastname':['Raj','Afro','Rem']\n",
    "         \n",
    "    \n",
    "    \n",
    "    \n",
    "    \n",
    "}\n",
    "\n",
    "df2=pd.DataFrame(people)"
   ]
  },
  {
   "cell_type": "code",
   "execution_count": 163,
   "id": "af42282c",
   "metadata": {},
   "outputs": [
    {
     "data": {
      "text/html": [
       "<div>\n",
       "<style scoped>\n",
       "    .dataframe tbody tr th:only-of-type {\n",
       "        vertical-align: middle;\n",
       "    }\n",
       "\n",
       "    .dataframe tbody tr th {\n",
       "        vertical-align: top;\n",
       "    }\n",
       "\n",
       "    .dataframe thead th {\n",
       "        text-align: right;\n",
       "    }\n",
       "</style>\n",
       "<table border=\"1\" class=\"dataframe\">\n",
       "  <thead>\n",
       "    <tr style=\"text-align: right;\">\n",
       "      <th></th>\n",
       "      <th>Full_Name</th>\n",
       "      <th>Firstname</th>\n",
       "      <th>Lastname</th>\n",
       "    </tr>\n",
       "  </thead>\n",
       "  <tbody>\n",
       "    <tr>\n",
       "      <th>0</th>\n",
       "      <td>Tom Raj</td>\n",
       "      <td>Tom</td>\n",
       "      <td>Raj</td>\n",
       "    </tr>\n",
       "    <tr>\n",
       "      <th>1</th>\n",
       "      <td>Bidin Afro</td>\n",
       "      <td>Bidin</td>\n",
       "      <td>Afro</td>\n",
       "    </tr>\n",
       "    <tr>\n",
       "      <th>2</th>\n",
       "      <td>Gem Rem</td>\n",
       "      <td>Gem</td>\n",
       "      <td>Rem</td>\n",
       "    </tr>\n",
       "  </tbody>\n",
       "</table>\n",
       "</div>"
      ],
      "text/plain": [
       "    Full_Name Firstname Lastname\n",
       "0     Tom Raj       Tom      Raj\n",
       "1  Bidin Afro     Bidin     Afro\n",
       "2     Gem Rem       Gem      Rem"
      ]
     },
     "execution_count": 163,
     "metadata": {},
     "output_type": "execute_result"
    }
   ],
   "source": [
    "df2"
   ]
  },
  {
   "cell_type": "code",
   "execution_count": 176,
   "id": "7bdf8119",
   "metadata": {},
   "outputs": [
    {
     "name": "stderr",
     "output_type": "stream",
     "text": [
      "C:\\Users\\lenovo pc\\AppData\\Local\\Temp\\ipykernel_3744\\2147612749.py:4: FutureWarning: The frame.append method is deprecated and will be removed from pandas in a future version. Use pandas.concat instead.\n",
      "  df.append(df2,ignore_index=True)\n"
     ]
    },
    {
     "data": {
      "text/html": [
       "<div>\n",
       "<style scoped>\n",
       "    .dataframe tbody tr th:only-of-type {\n",
       "        vertical-align: middle;\n",
       "    }\n",
       "\n",
       "    .dataframe tbody tr th {\n",
       "        vertical-align: top;\n",
       "    }\n",
       "\n",
       "    .dataframe thead th {\n",
       "        text-align: right;\n",
       "    }\n",
       "</style>\n",
       "<table border=\"1\" class=\"dataframe\">\n",
       "  <thead>\n",
       "    <tr style=\"text-align: right;\">\n",
       "      <th></th>\n",
       "      <th>email</th>\n",
       "      <th>Full_Name</th>\n",
       "      <th>Firstname</th>\n",
       "      <th>Lastname</th>\n",
       "    </tr>\n",
       "  </thead>\n",
       "  <tbody>\n",
       "    <tr>\n",
       "      <th>0</th>\n",
       "      <td>jack@gmail.com</td>\n",
       "      <td>Jack Rob</td>\n",
       "      <td>Jack</td>\n",
       "      <td>Rob</td>\n",
       "    </tr>\n",
       "    <tr>\n",
       "      <th>1</th>\n",
       "      <td>ben@gmail.com</td>\n",
       "      <td>Blade Aflex</td>\n",
       "      <td>Blade</td>\n",
       "      <td>Aflex</td>\n",
       "    </tr>\n",
       "    <tr>\n",
       "      <th>2</th>\n",
       "      <td>gin@gmail.com</td>\n",
       "      <td>Joy Rob</td>\n",
       "      <td>Joy</td>\n",
       "      <td>Rob</td>\n",
       "    </tr>\n",
       "    <tr>\n",
       "      <th>3</th>\n",
       "      <td>husk1@gmail.com</td>\n",
       "      <td>Husk smith</td>\n",
       "      <td>Husk</td>\n",
       "      <td>smith</td>\n",
       "    </tr>\n",
       "    <tr>\n",
       "      <th>4</th>\n",
       "      <td>NaN</td>\n",
       "      <td>Tom Raj</td>\n",
       "      <td>Tom</td>\n",
       "      <td>Raj</td>\n",
       "    </tr>\n",
       "    <tr>\n",
       "      <th>5</th>\n",
       "      <td>NaN</td>\n",
       "      <td>Bidin Afro</td>\n",
       "      <td>Bidin</td>\n",
       "      <td>Afro</td>\n",
       "    </tr>\n",
       "    <tr>\n",
       "      <th>6</th>\n",
       "      <td>NaN</td>\n",
       "      <td>Gem Rem</td>\n",
       "      <td>Gem</td>\n",
       "      <td>Rem</td>\n",
       "    </tr>\n",
       "  </tbody>\n",
       "</table>\n",
       "</div>"
      ],
      "text/plain": [
       "             email    Full_Name Firstname Lastname\n",
       "0   jack@gmail.com     Jack Rob      Jack      Rob\n",
       "1    ben@gmail.com  Blade Aflex     Blade    Aflex\n",
       "2    gin@gmail.com      Joy Rob       Joy      Rob\n",
       "3  husk1@gmail.com   Husk smith      Husk    smith\n",
       "4              NaN      Tom Raj       Tom      Raj\n",
       "5              NaN   Bidin Afro     Bidin     Afro\n",
       "6              NaN      Gem Rem       Gem      Rem"
      ]
     },
     "execution_count": 176,
     "metadata": {},
     "output_type": "execute_result"
    }
   ],
   "source": [
    "#### let say we want to join this new dataframe to existing dataframe. note both dataframe column are \n",
    "### not inorder and they have conflicting indexes. therefore we need to ignore_index just like before.\n",
    "\n",
    "df.append(df2,ignore_index=True)"
   ]
  },
  {
   "cell_type": "code",
   "execution_count": 175,
   "id": "7eefda49",
   "metadata": {},
   "outputs": [
    {
     "data": {
      "text/html": [
       "<div>\n",
       "<style scoped>\n",
       "    .dataframe tbody tr th:only-of-type {\n",
       "        vertical-align: middle;\n",
       "    }\n",
       "\n",
       "    .dataframe tbody tr th {\n",
       "        vertical-align: top;\n",
       "    }\n",
       "\n",
       "    .dataframe thead th {\n",
       "        text-align: right;\n",
       "    }\n",
       "</style>\n",
       "<table border=\"1\" class=\"dataframe\">\n",
       "  <thead>\n",
       "    <tr style=\"text-align: right;\">\n",
       "      <th></th>\n",
       "      <th>email</th>\n",
       "      <th>Full_Name</th>\n",
       "      <th>Firstname</th>\n",
       "      <th>Lastname</th>\n",
       "    </tr>\n",
       "  </thead>\n",
       "  <tbody>\n",
       "    <tr>\n",
       "      <th>0</th>\n",
       "      <td>jack@gmail.com</td>\n",
       "      <td>Jack Rob</td>\n",
       "      <td>Jack</td>\n",
       "      <td>Rob</td>\n",
       "    </tr>\n",
       "    <tr>\n",
       "      <th>1</th>\n",
       "      <td>ben@gmail.com</td>\n",
       "      <td>Blade Aflex</td>\n",
       "      <td>Blade</td>\n",
       "      <td>Aflex</td>\n",
       "    </tr>\n",
       "    <tr>\n",
       "      <th>2</th>\n",
       "      <td>gin@gmail.com</td>\n",
       "      <td>Joy Rob</td>\n",
       "      <td>Joy</td>\n",
       "      <td>Rob</td>\n",
       "    </tr>\n",
       "    <tr>\n",
       "      <th>3</th>\n",
       "      <td>husk1@gmail.com</td>\n",
       "      <td>Husk smith</td>\n",
       "      <td>Husk</td>\n",
       "      <td>smith</td>\n",
       "    </tr>\n",
       "  </tbody>\n",
       "</table>\n",
       "</div>"
      ],
      "text/plain": [
       "             email    Full_Name Firstname Lastname\n",
       "0   jack@gmail.com     Jack Rob      Jack      Rob\n",
       "1    ben@gmail.com  Blade Aflex     Blade    Aflex\n",
       "2    gin@gmail.com      Joy Rob       Joy      Rob\n",
       "3  husk1@gmail.com   Husk smith      Husk    smith"
      ]
     },
     "execution_count": 175,
     "metadata": {},
     "output_type": "execute_result"
    }
   ],
   "source": [
    "df"
   ]
  },
  {
   "cell_type": "code",
   "execution_count": 177,
   "id": "c5a26e81",
   "metadata": {},
   "outputs": [
    {
     "name": "stderr",
     "output_type": "stream",
     "text": [
      "C:\\Users\\lenovo pc\\AppData\\Local\\Temp\\ipykernel_3744\\1001494011.py:3: FutureWarning: The frame.append method is deprecated and will be removed from pandas in a future version. Use pandas.concat instead.\n",
      "  df=df.append(df2,ignore_index=True)\n"
     ]
    }
   ],
   "source": [
    "#### if we want above changes to have effect on the dataframe...\n",
    "\n",
    "df=df.append(df2,ignore_index=True)"
   ]
  },
  {
   "cell_type": "code",
   "execution_count": 178,
   "id": "d004a7e5",
   "metadata": {},
   "outputs": [
    {
     "data": {
      "text/html": [
       "<div>\n",
       "<style scoped>\n",
       "    .dataframe tbody tr th:only-of-type {\n",
       "        vertical-align: middle;\n",
       "    }\n",
       "\n",
       "    .dataframe tbody tr th {\n",
       "        vertical-align: top;\n",
       "    }\n",
       "\n",
       "    .dataframe thead th {\n",
       "        text-align: right;\n",
       "    }\n",
       "</style>\n",
       "<table border=\"1\" class=\"dataframe\">\n",
       "  <thead>\n",
       "    <tr style=\"text-align: right;\">\n",
       "      <th></th>\n",
       "      <th>email</th>\n",
       "      <th>Full_Name</th>\n",
       "      <th>Firstname</th>\n",
       "      <th>Lastname</th>\n",
       "    </tr>\n",
       "  </thead>\n",
       "  <tbody>\n",
       "    <tr>\n",
       "      <th>0</th>\n",
       "      <td>jack@gmail.com</td>\n",
       "      <td>Jack Rob</td>\n",
       "      <td>Jack</td>\n",
       "      <td>Rob</td>\n",
       "    </tr>\n",
       "    <tr>\n",
       "      <th>1</th>\n",
       "      <td>ben@gmail.com</td>\n",
       "      <td>Blade Aflex</td>\n",
       "      <td>Blade</td>\n",
       "      <td>Aflex</td>\n",
       "    </tr>\n",
       "    <tr>\n",
       "      <th>2</th>\n",
       "      <td>gin@gmail.com</td>\n",
       "      <td>Joy Rob</td>\n",
       "      <td>Joy</td>\n",
       "      <td>Rob</td>\n",
       "    </tr>\n",
       "    <tr>\n",
       "      <th>3</th>\n",
       "      <td>husk1@gmail.com</td>\n",
       "      <td>Husk smith</td>\n",
       "      <td>Husk</td>\n",
       "      <td>smith</td>\n",
       "    </tr>\n",
       "    <tr>\n",
       "      <th>4</th>\n",
       "      <td>NaN</td>\n",
       "      <td>Tom Raj</td>\n",
       "      <td>Tom</td>\n",
       "      <td>Raj</td>\n",
       "    </tr>\n",
       "    <tr>\n",
       "      <th>5</th>\n",
       "      <td>NaN</td>\n",
       "      <td>Bidin Afro</td>\n",
       "      <td>Bidin</td>\n",
       "      <td>Afro</td>\n",
       "    </tr>\n",
       "    <tr>\n",
       "      <th>6</th>\n",
       "      <td>NaN</td>\n",
       "      <td>Gem Rem</td>\n",
       "      <td>Gem</td>\n",
       "      <td>Rem</td>\n",
       "    </tr>\n",
       "  </tbody>\n",
       "</table>\n",
       "</div>"
      ],
      "text/plain": [
       "             email    Full_Name Firstname Lastname\n",
       "0   jack@gmail.com     Jack Rob      Jack      Rob\n",
       "1    ben@gmail.com  Blade Aflex     Blade    Aflex\n",
       "2    gin@gmail.com      Joy Rob       Joy      Rob\n",
       "3  husk1@gmail.com   Husk smith      Husk    smith\n",
       "4              NaN      Tom Raj       Tom      Raj\n",
       "5              NaN   Bidin Afro     Bidin     Afro\n",
       "6              NaN      Gem Rem       Gem      Rem"
      ]
     },
     "execution_count": 178,
     "metadata": {},
     "output_type": "execute_result"
    }
   ],
   "source": [
    "df"
   ]
  },
  {
   "cell_type": "code",
   "execution_count": null,
   "id": "272d4598",
   "metadata": {},
   "outputs": [],
   "source": []
  },
  {
   "cell_type": "markdown",
   "id": "165343dc",
   "metadata": {},
   "source": [
    "##### removing rows from data/dataframe"
   ]
  },
  {
   "cell_type": "code",
   "execution_count": null,
   "id": "fc1d2b6b",
   "metadata": {},
   "outputs": [],
   "source": [
    "### we can achieve removing rows from the column by using \"drop\" function alongside with index in dataframe."
   ]
  },
  {
   "cell_type": "code",
   "execution_count": 181,
   "id": "5bc39d06",
   "metadata": {},
   "outputs": [
    {
     "data": {
      "text/html": [
       "<div>\n",
       "<style scoped>\n",
       "    .dataframe tbody tr th:only-of-type {\n",
       "        vertical-align: middle;\n",
       "    }\n",
       "\n",
       "    .dataframe tbody tr th {\n",
       "        vertical-align: top;\n",
       "    }\n",
       "\n",
       "    .dataframe thead th {\n",
       "        text-align: right;\n",
       "    }\n",
       "</style>\n",
       "<table border=\"1\" class=\"dataframe\">\n",
       "  <thead>\n",
       "    <tr style=\"text-align: right;\">\n",
       "      <th></th>\n",
       "      <th>email</th>\n",
       "      <th>Full_Name</th>\n",
       "      <th>Firstname</th>\n",
       "      <th>Lastname</th>\n",
       "    </tr>\n",
       "  </thead>\n",
       "  <tbody>\n",
       "    <tr>\n",
       "      <th>0</th>\n",
       "      <td>jack@gmail.com</td>\n",
       "      <td>Jack Rob</td>\n",
       "      <td>Jack</td>\n",
       "      <td>Rob</td>\n",
       "    </tr>\n",
       "    <tr>\n",
       "      <th>1</th>\n",
       "      <td>ben@gmail.com</td>\n",
       "      <td>Blade Aflex</td>\n",
       "      <td>Blade</td>\n",
       "      <td>Aflex</td>\n",
       "    </tr>\n",
       "    <tr>\n",
       "      <th>2</th>\n",
       "      <td>gin@gmail.com</td>\n",
       "      <td>Joy Rob</td>\n",
       "      <td>Joy</td>\n",
       "      <td>Rob</td>\n",
       "    </tr>\n",
       "    <tr>\n",
       "      <th>3</th>\n",
       "      <td>husk1@gmail.com</td>\n",
       "      <td>Husk smith</td>\n",
       "      <td>Husk</td>\n",
       "      <td>smith</td>\n",
       "    </tr>\n",
       "    <tr>\n",
       "      <th>5</th>\n",
       "      <td>NaN</td>\n",
       "      <td>Bidin Afro</td>\n",
       "      <td>Bidin</td>\n",
       "      <td>Afro</td>\n",
       "    </tr>\n",
       "    <tr>\n",
       "      <th>6</th>\n",
       "      <td>NaN</td>\n",
       "      <td>Gem Rem</td>\n",
       "      <td>Gem</td>\n",
       "      <td>Rem</td>\n",
       "    </tr>\n",
       "  </tbody>\n",
       "</table>\n",
       "</div>"
      ],
      "text/plain": [
       "             email    Full_Name Firstname Lastname\n",
       "0   jack@gmail.com     Jack Rob      Jack      Rob\n",
       "1    ben@gmail.com  Blade Aflex     Blade    Aflex\n",
       "2    gin@gmail.com      Joy Rob       Joy      Rob\n",
       "3  husk1@gmail.com   Husk smith      Husk    smith\n",
       "5              NaN   Bidin Afro     Bidin     Afro\n",
       "6              NaN      Gem Rem       Gem      Rem"
      ]
     },
     "execution_count": 181,
     "metadata": {},
     "output_type": "execute_result"
    }
   ],
   "source": [
    "df.drop(index=4)"
   ]
  },
  {
   "cell_type": "code",
   "execution_count": null,
   "id": "0155814b",
   "metadata": {},
   "outputs": [],
   "source": [
    "### But if we want effect to take place then we have to include \"inplace = True\""
   ]
  },
  {
   "cell_type": "code",
   "execution_count": 182,
   "id": "c40ae0ef",
   "metadata": {},
   "outputs": [
    {
     "data": {
      "text/html": [
       "<div>\n",
       "<style scoped>\n",
       "    .dataframe tbody tr th:only-of-type {\n",
       "        vertical-align: middle;\n",
       "    }\n",
       "\n",
       "    .dataframe tbody tr th {\n",
       "        vertical-align: top;\n",
       "    }\n",
       "\n",
       "    .dataframe thead th {\n",
       "        text-align: right;\n",
       "    }\n",
       "</style>\n",
       "<table border=\"1\" class=\"dataframe\">\n",
       "  <thead>\n",
       "    <tr style=\"text-align: right;\">\n",
       "      <th></th>\n",
       "      <th>email</th>\n",
       "      <th>Full_Name</th>\n",
       "      <th>Firstname</th>\n",
       "      <th>Lastname</th>\n",
       "    </tr>\n",
       "  </thead>\n",
       "  <tbody>\n",
       "    <tr>\n",
       "      <th>0</th>\n",
       "      <td>jack@gmail.com</td>\n",
       "      <td>Jack Rob</td>\n",
       "      <td>Jack</td>\n",
       "      <td>Rob</td>\n",
       "    </tr>\n",
       "    <tr>\n",
       "      <th>1</th>\n",
       "      <td>ben@gmail.com</td>\n",
       "      <td>Blade Aflex</td>\n",
       "      <td>Blade</td>\n",
       "      <td>Aflex</td>\n",
       "    </tr>\n",
       "    <tr>\n",
       "      <th>2</th>\n",
       "      <td>gin@gmail.com</td>\n",
       "      <td>Joy Rob</td>\n",
       "      <td>Joy</td>\n",
       "      <td>Rob</td>\n",
       "    </tr>\n",
       "    <tr>\n",
       "      <th>3</th>\n",
       "      <td>husk1@gmail.com</td>\n",
       "      <td>Husk smith</td>\n",
       "      <td>Husk</td>\n",
       "      <td>smith</td>\n",
       "    </tr>\n",
       "    <tr>\n",
       "      <th>4</th>\n",
       "      <td>NaN</td>\n",
       "      <td>Tom Raj</td>\n",
       "      <td>Tom</td>\n",
       "      <td>Raj</td>\n",
       "    </tr>\n",
       "    <tr>\n",
       "      <th>5</th>\n",
       "      <td>NaN</td>\n",
       "      <td>Bidin Afro</td>\n",
       "      <td>Bidin</td>\n",
       "      <td>Afro</td>\n",
       "    </tr>\n",
       "    <tr>\n",
       "      <th>6</th>\n",
       "      <td>NaN</td>\n",
       "      <td>Gem Rem</td>\n",
       "      <td>Gem</td>\n",
       "      <td>Rem</td>\n",
       "    </tr>\n",
       "  </tbody>\n",
       "</table>\n",
       "</div>"
      ],
      "text/plain": [
       "             email    Full_Name Firstname Lastname\n",
       "0   jack@gmail.com     Jack Rob      Jack      Rob\n",
       "1    ben@gmail.com  Blade Aflex     Blade    Aflex\n",
       "2    gin@gmail.com      Joy Rob       Joy      Rob\n",
       "3  husk1@gmail.com   Husk smith      Husk    smith\n",
       "4              NaN      Tom Raj       Tom      Raj\n",
       "5              NaN   Bidin Afro     Bidin     Afro\n",
       "6              NaN      Gem Rem       Gem      Rem"
      ]
     },
     "execution_count": 182,
     "metadata": {},
     "output_type": "execute_result"
    }
   ],
   "source": [
    "df"
   ]
  },
  {
   "cell_type": "code",
   "execution_count": 183,
   "id": "ee19313d",
   "metadata": {},
   "outputs": [],
   "source": [
    "df.drop(index=4, inplace=True)"
   ]
  },
  {
   "cell_type": "code",
   "execution_count": 184,
   "id": "62484555",
   "metadata": {},
   "outputs": [
    {
     "data": {
      "text/html": [
       "<div>\n",
       "<style scoped>\n",
       "    .dataframe tbody tr th:only-of-type {\n",
       "        vertical-align: middle;\n",
       "    }\n",
       "\n",
       "    .dataframe tbody tr th {\n",
       "        vertical-align: top;\n",
       "    }\n",
       "\n",
       "    .dataframe thead th {\n",
       "        text-align: right;\n",
       "    }\n",
       "</style>\n",
       "<table border=\"1\" class=\"dataframe\">\n",
       "  <thead>\n",
       "    <tr style=\"text-align: right;\">\n",
       "      <th></th>\n",
       "      <th>email</th>\n",
       "      <th>Full_Name</th>\n",
       "      <th>Firstname</th>\n",
       "      <th>Lastname</th>\n",
       "    </tr>\n",
       "  </thead>\n",
       "  <tbody>\n",
       "    <tr>\n",
       "      <th>0</th>\n",
       "      <td>jack@gmail.com</td>\n",
       "      <td>Jack Rob</td>\n",
       "      <td>Jack</td>\n",
       "      <td>Rob</td>\n",
       "    </tr>\n",
       "    <tr>\n",
       "      <th>1</th>\n",
       "      <td>ben@gmail.com</td>\n",
       "      <td>Blade Aflex</td>\n",
       "      <td>Blade</td>\n",
       "      <td>Aflex</td>\n",
       "    </tr>\n",
       "    <tr>\n",
       "      <th>2</th>\n",
       "      <td>gin@gmail.com</td>\n",
       "      <td>Joy Rob</td>\n",
       "      <td>Joy</td>\n",
       "      <td>Rob</td>\n",
       "    </tr>\n",
       "    <tr>\n",
       "      <th>3</th>\n",
       "      <td>husk1@gmail.com</td>\n",
       "      <td>Husk smith</td>\n",
       "      <td>Husk</td>\n",
       "      <td>smith</td>\n",
       "    </tr>\n",
       "    <tr>\n",
       "      <th>5</th>\n",
       "      <td>NaN</td>\n",
       "      <td>Bidin Afro</td>\n",
       "      <td>Bidin</td>\n",
       "      <td>Afro</td>\n",
       "    </tr>\n",
       "    <tr>\n",
       "      <th>6</th>\n",
       "      <td>NaN</td>\n",
       "      <td>Gem Rem</td>\n",
       "      <td>Gem</td>\n",
       "      <td>Rem</td>\n",
       "    </tr>\n",
       "  </tbody>\n",
       "</table>\n",
       "</div>"
      ],
      "text/plain": [
       "             email    Full_Name Firstname Lastname\n",
       "0   jack@gmail.com     Jack Rob      Jack      Rob\n",
       "1    ben@gmail.com  Blade Aflex     Blade    Aflex\n",
       "2    gin@gmail.com      Joy Rob       Joy      Rob\n",
       "3  husk1@gmail.com   Husk smith      Husk    smith\n",
       "5              NaN   Bidin Afro     Bidin     Afro\n",
       "6              NaN      Gem Rem       Gem      Rem"
      ]
     },
     "execution_count": 184,
     "metadata": {},
     "output_type": "execute_result"
    }
   ],
   "source": [
    "df"
   ]
  },
  {
   "cell_type": "code",
   "execution_count": 186,
   "id": "e4e4a93b",
   "metadata": {},
   "outputs": [
    {
     "data": {
      "text/html": [
       "<div>\n",
       "<style scoped>\n",
       "    .dataframe tbody tr th:only-of-type {\n",
       "        vertical-align: middle;\n",
       "    }\n",
       "\n",
       "    .dataframe tbody tr th {\n",
       "        vertical-align: top;\n",
       "    }\n",
       "\n",
       "    .dataframe thead th {\n",
       "        text-align: right;\n",
       "    }\n",
       "</style>\n",
       "<table border=\"1\" class=\"dataframe\">\n",
       "  <thead>\n",
       "    <tr style=\"text-align: right;\">\n",
       "      <th></th>\n",
       "      <th>email</th>\n",
       "      <th>Full_Name</th>\n",
       "      <th>Firstname</th>\n",
       "      <th>Lastname</th>\n",
       "    </tr>\n",
       "  </thead>\n",
       "  <tbody>\n",
       "    <tr>\n",
       "      <th>1</th>\n",
       "      <td>ben@gmail.com</td>\n",
       "      <td>Blade Aflex</td>\n",
       "      <td>Blade</td>\n",
       "      <td>Aflex</td>\n",
       "    </tr>\n",
       "    <tr>\n",
       "      <th>3</th>\n",
       "      <td>husk1@gmail.com</td>\n",
       "      <td>Husk smith</td>\n",
       "      <td>Husk</td>\n",
       "      <td>smith</td>\n",
       "    </tr>\n",
       "    <tr>\n",
       "      <th>5</th>\n",
       "      <td>NaN</td>\n",
       "      <td>Bidin Afro</td>\n",
       "      <td>Bidin</td>\n",
       "      <td>Afro</td>\n",
       "    </tr>\n",
       "    <tr>\n",
       "      <th>6</th>\n",
       "      <td>NaN</td>\n",
       "      <td>Gem Rem</td>\n",
       "      <td>Gem</td>\n",
       "      <td>Rem</td>\n",
       "    </tr>\n",
       "  </tbody>\n",
       "</table>\n",
       "</div>"
      ],
      "text/plain": [
       "             email    Full_Name Firstname Lastname\n",
       "1    ben@gmail.com  Blade Aflex     Blade    Aflex\n",
       "3  husk1@gmail.com   Husk smith      Husk    smith\n",
       "5              NaN   Bidin Afro     Bidin     Afro\n",
       "6              NaN      Gem Rem       Gem      Rem"
      ]
     },
     "execution_count": 186,
     "metadata": {},
     "output_type": "execute_result"
    }
   ],
   "source": [
    "##### if i want to drop all the rows where lastname is \"Rob\", we can pass in the indexes of those rows\n",
    "\n",
    "df.drop(index= df[df['Lastname'] == 'Rob'].index)\n",
    "\n"
   ]
  },
  {
   "cell_type": "code",
   "execution_count": 187,
   "id": "6c2b8713",
   "metadata": {},
   "outputs": [
    {
     "data": {
      "text/html": [
       "<div>\n",
       "<style scoped>\n",
       "    .dataframe tbody tr th:only-of-type {\n",
       "        vertical-align: middle;\n",
       "    }\n",
       "\n",
       "    .dataframe tbody tr th {\n",
       "        vertical-align: top;\n",
       "    }\n",
       "\n",
       "    .dataframe thead th {\n",
       "        text-align: right;\n",
       "    }\n",
       "</style>\n",
       "<table border=\"1\" class=\"dataframe\">\n",
       "  <thead>\n",
       "    <tr style=\"text-align: right;\">\n",
       "      <th></th>\n",
       "      <th>email</th>\n",
       "      <th>Full_Name</th>\n",
       "      <th>Firstname</th>\n",
       "      <th>Lastname</th>\n",
       "    </tr>\n",
       "  </thead>\n",
       "  <tbody>\n",
       "    <tr>\n",
       "      <th>1</th>\n",
       "      <td>ben@gmail.com</td>\n",
       "      <td>Blade Aflex</td>\n",
       "      <td>Blade</td>\n",
       "      <td>Aflex</td>\n",
       "    </tr>\n",
       "    <tr>\n",
       "      <th>3</th>\n",
       "      <td>husk1@gmail.com</td>\n",
       "      <td>Husk smith</td>\n",
       "      <td>Husk</td>\n",
       "      <td>smith</td>\n",
       "    </tr>\n",
       "    <tr>\n",
       "      <th>5</th>\n",
       "      <td>NaN</td>\n",
       "      <td>Bidin Afro</td>\n",
       "      <td>Bidin</td>\n",
       "      <td>Afro</td>\n",
       "    </tr>\n",
       "    <tr>\n",
       "      <th>6</th>\n",
       "      <td>NaN</td>\n",
       "      <td>Gem Rem</td>\n",
       "      <td>Gem</td>\n",
       "      <td>Rem</td>\n",
       "    </tr>\n",
       "  </tbody>\n",
       "</table>\n",
       "</div>"
      ],
      "text/plain": [
       "             email    Full_Name Firstname Lastname\n",
       "1    ben@gmail.com  Blade Aflex     Blade    Aflex\n",
       "3  husk1@gmail.com   Husk smith      Husk    smith\n",
       "5              NaN   Bidin Afro     Bidin     Afro\n",
       "6              NaN      Gem Rem       Gem      Rem"
      ]
     },
     "execution_count": 187,
     "metadata": {},
     "output_type": "execute_result"
    }
   ],
   "source": [
    "#####if i want to drop all the rows where lastname is \"Rob\", we can pass in the indexes of those rows\n",
    "\n",
    "filt = df['Lastname'] == 'Rob'  #### Another method......\n",
    "df.drop(index=df[filt].index)"
   ]
  },
  {
   "cell_type": "code",
   "execution_count": null,
   "id": "bd732b2f",
   "metadata": {},
   "outputs": [],
   "source": []
  },
  {
   "cell_type": "code",
   "execution_count": 188,
   "id": "72724669",
   "metadata": {},
   "outputs": [
    {
     "data": {
      "text/html": [
       "<div>\n",
       "<style scoped>\n",
       "    .dataframe tbody tr th:only-of-type {\n",
       "        vertical-align: middle;\n",
       "    }\n",
       "\n",
       "    .dataframe tbody tr th {\n",
       "        vertical-align: top;\n",
       "    }\n",
       "\n",
       "    .dataframe thead th {\n",
       "        text-align: right;\n",
       "    }\n",
       "</style>\n",
       "<table border=\"1\" class=\"dataframe\">\n",
       "  <thead>\n",
       "    <tr style=\"text-align: right;\">\n",
       "      <th></th>\n",
       "      <th>email</th>\n",
       "      <th>Full_Name</th>\n",
       "      <th>Firstname</th>\n",
       "      <th>Lastname</th>\n",
       "    </tr>\n",
       "  </thead>\n",
       "  <tbody>\n",
       "    <tr>\n",
       "      <th>0</th>\n",
       "      <td>jack@gmail.com</td>\n",
       "      <td>Jack Rob</td>\n",
       "      <td>Jack</td>\n",
       "      <td>Rob</td>\n",
       "    </tr>\n",
       "    <tr>\n",
       "      <th>1</th>\n",
       "      <td>ben@gmail.com</td>\n",
       "      <td>Blade Aflex</td>\n",
       "      <td>Blade</td>\n",
       "      <td>Aflex</td>\n",
       "    </tr>\n",
       "    <tr>\n",
       "      <th>2</th>\n",
       "      <td>gin@gmail.com</td>\n",
       "      <td>Joy Rob</td>\n",
       "      <td>Joy</td>\n",
       "      <td>Rob</td>\n",
       "    </tr>\n",
       "    <tr>\n",
       "      <th>3</th>\n",
       "      <td>husk1@gmail.com</td>\n",
       "      <td>Husk smith</td>\n",
       "      <td>Husk</td>\n",
       "      <td>smith</td>\n",
       "    </tr>\n",
       "    <tr>\n",
       "      <th>5</th>\n",
       "      <td>NaN</td>\n",
       "      <td>Bidin Afro</td>\n",
       "      <td>Bidin</td>\n",
       "      <td>Afro</td>\n",
       "    </tr>\n",
       "    <tr>\n",
       "      <th>6</th>\n",
       "      <td>NaN</td>\n",
       "      <td>Gem Rem</td>\n",
       "      <td>Gem</td>\n",
       "      <td>Rem</td>\n",
       "    </tr>\n",
       "  </tbody>\n",
       "</table>\n",
       "</div>"
      ],
      "text/plain": [
       "             email    Full_Name Firstname Lastname\n",
       "0   jack@gmail.com     Jack Rob      Jack      Rob\n",
       "1    ben@gmail.com  Blade Aflex     Blade    Aflex\n",
       "2    gin@gmail.com      Joy Rob       Joy      Rob\n",
       "3  husk1@gmail.com   Husk smith      Husk    smith\n",
       "5              NaN   Bidin Afro     Bidin     Afro\n",
       "6              NaN      Gem Rem       Gem      Rem"
      ]
     },
     "execution_count": 188,
     "metadata": {},
     "output_type": "execute_result"
    }
   ],
   "source": [
    "df"
   ]
  },
  {
   "cell_type": "code",
   "execution_count": 189,
   "id": "7e19a130",
   "metadata": {},
   "outputs": [
    {
     "data": {
      "text/html": [
       "<div>\n",
       "<style scoped>\n",
       "    .dataframe tbody tr th:only-of-type {\n",
       "        vertical-align: middle;\n",
       "    }\n",
       "\n",
       "    .dataframe tbody tr th {\n",
       "        vertical-align: top;\n",
       "    }\n",
       "\n",
       "    .dataframe thead th {\n",
       "        text-align: right;\n",
       "    }\n",
       "</style>\n",
       "<table border=\"1\" class=\"dataframe\">\n",
       "  <thead>\n",
       "    <tr style=\"text-align: right;\">\n",
       "      <th></th>\n",
       "      <th>email</th>\n",
       "      <th>Full_Name</th>\n",
       "      <th>Firstname</th>\n",
       "      <th>Lastname</th>\n",
       "    </tr>\n",
       "  </thead>\n",
       "  <tbody>\n",
       "    <tr>\n",
       "      <th>1</th>\n",
       "      <td>ben@gmail.com</td>\n",
       "      <td>Blade Aflex</td>\n",
       "      <td>Blade</td>\n",
       "      <td>Aflex</td>\n",
       "    </tr>\n",
       "    <tr>\n",
       "      <th>2</th>\n",
       "      <td>gin@gmail.com</td>\n",
       "      <td>Joy Rob</td>\n",
       "      <td>Joy</td>\n",
       "      <td>Rob</td>\n",
       "    </tr>\n",
       "    <tr>\n",
       "      <th>3</th>\n",
       "      <td>husk1@gmail.com</td>\n",
       "      <td>Husk smith</td>\n",
       "      <td>Husk</td>\n",
       "      <td>smith</td>\n",
       "    </tr>\n",
       "    <tr>\n",
       "      <th>5</th>\n",
       "      <td>NaN</td>\n",
       "      <td>Bidin Afro</td>\n",
       "      <td>Bidin</td>\n",
       "      <td>Afro</td>\n",
       "    </tr>\n",
       "    <tr>\n",
       "      <th>6</th>\n",
       "      <td>NaN</td>\n",
       "      <td>Gem Rem</td>\n",
       "      <td>Gem</td>\n",
       "      <td>Rem</td>\n",
       "    </tr>\n",
       "  </tbody>\n",
       "</table>\n",
       "</div>"
      ],
      "text/plain": [
       "             email    Full_Name Firstname Lastname\n",
       "1    ben@gmail.com  Blade Aflex     Blade    Aflex\n",
       "2    gin@gmail.com      Joy Rob       Joy      Rob\n",
       "3  husk1@gmail.com   Husk smith      Husk    smith\n",
       "5              NaN   Bidin Afro     Bidin     Afro\n",
       "6              NaN      Gem Rem       Gem      Rem"
      ]
     },
     "execution_count": 189,
     "metadata": {},
     "output_type": "execute_result"
    }
   ],
   "source": [
    "filt = df['Firstname'] == 'Jack'\n",
    "df.drop(index=df[filt].index)"
   ]
  },
  {
   "cell_type": "code",
   "execution_count": null,
   "id": "9ea4e5aa",
   "metadata": {},
   "outputs": [],
   "source": []
  },
  {
   "cell_type": "markdown",
   "id": "7cc9fd3c",
   "metadata": {},
   "source": [
    "##### Sorting Data"
   ]
  },
  {
   "cell_type": "code",
   "execution_count": 190,
   "id": "08351d49",
   "metadata": {},
   "outputs": [
    {
     "data": {
      "text/html": [
       "<div>\n",
       "<style scoped>\n",
       "    .dataframe tbody tr th:only-of-type {\n",
       "        vertical-align: middle;\n",
       "    }\n",
       "\n",
       "    .dataframe tbody tr th {\n",
       "        vertical-align: top;\n",
       "    }\n",
       "\n",
       "    .dataframe thead th {\n",
       "        text-align: right;\n",
       "    }\n",
       "</style>\n",
       "<table border=\"1\" class=\"dataframe\">\n",
       "  <thead>\n",
       "    <tr style=\"text-align: right;\">\n",
       "      <th></th>\n",
       "      <th>email</th>\n",
       "      <th>Full_Name</th>\n",
       "      <th>Firstname</th>\n",
       "      <th>Lastname</th>\n",
       "    </tr>\n",
       "  </thead>\n",
       "  <tbody>\n",
       "    <tr>\n",
       "      <th>0</th>\n",
       "      <td>jack@gmail.com</td>\n",
       "      <td>Jack Rob</td>\n",
       "      <td>Jack</td>\n",
       "      <td>Rob</td>\n",
       "    </tr>\n",
       "    <tr>\n",
       "      <th>1</th>\n",
       "      <td>ben@gmail.com</td>\n",
       "      <td>Blade Aflex</td>\n",
       "      <td>Blade</td>\n",
       "      <td>Aflex</td>\n",
       "    </tr>\n",
       "    <tr>\n",
       "      <th>2</th>\n",
       "      <td>gin@gmail.com</td>\n",
       "      <td>Joy Rob</td>\n",
       "      <td>Joy</td>\n",
       "      <td>Rob</td>\n",
       "    </tr>\n",
       "    <tr>\n",
       "      <th>3</th>\n",
       "      <td>husk1@gmail.com</td>\n",
       "      <td>Husk smith</td>\n",
       "      <td>Husk</td>\n",
       "      <td>smith</td>\n",
       "    </tr>\n",
       "    <tr>\n",
       "      <th>5</th>\n",
       "      <td>NaN</td>\n",
       "      <td>Bidin Afro</td>\n",
       "      <td>Bidin</td>\n",
       "      <td>Afro</td>\n",
       "    </tr>\n",
       "    <tr>\n",
       "      <th>6</th>\n",
       "      <td>NaN</td>\n",
       "      <td>Gem Rem</td>\n",
       "      <td>Gem</td>\n",
       "      <td>Rem</td>\n",
       "    </tr>\n",
       "  </tbody>\n",
       "</table>\n",
       "</div>"
      ],
      "text/plain": [
       "             email    Full_Name Firstname Lastname\n",
       "0   jack@gmail.com     Jack Rob      Jack      Rob\n",
       "1    ben@gmail.com  Blade Aflex     Blade    Aflex\n",
       "2    gin@gmail.com      Joy Rob       Joy      Rob\n",
       "3  husk1@gmail.com   Husk smith      Husk    smith\n",
       "5              NaN   Bidin Afro     Bidin     Afro\n",
       "6              NaN      Gem Rem       Gem      Rem"
      ]
     },
     "execution_count": 190,
     "metadata": {},
     "output_type": "execute_result"
    }
   ],
   "source": [
    "df"
   ]
  },
  {
   "cell_type": "code",
   "execution_count": 191,
   "id": "773bd904",
   "metadata": {},
   "outputs": [
    {
     "data": {
      "text/html": [
       "<div>\n",
       "<style scoped>\n",
       "    .dataframe tbody tr th:only-of-type {\n",
       "        vertical-align: middle;\n",
       "    }\n",
       "\n",
       "    .dataframe tbody tr th {\n",
       "        vertical-align: top;\n",
       "    }\n",
       "\n",
       "    .dataframe thead th {\n",
       "        text-align: right;\n",
       "    }\n",
       "</style>\n",
       "<table border=\"1\" class=\"dataframe\">\n",
       "  <thead>\n",
       "    <tr style=\"text-align: right;\">\n",
       "      <th></th>\n",
       "      <th>email</th>\n",
       "      <th>Full_Name</th>\n",
       "      <th>Firstname</th>\n",
       "      <th>Lastname</th>\n",
       "    </tr>\n",
       "  </thead>\n",
       "  <tbody>\n",
       "    <tr>\n",
       "      <th>1</th>\n",
       "      <td>ben@gmail.com</td>\n",
       "      <td>Blade Aflex</td>\n",
       "      <td>Blade</td>\n",
       "      <td>Aflex</td>\n",
       "    </tr>\n",
       "    <tr>\n",
       "      <th>5</th>\n",
       "      <td>NaN</td>\n",
       "      <td>Bidin Afro</td>\n",
       "      <td>Bidin</td>\n",
       "      <td>Afro</td>\n",
       "    </tr>\n",
       "    <tr>\n",
       "      <th>6</th>\n",
       "      <td>NaN</td>\n",
       "      <td>Gem Rem</td>\n",
       "      <td>Gem</td>\n",
       "      <td>Rem</td>\n",
       "    </tr>\n",
       "    <tr>\n",
       "      <th>0</th>\n",
       "      <td>jack@gmail.com</td>\n",
       "      <td>Jack Rob</td>\n",
       "      <td>Jack</td>\n",
       "      <td>Rob</td>\n",
       "    </tr>\n",
       "    <tr>\n",
       "      <th>2</th>\n",
       "      <td>gin@gmail.com</td>\n",
       "      <td>Joy Rob</td>\n",
       "      <td>Joy</td>\n",
       "      <td>Rob</td>\n",
       "    </tr>\n",
       "    <tr>\n",
       "      <th>3</th>\n",
       "      <td>husk1@gmail.com</td>\n",
       "      <td>Husk smith</td>\n",
       "      <td>Husk</td>\n",
       "      <td>smith</td>\n",
       "    </tr>\n",
       "  </tbody>\n",
       "</table>\n",
       "</div>"
      ],
      "text/plain": [
       "             email    Full_Name Firstname Lastname\n",
       "1    ben@gmail.com  Blade Aflex     Blade    Aflex\n",
       "5              NaN   Bidin Afro     Bidin     Afro\n",
       "6              NaN      Gem Rem       Gem      Rem\n",
       "0   jack@gmail.com     Jack Rob      Jack      Rob\n",
       "2    gin@gmail.com      Joy Rob       Joy      Rob\n",
       "3  husk1@gmail.com   Husk smith      Husk    smith"
      ]
     },
     "execution_count": 191,
     "metadata": {},
     "output_type": "execute_result"
    }
   ],
   "source": [
    "#### let's assume above dataframe needed to be sorted by \"Lastname\"\n",
    "\n",
    "df.sort_values(by='Lastname')       ### As you can see, \"Lastname\" was sorted out alphabetically."
   ]
  },
  {
   "cell_type": "code",
   "execution_count": 192,
   "id": "7c6d4e10",
   "metadata": {},
   "outputs": [
    {
     "data": {
      "text/html": [
       "<div>\n",
       "<style scoped>\n",
       "    .dataframe tbody tr th:only-of-type {\n",
       "        vertical-align: middle;\n",
       "    }\n",
       "\n",
       "    .dataframe tbody tr th {\n",
       "        vertical-align: top;\n",
       "    }\n",
       "\n",
       "    .dataframe thead th {\n",
       "        text-align: right;\n",
       "    }\n",
       "</style>\n",
       "<table border=\"1\" class=\"dataframe\">\n",
       "  <thead>\n",
       "    <tr style=\"text-align: right;\">\n",
       "      <th></th>\n",
       "      <th>email</th>\n",
       "      <th>Full_Name</th>\n",
       "      <th>Firstname</th>\n",
       "      <th>Lastname</th>\n",
       "    </tr>\n",
       "  </thead>\n",
       "  <tbody>\n",
       "    <tr>\n",
       "      <th>3</th>\n",
       "      <td>husk1@gmail.com</td>\n",
       "      <td>Husk smith</td>\n",
       "      <td>Husk</td>\n",
       "      <td>smith</td>\n",
       "    </tr>\n",
       "    <tr>\n",
       "      <th>0</th>\n",
       "      <td>jack@gmail.com</td>\n",
       "      <td>Jack Rob</td>\n",
       "      <td>Jack</td>\n",
       "      <td>Rob</td>\n",
       "    </tr>\n",
       "    <tr>\n",
       "      <th>2</th>\n",
       "      <td>gin@gmail.com</td>\n",
       "      <td>Joy Rob</td>\n",
       "      <td>Joy</td>\n",
       "      <td>Rob</td>\n",
       "    </tr>\n",
       "    <tr>\n",
       "      <th>6</th>\n",
       "      <td>NaN</td>\n",
       "      <td>Gem Rem</td>\n",
       "      <td>Gem</td>\n",
       "      <td>Rem</td>\n",
       "    </tr>\n",
       "    <tr>\n",
       "      <th>5</th>\n",
       "      <td>NaN</td>\n",
       "      <td>Bidin Afro</td>\n",
       "      <td>Bidin</td>\n",
       "      <td>Afro</td>\n",
       "    </tr>\n",
       "    <tr>\n",
       "      <th>1</th>\n",
       "      <td>ben@gmail.com</td>\n",
       "      <td>Blade Aflex</td>\n",
       "      <td>Blade</td>\n",
       "      <td>Aflex</td>\n",
       "    </tr>\n",
       "  </tbody>\n",
       "</table>\n",
       "</div>"
      ],
      "text/plain": [
       "             email    Full_Name Firstname Lastname\n",
       "3  husk1@gmail.com   Husk smith      Husk    smith\n",
       "0   jack@gmail.com     Jack Rob      Jack      Rob\n",
       "2    gin@gmail.com      Joy Rob       Joy      Rob\n",
       "6              NaN      Gem Rem       Gem      Rem\n",
       "5              NaN   Bidin Afro     Bidin     Afro\n",
       "1    ben@gmail.com  Blade Aflex     Blade    Aflex"
      ]
     },
     "execution_count": 192,
     "metadata": {},
     "output_type": "execute_result"
    }
   ],
   "source": [
    "### Assuming you want to sort it out by descending order.\n",
    "\n",
    "df.sort_values(by='Lastname', ascending=False)"
   ]
  },
  {
   "cell_type": "code",
   "execution_count": 193,
   "id": "60344193",
   "metadata": {},
   "outputs": [
    {
     "data": {
      "text/html": [
       "<div>\n",
       "<style scoped>\n",
       "    .dataframe tbody tr th:only-of-type {\n",
       "        vertical-align: middle;\n",
       "    }\n",
       "\n",
       "    .dataframe tbody tr th {\n",
       "        vertical-align: top;\n",
       "    }\n",
       "\n",
       "    .dataframe thead th {\n",
       "        text-align: right;\n",
       "    }\n",
       "</style>\n",
       "<table border=\"1\" class=\"dataframe\">\n",
       "  <thead>\n",
       "    <tr style=\"text-align: right;\">\n",
       "      <th></th>\n",
       "      <th>email</th>\n",
       "      <th>Full_Name</th>\n",
       "      <th>Firstname</th>\n",
       "      <th>Lastname</th>\n",
       "    </tr>\n",
       "  </thead>\n",
       "  <tbody>\n",
       "    <tr>\n",
       "      <th>3</th>\n",
       "      <td>husk1@gmail.com</td>\n",
       "      <td>Husk smith</td>\n",
       "      <td>Husk</td>\n",
       "      <td>smith</td>\n",
       "    </tr>\n",
       "    <tr>\n",
       "      <th>2</th>\n",
       "      <td>gin@gmail.com</td>\n",
       "      <td>Joy Rob</td>\n",
       "      <td>Joy</td>\n",
       "      <td>Rob</td>\n",
       "    </tr>\n",
       "    <tr>\n",
       "      <th>0</th>\n",
       "      <td>jack@gmail.com</td>\n",
       "      <td>Jack Rob</td>\n",
       "      <td>Jack</td>\n",
       "      <td>Rob</td>\n",
       "    </tr>\n",
       "    <tr>\n",
       "      <th>6</th>\n",
       "      <td>NaN</td>\n",
       "      <td>Gem Rem</td>\n",
       "      <td>Gem</td>\n",
       "      <td>Rem</td>\n",
       "    </tr>\n",
       "    <tr>\n",
       "      <th>5</th>\n",
       "      <td>NaN</td>\n",
       "      <td>Bidin Afro</td>\n",
       "      <td>Bidin</td>\n",
       "      <td>Afro</td>\n",
       "    </tr>\n",
       "    <tr>\n",
       "      <th>1</th>\n",
       "      <td>ben@gmail.com</td>\n",
       "      <td>Blade Aflex</td>\n",
       "      <td>Blade</td>\n",
       "      <td>Aflex</td>\n",
       "    </tr>\n",
       "  </tbody>\n",
       "</table>\n",
       "</div>"
      ],
      "text/plain": [
       "             email    Full_Name Firstname Lastname\n",
       "3  husk1@gmail.com   Husk smith      Husk    smith\n",
       "2    gin@gmail.com      Joy Rob       Joy      Rob\n",
       "0   jack@gmail.com     Jack Rob      Jack      Rob\n",
       "6              NaN      Gem Rem       Gem      Rem\n",
       "5              NaN   Bidin Afro     Bidin     Afro\n",
       "1    ben@gmail.com  Blade Aflex     Blade    Aflex"
      ]
     },
     "execution_count": 193,
     "metadata": {},
     "output_type": "execute_result"
    }
   ],
   "source": [
    "#### Assuming you want to sort out two columns from dataframe at the same time.\n",
    "\n",
    "df.sort_values(by=['Lastname','Firstname'], ascending=False)"
   ]
  },
  {
   "cell_type": "code",
   "execution_count": null,
   "id": "9505e0bc",
   "metadata": {},
   "outputs": [],
   "source": []
  },
  {
   "cell_type": "code",
   "execution_count": 194,
   "id": "37d02121",
   "metadata": {},
   "outputs": [
    {
     "data": {
      "text/html": [
       "<div>\n",
       "<style scoped>\n",
       "    .dataframe tbody tr th:only-of-type {\n",
       "        vertical-align: middle;\n",
       "    }\n",
       "\n",
       "    .dataframe tbody tr th {\n",
       "        vertical-align: top;\n",
       "    }\n",
       "\n",
       "    .dataframe thead th {\n",
       "        text-align: right;\n",
       "    }\n",
       "</style>\n",
       "<table border=\"1\" class=\"dataframe\">\n",
       "  <thead>\n",
       "    <tr style=\"text-align: right;\">\n",
       "      <th></th>\n",
       "      <th>email</th>\n",
       "      <th>Full_Name</th>\n",
       "      <th>Firstname</th>\n",
       "      <th>Lastname</th>\n",
       "    </tr>\n",
       "  </thead>\n",
       "  <tbody>\n",
       "    <tr>\n",
       "      <th>3</th>\n",
       "      <td>husk1@gmail.com</td>\n",
       "      <td>Husk smith</td>\n",
       "      <td>Husk</td>\n",
       "      <td>smith</td>\n",
       "    </tr>\n",
       "    <tr>\n",
       "      <th>0</th>\n",
       "      <td>jack@gmail.com</td>\n",
       "      <td>Jack Rob</td>\n",
       "      <td>Jack</td>\n",
       "      <td>Rob</td>\n",
       "    </tr>\n",
       "    <tr>\n",
       "      <th>2</th>\n",
       "      <td>gin@gmail.com</td>\n",
       "      <td>Joy Rob</td>\n",
       "      <td>Joy</td>\n",
       "      <td>Rob</td>\n",
       "    </tr>\n",
       "    <tr>\n",
       "      <th>6</th>\n",
       "      <td>NaN</td>\n",
       "      <td>Gem Rem</td>\n",
       "      <td>Gem</td>\n",
       "      <td>Rem</td>\n",
       "    </tr>\n",
       "    <tr>\n",
       "      <th>5</th>\n",
       "      <td>NaN</td>\n",
       "      <td>Bidin Afro</td>\n",
       "      <td>Bidin</td>\n",
       "      <td>Afro</td>\n",
       "    </tr>\n",
       "    <tr>\n",
       "      <th>1</th>\n",
       "      <td>ben@gmail.com</td>\n",
       "      <td>Blade Aflex</td>\n",
       "      <td>Blade</td>\n",
       "      <td>Aflex</td>\n",
       "    </tr>\n",
       "  </tbody>\n",
       "</table>\n",
       "</div>"
      ],
      "text/plain": [
       "             email    Full_Name Firstname Lastname\n",
       "3  husk1@gmail.com   Husk smith      Husk    smith\n",
       "0   jack@gmail.com     Jack Rob      Jack      Rob\n",
       "2    gin@gmail.com      Joy Rob       Joy      Rob\n",
       "6              NaN      Gem Rem       Gem      Rem\n",
       "5              NaN   Bidin Afro     Bidin     Afro\n",
       "1    ben@gmail.com  Blade Aflex     Blade    Aflex"
      ]
     },
     "execution_count": 194,
     "metadata": {},
     "output_type": "execute_result"
    }
   ],
   "source": [
    "#### Assuming you want to sort \"Lastname\" column in ascending order and \"Firstname\" column in descending order.\n",
    "\n",
    "df.sort_values(by=['Lastname','Firstname'], ascending=[False, True])\n"
   ]
  },
  {
   "cell_type": "code",
   "execution_count": 195,
   "id": "a18e6a9a",
   "metadata": {},
   "outputs": [],
   "source": [
    "### And if we want above effect to take place then we have to include \"inplace = True\"\n",
    "\n",
    "df.sort_values(by=['Lastname','Firstname'], ascending=[False, True], inplace=True)"
   ]
  },
  {
   "cell_type": "code",
   "execution_count": 196,
   "id": "e712d8ba",
   "metadata": {},
   "outputs": [
    {
     "data": {
      "text/html": [
       "<div>\n",
       "<style scoped>\n",
       "    .dataframe tbody tr th:only-of-type {\n",
       "        vertical-align: middle;\n",
       "    }\n",
       "\n",
       "    .dataframe tbody tr th {\n",
       "        vertical-align: top;\n",
       "    }\n",
       "\n",
       "    .dataframe thead th {\n",
       "        text-align: right;\n",
       "    }\n",
       "</style>\n",
       "<table border=\"1\" class=\"dataframe\">\n",
       "  <thead>\n",
       "    <tr style=\"text-align: right;\">\n",
       "      <th></th>\n",
       "      <th>email</th>\n",
       "      <th>Full_Name</th>\n",
       "      <th>Firstname</th>\n",
       "      <th>Lastname</th>\n",
       "    </tr>\n",
       "  </thead>\n",
       "  <tbody>\n",
       "    <tr>\n",
       "      <th>3</th>\n",
       "      <td>husk1@gmail.com</td>\n",
       "      <td>Husk smith</td>\n",
       "      <td>Husk</td>\n",
       "      <td>smith</td>\n",
       "    </tr>\n",
       "    <tr>\n",
       "      <th>0</th>\n",
       "      <td>jack@gmail.com</td>\n",
       "      <td>Jack Rob</td>\n",
       "      <td>Jack</td>\n",
       "      <td>Rob</td>\n",
       "    </tr>\n",
       "    <tr>\n",
       "      <th>2</th>\n",
       "      <td>gin@gmail.com</td>\n",
       "      <td>Joy Rob</td>\n",
       "      <td>Joy</td>\n",
       "      <td>Rob</td>\n",
       "    </tr>\n",
       "    <tr>\n",
       "      <th>6</th>\n",
       "      <td>NaN</td>\n",
       "      <td>Gem Rem</td>\n",
       "      <td>Gem</td>\n",
       "      <td>Rem</td>\n",
       "    </tr>\n",
       "    <tr>\n",
       "      <th>5</th>\n",
       "      <td>NaN</td>\n",
       "      <td>Bidin Afro</td>\n",
       "      <td>Bidin</td>\n",
       "      <td>Afro</td>\n",
       "    </tr>\n",
       "    <tr>\n",
       "      <th>1</th>\n",
       "      <td>ben@gmail.com</td>\n",
       "      <td>Blade Aflex</td>\n",
       "      <td>Blade</td>\n",
       "      <td>Aflex</td>\n",
       "    </tr>\n",
       "  </tbody>\n",
       "</table>\n",
       "</div>"
      ],
      "text/plain": [
       "             email    Full_Name Firstname Lastname\n",
       "3  husk1@gmail.com   Husk smith      Husk    smith\n",
       "0   jack@gmail.com     Jack Rob      Jack      Rob\n",
       "2    gin@gmail.com      Joy Rob       Joy      Rob\n",
       "6              NaN      Gem Rem       Gem      Rem\n",
       "5              NaN   Bidin Afro     Bidin     Afro\n",
       "1    ben@gmail.com  Blade Aflex     Blade    Aflex"
      ]
     },
     "execution_count": 196,
     "metadata": {},
     "output_type": "execute_result"
    }
   ],
   "source": [
    "df"
   ]
  },
  {
   "cell_type": "code",
   "execution_count": 197,
   "id": "f3903801",
   "metadata": {},
   "outputs": [
    {
     "data": {
      "text/html": [
       "<div>\n",
       "<style scoped>\n",
       "    .dataframe tbody tr th:only-of-type {\n",
       "        vertical-align: middle;\n",
       "    }\n",
       "\n",
       "    .dataframe tbody tr th {\n",
       "        vertical-align: top;\n",
       "    }\n",
       "\n",
       "    .dataframe thead th {\n",
       "        text-align: right;\n",
       "    }\n",
       "</style>\n",
       "<table border=\"1\" class=\"dataframe\">\n",
       "  <thead>\n",
       "    <tr style=\"text-align: right;\">\n",
       "      <th></th>\n",
       "      <th>email</th>\n",
       "      <th>Full_Name</th>\n",
       "      <th>Firstname</th>\n",
       "      <th>Lastname</th>\n",
       "    </tr>\n",
       "  </thead>\n",
       "  <tbody>\n",
       "    <tr>\n",
       "      <th>0</th>\n",
       "      <td>jack@gmail.com</td>\n",
       "      <td>Jack Rob</td>\n",
       "      <td>Jack</td>\n",
       "      <td>Rob</td>\n",
       "    </tr>\n",
       "    <tr>\n",
       "      <th>1</th>\n",
       "      <td>ben@gmail.com</td>\n",
       "      <td>Blade Aflex</td>\n",
       "      <td>Blade</td>\n",
       "      <td>Aflex</td>\n",
       "    </tr>\n",
       "    <tr>\n",
       "      <th>2</th>\n",
       "      <td>gin@gmail.com</td>\n",
       "      <td>Joy Rob</td>\n",
       "      <td>Joy</td>\n",
       "      <td>Rob</td>\n",
       "    </tr>\n",
       "    <tr>\n",
       "      <th>3</th>\n",
       "      <td>husk1@gmail.com</td>\n",
       "      <td>Husk smith</td>\n",
       "      <td>Husk</td>\n",
       "      <td>smith</td>\n",
       "    </tr>\n",
       "    <tr>\n",
       "      <th>5</th>\n",
       "      <td>NaN</td>\n",
       "      <td>Bidin Afro</td>\n",
       "      <td>Bidin</td>\n",
       "      <td>Afro</td>\n",
       "    </tr>\n",
       "    <tr>\n",
       "      <th>6</th>\n",
       "      <td>NaN</td>\n",
       "      <td>Gem Rem</td>\n",
       "      <td>Gem</td>\n",
       "      <td>Rem</td>\n",
       "    </tr>\n",
       "  </tbody>\n",
       "</table>\n",
       "</div>"
      ],
      "text/plain": [
       "             email    Full_Name Firstname Lastname\n",
       "0   jack@gmail.com     Jack Rob      Jack      Rob\n",
       "1    ben@gmail.com  Blade Aflex     Blade    Aflex\n",
       "2    gin@gmail.com      Joy Rob       Joy      Rob\n",
       "3  husk1@gmail.com   Husk smith      Husk    smith\n",
       "5              NaN   Bidin Afro     Bidin     Afro\n",
       "6              NaN      Gem Rem       Gem      Rem"
      ]
     },
     "execution_count": 197,
     "metadata": {},
     "output_type": "execute_result"
    }
   ],
   "source": [
    "#### To reverse dataframe back to how it was before and have those index to be sorted.\n",
    "\n",
    "df.sort_index()"
   ]
  },
  {
   "cell_type": "code",
   "execution_count": null,
   "id": "c0ca6254",
   "metadata": {},
   "outputs": [],
   "source": []
  },
  {
   "cell_type": "code",
   "execution_count": 198,
   "id": "e6013b85",
   "metadata": {},
   "outputs": [
    {
     "data": {
      "text/plain": [
       "1    Aflex\n",
       "5     Afro\n",
       "6      Rem\n",
       "0      Rob\n",
       "2      Rob\n",
       "3    smith\n",
       "Name: Lastname, dtype: object"
      ]
     },
     "execution_count": 198,
     "metadata": {},
     "output_type": "execute_result"
    }
   ],
   "source": [
    "#### To sort a single column in a series\n",
    "\n",
    "df['Lastname'].sort_values()"
   ]
  },
  {
   "cell_type": "code",
   "execution_count": null,
   "id": "f34dc1f8",
   "metadata": {},
   "outputs": [],
   "source": []
  },
  {
   "cell_type": "markdown",
   "id": "8c3d09a3",
   "metadata": {},
   "source": [
    "##### Grouping and Aggregating - Analyzing and Exploring Your Data."
   ]
  },
  {
   "cell_type": "code",
   "execution_count": null,
   "id": "dc7647b4",
   "metadata": {},
   "outputs": [],
   "source": [
    "#### Assuming you want to know average salary of developer or how many people from each country\n",
    "### knows python or another programming language"
   ]
  },
  {
   "cell_type": "code",
   "execution_count": null,
   "id": "3b8fe208",
   "metadata": {},
   "outputs": [],
   "source": []
  },
  {
   "cell_type": "code",
   "execution_count": null,
   "id": "5f11c4b0",
   "metadata": {},
   "outputs": [],
   "source": []
  },
  {
   "cell_type": "code",
   "execution_count": null,
   "id": "03388efc",
   "metadata": {},
   "outputs": [],
   "source": []
  },
  {
   "cell_type": "code",
   "execution_count": null,
   "id": "967f434e",
   "metadata": {},
   "outputs": [],
   "source": []
  },
  {
   "cell_type": "code",
   "execution_count": null,
   "id": "228c1485",
   "metadata": {},
   "outputs": [],
   "source": []
  },
  {
   "cell_type": "code",
   "execution_count": null,
   "id": "c60c009e",
   "metadata": {},
   "outputs": [],
   "source": []
  },
  {
   "cell_type": "code",
   "execution_count": null,
   "id": "246fc9f0",
   "metadata": {},
   "outputs": [],
   "source": []
  }
 ],
 "metadata": {
  "kernelspec": {
   "display_name": "Python 3 (ipykernel)",
   "language": "python",
   "name": "python3"
  },
  "language_info": {
   "codemirror_mode": {
    "name": "ipython",
    "version": 3
   },
   "file_extension": ".py",
   "mimetype": "text/x-python",
   "name": "python",
   "nbconvert_exporter": "python",
   "pygments_lexer": "ipython3",
   "version": "3.10.9"
  }
 },
 "nbformat": 4,
 "nbformat_minor": 5
}
