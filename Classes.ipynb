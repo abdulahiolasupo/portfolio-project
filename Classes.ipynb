{
 "cells": [
  {
   "cell_type": "markdown",
   "id": "57f0fbaa",
   "metadata": {},
   "source": [
    "# CLASS"
   ]
  },
  {
   "cell_type": "code",
   "execution_count": 1,
   "id": "bf915cbf",
   "metadata": {},
   "outputs": [
    {
     "name": "stdout",
     "output_type": "stream",
     "text": [
      "<class '__main__.MyClass'>\n"
     ]
    }
   ],
   "source": [
    "#Task:Create a class named MyClass, with a property named x:\n",
    "class MyClass:\n",
    "    \n",
    "    x = 5\n",
    "    \n",
    "print(MyClass)"
   ]
  },
  {
   "cell_type": "code",
   "execution_count": null,
   "id": "619a3ee2",
   "metadata": {},
   "outputs": [],
   "source": []
  },
  {
   "cell_type": "code",
   "execution_count": 2,
   "id": "16e16e76",
   "metadata": {},
   "outputs": [
    {
     "name": "stdout",
     "output_type": "stream",
     "text": [
      "<class '__main__.Dolittle'>\n"
     ]
    }
   ],
   "source": [
    "class Dolittle:\n",
    "    \n",
    "    c = 4\n",
    "\n",
    "print(Dolittle)"
   ]
  },
  {
   "cell_type": "code",
   "execution_count": null,
   "id": "a6a22bc5",
   "metadata": {},
   "outputs": [],
   "source": []
  },
  {
   "cell_type": "code",
   "execution_count": 33,
   "id": "528e79b5",
   "metadata": {},
   "outputs": [
    {
     "name": "stdout",
     "output_type": "stream",
     "text": [
      "5\n"
     ]
    }
   ],
   "source": [
    "class MyClass:\n",
    "    \n",
    "    x = 5\n",
    "\n",
    "p2 = MyClass()\n",
    "\n",
    "c = (p2.x)\n",
    "\n",
    "print(c)"
   ]
  },
  {
   "cell_type": "code",
   "execution_count": null,
   "id": "9d010996",
   "metadata": {},
   "outputs": [],
   "source": []
  },
  {
   "cell_type": "code",
   "execution_count": 4,
   "id": "cfa9d13d",
   "metadata": {},
   "outputs": [
    {
     "name": "stdout",
     "output_type": "stream",
     "text": [
      "8\n"
     ]
    }
   ],
   "source": [
    "class MyClass:\n",
    "    \n",
    "    x = 8\n",
    "\n",
    "p1 = MyClass()\n",
    "\n",
    "print(p1.x)"
   ]
  },
  {
   "cell_type": "markdown",
   "id": "59f1596a",
   "metadata": {},
   "source": [
    "# The __init__() Function"
   ]
  },
  {
   "cell_type": "code",
   "execution_count": 9,
   "id": "03a8a41d",
   "metadata": {},
   "outputs": [
    {
     "name": "stdout",
     "output_type": "stream",
     "text": [
      "James\n",
      "40\n"
     ]
    }
   ],
   "source": [
    "# All classes have a function called __init__(), which is always executed when the class is being initiated.\n",
    "\n",
    "#Task: Create a class named Person, use the __init__() function\n",
    "# to assign values for name and age:\n",
    "\n",
    "class Person:\n",
    "    def __init__(self,name,age):\n",
    "        \n",
    "        self.name = name\n",
    "        self.age = age\n",
    "    \n",
    "p1 = Person(\"James\", 40)\n",
    "    \n",
    "print(p1.name)\n",
    "print(p1.age)\n"
   ]
  },
  {
   "cell_type": "code",
   "execution_count": 11,
   "id": "8310383f",
   "metadata": {},
   "outputs": [
    {
     "name": "stdout",
     "output_type": "stream",
     "text": [
      "POKKA JUICE\n",
      "3000\n"
     ]
    }
   ],
   "source": [
    "#Task: Create a class named Ntde, use the __init__() function\n",
    "# to assign values for product and profit:\n",
    "\n",
    "class Ntde:\n",
    "    def __init__(self,product,profit):\n",
    "        \n",
    "        self.product = product\n",
    "        self.profit = profit\n",
    "        \n",
    "p1 = Ntde(\"POKKA JUICE\", 3000)\n",
    "\n",
    "print(p1.product)\n",
    "print(p1.profit)"
   ]
  },
  {
   "cell_type": "code",
   "execution_count": null,
   "id": "3de3fd43",
   "metadata": {},
   "outputs": [],
   "source": []
  },
  {
   "cell_type": "code",
   "execution_count": null,
   "id": "9936c88d",
   "metadata": {},
   "outputs": [],
   "source": []
  },
  {
   "cell_type": "code",
   "execution_count": 10,
   "id": "4ad2c041",
   "metadata": {},
   "outputs": [
    {
     "name": "stdout",
     "output_type": "stream",
     "text": [
      "Female\n",
      "Married\n"
     ]
    }
   ],
   "source": [
    "#Task: Create a class named Staff, use the __init__() function\n",
    "# to assign values for gender and status:\n",
    "\n",
    "class Staff:\n",
    "    def __init__(self,gender,status):\n",
    "        \n",
    "        self.gender = gender\n",
    "        self.status = status\n",
    "        \n",
    "p1 = Staff(\"Female\", \"Married\")\n",
    "\n",
    "print(p1.gender)\n",
    "print(p1.status)"
   ]
  },
  {
   "cell_type": "code",
   "execution_count": null,
   "id": "a436137e",
   "metadata": {},
   "outputs": [],
   "source": [
    "#Note: The __init__() function is called automatically every time the class \n",
    "#is being used to create a new object."
   ]
  },
  {
   "cell_type": "code",
   "execution_count": null,
   "id": "17335e20",
   "metadata": {},
   "outputs": [],
   "source": []
  },
  {
   "cell_type": "markdown",
   "id": "4897dbe9",
   "metadata": {},
   "source": [
    "# The __str__() Function"
   ]
  },
  {
   "cell_type": "code",
   "execution_count": 14,
   "id": "4cbefd10",
   "metadata": {},
   "outputs": [
    {
     "name": "stdout",
     "output_type": "stream",
     "text": [
      "Jack(45)\n"
     ]
    }
   ],
   "source": [
    "# The __str__() function controls what should be returned when the class object\n",
    "# is represented as a string.\n",
    "\n",
    "#Task: The string representation of an object WITH the __str__() function:\n",
    "\n",
    "class Myclass:\n",
    "    def __init__(self,name,age):\n",
    "        \n",
    "        self.name = name\n",
    "        self.age = age\n",
    "    \n",
    "    def __str__(self):\n",
    "        \n",
    "        return f\"{self.name}({self.age})\"\n",
    "    \n",
    "p1 = Myclass(\"Jack\", 45)\n",
    "\n",
    "print(p1)\n"
   ]
  },
  {
   "cell_type": "code",
   "execution_count": null,
   "id": "44f1722c",
   "metadata": {},
   "outputs": [],
   "source": []
  },
  {
   "cell_type": "code",
   "execution_count": 17,
   "id": "2002d19c",
   "metadata": {},
   "outputs": [
    {
     "name": "stdout",
     "output_type": "stream",
     "text": [
      "grv@ntde.com\n",
      "@#$%^&*234\n"
     ]
    }
   ],
   "source": [
    "class Grv:\n",
    "    \n",
    "    def __init__(self,username,password):\n",
    "        \n",
    "        self.username = username\n",
    "        self.password = password\n",
    "    \n",
    "    def __str__(self):\n",
    "        \n",
    "        return f\"{self.username}({self.password})\"\n",
    "\n",
    "p1 = Grv(\"grv@ntde.com\", \"@#$%^&*234\")\n",
    "\n",
    "print(p1.username)\n",
    "print(p1.password)"
   ]
  },
  {
   "cell_type": "code",
   "execution_count": null,
   "id": "0552ca84",
   "metadata": {},
   "outputs": [],
   "source": []
  },
  {
   "cell_type": "markdown",
   "id": "5b3bab7b",
   "metadata": {},
   "source": [
    "# Object Methods"
   ]
  },
  {
   "cell_type": "code",
   "execution_count": 20,
   "id": "334bd9a6",
   "metadata": {},
   "outputs": [
    {
     "name": "stdout",
     "output_type": "stream",
     "text": [
      "Hello my name is Deric\n"
     ]
    }
   ],
   "source": [
    "# Objects can also contain methods. Methods in objects are functions \n",
    "# that belong to the object.\n",
    "\n",
    "#Task:Insert a function that prints a greeting, and execute it on the p1 object:\n",
    "\n",
    "class Person:\n",
    "    \n",
    "    def __init__(self,name,age):\n",
    "        \n",
    "        self.name = name\n",
    "        self.age = age\n",
    "        \n",
    "    def myfunc(self):\n",
    "        print(\"Hello my name is \" + self.name)\n",
    "\n",
    "p1 = Person(\"Deric\", 35)\n",
    "p1.myfunc()"
   ]
  },
  {
   "cell_type": "code",
   "execution_count": null,
   "id": "267ce839",
   "metadata": {},
   "outputs": [],
   "source": []
  },
  {
   "cell_type": "code",
   "execution_count": 21,
   "id": "708d1613",
   "metadata": {},
   "outputs": [
    {
     "name": "stdout",
     "output_type": "stream",
     "text": [
      "Company name is Ntde\n"
     ]
    }
   ],
   "source": [
    "class Logistics:\n",
    "    \n",
    "    def __init__(self,company,types):\n",
    "        \n",
    "        self.company = company\n",
    "        self.types = types\n",
    "    \n",
    "    def myfunc(self):\n",
    "        print(\"Company name is \" + self.company)\n",
    "\n",
    "p1 = Logistics(\"Ntde\", \"FMCG\")\n",
    "p1.myfunc()"
   ]
  },
  {
   "cell_type": "code",
   "execution_count": null,
   "id": "5e729ba4",
   "metadata": {},
   "outputs": [],
   "source": []
  },
  {
   "cell_type": "code",
   "execution_count": null,
   "id": "c483a9ff",
   "metadata": {},
   "outputs": [],
   "source": []
  },
  {
   "cell_type": "markdown",
   "id": "cd68bab7",
   "metadata": {},
   "source": [
    "## The self Parameter"
   ]
  },
  {
   "cell_type": "code",
   "execution_count": null,
   "id": "b460cffd",
   "metadata": {},
   "outputs": [],
   "source": [
    "# The self parameter is a reference to the current instance of the class, and is used to access variables that belongs to the class.\n",
    "#It does not have to be named self , you can call it whatever you like, but it has to be the first parameter of any function in the class:"
   ]
  },
  {
   "cell_type": "code",
   "execution_count": 25,
   "id": "3e2dd568",
   "metadata": {},
   "outputs": [
    {
     "name": "stdout",
     "output_type": "stream",
     "text": [
      "Company new product is Salgado\n"
     ]
    }
   ],
   "source": [
    "class Log:\n",
    "    \n",
    "    def __init__(becoming,product,lost):\n",
    "        \n",
    "        becoming.product = product\n",
    "        becoming.lost = lost\n",
    "        \n",
    "    def myfunc(goods):\n",
    "        print(\"Company new product is \" + goods.product)\n",
    "    \n",
    "p1 = Log(\"Salgado\", 6000)\n",
    "p1.myfunc()"
   ]
  },
  {
   "cell_type": "code",
   "execution_count": 27,
   "id": "186b1049",
   "metadata": {},
   "outputs": [
    {
     "data": {
      "text/plain": [
       "6000"
      ]
     },
     "execution_count": 27,
     "metadata": {},
     "output_type": "execute_result"
    }
   ],
   "source": [
    "p1.lost"
   ]
  },
  {
   "cell_type": "code",
   "execution_count": null,
   "id": "baefa096",
   "metadata": {},
   "outputs": [],
   "source": []
  },
  {
   "cell_type": "code",
   "execution_count": null,
   "id": "ec9380ca",
   "metadata": {},
   "outputs": [],
   "source": []
  },
  {
   "cell_type": "markdown",
   "id": "461b36ae",
   "metadata": {},
   "source": [
    "# Modify Object Properties"
   ]
  },
  {
   "cell_type": "code",
   "execution_count": null,
   "id": "e5fb57fc",
   "metadata": {},
   "outputs": [],
   "source": [
    "# You can modify properties on objects like this:"
   ]
  },
  {
   "cell_type": "code",
   "execution_count": null,
   "id": "37640c63",
   "metadata": {},
   "outputs": [],
   "source": [
    "#Task: Set the product of p1 to chocolate:"
   ]
  },
  {
   "cell_type": "code",
   "execution_count": 23,
   "id": "d7d869bc",
   "metadata": {},
   "outputs": [],
   "source": [
    "p1.product = \"chocolate\""
   ]
  },
  {
   "cell_type": "code",
   "execution_count": 26,
   "id": "26430241",
   "metadata": {},
   "outputs": [
    {
     "name": "stdout",
     "output_type": "stream",
     "text": [
      "Company new product is chocolate\n"
     ]
    }
   ],
   "source": [
    "p1 = Log(\"chocolate\", 6000)\n",
    "p1.myfunc()"
   ]
  },
  {
   "cell_type": "code",
   "execution_count": null,
   "id": "2316cb8c",
   "metadata": {},
   "outputs": [],
   "source": []
  },
  {
   "cell_type": "markdown",
   "id": "980fc1e2",
   "metadata": {},
   "source": [
    "## Delete Object Properties"
   ]
  },
  {
   "cell_type": "code",
   "execution_count": null,
   "id": "bfef3013",
   "metadata": {},
   "outputs": [],
   "source": [
    "# You can delete properties on objects by using the del keyword:"
   ]
  },
  {
   "cell_type": "code",
   "execution_count": 29,
   "id": "a8a30791",
   "metadata": {},
   "outputs": [
    {
     "name": "stdout",
     "output_type": "stream",
     "text": [
      "Company new product is chocolate\n"
     ]
    }
   ],
   "source": [
    "p1 = Log(\"chocolate\", 6000)\n",
    "p1.myfunc()"
   ]
  },
  {
   "cell_type": "code",
   "execution_count": 30,
   "id": "7076e546",
   "metadata": {},
   "outputs": [
    {
     "data": {
      "text/plain": [
       "6000"
      ]
     },
     "execution_count": 30,
     "metadata": {},
     "output_type": "execute_result"
    }
   ],
   "source": [
    "p1.lost"
   ]
  },
  {
   "cell_type": "code",
   "execution_count": 31,
   "id": "30b4375e",
   "metadata": {},
   "outputs": [],
   "source": [
    "del p1.lost  ## lost(6000) has been deleted"
   ]
  },
  {
   "cell_type": "code",
   "execution_count": 32,
   "id": "b9f4faa8",
   "metadata": {},
   "outputs": [
    {
     "ename": "AttributeError",
     "evalue": "'Log' object has no attribute 'lost'",
     "output_type": "error",
     "traceback": [
      "\u001b[1;31m---------------------------------------------------------------------------\u001b[0m",
      "\u001b[1;31mAttributeError\u001b[0m                            Traceback (most recent call last)",
      "Cell \u001b[1;32mIn[32], line 1\u001b[0m\n\u001b[1;32m----> 1\u001b[0m \u001b[43mp1\u001b[49m\u001b[38;5;241;43m.\u001b[39;49m\u001b[43mlost\u001b[49m\n",
      "\u001b[1;31mAttributeError\u001b[0m: 'Log' object has no attribute 'lost'"
     ]
    }
   ],
   "source": [
    "p1.lost"
   ]
  },
  {
   "cell_type": "code",
   "execution_count": null,
   "id": "b2affc92",
   "metadata": {},
   "outputs": [],
   "source": []
  },
  {
   "cell_type": "markdown",
   "id": "bf8fbbfb",
   "metadata": {},
   "source": [
    "## Delete Object"
   ]
  },
  {
   "cell_type": "code",
   "execution_count": null,
   "id": "30227a3f",
   "metadata": {},
   "outputs": [],
   "source": [
    "# You can delete objects by using the del keyword:"
   ]
  },
  {
   "cell_type": "code",
   "execution_count": 34,
   "id": "19d6206a",
   "metadata": {},
   "outputs": [
    {
     "name": "stdout",
     "output_type": "stream",
     "text": [
      "5\n"
     ]
    }
   ],
   "source": [
    "print(c)"
   ]
  },
  {
   "cell_type": "code",
   "execution_count": 35,
   "id": "bb9a43e9",
   "metadata": {},
   "outputs": [],
   "source": [
    "del c"
   ]
  },
  {
   "cell_type": "code",
   "execution_count": 36,
   "id": "9ae5fb0f",
   "metadata": {},
   "outputs": [
    {
     "ename": "NameError",
     "evalue": "name 'c' is not defined",
     "output_type": "error",
     "traceback": [
      "\u001b[1;31m---------------------------------------------------------------------------\u001b[0m",
      "\u001b[1;31mNameError\u001b[0m                                 Traceback (most recent call last)",
      "Cell \u001b[1;32mIn[36], line 1\u001b[0m\n\u001b[1;32m----> 1\u001b[0m \u001b[38;5;28mprint\u001b[39m(\u001b[43mc\u001b[49m)\n",
      "\u001b[1;31mNameError\u001b[0m: name 'c' is not defined"
     ]
    }
   ],
   "source": [
    "print(c)"
   ]
  },
  {
   "cell_type": "code",
   "execution_count": null,
   "id": "173073b8",
   "metadata": {},
   "outputs": [],
   "source": []
  },
  {
   "cell_type": "markdown",
   "id": "16ec68f8",
   "metadata": {},
   "source": [
    "# The pass Statement"
   ]
  },
  {
   "cell_type": "code",
   "execution_count": null,
   "id": "8ed36278",
   "metadata": {},
   "outputs": [],
   "source": [
    "# class definitions cannot be empty, but if you for some reason have a \n",
    "# class definition with no content, put in the pass statement to avoid getting an error."
   ]
  },
  {
   "cell_type": "code",
   "execution_count": null,
   "id": "8ea0e7ca",
   "metadata": {},
   "outputs": [],
   "source": [
    "#Task: \n",
    "\n",
    "class Person:\n",
    "    \n",
    "    pass"
   ]
  },
  {
   "cell_type": "code",
   "execution_count": null,
   "id": "9156be57",
   "metadata": {},
   "outputs": [],
   "source": []
  },
  {
   "cell_type": "code",
   "execution_count": null,
   "id": "7fdb1f95",
   "metadata": {},
   "outputs": [],
   "source": []
  },
  {
   "cell_type": "code",
   "execution_count": 37,
   "id": "30cd2324",
   "metadata": {},
   "outputs": [],
   "source": [
    "import re"
   ]
  },
  {
   "cell_type": "code",
   "execution_count": null,
   "id": "e6819cb4",
   "metadata": {},
   "outputs": [],
   "source": [
    "class User:\n",
    "    def __init__(self,name,mobile,username,password):\n",
    "        \n",
    "        self.name = name\n",
    "        self.mobile = mobile\n",
    "        self.username =username\n",
    "        self.password = password\n",
    "        \n",
    "    def display(self):\n",
    "        \n",
    "        special_char = re.compile([!@#$%^&*])\n",
    "        special_num = re.compile([0 9]+)\n",
    "        \n",
    "        try:\n",
    "            if special_char.search(self.password) and special_num.search(self.password):\n",
    "                print('valid')\n",
    "            else:\n",
    "                raise ValueError\n",
    "                                   \n",
    "                                   \n",
    "        except:ValueError:\n",
    "            print('invalid')\n",
    "                            \n",
    "        \n",
    "                                   \n",
    "                                   \n",
    "                                  "
   ]
  },
  {
   "cell_type": "code",
   "execution_count": null,
   "id": "24bb7ae4",
   "metadata": {},
   "outputs": [],
   "source": []
  },
  {
   "cell_type": "code",
   "execution_count": null,
   "id": "35dfe3b2",
   "metadata": {},
   "outputs": [],
   "source": []
  }
 ],
 "metadata": {
  "kernelspec": {
   "display_name": "Python 3 (ipykernel)",
   "language": "python",
   "name": "python3"
  },
  "language_info": {
   "codemirror_mode": {
    "name": "ipython",
    "version": 3
   },
   "file_extension": ".py",
   "mimetype": "text/x-python",
   "name": "python",
   "nbconvert_exporter": "python",
   "pygments_lexer": "ipython3",
   "version": "3.10.9"
  }
 },
 "nbformat": 4,
 "nbformat_minor": 5
}
